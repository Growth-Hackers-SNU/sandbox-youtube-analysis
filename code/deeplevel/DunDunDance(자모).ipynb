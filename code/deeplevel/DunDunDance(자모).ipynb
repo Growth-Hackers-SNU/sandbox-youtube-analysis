{
  "nbformat": 4,
  "nbformat_minor": 0,
  "metadata": {
    "colab": {
      "name": "DunDunDance(자모).ipynb",
      "provenance": [],
      "collapsed_sections": [
        "C_d6tKHIeyXL",
        "KKQ48iMLe5hE"
      ],
      "include_colab_link": true
    },
    "kernelspec": {
      "name": "python3",
      "display_name": "Python 3"
    },
    "language_info": {
      "name": "python"
    },
    "widgets": {
      "application/vnd.jupyter.widget-state+json": {
        "18234fb4f8b243f2a827f6453ba691db": {
          "model_module": "@jupyter-widgets/controls",
          "model_name": "HBoxModel",
          "model_module_version": "1.5.0",
          "state": {
            "_view_name": "HBoxView",
            "_dom_classes": [],
            "_model_name": "HBoxModel",
            "_view_module": "@jupyter-widgets/controls",
            "_model_module_version": "1.5.0",
            "_view_count": null,
            "_view_module_version": "1.5.0",
            "box_style": "",
            "layout": "IPY_MODEL_0477eddc16ca473c91959db4fb702353",
            "_model_module": "@jupyter-widgets/controls",
            "children": [
              "IPY_MODEL_d02d05327f3243f4af1b620c7e1fbb24",
              "IPY_MODEL_4a93ca31925b4513a3b22c19632c3069"
            ]
          }
        },
        "0477eddc16ca473c91959db4fb702353": {
          "model_module": "@jupyter-widgets/base",
          "model_name": "LayoutModel",
          "model_module_version": "1.2.0",
          "state": {
            "_view_name": "LayoutView",
            "grid_template_rows": null,
            "right": null,
            "justify_content": null,
            "_view_module": "@jupyter-widgets/base",
            "overflow": null,
            "_model_module_version": "1.2.0",
            "_view_count": null,
            "flex_flow": null,
            "width": null,
            "min_width": null,
            "border": null,
            "align_items": null,
            "bottom": null,
            "_model_module": "@jupyter-widgets/base",
            "top": null,
            "grid_column": null,
            "overflow_y": null,
            "overflow_x": null,
            "grid_auto_flow": null,
            "grid_area": null,
            "grid_template_columns": null,
            "flex": null,
            "_model_name": "LayoutModel",
            "justify_items": null,
            "grid_row": null,
            "max_height": null,
            "align_content": null,
            "visibility": null,
            "align_self": null,
            "height": null,
            "min_height": null,
            "padding": null,
            "grid_auto_rows": null,
            "grid_gap": null,
            "max_width": null,
            "order": null,
            "_view_module_version": "1.2.0",
            "grid_template_areas": null,
            "object_position": null,
            "object_fit": null,
            "grid_auto_columns": null,
            "margin": null,
            "display": null,
            "left": null
          }
        },
        "d02d05327f3243f4af1b620c7e1fbb24": {
          "model_module": "@jupyter-widgets/controls",
          "model_name": "FloatProgressModel",
          "model_module_version": "1.5.0",
          "state": {
            "_view_name": "ProgressView",
            "style": "IPY_MODEL_326ba435231e4b549eac1e1e4bc4b106",
            "_dom_classes": [],
            "description": "",
            "_model_name": "FloatProgressModel",
            "bar_style": "success",
            "max": 1,
            "_view_module": "@jupyter-widgets/controls",
            "_model_module_version": "1.5.0",
            "value": 1,
            "_view_count": null,
            "_view_module_version": "1.5.0",
            "orientation": "horizontal",
            "min": 0,
            "description_tooltip": null,
            "_model_module": "@jupyter-widgets/controls",
            "layout": "IPY_MODEL_efdc082c37954aa5bb6cc60dbe36c8a0"
          }
        },
        "4a93ca31925b4513a3b22c19632c3069": {
          "model_module": "@jupyter-widgets/controls",
          "model_name": "HTMLModel",
          "model_module_version": "1.5.0",
          "state": {
            "_view_name": "HTMLView",
            "style": "IPY_MODEL_93d7785feaaf4bb99cb1a7e809f075fa",
            "_dom_classes": [],
            "description": "",
            "_model_name": "HTMLModel",
            "placeholder": "​",
            "_view_module": "@jupyter-widgets/controls",
            "_model_module_version": "1.5.0",
            "value": " 21000/? [00:08&lt;00:00, 2516.45it/s]",
            "_view_count": null,
            "_view_module_version": "1.5.0",
            "description_tooltip": null,
            "_model_module": "@jupyter-widgets/controls",
            "layout": "IPY_MODEL_96b7a68afa694e3e9003b304e2cef170"
          }
        },
        "326ba435231e4b549eac1e1e4bc4b106": {
          "model_module": "@jupyter-widgets/controls",
          "model_name": "ProgressStyleModel",
          "model_module_version": "1.5.0",
          "state": {
            "_view_name": "StyleView",
            "_model_name": "ProgressStyleModel",
            "description_width": "initial",
            "_view_module": "@jupyter-widgets/base",
            "_model_module_version": "1.5.0",
            "_view_count": null,
            "_view_module_version": "1.2.0",
            "bar_color": null,
            "_model_module": "@jupyter-widgets/controls"
          }
        },
        "efdc082c37954aa5bb6cc60dbe36c8a0": {
          "model_module": "@jupyter-widgets/base",
          "model_name": "LayoutModel",
          "model_module_version": "1.2.0",
          "state": {
            "_view_name": "LayoutView",
            "grid_template_rows": null,
            "right": null,
            "justify_content": null,
            "_view_module": "@jupyter-widgets/base",
            "overflow": null,
            "_model_module_version": "1.2.0",
            "_view_count": null,
            "flex_flow": null,
            "width": null,
            "min_width": null,
            "border": null,
            "align_items": null,
            "bottom": null,
            "_model_module": "@jupyter-widgets/base",
            "top": null,
            "grid_column": null,
            "overflow_y": null,
            "overflow_x": null,
            "grid_auto_flow": null,
            "grid_area": null,
            "grid_template_columns": null,
            "flex": null,
            "_model_name": "LayoutModel",
            "justify_items": null,
            "grid_row": null,
            "max_height": null,
            "align_content": null,
            "visibility": null,
            "align_self": null,
            "height": null,
            "min_height": null,
            "padding": null,
            "grid_auto_rows": null,
            "grid_gap": null,
            "max_width": null,
            "order": null,
            "_view_module_version": "1.2.0",
            "grid_template_areas": null,
            "object_position": null,
            "object_fit": null,
            "grid_auto_columns": null,
            "margin": null,
            "display": null,
            "left": null
          }
        },
        "93d7785feaaf4bb99cb1a7e809f075fa": {
          "model_module": "@jupyter-widgets/controls",
          "model_name": "DescriptionStyleModel",
          "model_module_version": "1.5.0",
          "state": {
            "_view_name": "StyleView",
            "_model_name": "DescriptionStyleModel",
            "description_width": "",
            "_view_module": "@jupyter-widgets/base",
            "_model_module_version": "1.5.0",
            "_view_count": null,
            "_view_module_version": "1.2.0",
            "_model_module": "@jupyter-widgets/controls"
          }
        },
        "96b7a68afa694e3e9003b304e2cef170": {
          "model_module": "@jupyter-widgets/base",
          "model_name": "LayoutModel",
          "model_module_version": "1.2.0",
          "state": {
            "_view_name": "LayoutView",
            "grid_template_rows": null,
            "right": null,
            "justify_content": null,
            "_view_module": "@jupyter-widgets/base",
            "overflow": null,
            "_model_module_version": "1.2.0",
            "_view_count": null,
            "flex_flow": null,
            "width": null,
            "min_width": null,
            "border": null,
            "align_items": null,
            "bottom": null,
            "_model_module": "@jupyter-widgets/base",
            "top": null,
            "grid_column": null,
            "overflow_y": null,
            "overflow_x": null,
            "grid_auto_flow": null,
            "grid_area": null,
            "grid_template_columns": null,
            "flex": null,
            "_model_name": "LayoutModel",
            "justify_items": null,
            "grid_row": null,
            "max_height": null,
            "align_content": null,
            "visibility": null,
            "align_self": null,
            "height": null,
            "min_height": null,
            "padding": null,
            "grid_auto_rows": null,
            "grid_gap": null,
            "max_width": null,
            "order": null,
            "_view_module_version": "1.2.0",
            "grid_template_areas": null,
            "object_position": null,
            "object_fit": null,
            "grid_auto_columns": null,
            "margin": null,
            "display": null,
            "left": null
          }
        },
        "a805f377f7d8499481b92a92459d38e1": {
          "model_module": "@jupyter-widgets/controls",
          "model_name": "HBoxModel",
          "model_module_version": "1.5.0",
          "state": {
            "_view_name": "HBoxView",
            "_dom_classes": [],
            "_model_name": "HBoxModel",
            "_view_module": "@jupyter-widgets/controls",
            "_model_module_version": "1.5.0",
            "_view_count": null,
            "_view_module_version": "1.5.0",
            "box_style": "",
            "layout": "IPY_MODEL_ab81063ae7874b04aaca483ef9e97946",
            "_model_module": "@jupyter-widgets/controls",
            "children": [
              "IPY_MODEL_f9d4ea5d935b4379b075fe31807b9a8d",
              "IPY_MODEL_25e8ee4c3d344410ad87a59afbe1e704"
            ]
          }
        },
        "ab81063ae7874b04aaca483ef9e97946": {
          "model_module": "@jupyter-widgets/base",
          "model_name": "LayoutModel",
          "model_module_version": "1.2.0",
          "state": {
            "_view_name": "LayoutView",
            "grid_template_rows": null,
            "right": null,
            "justify_content": null,
            "_view_module": "@jupyter-widgets/base",
            "overflow": null,
            "_model_module_version": "1.2.0",
            "_view_count": null,
            "flex_flow": null,
            "width": null,
            "min_width": null,
            "border": null,
            "align_items": null,
            "bottom": null,
            "_model_module": "@jupyter-widgets/base",
            "top": null,
            "grid_column": null,
            "overflow_y": null,
            "overflow_x": null,
            "grid_auto_flow": null,
            "grid_area": null,
            "grid_template_columns": null,
            "flex": null,
            "_model_name": "LayoutModel",
            "justify_items": null,
            "grid_row": null,
            "max_height": null,
            "align_content": null,
            "visibility": null,
            "align_self": null,
            "height": null,
            "min_height": null,
            "padding": null,
            "grid_auto_rows": null,
            "grid_gap": null,
            "max_width": null,
            "order": null,
            "_view_module_version": "1.2.0",
            "grid_template_areas": null,
            "object_position": null,
            "object_fit": null,
            "grid_auto_columns": null,
            "margin": null,
            "display": null,
            "left": null
          }
        },
        "f9d4ea5d935b4379b075fe31807b9a8d": {
          "model_module": "@jupyter-widgets/controls",
          "model_name": "FloatProgressModel",
          "model_module_version": "1.5.0",
          "state": {
            "_view_name": "ProgressView",
            "style": "IPY_MODEL_23d85f178fa24d3d844c5a87b42b5f37",
            "_dom_classes": [],
            "description": "",
            "_model_name": "FloatProgressModel",
            "bar_style": "success",
            "max": 1,
            "_view_module": "@jupyter-widgets/controls",
            "_model_module_version": "1.5.0",
            "value": 1,
            "_view_count": null,
            "_view_module_version": "1.5.0",
            "orientation": "horizontal",
            "min": 0,
            "description_tooltip": null,
            "_model_module": "@jupyter-widgets/controls",
            "layout": "IPY_MODEL_b484f1af8750424296acfe3d5253987c"
          }
        },
        "25e8ee4c3d344410ad87a59afbe1e704": {
          "model_module": "@jupyter-widgets/controls",
          "model_name": "HTMLModel",
          "model_module_version": "1.5.0",
          "state": {
            "_view_name": "HTMLView",
            "style": "IPY_MODEL_d9920fb2ae874e518519f3faaa8fa8b8",
            "_dom_classes": [],
            "description": "",
            "_model_name": "HTMLModel",
            "placeholder": "​",
            "_view_module": "@jupyter-widgets/controls",
            "_model_module_version": "1.5.0",
            "value": " 1000/? [00:06&lt;00:00, 154.08it/s]",
            "_view_count": null,
            "_view_module_version": "1.5.0",
            "description_tooltip": null,
            "_model_module": "@jupyter-widgets/controls",
            "layout": "IPY_MODEL_59e0fa6ce26e4c27a739fe39e3f27801"
          }
        },
        "23d85f178fa24d3d844c5a87b42b5f37": {
          "model_module": "@jupyter-widgets/controls",
          "model_name": "ProgressStyleModel",
          "model_module_version": "1.5.0",
          "state": {
            "_view_name": "StyleView",
            "_model_name": "ProgressStyleModel",
            "description_width": "initial",
            "_view_module": "@jupyter-widgets/base",
            "_model_module_version": "1.5.0",
            "_view_count": null,
            "_view_module_version": "1.2.0",
            "bar_color": null,
            "_model_module": "@jupyter-widgets/controls"
          }
        },
        "b484f1af8750424296acfe3d5253987c": {
          "model_module": "@jupyter-widgets/base",
          "model_name": "LayoutModel",
          "model_module_version": "1.2.0",
          "state": {
            "_view_name": "LayoutView",
            "grid_template_rows": null,
            "right": null,
            "justify_content": null,
            "_view_module": "@jupyter-widgets/base",
            "overflow": null,
            "_model_module_version": "1.2.0",
            "_view_count": null,
            "flex_flow": null,
            "width": null,
            "min_width": null,
            "border": null,
            "align_items": null,
            "bottom": null,
            "_model_module": "@jupyter-widgets/base",
            "top": null,
            "grid_column": null,
            "overflow_y": null,
            "overflow_x": null,
            "grid_auto_flow": null,
            "grid_area": null,
            "grid_template_columns": null,
            "flex": null,
            "_model_name": "LayoutModel",
            "justify_items": null,
            "grid_row": null,
            "max_height": null,
            "align_content": null,
            "visibility": null,
            "align_self": null,
            "height": null,
            "min_height": null,
            "padding": null,
            "grid_auto_rows": null,
            "grid_gap": null,
            "max_width": null,
            "order": null,
            "_view_module_version": "1.2.0",
            "grid_template_areas": null,
            "object_position": null,
            "object_fit": null,
            "grid_auto_columns": null,
            "margin": null,
            "display": null,
            "left": null
          }
        },
        "d9920fb2ae874e518519f3faaa8fa8b8": {
          "model_module": "@jupyter-widgets/controls",
          "model_name": "DescriptionStyleModel",
          "model_module_version": "1.5.0",
          "state": {
            "_view_name": "StyleView",
            "_model_name": "DescriptionStyleModel",
            "description_width": "",
            "_view_module": "@jupyter-widgets/base",
            "_model_module_version": "1.5.0",
            "_view_count": null,
            "_view_module_version": "1.2.0",
            "_model_module": "@jupyter-widgets/controls"
          }
        },
        "59e0fa6ce26e4c27a739fe39e3f27801": {
          "model_module": "@jupyter-widgets/base",
          "model_name": "LayoutModel",
          "model_module_version": "1.2.0",
          "state": {
            "_view_name": "LayoutView",
            "grid_template_rows": null,
            "right": null,
            "justify_content": null,
            "_view_module": "@jupyter-widgets/base",
            "overflow": null,
            "_model_module_version": "1.2.0",
            "_view_count": null,
            "flex_flow": null,
            "width": null,
            "min_width": null,
            "border": null,
            "align_items": null,
            "bottom": null,
            "_model_module": "@jupyter-widgets/base",
            "top": null,
            "grid_column": null,
            "overflow_y": null,
            "overflow_x": null,
            "grid_auto_flow": null,
            "grid_area": null,
            "grid_template_columns": null,
            "flex": null,
            "_model_name": "LayoutModel",
            "justify_items": null,
            "grid_row": null,
            "max_height": null,
            "align_content": null,
            "visibility": null,
            "align_self": null,
            "height": null,
            "min_height": null,
            "padding": null,
            "grid_auto_rows": null,
            "grid_gap": null,
            "max_width": null,
            "order": null,
            "_view_module_version": "1.2.0",
            "grid_template_areas": null,
            "object_position": null,
            "object_fit": null,
            "grid_auto_columns": null,
            "margin": null,
            "display": null,
            "left": null
          }
        },
        "88046fd6f9f040e29d9fcf62998d5f6d": {
          "model_module": "@jupyter-widgets/controls",
          "model_name": "HBoxModel",
          "model_module_version": "1.5.0",
          "state": {
            "_view_name": "HBoxView",
            "_dom_classes": [],
            "_model_name": "HBoxModel",
            "_view_module": "@jupyter-widgets/controls",
            "_model_module_version": "1.5.0",
            "_view_count": null,
            "_view_module_version": "1.5.0",
            "box_style": "",
            "layout": "IPY_MODEL_5dd5fe1522af4f78acc66b21fc73fa5c",
            "_model_module": "@jupyter-widgets/controls",
            "children": [
              "IPY_MODEL_c4f102b907ce4dcaa78f62bd296d451f",
              "IPY_MODEL_32fcd1e5f508481d8c4342ef51e55fa9"
            ]
          }
        },
        "5dd5fe1522af4f78acc66b21fc73fa5c": {
          "model_module": "@jupyter-widgets/base",
          "model_name": "LayoutModel",
          "model_module_version": "1.2.0",
          "state": {
            "_view_name": "LayoutView",
            "grid_template_rows": null,
            "right": null,
            "justify_content": null,
            "_view_module": "@jupyter-widgets/base",
            "overflow": null,
            "_model_module_version": "1.2.0",
            "_view_count": null,
            "flex_flow": null,
            "width": null,
            "min_width": null,
            "border": null,
            "align_items": null,
            "bottom": null,
            "_model_module": "@jupyter-widgets/base",
            "top": null,
            "grid_column": null,
            "overflow_y": null,
            "overflow_x": null,
            "grid_auto_flow": null,
            "grid_area": null,
            "grid_template_columns": null,
            "flex": null,
            "_model_name": "LayoutModel",
            "justify_items": null,
            "grid_row": null,
            "max_height": null,
            "align_content": null,
            "visibility": null,
            "align_self": null,
            "height": null,
            "min_height": null,
            "padding": null,
            "grid_auto_rows": null,
            "grid_gap": null,
            "max_width": null,
            "order": null,
            "_view_module_version": "1.2.0",
            "grid_template_areas": null,
            "object_position": null,
            "object_fit": null,
            "grid_auto_columns": null,
            "margin": null,
            "display": null,
            "left": null
          }
        },
        "c4f102b907ce4dcaa78f62bd296d451f": {
          "model_module": "@jupyter-widgets/controls",
          "model_name": "FloatProgressModel",
          "model_module_version": "1.5.0",
          "state": {
            "_view_name": "ProgressView",
            "style": "IPY_MODEL_97c1b0e660004b0eaefd1c4aa35111bc",
            "_dom_classes": [],
            "description": "",
            "_model_name": "FloatProgressModel",
            "bar_style": "success",
            "max": 1,
            "_view_module": "@jupyter-widgets/controls",
            "_model_module_version": "1.5.0",
            "value": 1,
            "_view_count": null,
            "_view_module_version": "1.5.0",
            "orientation": "horizontal",
            "min": 0,
            "description_tooltip": null,
            "_model_module": "@jupyter-widgets/controls",
            "layout": "IPY_MODEL_6f6fd577caed4bc8aad13708b56199b3"
          }
        },
        "32fcd1e5f508481d8c4342ef51e55fa9": {
          "model_module": "@jupyter-widgets/controls",
          "model_name": "HTMLModel",
          "model_module_version": "1.5.0",
          "state": {
            "_view_name": "HTMLView",
            "style": "IPY_MODEL_e6069c0934144ae880f3cffcec55a981",
            "_dom_classes": [],
            "description": "",
            "_model_name": "HTMLModel",
            "placeholder": "​",
            "_view_module": "@jupyter-widgets/controls",
            "_model_module_version": "1.5.0",
            "value": " 1136010/? [04:11&lt;00:00, 4524.57it/s]",
            "_view_count": null,
            "_view_module_version": "1.5.0",
            "description_tooltip": null,
            "_model_module": "@jupyter-widgets/controls",
            "layout": "IPY_MODEL_6fe3e6898be34010ad276b3f418ad67a"
          }
        },
        "97c1b0e660004b0eaefd1c4aa35111bc": {
          "model_module": "@jupyter-widgets/controls",
          "model_name": "ProgressStyleModel",
          "model_module_version": "1.5.0",
          "state": {
            "_view_name": "StyleView",
            "_model_name": "ProgressStyleModel",
            "description_width": "initial",
            "_view_module": "@jupyter-widgets/base",
            "_model_module_version": "1.5.0",
            "_view_count": null,
            "_view_module_version": "1.2.0",
            "bar_color": null,
            "_model_module": "@jupyter-widgets/controls"
          }
        },
        "6f6fd577caed4bc8aad13708b56199b3": {
          "model_module": "@jupyter-widgets/base",
          "model_name": "LayoutModel",
          "model_module_version": "1.2.0",
          "state": {
            "_view_name": "LayoutView",
            "grid_template_rows": null,
            "right": null,
            "justify_content": null,
            "_view_module": "@jupyter-widgets/base",
            "overflow": null,
            "_model_module_version": "1.2.0",
            "_view_count": null,
            "flex_flow": null,
            "width": null,
            "min_width": null,
            "border": null,
            "align_items": null,
            "bottom": null,
            "_model_module": "@jupyter-widgets/base",
            "top": null,
            "grid_column": null,
            "overflow_y": null,
            "overflow_x": null,
            "grid_auto_flow": null,
            "grid_area": null,
            "grid_template_columns": null,
            "flex": null,
            "_model_name": "LayoutModel",
            "justify_items": null,
            "grid_row": null,
            "max_height": null,
            "align_content": null,
            "visibility": null,
            "align_self": null,
            "height": null,
            "min_height": null,
            "padding": null,
            "grid_auto_rows": null,
            "grid_gap": null,
            "max_width": null,
            "order": null,
            "_view_module_version": "1.2.0",
            "grid_template_areas": null,
            "object_position": null,
            "object_fit": null,
            "grid_auto_columns": null,
            "margin": null,
            "display": null,
            "left": null
          }
        },
        "e6069c0934144ae880f3cffcec55a981": {
          "model_module": "@jupyter-widgets/controls",
          "model_name": "DescriptionStyleModel",
          "model_module_version": "1.5.0",
          "state": {
            "_view_name": "StyleView",
            "_model_name": "DescriptionStyleModel",
            "description_width": "",
            "_view_module": "@jupyter-widgets/base",
            "_model_module_version": "1.5.0",
            "_view_count": null,
            "_view_module_version": "1.2.0",
            "_model_module": "@jupyter-widgets/controls"
          }
        },
        "6fe3e6898be34010ad276b3f418ad67a": {
          "model_module": "@jupyter-widgets/base",
          "model_name": "LayoutModel",
          "model_module_version": "1.2.0",
          "state": {
            "_view_name": "LayoutView",
            "grid_template_rows": null,
            "right": null,
            "justify_content": null,
            "_view_module": "@jupyter-widgets/base",
            "overflow": null,
            "_model_module_version": "1.2.0",
            "_view_count": null,
            "flex_flow": null,
            "width": null,
            "min_width": null,
            "border": null,
            "align_items": null,
            "bottom": null,
            "_model_module": "@jupyter-widgets/base",
            "top": null,
            "grid_column": null,
            "overflow_y": null,
            "overflow_x": null,
            "grid_auto_flow": null,
            "grid_area": null,
            "grid_template_columns": null,
            "flex": null,
            "_model_name": "LayoutModel",
            "justify_items": null,
            "grid_row": null,
            "max_height": null,
            "align_content": null,
            "visibility": null,
            "align_self": null,
            "height": null,
            "min_height": null,
            "padding": null,
            "grid_auto_rows": null,
            "grid_gap": null,
            "max_width": null,
            "order": null,
            "_view_module_version": "1.2.0",
            "grid_template_areas": null,
            "object_position": null,
            "object_fit": null,
            "grid_auto_columns": null,
            "margin": null,
            "display": null,
            "left": null
          }
        }
      }
    },
    "accelerator": "GPU"
  },
  "cells": [
    {
      "cell_type": "markdown",
      "metadata": {
        "id": "view-in-github",
        "colab_type": "text"
      },
      "source": [
        "<a href=\"https://colab.research.google.com/github/Growth-Hackers-SNU/sandbox-youtube-anlaysis/blob/main/code/deeplevel/DunDunDance(%EC%9E%90%EB%AA%A8).ipynb\" target=\"_parent\"><img src=\"https://colab.research.google.com/assets/colab-badge.svg\" alt=\"Open In Colab\"/></a>"
      ]
    },
    {
      "cell_type": "markdown",
      "metadata": {
        "id": "fcXSk6vKZUX6"
      },
      "source": [
        "# Colab을 가정하고 쓰여진 코드"
      ]
    },
    {
      "cell_type": "markdown",
      "metadata": {
        "id": "HjqZnoUOZfOM"
      },
      "source": [
        "## 기본 패키지 불러오기"
      ]
    },
    {
      "cell_type": "code",
      "metadata": {
        "id": "BIaRaSzeZQaQ"
      },
      "source": [
        "import pandas as pd\n",
        "import numpy as np\n",
        "import re\n",
        "import os\n",
        "from tqdm import tqdm, tqdm_notebook\n",
        "import pickle \n",
        "\n",
        "import matplotlib.pyplot as plt"
      ],
      "execution_count": null,
      "outputs": []
    },
    {
      "cell_type": "code",
      "metadata": {
        "colab": {
          "base_uri": "https://localhost:8080/"
        },
        "id": "CiOyQp2Ma9sw",
        "outputId": "5ef6d3e2-e024-4b69-e9ef-98f7e2150ffd"
      },
      "source": [
        "! pip install soynlp"
      ],
      "execution_count": null,
      "outputs": [
        {
          "output_type": "stream",
          "text": [
            "Collecting soynlp\n",
            "\u001b[?25l  Downloading https://files.pythonhosted.org/packages/7e/50/6913dc52a86a6b189419e59f9eef1b8d599cffb6f44f7bb91854165fc603/soynlp-0.0.493-py3-none-any.whl (416kB)\n",
            "\r\u001b[K     |▉                               | 10kB 21.1MB/s eta 0:00:01\r\u001b[K     |█▋                              | 20kB 16.9MB/s eta 0:00:01\r\u001b[K     |██▍                             | 30kB 14.2MB/s eta 0:00:01\r\u001b[K     |███▏                            | 40kB 12.9MB/s eta 0:00:01\r\u001b[K     |████                            | 51kB 7.0MB/s eta 0:00:01\r\u001b[K     |████▊                           | 61kB 8.1MB/s eta 0:00:01\r\u001b[K     |█████▌                          | 71kB 7.9MB/s eta 0:00:01\r\u001b[K     |██████▎                         | 81kB 7.5MB/s eta 0:00:01\r\u001b[K     |███████                         | 92kB 8.1MB/s eta 0:00:01\r\u001b[K     |███████▉                        | 102kB 6.7MB/s eta 0:00:01\r\u001b[K     |████████▋                       | 112kB 6.7MB/s eta 0:00:01\r\u001b[K     |█████████▍                      | 122kB 6.7MB/s eta 0:00:01\r\u001b[K     |██████████▏                     | 133kB 6.7MB/s eta 0:00:01\r\u001b[K     |███████████                     | 143kB 6.7MB/s eta 0:00:01\r\u001b[K     |███████████▉                    | 153kB 6.7MB/s eta 0:00:01\r\u001b[K     |████████████▋                   | 163kB 6.7MB/s eta 0:00:01\r\u001b[K     |█████████████▍                  | 174kB 6.7MB/s eta 0:00:01\r\u001b[K     |██████████████▏                 | 184kB 6.7MB/s eta 0:00:01\r\u001b[K     |███████████████                 | 194kB 6.7MB/s eta 0:00:01\r\u001b[K     |███████████████▊                | 204kB 6.7MB/s eta 0:00:01\r\u001b[K     |████████████████▌               | 215kB 6.7MB/s eta 0:00:01\r\u001b[K     |█████████████████▎              | 225kB 6.7MB/s eta 0:00:01\r\u001b[K     |██████████████████              | 235kB 6.7MB/s eta 0:00:01\r\u001b[K     |██████████████████▉             | 245kB 6.7MB/s eta 0:00:01\r\u001b[K     |███████████████████▋            | 256kB 6.7MB/s eta 0:00:01\r\u001b[K     |████████████████████▍           | 266kB 6.7MB/s eta 0:00:01\r\u001b[K     |█████████████████████▎          | 276kB 6.7MB/s eta 0:00:01\r\u001b[K     |██████████████████████          | 286kB 6.7MB/s eta 0:00:01\r\u001b[K     |██████████████████████▉         | 296kB 6.7MB/s eta 0:00:01\r\u001b[K     |███████████████████████▋        | 307kB 6.7MB/s eta 0:00:01\r\u001b[K     |████████████████████████▍       | 317kB 6.7MB/s eta 0:00:01\r\u001b[K     |█████████████████████████▏      | 327kB 6.7MB/s eta 0:00:01\r\u001b[K     |██████████████████████████      | 337kB 6.7MB/s eta 0:00:01\r\u001b[K     |██████████████████████████▊     | 348kB 6.7MB/s eta 0:00:01\r\u001b[K     |███████████████████████████▌    | 358kB 6.7MB/s eta 0:00:01\r\u001b[K     |████████████████████████████▎   | 368kB 6.7MB/s eta 0:00:01\r\u001b[K     |█████████████████████████████   | 378kB 6.7MB/s eta 0:00:01\r\u001b[K     |█████████████████████████████▉  | 389kB 6.7MB/s eta 0:00:01\r\u001b[K     |██████████████████████████████▋ | 399kB 6.7MB/s eta 0:00:01\r\u001b[K     |███████████████████████████████▌| 409kB 6.7MB/s eta 0:00:01\r\u001b[K     |████████████████████████████████| 419kB 6.7MB/s \n",
            "\u001b[?25hRequirement already satisfied: psutil>=5.0.1 in /usr/local/lib/python3.7/dist-packages (from soynlp) (5.4.8)\n",
            "Requirement already satisfied: scikit-learn>=0.20.0 in /usr/local/lib/python3.7/dist-packages (from soynlp) (0.22.2.post1)\n",
            "Requirement already satisfied: numpy>=1.12.1 in /usr/local/lib/python3.7/dist-packages (from soynlp) (1.19.5)\n",
            "Requirement already satisfied: scipy>=1.1.0 in /usr/local/lib/python3.7/dist-packages (from soynlp) (1.4.1)\n",
            "Requirement already satisfied: joblib>=0.11 in /usr/local/lib/python3.7/dist-packages (from scikit-learn>=0.20.0->soynlp) (1.0.1)\n",
            "Installing collected packages: soynlp\n",
            "Successfully installed soynlp-0.0.493\n"
          ],
          "name": "stdout"
        }
      ]
    },
    {
      "cell_type": "code",
      "metadata": {
        "colab": {
          "base_uri": "https://localhost:8080/"
        },
        "id": "s9AeDHYkZhoU",
        "outputId": "828bdc54-af13-40a8-bdc8-1e6bc7f6482c"
      },
      "source": [
        "! pip install kiwipiepy"
      ],
      "execution_count": null,
      "outputs": [
        {
          "output_type": "stream",
          "text": [
            "Collecting kiwipiepy\n",
            "\u001b[?25l  Downloading https://files.pythonhosted.org/packages/d6/f5/f8c769e47a086451e11258acb6c4a42ee689838ed76345b216f24322055a/kiwipiepy-0.9.3-cp37-cp37m-manylinux_2_12_x86_64.manylinux2010_x86_64.whl (3.7MB)\n",
            "\u001b[K     |████████████████████████████████| 3.7MB 8.8MB/s \n",
            "\u001b[?25hCollecting kiwipiepy-model==0.9.0\n",
            "\u001b[?25l  Downloading https://files.pythonhosted.org/packages/8b/61/76ea8514de1f34fc193146c2165f38f15814dc2efc9a414ab8aa34edf432/kiwipiepy_model-0.9.0.tar.gz (57.3MB)\n",
            "\u001b[K     |████████████████████████████████| 57.3MB 49kB/s \n",
            "\u001b[?25hBuilding wheels for collected packages: kiwipiepy-model\n",
            "  Building wheel for kiwipiepy-model (setup.py) ... \u001b[?25l\u001b[?25hdone\n",
            "  Created wheel for kiwipiepy-model: filename=kiwipiepy_model-0.9.0-cp37-none-any.whl size=57496291 sha256=24382a0a7792d495a2cbf062637e00bb99842d66b5ab7976aedc746ae38c2b52\n",
            "  Stored in directory: /root/.cache/pip/wheels/61/19/a2/f85a7031e0ff829231b4562e6460a84fef599080bbb2573ef7\n",
            "Successfully built kiwipiepy-model\n",
            "Installing collected packages: kiwipiepy-model, kiwipiepy\n",
            "Successfully installed kiwipiepy-0.9.3 kiwipiepy-model-0.9.0\n"
          ],
          "name": "stdout"
        }
      ]
    },
    {
      "cell_type": "code",
      "metadata": {
        "colab": {
          "base_uri": "https://localhost:8080/"
        },
        "id": "3UJaIhI6Zin7",
        "outputId": "8a02ab14-0527-459c-f023-49b05aeb14ee"
      },
      "source": [
        "from google.colab import drive\n",
        "drive.mount('/content/drive')"
      ],
      "execution_count": null,
      "outputs": [
        {
          "output_type": "stream",
          "text": [
            "Mounted at /content/drive\n"
          ],
          "name": "stdout"
        }
      ]
    },
    {
      "cell_type": "code",
      "metadata": {
        "colab": {
          "base_uri": "https://localhost:8080/",
          "height": 235
        },
        "id": "jB5mK2P7Zvdf",
        "outputId": "9da110cc-9d52-4163-c3c4-a77f5cfc2d23"
      },
      "source": [
        "# 사용할 데이터 셋 commentA, commentB, commentC Test Set은 사용하지 않습니다. Validation Set만 하기에도 부족한 걸 \n",
        "Youtube_comment_label = pd.read_csv(\"/content/drive/Shareddrives/[GH x Sandbox]/최종분류/sample_final.csv\", index_col = 1)\n",
        "Youtube_comment_label = Youtube_comment_label[['comment', 'class']]\n",
        "Youtube_comment_label.head()"
      ],
      "execution_count": null,
      "outputs": [
        {
          "output_type": "execute_result",
          "data": {
            "text/html": [
              "<div>\n",
              "<style scoped>\n",
              "    .dataframe tbody tr th:only-of-type {\n",
              "        vertical-align: middle;\n",
              "    }\n",
              "\n",
              "    .dataframe tbody tr th {\n",
              "        vertical-align: top;\n",
              "    }\n",
              "\n",
              "    .dataframe thead th {\n",
              "        text-align: right;\n",
              "    }\n",
              "</style>\n",
              "<table border=\"1\" class=\"dataframe\">\n",
              "  <thead>\n",
              "    <tr style=\"text-align: right;\">\n",
              "      <th></th>\n",
              "      <th>comment</th>\n",
              "      <th>class</th>\n",
              "    </tr>\n",
              "    <tr>\n",
              "      <th>index</th>\n",
              "      <th></th>\n",
              "      <th></th>\n",
              "    </tr>\n",
              "  </thead>\n",
              "  <tbody>\n",
              "    <tr>\n",
              "      <th>1</th>\n",
              "      <td>흠.. 일단 전 안맞을래요</td>\n",
              "      <td>7</td>\n",
              "    </tr>\n",
              "    <tr>\n",
              "      <th>2</th>\n",
              "      <td>자식새끼 키워봤자 아무소용업다..</td>\n",
              "      <td>7</td>\n",
              "    </tr>\n",
              "    <tr>\n",
              "      <th>3</th>\n",
              "      <td>방테나ㅋㅋㅋ</td>\n",
              "      <td>2</td>\n",
              "    </tr>\n",
              "    <tr>\n",
              "      <th>4</th>\n",
              "      <td>하람님 저고민있어욧!!\\n노래잘부르고싶은데..어떻게하면 잘 부를수있을까요?오늘도 영...</td>\n",
              "      <td>1</td>\n",
              "    </tr>\n",
              "    <tr>\n",
              "      <th>5</th>\n",
              "      <td>희재도 준비하고있고 발표예정이예요\\n다시 확인해주세요 모두 준비하고있어요 계약때문에...</td>\n",
              "      <td>7</td>\n",
              "    </tr>\n",
              "  </tbody>\n",
              "</table>\n",
              "</div>"
            ],
            "text/plain": [
              "                                                 comment  class\n",
              "index                                                          \n",
              "1                                         흠.. 일단 전 안맞을래요      7\n",
              "2                                     자식새끼 키워봤자 아무소용업다..      7\n",
              "3                                                 방테나ㅋㅋㅋ      2\n",
              "4      하람님 저고민있어욧!!\\n노래잘부르고싶은데..어떻게하면 잘 부를수있을까요?오늘도 영...      1\n",
              "5      희재도 준비하고있고 발표예정이예요\\n다시 확인해주세요 모두 준비하고있어요 계약때문에...      7"
            ]
          },
          "metadata": {
            "tags": []
          },
          "execution_count": 5
        }
      ]
    },
    {
      "cell_type": "markdown",
      "metadata": {
        "id": "dZ0N4VfPaWpb"
      },
      "source": [
        "## 데이터 전처리 및 준비"
      ]
    },
    {
      "cell_type": "code",
      "metadata": {
        "id": "k5L_m5l8Exc-"
      },
      "source": [
        "from sklearn.model_selection import train_test_split\n",
        "from sklearn.metrics import accuracy_score"
      ],
      "execution_count": null,
      "outputs": []
    },
    {
      "cell_type": "code",
      "metadata": {
        "colab": {
          "base_uri": "https://localhost:8080/",
          "height": 235
        },
        "id": "C7-WSXU-aIoo",
        "outputId": "bcaea1b9-64c6-41a6-bad2-6c6701c5ef62"
      },
      "source": [
        "# 7번 클래스 -> 0으로 처리 : 나중에 편합니다.\n",
        "Youtube_comment_label.loc[Youtube_comment_label['class'] ==  7, 'class'] = 0\n",
        "Youtube_comment_label.head()"
      ],
      "execution_count": null,
      "outputs": [
        {
          "output_type": "execute_result",
          "data": {
            "text/html": [
              "<div>\n",
              "<style scoped>\n",
              "    .dataframe tbody tr th:only-of-type {\n",
              "        vertical-align: middle;\n",
              "    }\n",
              "\n",
              "    .dataframe tbody tr th {\n",
              "        vertical-align: top;\n",
              "    }\n",
              "\n",
              "    .dataframe thead th {\n",
              "        text-align: right;\n",
              "    }\n",
              "</style>\n",
              "<table border=\"1\" class=\"dataframe\">\n",
              "  <thead>\n",
              "    <tr style=\"text-align: right;\">\n",
              "      <th></th>\n",
              "      <th>comment</th>\n",
              "      <th>class</th>\n",
              "    </tr>\n",
              "    <tr>\n",
              "      <th>index</th>\n",
              "      <th></th>\n",
              "      <th></th>\n",
              "    </tr>\n",
              "  </thead>\n",
              "  <tbody>\n",
              "    <tr>\n",
              "      <th>1</th>\n",
              "      <td>흠.. 일단 전 안맞을래요</td>\n",
              "      <td>0</td>\n",
              "    </tr>\n",
              "    <tr>\n",
              "      <th>2</th>\n",
              "      <td>자식새끼 키워봤자 아무소용업다..</td>\n",
              "      <td>0</td>\n",
              "    </tr>\n",
              "    <tr>\n",
              "      <th>3</th>\n",
              "      <td>방테나ㅋㅋㅋ</td>\n",
              "      <td>2</td>\n",
              "    </tr>\n",
              "    <tr>\n",
              "      <th>4</th>\n",
              "      <td>하람님 저고민있어욧!!\\n노래잘부르고싶은데..어떻게하면 잘 부를수있을까요?오늘도 영...</td>\n",
              "      <td>1</td>\n",
              "    </tr>\n",
              "    <tr>\n",
              "      <th>5</th>\n",
              "      <td>희재도 준비하고있고 발표예정이예요\\n다시 확인해주세요 모두 준비하고있어요 계약때문에...</td>\n",
              "      <td>0</td>\n",
              "    </tr>\n",
              "  </tbody>\n",
              "</table>\n",
              "</div>"
            ],
            "text/plain": [
              "                                                 comment  class\n",
              "index                                                          \n",
              "1                                         흠.. 일단 전 안맞을래요      0\n",
              "2                                     자식새끼 키워봤자 아무소용업다..      0\n",
              "3                                                 방테나ㅋㅋㅋ      2\n",
              "4      하람님 저고민있어욧!!\\n노래잘부르고싶은데..어떻게하면 잘 부를수있을까요?오늘도 영...      1\n",
              "5      희재도 준비하고있고 발표예정이예요\\n다시 확인해주세요 모두 준비하고있어요 계약때문에...      0"
            ]
          },
          "metadata": {
            "tags": []
          },
          "execution_count": 7
        }
      ]
    },
    {
      "cell_type": "code",
      "metadata": {
        "colab": {
          "base_uri": "https://localhost:8080/"
        },
        "id": "UfT3z0azaT9v",
        "outputId": "28b2c161-d286-481a-87aa-47910176e60d"
      },
      "source": [
        "# 각 라벨 갯수가 균형된 데이터 셋, 그냥 raw한 데이터 셋 두 개씩 클래스 3개, 7개 총 4가지 데이터 셋을 만들 겁니다.\n",
        "Youtube_comment_label3 = Youtube_comment_label.copy()\n",
        "Youtube_comment_label7 = Youtube_comment_label.copy()\n",
        "Youtube_comment_label3_balance = Youtube_comment_label.copy()\n",
        "Youtube_comment_label7_balacne = Youtube_comment_label.copy()\n",
        "\n",
        "# Youtube_comment_label3\n",
        "Youtube_comment_label3.loc[Youtube_comment_label3['class'] ==  1, 'class'] = 1\n",
        "Youtube_comment_label3.loc[Youtube_comment_label3['class'] ==  2, 'class'] = 1\n",
        "Youtube_comment_label3.loc[Youtube_comment_label3['class'] ==  3, 'class'] = 1\n",
        "Youtube_comment_label3.loc[Youtube_comment_label3['class'] ==  4, 'class'] = 2\n",
        "Youtube_comment_label3.loc[Youtube_comment_label3['class'] ==  5, 'class'] = 2\n",
        "Youtube_comment_label3.loc[Youtube_comment_label3['class'] ==  6, 'class'] = 2\n",
        "Youtube_comment_label3 = Youtube_comment_label3.sort_values(by = 'class', ascending = True).reset_index(drop = True)\n",
        "print(Youtube_comment_label3.head())\n",
        "print(f\"총 데이터 갯수 : {len(Youtube_comment_label3_balance['comment'])}\")\n",
        "print(\"-------------------------------------------------------------------------------------------\")\n",
        "\n",
        "# Youtube_comment_label7\n",
        "Youtube_comment_label7 # 더 건드릴 것이 없다\n",
        "Youtube_comment_label7 = Youtube_comment_label7_balacne.sort_values(by = 'class', ascending = True).reset_index(drop = True)\n",
        "print(Youtube_comment_label7.head())\n",
        "print(f\"총 데이터 갯수 : {len(Youtube_comment_label7['comment'])}\")\n",
        "print(\"-------------------------------------------------------------------------------------------\")\n",
        "\n",
        "\n",
        "# Youtube_comment_label3_balance\n",
        "Youtube_comment_label3_balance = Youtube_comment_label3.copy()\n",
        "min_class_num = Youtube_comment_label3_balance.groupby(['class'])['comment'].count().min()\n",
        "Youtube_comment_label3_balance_df = pd.DataFrame(columns = ['comment', 'class'])\n",
        "for i in range(3):\n",
        "  Youtube_comment_label3_balance_df = Youtube_comment_label3_balance_df.append(Youtube_comment_label3_balance.loc[Youtube_comment_label3_balance['class'] == i,\n",
        "                                                                                                                  ['comment', 'class']].sample(min_class_num))\n",
        "Youtube_comment_label3_balance = Youtube_comment_label3_balance_df.reset_index(drop = True)\n",
        "print(Youtube_comment_label3_balance.head())\n",
        "print(f\"각 class 별로 맞춰진 균형 갯수는 : {min_class_num}\")\n",
        "print(f\"총 데이터 갯수 : {len(Youtube_comment_label3_balance['comment'])} = 3(class 갯수) * {min_class_num}\")\n",
        "print(\"-------------------------------------------------------------------------------------------\")\n",
        "\n",
        "# Youtube_comment_label7_balance\n",
        "Youtube_comment_label7_balance = Youtube_comment_label7.copy()\n",
        "min_class_num = Youtube_comment_label7_balance.groupby(['class'])['comment'].count().min()\n",
        "Youtube_comment_label7_balance_df = pd.DataFrame(columns = ['comment', 'class'])\n",
        "for i in range(7):\n",
        "  Youtube_comment_label7_balance_df = Youtube_comment_label7_balance_df.append(Youtube_comment_label7_balance.loc[Youtube_comment_label7_balance['class'] == i,\n",
        "                                                                                                                  ['comment', 'class']].sample(min_class_num))\n",
        "Youtube_comment_label7_balance = Youtube_comment_label7_balance_df.reset_index(drop = True)\n",
        "print(Youtube_comment_label7_balance.head())\n",
        "print(f\"각 class 별로 맞춰진 균형 갯수는 : {min_class_num}\")\n",
        "print(f\"총 데이터 갯수 : {len(Youtube_comment_label7_balance['comment'])} = 7(class 갯수) * {min_class_num}\")\n",
        "print(\"-------------------------------------------------------------------------------------------\")"
      ],
      "execution_count": null,
      "outputs": [
        {
          "output_type": "stream",
          "text": [
            "                                             comment  class\n",
            "0                                     흠.. 일단 전 안맞을래요      0\n",
            "1                                    0:18 KITA 책 ㅋㅋㅋ      0\n",
            "2  0:55 음 초기에 65세 이상 아스트라 제한한 것도 그러고 이것도 면역력 더 높은...      0\n",
            "3                                          꼬..꼬끼오..?      0\n",
            "4                  난 빨랐다를 '발렸다'로 봤네ㅋㅋㅋ잘못보고 정말내내 축구인줄      0\n",
            "총 데이터 갯수 : 22000\n",
            "-------------------------------------------------------------------------------------------\n",
            "                                             comment  class\n",
            "0                                     흠.. 일단 전 안맞을래요      0\n",
            "1                                    0:18 KITA 책 ㅋㅋㅋ      0\n",
            "2  0:55 음 초기에 65세 이상 아스트라 제한한 것도 그러고 이것도 면역력 더 높은...      0\n",
            "3                                          꼬..꼬끼오..?      0\n",
            "4                  난 빨랐다를 '발렸다'로 봤네ㅋㅋㅋ잘못보고 정말내내 축구인줄      0\n",
            "총 데이터 갯수 : 22000\n",
            "-------------------------------------------------------------------------------------------\n",
            "                                             comment class\n",
            "0             군림보님의 뱃살은 너어어어어어어어어어ㅓㅇ무............(?)     0\n",
            "1                             적을 처치할때마다 돌진기 쿨 도는것같아요     0\n",
            "2  07:16 혹시 이거 잠뜰 님이 말한 질문에 답 해서 \" 공룡 님보다 거지 같진 않...     0\n",
            "3                                           생매장은 한국잊     0\n",
            "4                                        수련 로건 석경 석훈     0\n",
            "각 class 별로 맞춰진 균형 갯수는 : 2955\n",
            "총 데이터 갯수 : 8865 = 3(class 갯수) * 2955\n",
            "-------------------------------------------------------------------------------------------\n",
            "                                            comment class\n",
            "0  국대마크 촌스럽네. 하다못해 눈이라도 태극기처럼 빨강과 파랑으로 색을좀 입히지.....     0\n",
            "1                                         이거 몇화에요ㅠㅠ     0\n",
            "2                                         게장 담궈도 뒐듯     0\n",
            "3                     그와중에 저 침대 찍찍이 할때 쓰신 물품..뭔지 궁금     0\n",
            "4                                           나도사인...     0\n",
            "각 class 별로 맞춰진 균형 갯수는 : 607\n",
            "총 데이터 갯수 : 4249 = 7(class 갯수) * 607\n",
            "-------------------------------------------------------------------------------------------\n"
          ],
          "name": "stdout"
        }
      ]
    },
    {
      "cell_type": "code",
      "metadata": {
        "colab": {
          "base_uri": "https://localhost:8080/"
        },
        "id": "ExBQHRMucbCE",
        "outputId": "a198b168-669d-4da4-e6ac-47fb1f5c4953"
      },
      "source": [
        "Youtube_comment_label3_balance.groupby(['class'])['comment'].count()"
      ],
      "execution_count": null,
      "outputs": [
        {
          "output_type": "execute_result",
          "data": {
            "text/plain": [
              "class\n",
              "0    2955\n",
              "1    2955\n",
              "2    2955\n",
              "Name: comment, dtype: int64"
            ]
          },
          "metadata": {
            "tags": []
          },
          "execution_count": 9
        }
      ]
    },
    {
      "cell_type": "code",
      "metadata": {
        "colab": {
          "base_uri": "https://localhost:8080/",
          "height": 419
        },
        "id": "1cAU-ejGGUaT",
        "outputId": "4a7b87fc-5bea-493e-fbca-48ed105bf954"
      },
      "source": [
        "Youtube_comment_label3_balance"
      ],
      "execution_count": null,
      "outputs": [
        {
          "output_type": "execute_result",
          "data": {
            "text/html": [
              "<div>\n",
              "<style scoped>\n",
              "    .dataframe tbody tr th:only-of-type {\n",
              "        vertical-align: middle;\n",
              "    }\n",
              "\n",
              "    .dataframe tbody tr th {\n",
              "        vertical-align: top;\n",
              "    }\n",
              "\n",
              "    .dataframe thead th {\n",
              "        text-align: right;\n",
              "    }\n",
              "</style>\n",
              "<table border=\"1\" class=\"dataframe\">\n",
              "  <thead>\n",
              "    <tr style=\"text-align: right;\">\n",
              "      <th></th>\n",
              "      <th>comment</th>\n",
              "      <th>class</th>\n",
              "    </tr>\n",
              "  </thead>\n",
              "  <tbody>\n",
              "    <tr>\n",
              "      <th>0</th>\n",
              "      <td>군림보님의 뱃살은 너어어어어어어어어어ㅓㅇ무............(?)</td>\n",
              "      <td>0</td>\n",
              "    </tr>\n",
              "    <tr>\n",
              "      <th>1</th>\n",
              "      <td>적을 처치할때마다 돌진기 쿨 도는것같아요</td>\n",
              "      <td>0</td>\n",
              "    </tr>\n",
              "    <tr>\n",
              "      <th>2</th>\n",
              "      <td>07:16 혹시 이거 잠뜰 님이 말한 질문에 답 해서 \" 공룡 님보다 거지 같진 않...</td>\n",
              "      <td>0</td>\n",
              "    </tr>\n",
              "    <tr>\n",
              "      <th>3</th>\n",
              "      <td>생매장은 한국잊</td>\n",
              "      <td>0</td>\n",
              "    </tr>\n",
              "    <tr>\n",
              "      <th>4</th>\n",
              "      <td>수련 로건 석경 석훈</td>\n",
              "      <td>0</td>\n",
              "    </tr>\n",
              "    <tr>\n",
              "      <th>...</th>\n",
              "      <td>...</td>\n",
              "      <td>...</td>\n",
              "    </tr>\n",
              "    <tr>\n",
              "      <th>8860</th>\n",
              "      <td>와   힘들겠다\\n제가  응원할게요</td>\n",
              "      <td>2</td>\n",
              "    </tr>\n",
              "    <tr>\n",
              "      <th>8861</th>\n",
              "      <td>그래서 왜  쏜거임?실검없으니깐 불편하다 뭐든지 생각없ㅇ이 하는 나라가 부끄럽다 개...</td>\n",
              "      <td>2</td>\n",
              "    </tr>\n",
              "    <tr>\n",
              "      <th>8862</th>\n",
              "      <td>유인씨 깔깔이 같은거 안입으시면 안돼여? ㅋㅋㅋ 깔깔이가 스타일을 죽이고 있어여....</td>\n",
              "      <td>2</td>\n",
              "    </tr>\n",
              "    <tr>\n",
              "      <th>8863</th>\n",
              "      <td>저렇게 풀발하고 대응 하는거보니 찔린듯 ㅋㅋ</td>\n",
              "      <td>2</td>\n",
              "    </tr>\n",
              "    <tr>\n",
              "      <th>8864</th>\n",
              "      <td>안돼..요...아프면 먹어야돼요ㅜㅜㅜ 잘 먹어야돼요...아프면 절대 안돼ㅠㅠㅠㅠ</td>\n",
              "      <td>2</td>\n",
              "    </tr>\n",
              "  </tbody>\n",
              "</table>\n",
              "<p>8865 rows × 2 columns</p>\n",
              "</div>"
            ],
            "text/plain": [
              "                                                comment class\n",
              "0                군림보님의 뱃살은 너어어어어어어어어어ㅓㅇ무............(?)     0\n",
              "1                                적을 처치할때마다 돌진기 쿨 도는것같아요     0\n",
              "2     07:16 혹시 이거 잠뜰 님이 말한 질문에 답 해서 \" 공룡 님보다 거지 같진 않...     0\n",
              "3                                              생매장은 한국잊     0\n",
              "4                                           수련 로건 석경 석훈     0\n",
              "...                                                 ...   ...\n",
              "8860                                와   힘들겠다\\n제가  응원할게요     2\n",
              "8861  그래서 왜  쏜거임?실검없으니깐 불편하다 뭐든지 생각없ㅇ이 하는 나라가 부끄럽다 개...     2\n",
              "8862   유인씨 깔깔이 같은거 안입으시면 안돼여? ㅋㅋㅋ 깔깔이가 스타일을 죽이고 있어여....     2\n",
              "8863                           저렇게 풀발하고 대응 하는거보니 찔린듯 ㅋㅋ     2\n",
              "8864       안돼..요...아프면 먹어야돼요ㅜㅜㅜ 잘 먹어야돼요...아프면 절대 안돼ㅠㅠㅠㅠ     2\n",
              "\n",
              "[8865 rows x 2 columns]"
            ]
          },
          "metadata": {
            "tags": []
          },
          "execution_count": 10
        }
      ]
    },
    {
      "cell_type": "code",
      "metadata": {
        "colab": {
          "base_uri": "https://localhost:8080/",
          "height": 419
        },
        "id": "Vp7vJNmNFQ0A",
        "outputId": "37e2d318-1008-451a-a1b5-b67625a0d5c7"
      },
      "source": [
        "Youtube_comment_label7"
      ],
      "execution_count": null,
      "outputs": [
        {
          "output_type": "execute_result",
          "data": {
            "text/html": [
              "<div>\n",
              "<style scoped>\n",
              "    .dataframe tbody tr th:only-of-type {\n",
              "        vertical-align: middle;\n",
              "    }\n",
              "\n",
              "    .dataframe tbody tr th {\n",
              "        vertical-align: top;\n",
              "    }\n",
              "\n",
              "    .dataframe thead th {\n",
              "        text-align: right;\n",
              "    }\n",
              "</style>\n",
              "<table border=\"1\" class=\"dataframe\">\n",
              "  <thead>\n",
              "    <tr style=\"text-align: right;\">\n",
              "      <th></th>\n",
              "      <th>comment</th>\n",
              "      <th>class</th>\n",
              "    </tr>\n",
              "  </thead>\n",
              "  <tbody>\n",
              "    <tr>\n",
              "      <th>0</th>\n",
              "      <td>흠.. 일단 전 안맞을래요</td>\n",
              "      <td>0</td>\n",
              "    </tr>\n",
              "    <tr>\n",
              "      <th>1</th>\n",
              "      <td>0:18 KITA 책 ㅋㅋㅋ</td>\n",
              "      <td>0</td>\n",
              "    </tr>\n",
              "    <tr>\n",
              "      <th>2</th>\n",
              "      <td>0:55 음 초기에 65세 이상 아스트라 제한한 것도 그러고 이것도 면역력 더 높은...</td>\n",
              "      <td>0</td>\n",
              "    </tr>\n",
              "    <tr>\n",
              "      <th>3</th>\n",
              "      <td>꼬..꼬끼오..?</td>\n",
              "      <td>0</td>\n",
              "    </tr>\n",
              "    <tr>\n",
              "      <th>4</th>\n",
              "      <td>난 빨랐다를 '발렸다'로 봤네ㅋㅋㅋ잘못보고 정말내내 축구인줄</td>\n",
              "      <td>0</td>\n",
              "    </tr>\n",
              "    <tr>\n",
              "      <th>...</th>\n",
              "      <td>...</td>\n",
              "      <td>...</td>\n",
              "    </tr>\n",
              "    <tr>\n",
              "      <th>21995</th>\n",
              "      <td>아이고...맞벌이맘으로써 너무 같이 감정이입이 되어서 맘이 너무 아픈 사건이었네요</td>\n",
              "      <td>6</td>\n",
              "    </tr>\n",
              "    <tr>\n",
              "      <th>21996</th>\n",
              "      <td>우리가락 우리소리는 어떻게든 퓨전음악이 된다해도 가슴속에 울림이 있네요..\\n듣다보...</td>\n",
              "      <td>6</td>\n",
              "    </tr>\n",
              "    <tr>\n",
              "      <th>21997</th>\n",
              "      <td>냥이아빠님.. 슬프지만 괜찮은척하시는 것 같아요... 피츄야 조금만 더 오래 살아줬...</td>\n",
              "      <td>6</td>\n",
              "    </tr>\n",
              "    <tr>\n",
              "      <th>21998</th>\n",
              "      <td>6:03 짱구..?ㅎㅎ한국말 진짜 늘었다ㅠㅜ로미야ㅠ</td>\n",
              "      <td>6</td>\n",
              "    </tr>\n",
              "    <tr>\n",
              "      <th>21999</th>\n",
              "      <td>결국 패배했어 ㅠㅠㅠㅠ</td>\n",
              "      <td>6</td>\n",
              "    </tr>\n",
              "  </tbody>\n",
              "</table>\n",
              "<p>22000 rows × 2 columns</p>\n",
              "</div>"
            ],
            "text/plain": [
              "                                                 comment  class\n",
              "0                                         흠.. 일단 전 안맞을래요      0\n",
              "1                                        0:18 KITA 책 ㅋㅋㅋ      0\n",
              "2      0:55 음 초기에 65세 이상 아스트라 제한한 것도 그러고 이것도 면역력 더 높은...      0\n",
              "3                                              꼬..꼬끼오..?      0\n",
              "4                      난 빨랐다를 '발렸다'로 봤네ㅋㅋㅋ잘못보고 정말내내 축구인줄      0\n",
              "...                                                  ...    ...\n",
              "21995      아이고...맞벌이맘으로써 너무 같이 감정이입이 되어서 맘이 너무 아픈 사건이었네요      6\n",
              "21996  우리가락 우리소리는 어떻게든 퓨전음악이 된다해도 가슴속에 울림이 있네요..\\n듣다보...      6\n",
              "21997  냥이아빠님.. 슬프지만 괜찮은척하시는 것 같아요... 피츄야 조금만 더 오래 살아줬...      6\n",
              "21998                       6:03 짱구..?ㅎㅎ한국말 진짜 늘었다ㅠㅜ로미야ㅠ      6\n",
              "21999                                       결국 패배했어 ㅠㅠㅠㅠ      6\n",
              "\n",
              "[22000 rows x 2 columns]"
            ]
          },
          "metadata": {
            "tags": []
          },
          "execution_count": 11
        }
      ]
    },
    {
      "cell_type": "code",
      "metadata": {
        "id": "rXyY_oZyFjhM"
      },
      "source": [
        "train_data, test_data = train_test_split(Youtube_comment_label7, test_size=1000, random_state=7607)"
      ],
      "execution_count": null,
      "outputs": []
    },
    {
      "cell_type": "code",
      "metadata": {
        "id": "9cjAL2KdF3uD"
      },
      "source": [
        "X_train = train_data[['comment']]\n",
        "X_test = test_data[['comment']]\n",
        "y_train = train_data['class']\n",
        "y_test = test_data['class']"
      ],
      "execution_count": null,
      "outputs": []
    },
    {
      "cell_type": "code",
      "metadata": {
        "colab": {
          "base_uri": "https://localhost:8080/",
          "height": 419
        },
        "id": "wE9VivnJF3ri",
        "outputId": "c4a4a396-a751-436f-f545-2e51996cc33a"
      },
      "source": [
        "X_train"
      ],
      "execution_count": null,
      "outputs": [
        {
          "output_type": "execute_result",
          "data": {
            "text/html": [
              "<div>\n",
              "<style scoped>\n",
              "    .dataframe tbody tr th:only-of-type {\n",
              "        vertical-align: middle;\n",
              "    }\n",
              "\n",
              "    .dataframe tbody tr th {\n",
              "        vertical-align: top;\n",
              "    }\n",
              "\n",
              "    .dataframe thead th {\n",
              "        text-align: right;\n",
              "    }\n",
              "</style>\n",
              "<table border=\"1\" class=\"dataframe\">\n",
              "  <thead>\n",
              "    <tr style=\"text-align: right;\">\n",
              "      <th></th>\n",
              "      <th>comment</th>\n",
              "    </tr>\n",
              "  </thead>\n",
              "  <tbody>\n",
              "    <tr>\n",
              "      <th>7959</th>\n",
              "      <td>형!파트코인 해봐!ㄹㅇ 하루에 1cm</td>\n",
              "    </tr>\n",
              "    <tr>\n",
              "      <th>2712</th>\n",
              "      <td>끼욱 버려</td>\n",
              "    </tr>\n",
              "    <tr>\n",
              "      <th>13606</th>\n",
              "      <td>왕ㅜㅜ 축하드려요💜</td>\n",
              "    </tr>\n",
              "    <tr>\n",
              "      <th>18062</th>\n",
              "      <td>0:03ㅋㅋㅋㅋㅋㅋㅋㅋㅋㅋㅋㅋㅋㅋㅋㅋㅋㅋㅋㅋㅋㅋㅋㅋㅋㅋㅋㅋㅋㅋㅋㅋㅋㅋㅋㅋㅋㅋㅋㅋㅋㅋ...</td>\n",
              "    </tr>\n",
              "    <tr>\n",
              "      <th>113</th>\n",
              "      <td>\" 콜라를 대신할 소화제 \"</td>\n",
              "    </tr>\n",
              "    <tr>\n",
              "      <th>...</th>\n",
              "      <td>...</td>\n",
              "    </tr>\n",
              "    <tr>\n",
              "      <th>12026</th>\n",
              "      <td>미쵸따미쵸따 어머어머 5월 첫방송이야 ㅠㅠㅠㅠㅠㅠ</td>\n",
              "    </tr>\n",
              "    <tr>\n",
              "      <th>17914</th>\n",
              "      <td>깽판친게 아니라 유튜브각을 만들어주네 ㅋㅋ</td>\n",
              "    </tr>\n",
              "    <tr>\n",
              "      <th>1355</th>\n",
              "      <td>저거 하실때 폼 꼭 배우세요. 유튜브 찾으면 있어요. 저도 하나 있습니다</td>\n",
              "    </tr>\n",
              "    <tr>\n",
              "      <th>12326</th>\n",
              "      <td>보솜이 넘귀엽다 저기 집에서 나가면 바다라니\\n저도 정말살고싶은곳이네요</td>\n",
              "    </tr>\n",
              "    <tr>\n",
              "      <th>7004</th>\n",
              "      <td>ㅠㅜ 기대하고있는데 너무 허무해유........ 애플 일해라</td>\n",
              "    </tr>\n",
              "  </tbody>\n",
              "</table>\n",
              "<p>21000 rows × 1 columns</p>\n",
              "</div>"
            ],
            "text/plain": [
              "                                                 comment\n",
              "7959                                형!파트코인 해봐!ㄹㅇ 하루에 1cm\n",
              "2712                                               끼욱 버려\n",
              "13606                                         왕ㅜㅜ 축하드려요💜\n",
              "18062  0:03ㅋㅋㅋㅋㅋㅋㅋㅋㅋㅋㅋㅋㅋㅋㅋㅋㅋㅋㅋㅋㅋㅋㅋㅋㅋㅋㅋㅋㅋㅋㅋㅋㅋㅋㅋㅋㅋㅋㅋㅋㅋㅋ...\n",
              "113                                      \" 콜라를 대신할 소화제 \"\n",
              "...                                                  ...\n",
              "12026                        미쵸따미쵸따 어머어머 5월 첫방송이야 ㅠㅠㅠㅠㅠㅠ\n",
              "17914                            깽판친게 아니라 유튜브각을 만들어주네 ㅋㅋ\n",
              "1355            저거 하실때 폼 꼭 배우세요. 유튜브 찾으면 있어요. 저도 하나 있습니다\n",
              "12326            보솜이 넘귀엽다 저기 집에서 나가면 바다라니\\n저도 정말살고싶은곳이네요\n",
              "7004                   ㅠㅜ 기대하고있는데 너무 허무해유........ 애플 일해라\n",
              "\n",
              "[21000 rows x 1 columns]"
            ]
          },
          "metadata": {
            "tags": []
          },
          "execution_count": 14
        }
      ]
    },
    {
      "cell_type": "code",
      "metadata": {
        "colab": {
          "base_uri": "https://localhost:8080/"
        },
        "id": "fnFwKUqaF3pM",
        "outputId": "4b8cfe29-b55d-424f-e7b0-afb219c46ce1"
      },
      "source": [
        "y_train"
      ],
      "execution_count": null,
      "outputs": [
        {
          "output_type": "execute_result",
          "data": {
            "text/plain": [
              "7959     0\n",
              "2712     0\n",
              "13606    1\n",
              "18062    2\n",
              "113      0\n",
              "        ..\n",
              "12026    1\n",
              "17914    2\n",
              "1355     0\n",
              "12326    1\n",
              "7004     0\n",
              "Name: class, Length: 21000, dtype: int64"
            ]
          },
          "metadata": {
            "tags": []
          },
          "execution_count": 15
        }
      ]
    },
    {
      "cell_type": "markdown",
      "metadata": {
        "id": "93Jsn1Fid2tK"
      },
      "source": [
        "## 토큰화\n",
        "> 자모 토큰화를 진행합니다.\n",
        "\n",
        "출처: \n",
        "https://jins-sw.tistory.com/6"
      ]
    },
    {
      "cell_type": "code",
      "metadata": {
        "id": "OspxBIUiNFfx"
      },
      "source": [
        "# 타임 스탬프 삭제\n",
        "p = re.compile('\\d+:\\d+')\n",
        "\n",
        "def delete_time_stamp(df):\n",
        "    for ix, row in tqdm_notebook(df.iterrows()):\n",
        "        time_stamp_list = p.findall(str(row['comment']))\n",
        "        new_comment = str(row['comment'])\n",
        "        for time_stamp in time_stamp_list:\n",
        "            new_comment = new_comment.replace(time_stamp, '')\n",
        "        row['comment'] = new_comment.lstrip()\n",
        "    return df"
      ],
      "execution_count": null,
      "outputs": []
    },
    {
      "cell_type": "code",
      "metadata": {
        "id": "2EovFLKuNQen",
        "colab": {
          "base_uri": "https://localhost:8080/",
          "height": 593,
          "referenced_widgets": [
            "18234fb4f8b243f2a827f6453ba691db",
            "0477eddc16ca473c91959db4fb702353",
            "d02d05327f3243f4af1b620c7e1fbb24",
            "4a93ca31925b4513a3b22c19632c3069",
            "326ba435231e4b549eac1e1e4bc4b106",
            "efdc082c37954aa5bb6cc60dbe36c8a0",
            "93d7785feaaf4bb99cb1a7e809f075fa",
            "96b7a68afa694e3e9003b304e2cef170",
            "a805f377f7d8499481b92a92459d38e1",
            "ab81063ae7874b04aaca483ef9e97946",
            "f9d4ea5d935b4379b075fe31807b9a8d",
            "25e8ee4c3d344410ad87a59afbe1e704",
            "23d85f178fa24d3d844c5a87b42b5f37",
            "b484f1af8750424296acfe3d5253987c",
            "d9920fb2ae874e518519f3faaa8fa8b8",
            "59e0fa6ce26e4c27a739fe39e3f27801"
          ]
        },
        "outputId": "4cc84ad1-6e68-44db-ae85-dbbaa2e33553"
      },
      "source": [
        "delete_time_stamp(X_train)\n",
        "delete_time_stamp(X_test)"
      ],
      "execution_count": null,
      "outputs": [
        {
          "output_type": "stream",
          "text": [
            "/usr/local/lib/python3.7/dist-packages/ipykernel_launcher.py:5: TqdmDeprecationWarning: This function will be removed in tqdm==5.0.0\n",
            "Please use `tqdm.notebook.tqdm` instead of `tqdm.tqdm_notebook`\n",
            "  \"\"\"\n"
          ],
          "name": "stderr"
        },
        {
          "output_type": "display_data",
          "data": {
            "application/vnd.jupyter.widget-view+json": {
              "model_id": "18234fb4f8b243f2a827f6453ba691db",
              "version_minor": 0,
              "version_major": 2
            },
            "text/plain": [
              "HBox(children=(FloatProgress(value=1.0, bar_style='info', max=1.0), HTML(value='')))"
            ]
          },
          "metadata": {
            "tags": []
          }
        },
        {
          "output_type": "stream",
          "text": [
            "\n"
          ],
          "name": "stdout"
        },
        {
          "output_type": "display_data",
          "data": {
            "application/vnd.jupyter.widget-view+json": {
              "model_id": "a805f377f7d8499481b92a92459d38e1",
              "version_minor": 0,
              "version_major": 2
            },
            "text/plain": [
              "HBox(children=(FloatProgress(value=1.0, bar_style='info', max=1.0), HTML(value='')))"
            ]
          },
          "metadata": {
            "tags": []
          }
        },
        {
          "output_type": "stream",
          "text": [
            "\n"
          ],
          "name": "stdout"
        },
        {
          "output_type": "execute_result",
          "data": {
            "text/html": [
              "<div>\n",
              "<style scoped>\n",
              "    .dataframe tbody tr th:only-of-type {\n",
              "        vertical-align: middle;\n",
              "    }\n",
              "\n",
              "    .dataframe tbody tr th {\n",
              "        vertical-align: top;\n",
              "    }\n",
              "\n",
              "    .dataframe thead th {\n",
              "        text-align: right;\n",
              "    }\n",
              "</style>\n",
              "<table border=\"1\" class=\"dataframe\">\n",
              "  <thead>\n",
              "    <tr style=\"text-align: right;\">\n",
              "      <th></th>\n",
              "      <th>comment</th>\n",
              "    </tr>\n",
              "  </thead>\n",
              "  <tbody>\n",
              "    <tr>\n",
              "      <th>6067</th>\n",
              "      <td>왜 내가 다 부끄럽냐</td>\n",
              "    </tr>\n",
              "    <tr>\n",
              "      <th>18510</th>\n",
              "      <td>이런여자도결혼을하네요</td>\n",
              "    </tr>\n",
              "    <tr>\n",
              "      <th>20365</th>\n",
              "      <td>ㅋ방장아 공신력이 없는 인터넷매체애기를 이렇게 애기한다는것은 니가 싸구리라는것을 애...</td>\n",
              "    </tr>\n",
              "    <tr>\n",
              "      <th>11461</th>\n",
              "      <td>그만큼 궁금하신거지~</td>\n",
              "    </tr>\n",
              "    <tr>\n",
              "      <th>12891</th>\n",
              "      <td>실제로 침형은 삼국지를 많이 모른다 하지만 우리가 더 많이 모른다 오히려 좋아 다 몰라</td>\n",
              "    </tr>\n",
              "    <tr>\n",
              "      <th>...</th>\n",
              "      <td>...</td>\n",
              "    </tr>\n",
              "    <tr>\n",
              "      <th>2657</th>\n",
              "      <td>채굴용으로 저게 간다면 다행이지 않을까요?</td>\n",
              "    </tr>\n",
              "    <tr>\n",
              "      <th>20007</th>\n",
              "      <td>아오 학폭 좀 잠잠해지니까 최갑수씨가 돌아오고 중국이 또 생난리를 치고 방송국들은 ...</td>\n",
              "    </tr>\n",
              "    <tr>\n",
              "      <th>9956</th>\n",
              "      <td>솔직히 개를 먹는거는 반대 못하지만 도축 과정에서 고통없이 보냈으면 좋겠다. 개 도...</td>\n",
              "    </tr>\n",
              "    <tr>\n",
              "      <th>17310</th>\n",
              "      <td>아 빵딩이 가렸다고 화내는거 개웃기네 ㅋㅋㅋㄱㅋ</td>\n",
              "    </tr>\n",
              "    <tr>\n",
              "      <th>17803</th>\n",
              "      <td>장작을 쪼개랬더니 도끼를 쪼개고 있눜ㅋㅋㅋㅋㅋㅋㅋㅋ</td>\n",
              "    </tr>\n",
              "  </tbody>\n",
              "</table>\n",
              "<p>1000 rows × 1 columns</p>\n",
              "</div>"
            ],
            "text/plain": [
              "                                                 comment\n",
              "6067                                         왜 내가 다 부끄럽냐\n",
              "18510                                        이런여자도결혼을하네요\n",
              "20365  ㅋ방장아 공신력이 없는 인터넷매체애기를 이렇게 애기한다는것은 니가 싸구리라는것을 애...\n",
              "11461                                        그만큼 궁금하신거지~\n",
              "12891   실제로 침형은 삼국지를 많이 모른다 하지만 우리가 더 많이 모른다 오히려 좋아 다 몰라\n",
              "...                                                  ...\n",
              "2657                             채굴용으로 저게 간다면 다행이지 않을까요?\n",
              "20007  아오 학폭 좀 잠잠해지니까 최갑수씨가 돌아오고 중국이 또 생난리를 치고 방송국들은 ...\n",
              "9956   솔직히 개를 먹는거는 반대 못하지만 도축 과정에서 고통없이 보냈으면 좋겠다. 개 도...\n",
              "17310                         아 빵딩이 가렸다고 화내는거 개웃기네 ㅋㅋㅋㄱㅋ\n",
              "17803                       장작을 쪼개랬더니 도끼를 쪼개고 있눜ㅋㅋㅋㅋㅋㅋㅋㅋ\n",
              "\n",
              "[1000 rows x 1 columns]"
            ]
          },
          "metadata": {
            "tags": []
          },
          "execution_count": 17
        }
      ]
    },
    {
      "cell_type": "code",
      "metadata": {
        "colab": {
          "base_uri": "https://localhost:8080/",
          "height": 419
        },
        "id": "enDufAGoOwYo",
        "outputId": "1c860da4-61ae-477a-9782-68fd2af81d6d"
      },
      "source": [
        "X_train"
      ],
      "execution_count": null,
      "outputs": [
        {
          "output_type": "execute_result",
          "data": {
            "text/html": [
              "<div>\n",
              "<style scoped>\n",
              "    .dataframe tbody tr th:only-of-type {\n",
              "        vertical-align: middle;\n",
              "    }\n",
              "\n",
              "    .dataframe tbody tr th {\n",
              "        vertical-align: top;\n",
              "    }\n",
              "\n",
              "    .dataframe thead th {\n",
              "        text-align: right;\n",
              "    }\n",
              "</style>\n",
              "<table border=\"1\" class=\"dataframe\">\n",
              "  <thead>\n",
              "    <tr style=\"text-align: right;\">\n",
              "      <th></th>\n",
              "      <th>comment</th>\n",
              "    </tr>\n",
              "  </thead>\n",
              "  <tbody>\n",
              "    <tr>\n",
              "      <th>7959</th>\n",
              "      <td>형!파트코인 해봐!ㄹㅇ 하루에 1cm</td>\n",
              "    </tr>\n",
              "    <tr>\n",
              "      <th>2712</th>\n",
              "      <td>끼욱 버려</td>\n",
              "    </tr>\n",
              "    <tr>\n",
              "      <th>13606</th>\n",
              "      <td>왕ㅜㅜ 축하드려요💜</td>\n",
              "    </tr>\n",
              "    <tr>\n",
              "      <th>18062</th>\n",
              "      <td>ㅋㅋㅋㅋㅋㅋㅋㅋㅋㅋㅋㅋㅋㅋㅋㅋㅋㅋㅋㅋㅋㅋㅋㅋㅋㅋㅋㅋㅋㅋㅋㅋㅋㅋㅋㅋㅋㅋㅋㅋㅋㅋㅋㅋㅋㅋ...</td>\n",
              "    </tr>\n",
              "    <tr>\n",
              "      <th>113</th>\n",
              "      <td>\" 콜라를 대신할 소화제 \"</td>\n",
              "    </tr>\n",
              "    <tr>\n",
              "      <th>...</th>\n",
              "      <td>...</td>\n",
              "    </tr>\n",
              "    <tr>\n",
              "      <th>12026</th>\n",
              "      <td>미쵸따미쵸따 어머어머 5월 첫방송이야 ㅠㅠㅠㅠㅠㅠ</td>\n",
              "    </tr>\n",
              "    <tr>\n",
              "      <th>17914</th>\n",
              "      <td>깽판친게 아니라 유튜브각을 만들어주네 ㅋㅋ</td>\n",
              "    </tr>\n",
              "    <tr>\n",
              "      <th>1355</th>\n",
              "      <td>저거 하실때 폼 꼭 배우세요. 유튜브 찾으면 있어요. 저도 하나 있습니다</td>\n",
              "    </tr>\n",
              "    <tr>\n",
              "      <th>12326</th>\n",
              "      <td>보솜이 넘귀엽다 저기 집에서 나가면 바다라니\\n저도 정말살고싶은곳이네요</td>\n",
              "    </tr>\n",
              "    <tr>\n",
              "      <th>7004</th>\n",
              "      <td>ㅠㅜ 기대하고있는데 너무 허무해유........ 애플 일해라</td>\n",
              "    </tr>\n",
              "  </tbody>\n",
              "</table>\n",
              "<p>21000 rows × 1 columns</p>\n",
              "</div>"
            ],
            "text/plain": [
              "                                                 comment\n",
              "7959                                형!파트코인 해봐!ㄹㅇ 하루에 1cm\n",
              "2712                                               끼욱 버려\n",
              "13606                                         왕ㅜㅜ 축하드려요💜\n",
              "18062  ㅋㅋㅋㅋㅋㅋㅋㅋㅋㅋㅋㅋㅋㅋㅋㅋㅋㅋㅋㅋㅋㅋㅋㅋㅋㅋㅋㅋㅋㅋㅋㅋㅋㅋㅋㅋㅋㅋㅋㅋㅋㅋㅋㅋㅋㅋ...\n",
              "113                                      \" 콜라를 대신할 소화제 \"\n",
              "...                                                  ...\n",
              "12026                        미쵸따미쵸따 어머어머 5월 첫방송이야 ㅠㅠㅠㅠㅠㅠ\n",
              "17914                            깽판친게 아니라 유튜브각을 만들어주네 ㅋㅋ\n",
              "1355            저거 하실때 폼 꼭 배우세요. 유튜브 찾으면 있어요. 저도 하나 있습니다\n",
              "12326            보솜이 넘귀엽다 저기 집에서 나가면 바다라니\\n저도 정말살고싶은곳이네요\n",
              "7004                   ㅠㅜ 기대하고있는데 너무 허무해유........ 애플 일해라\n",
              "\n",
              "[21000 rows x 1 columns]"
            ]
          },
          "metadata": {
            "tags": []
          },
          "execution_count": 18
        }
      ]
    },
    {
      "cell_type": "code",
      "metadata": {
        "id": "4pldVe9mt7nV"
      },
      "source": [
        "from kiwipiepy import Kiwi, Option"
      ],
      "execution_count": null,
      "outputs": []
    },
    {
      "cell_type": "code",
      "metadata": {
        "id": "w0kvzPRdtJ8f"
      },
      "source": [
        "from soynlp.hangle import compose, decompose, character_is_korean \n",
        "doublespace_pattern = re.compile('\\s+') \n",
        "\n",
        "def jamo_sentence(sent): \n",
        "    def transform(char): \n",
        "        if char == ' ': \n",
        "            return char \n",
        "        cjj = decompose(char) \n",
        "        if len(cjj) == 1: \n",
        "            return cjj \n",
        "        cjj_ = ''.join(c if c != ' ' else '_' for c in cjj) \n",
        "        return cjj_ \n",
        "    \n",
        "    sent_ = [] \n",
        "    for char in sent: \n",
        "        if character_is_korean(char): \n",
        "            sent_.append(transform(char)) \n",
        "        else: \n",
        "            sent_.append(char) \n",
        "    sent_ = doublespace_pattern.sub(' ', ''.join(sent_)) \n",
        "    return sent_ \n",
        "        \n",
        "def jamo_to_word(jamo): \n",
        "    jamo_list, idx = [], 0 \n",
        "    while idx < len(jamo): \n",
        "        if not character_is_korean(jamo[idx]): \n",
        "            jamo_list.append(jamo[idx]) \n",
        "            idx += 1 \n",
        "        else: \n",
        "            jamo_list.append(jamo[idx:idx + 3]) \n",
        "            idx += 3 \n",
        "            \n",
        "    word = \"\" \n",
        "    for jamo_char in jamo_list: \n",
        "        if len(jamo_char) == 1: \n",
        "            word += jamo_char \n",
        "        elif jamo_char[2] == \"_\": \n",
        "            word += compose(jamo_char[0], jamo_char[1], \" \") \n",
        "        else: \n",
        "            word += compose(jamo_char[0], jamo_char[1], jamo_char[2]) \n",
        "            \n",
        "    return word\n",
        "\n",
        "# 출처: https://joyhong.tistory.com/137 [옳은 길로..]"
      ],
      "execution_count": null,
      "outputs": []
    },
    {
      "cell_type": "code",
      "metadata": {
        "id": "o7HZMI50Hdoa"
      },
      "source": [
        "X_train = X_train.apply(lambda row : jamo_sentence(str(row['comment'])).strip().split(\" \"), axis=1)\n",
        "X_test = X_test.apply(lambda row : jamo_sentence(str(row['comment'])).strip().split(\" \"), axis=1)"
      ],
      "execution_count": null,
      "outputs": []
    },
    {
      "cell_type": "code",
      "metadata": {
        "colab": {
          "base_uri": "https://localhost:8080/"
        },
        "id": "Rq1ZcoXFHdhI",
        "outputId": "ddc66782-a8de-4a6c-e59d-fb4956f32e48"
      },
      "source": [
        "X_train.head(10)"
      ],
      "execution_count": null,
      "outputs": [
        {
          "output_type": "execute_result",
          "data": {
            "text/plain": [
              "7959     [ㅎㅕㅇ!ㅍㅏ_ㅌㅡ_ㅋㅗ_ㅇㅣㄴ, ㅎㅐ_ㅂㅘ_!ㄹ__ㅇ__, ㅎㅏ_ㄹㅜ_ㅇㅔ_, 1cm]\n",
              "2712                                      [ㄲㅣ_ㅇㅜㄱ, ㅂㅓ_ㄹㅕ_]\n",
              "13606                        [ㅇㅘㅇ_ㅜ__ㅜ_, ㅊㅜㄱㅎㅏ_ㄷㅡ_ㄹㅕ_ㅇㅛ_💜]\n",
              "18062    [ㅋ__ㅋ__ㅋ__ㅋ__ㅋ__ㅋ__ㅋ__ㅋ__ㅋ__ㅋ__ㅋ__ㅋ__ㅋ__ㅋ__ㅋ__...\n",
              "113                [\", ㅋㅗㄹㄹㅏ_ㄹㅡㄹ, ㄷㅐ_ㅅㅣㄴㅎㅏㄹ, ㅅㅗ_ㅎㅘ_ㅈㅔ_, \"]\n",
              "10226              [ㅈㅗ_ㅎㅘ_ㅅㅜ_ㄴㅡㄴ, ㅇㅣㄹㄱㅐ_ㅇㅠ_ㅌㅠ_ㅂㅓ_ㄱㅣㄴ, ㅎㅏㅁ]\n",
              "3676             [ㅁㅓㅅㄷㅗ_ㅁㅗ_ㄹㅡ_ㄱㅗ_, ㅅㅣㄴㄴㅏㄹ, ㄴㅏ_ㅇㅣ_, ㅋ__ㅋ__]\n",
              "4663                                             [ㅇㅣㄱㅅㅜ_?]\n",
              "10882    [ㅎㅓㄹ, ㄱㅜ_ㄱㅡㄹosㄹㅏ_ㄴㅣ_, ㅇㅝ_ㅊㅣ_3, ㅇㅏㄴ, ㅅㅏ_ㄱㅣㄹ, ㅈㅏ...\n",
              "17947                      [ㅁㅏ_ㅈㅣ_ㅁㅏㄱ, ㅁㅝ_ㄴㅑ_ㄱㅗㅋㅋ__ㅋ__ㅋ__]\n",
              "dtype: object"
            ]
          },
          "metadata": {
            "tags": []
          },
          "execution_count": 22
        }
      ]
    },
    {
      "cell_type": "markdown",
      "metadata": {
        "id": "suxTSAxYj6JE"
      },
      "source": [
        "## 임베딩\n",
        "> 이제 임베딩을 해봅시다\n",
        "> 임베딩은 크게 3가지가 있었습니다.\n",
        "1. 모델을 세울때 임베딩 층을 넣는 것(이때는 주로 freeze 하지 않고 임베딩도 학습하게 합니다)\n",
        "2. gensim 의 Word2Vec, FastText 등 을 사용해서 pre-trained 시키고 그거 사용하기\n",
        "3. 온라인 상의 pre-trained 가져와서 하기."
      ]
    },
    {
      "cell_type": "markdown",
      "metadata": {
        "id": "jl-c3yqCTwS2"
      },
      "source": [
        "### 2. FastText로 pre-trained 시키고 이를 사용해서 embedding\n",
        "\n",
        "출처: https://joyhong.tistory.com/137"
      ]
    },
    {
      "cell_type": "markdown",
      "metadata": {
        "id": "OiMi2niRjRZ3"
      },
      "source": [
        "#### Merge Whole Data"
      ]
    },
    {
      "cell_type": "code",
      "metadata": {
        "id": "qpTOQuyhkVnK"
      },
      "source": [
        "from os import listdir\n",
        "from os.path import isfile, join"
      ],
      "execution_count": null,
      "outputs": []
    },
    {
      "cell_type": "code",
      "metadata": {
        "colab": {
          "base_uri": "https://localhost:8080/"
        },
        "id": "1jqsN5OHjRKf",
        "outputId": "02b5424b-569e-4ac3-ee39-bd4172931d19"
      },
      "source": [
        "data_DIR = \"/content/drive/Shareddrives/[GH x Sandbox]/train/\"\n",
        "file_name_num = [4,5,6,7,9,10,11,12,13,14,15,16,17,18,19,20,21,23,25,51]\n",
        "\n",
        "files = [f for f in listdir(data_DIR) if isfile(join(data_DIR, f))]\n",
        "video_stats = [f for f in files if '.csv' in f and 'video' in f]\n",
        "files = [f for f in files if '.csv' in f and 'comments' in f]\n",
        "print(files)\n",
        "\n",
        "df_dict = dict()\n",
        "for file_name in tqdm(files):\n",
        "    comment_name = file_name.split('.')[0]\n",
        "    df = pd.read_csv(data_DIR + file_name, lineterminator='\\n')\n",
        "\n",
        "    df_dict[comment_name] = df"
      ],
      "execution_count": null,
      "outputs": [
        {
          "output_type": "stream",
          "text": [
            "['comments_6.csv', 'comments_4.csv', 'comments_5.csv', 'comments_11.csv', 'comments_7.csv', 'comments_9.csv', 'comments_10.csv', 'comments_12.csv', 'comments_13.csv', 'comments_14.csv', 'comments_16.csv', 'comments_15.csv', 'comments_17.csv', 'comments_18.csv', 'comments_19.csv', 'comments_20.csv', 'comments_21.csv', 'comments_23.csv', 'comments_25.csv', 'comments_51.csv']\n"
          ],
          "name": "stdout"
        },
        {
          "output_type": "stream",
          "text": [
            "100%|██████████| 20/20 [00:08<00:00,  2.40it/s]\n"
          ],
          "name": "stderr"
        }
      ]
    },
    {
      "cell_type": "code",
      "metadata": {
        "colab": {
          "base_uri": "https://localhost:8080/",
          "height": 679
        },
        "id": "9vqo_qhLjRGt",
        "outputId": "2bae9900-d3c7-4608-e213-f5b4b1c453ba"
      },
      "source": [
        "whole_df = pd.DataFrame(columns=df_dict['comments_4'].columns)\n",
        "\n",
        "for category, df in df_dict.items():\n",
        "    df['category_id'] = int(category.split('_')[1])\n",
        "    whole_df = pd.concat([whole_df, df], ignore_index=True)\n",
        "\n",
        "whole_df.tail(10)"
      ],
      "execution_count": null,
      "outputs": [
        {
          "output_type": "execute_result",
          "data": {
            "text/html": [
              "<div>\n",
              "<style scoped>\n",
              "    .dataframe tbody tr th:only-of-type {\n",
              "        vertical-align: middle;\n",
              "    }\n",
              "\n",
              "    .dataframe tbody tr th {\n",
              "        vertical-align: top;\n",
              "    }\n",
              "\n",
              "    .dataframe thead th {\n",
              "        text-align: right;\n",
              "    }\n",
              "</style>\n",
              "<table border=\"1\" class=\"dataframe\">\n",
              "  <thead>\n",
              "    <tr style=\"text-align: right;\">\n",
              "      <th></th>\n",
              "      <th>ch_id</th>\n",
              "      <th>ch_title</th>\n",
              "      <th>vid_id</th>\n",
              "      <th>vid_title</th>\n",
              "      <th>comment</th>\n",
              "      <th>likes</th>\n",
              "      <th>reply</th>\n",
              "      <th>published_at</th>\n",
              "      <th>author</th>\n",
              "      <th>category_id</th>\n",
              "    </tr>\n",
              "  </thead>\n",
              "  <tbody>\n",
              "    <tr>\n",
              "      <th>1136000</th>\n",
              "      <td>UCta_NRwnsUaew0t3VNxBNyg</td>\n",
              "      <td>김재원의 즐거운 세상</td>\n",
              "      <td>vZrDo5p6uQk</td>\n",
              "      <td>오버워치에서 재연된 무야호   (즐겜워치 33)</td>\n",
              "      <td>그만큼 옵치가 ㅈ같다는거지~</td>\n",
              "      <td>1</td>\n",
              "      <td>0</td>\n",
              "      <td>2021-03-15T07:05:17Z</td>\n",
              "      <td>UC-hv6fiWQICYeWTIS2NDY2A</td>\n",
              "      <td>51.0</td>\n",
              "    </tr>\n",
              "    <tr>\n",
              "      <th>1136001</th>\n",
              "      <td>UCta_NRwnsUaew0t3VNxBNyg</td>\n",
              "      <td>김재원의 즐거운 세상</td>\n",
              "      <td>vZrDo5p6uQk</td>\n",
              "      <td>오버워치에서 재연된 무야호   (즐겜워치 33)</td>\n",
              "      <td>재원님은겐지잘못함</td>\n",
              "      <td>0</td>\n",
              "      <td>0</td>\n",
              "      <td>2021-03-15T08:14:22Z</td>\n",
              "      <td>UCji---Vne7SzpzvS47UI3gA</td>\n",
              "      <td>51.0</td>\n",
              "    </tr>\n",
              "    <tr>\n",
              "      <th>1136002</th>\n",
              "      <td>UCta_NRwnsUaew0t3VNxBNyg</td>\n",
              "      <td>김재원의 즐거운 세상</td>\n",
              "      <td>vZrDo5p6uQk</td>\n",
              "      <td>오버워치에서 재연된 무야호   (즐겜워치 33)</td>\n",
              "      <td>옵치 요즘 누가하냐 그 망겜</td>\n",
              "      <td>0</td>\n",
              "      <td>0</td>\n",
              "      <td>2021-03-15T11:08:20Z</td>\n",
              "      <td>UC113nO4yxrgEn1dZ2uTIJDA</td>\n",
              "      <td>51.0</td>\n",
              "    </tr>\n",
              "    <tr>\n",
              "      <th>1136003</th>\n",
              "      <td>UCta_NRwnsUaew0t3VNxBNyg</td>\n",
              "      <td>김재원의 즐거운 세상</td>\n",
              "      <td>vZrDo5p6uQk</td>\n",
              "      <td>오버워치에서 재연된 무야호   (즐겜워치 33)</td>\n",
              "      <td>그만큼~그만큼하다는 거지~</td>\n",
              "      <td>2</td>\n",
              "      <td>0</td>\n",
              "      <td>2021-03-15T07:01:54Z</td>\n",
              "      <td>UC9ic-Qk9G5xwYGt3-C2QEzw</td>\n",
              "      <td>51.0</td>\n",
              "    </tr>\n",
              "    <tr>\n",
              "      <th>1136004</th>\n",
              "      <td>UCta_NRwnsUaew0t3VNxBNyg</td>\n",
              "      <td>김재원의 즐거운 세상</td>\n",
              "      <td>vZrDo5p6uQk</td>\n",
              "      <td>오버워치에서 재연된 무야호   (즐겜워치 33)</td>\n",
              "      <td>무가 산에가서 하는말은?!?!?!?!?!?\\n\\n\\n\\n\\n\\n무는 말을 못합니다 ...</td>\n",
              "      <td>1</td>\n",
              "      <td>1</td>\n",
              "      <td>2021-03-15T07:03:36Z</td>\n",
              "      <td>UCLeHgPUSrnGE2Doa2q_1Ucg</td>\n",
              "      <td>51.0</td>\n",
              "    </tr>\n",
              "    <tr>\n",
              "      <th>1136005</th>\n",
              "      <td>UCta_NRwnsUaew0t3VNxBNyg</td>\n",
              "      <td>김재원의 즐거운 세상</td>\n",
              "      <td>vZrDo5p6uQk</td>\n",
              "      <td>오버워치에서 재연된 무야호   (즐겜워치 33)</td>\n",
              "      <td>김재원 나보다 겐지 못하네</td>\n",
              "      <td>0</td>\n",
              "      <td>0</td>\n",
              "      <td>2021-03-15T07:36:41Z</td>\n",
              "      <td>UC5VPuBYusc_OSmsHsmqx7XQ</td>\n",
              "      <td>51.0</td>\n",
              "    </tr>\n",
              "    <tr>\n",
              "      <th>1136006</th>\n",
              "      <td>UCta_NRwnsUaew0t3VNxBNyg</td>\n",
              "      <td>김재원의 즐거운 세상</td>\n",
              "      <td>vZrDo5p6uQk</td>\n",
              "      <td>오버워치에서 재연된 무야호   (즐겜워치 33)</td>\n",
              "      <td>자세히 보기를 누르지마세요\\n\\n\\n\\n\\n\\n\\n\\n\\n\\n\\n\\n\\n\\n\\n\\n...</td>\n",
              "      <td>0</td>\n",
              "      <td>0</td>\n",
              "      <td>2021-03-15T07:22:09Z</td>\n",
              "      <td>UCDsaz5jOHrveeAbiv3swOAw</td>\n",
              "      <td>51.0</td>\n",
              "    </tr>\n",
              "    <tr>\n",
              "      <th>1136007</th>\n",
              "      <td>UCta_NRwnsUaew0t3VNxBNyg</td>\n",
              "      <td>김재원의 즐거운 세상</td>\n",
              "      <td>vZrDo5p6uQk</td>\n",
              "      <td>오버워치에서 재연된 무야호   (즐겜워치 33)</td>\n",
              "      <td>나구독하면 여친생김</td>\n",
              "      <td>1</td>\n",
              "      <td>1</td>\n",
              "      <td>2021-03-15T07:02:26Z</td>\n",
              "      <td>UC5hkMEIYcO7iLrn1A1XLm-g</td>\n",
              "      <td>51.0</td>\n",
              "    </tr>\n",
              "    <tr>\n",
              "      <th>1136008</th>\n",
              "      <td>UCta_NRwnsUaew0t3VNxBNyg</td>\n",
              "      <td>김재원의 즐거운 세상</td>\n",
              "      <td>vZrDo5p6uQk</td>\n",
              "      <td>오버워치에서 재연된 무야호   (즐겜워치 33)</td>\n",
              "      <td>재원님 항상 재미있는 영상 만들어 주세요</td>\n",
              "      <td>2</td>\n",
              "      <td>0</td>\n",
              "      <td>2021-03-15T07:01:15Z</td>\n",
              "      <td>UCaaGJ1KOTbvOH4nh-PCzCEA</td>\n",
              "      <td>51.0</td>\n",
              "    </tr>\n",
              "    <tr>\n",
              "      <th>1136009</th>\n",
              "      <td>UCta_NRwnsUaew0t3VNxBNyg</td>\n",
              "      <td>김재원의 즐거운 세상</td>\n",
              "      <td>vZrDo5p6uQk</td>\n",
              "      <td>오버워치에서 재연된 무야호   (즐겜워치 33)</td>\n",
              "      <td>재원 님 이제 유튜브 그만하시고 접어 보는게 좋을 거 같아요</td>\n",
              "      <td>1</td>\n",
              "      <td>1</td>\n",
              "      <td>2021-03-16T08:09:53Z</td>\n",
              "      <td>UCei5go7g5HpvJIAWhl7MQWg</td>\n",
              "      <td>51.0</td>\n",
              "    </tr>\n",
              "  </tbody>\n",
              "</table>\n",
              "</div>"
            ],
            "text/plain": [
              "                            ch_id  ... category_id\n",
              "1136000  UCta_NRwnsUaew0t3VNxBNyg  ...        51.0\n",
              "1136001  UCta_NRwnsUaew0t3VNxBNyg  ...        51.0\n",
              "1136002  UCta_NRwnsUaew0t3VNxBNyg  ...        51.0\n",
              "1136003  UCta_NRwnsUaew0t3VNxBNyg  ...        51.0\n",
              "1136004  UCta_NRwnsUaew0t3VNxBNyg  ...        51.0\n",
              "1136005  UCta_NRwnsUaew0t3VNxBNyg  ...        51.0\n",
              "1136006  UCta_NRwnsUaew0t3VNxBNyg  ...        51.0\n",
              "1136007  UCta_NRwnsUaew0t3VNxBNyg  ...        51.0\n",
              "1136008  UCta_NRwnsUaew0t3VNxBNyg  ...        51.0\n",
              "1136009  UCta_NRwnsUaew0t3VNxBNyg  ...        51.0\n",
              "\n",
              "[10 rows x 10 columns]"
            ]
          },
          "metadata": {
            "tags": []
          },
          "execution_count": 78
        }
      ]
    },
    {
      "cell_type": "code",
      "metadata": {
        "colab": {
          "base_uri": "https://localhost:8080/"
        },
        "id": "MA3ElEGbjRC8",
        "outputId": "772e8d61-b5e9-4de3-a98c-ce8c4de64643"
      },
      "source": [
        "len(whole_df)"
      ],
      "execution_count": null,
      "outputs": [
        {
          "output_type": "execute_result",
          "data": {
            "text/plain": [
              "1136010"
            ]
          },
          "metadata": {
            "tags": []
          },
          "execution_count": 79
        }
      ]
    },
    {
      "cell_type": "markdown",
      "metadata": {
        "id": "Utvl1In0jU-J"
      },
      "source": [
        "#### Fast Text Modeling"
      ]
    },
    {
      "cell_type": "code",
      "metadata": {
        "id": "tX9Cbj_iTvwB"
      },
      "source": [
        "from gensim.models import FastText"
      ],
      "execution_count": null,
      "outputs": []
    },
    {
      "cell_type": "code",
      "metadata": {
        "colab": {
          "base_uri": "https://localhost:8080/",
          "height": 35
        },
        "id": "x8hsC2t3y-DX",
        "outputId": "9ab30d35-fcb7-49ed-bb1e-99e4547b92ff"
      },
      "source": [
        "whole_df['comment'][4]"
      ],
      "execution_count": null,
      "outputs": [
        {
          "output_type": "execute_result",
          "data": {
            "application/vnd.google.colaboratory.intrinsic+json": {
              "type": "string"
            },
            "text/plain": [
              "'5:31 이러다가 서명호 나중에 캐럿들은 정말 유난스러운 존재에요 이러면 어떡함'"
            ]
          },
          "metadata": {
            "tags": []
          },
          "execution_count": 81
        }
      ]
    },
    {
      "cell_type": "code",
      "metadata": {
        "colab": {
          "base_uri": "https://localhost:8080/",
          "height": 449,
          "referenced_widgets": [
            "88046fd6f9f040e29d9fcf62998d5f6d",
            "5dd5fe1522af4f78acc66b21fc73fa5c",
            "c4f102b907ce4dcaa78f62bd296d451f",
            "32fcd1e5f508481d8c4342ef51e55fa9",
            "97c1b0e660004b0eaefd1c4aa35111bc",
            "6f6fd577caed4bc8aad13708b56199b3",
            "e6069c0934144ae880f3cffcec55a981",
            "6fe3e6898be34010ad276b3f418ad67a"
          ]
        },
        "id": "PepQJ8aNlxf-",
        "outputId": "345a40c7-da68-47a4-c930-bd76eb6d92e3"
      },
      "source": [
        "whole_comment_df = whole_df[['comment']]\n",
        "whole_comment_df = delete_time_stamp(whole_comment_df)\n",
        "whole_comment_df.head(10)"
      ],
      "execution_count": null,
      "outputs": [
        {
          "output_type": "stream",
          "text": [
            "/usr/local/lib/python3.7/dist-packages/ipykernel_launcher.py:5: TqdmDeprecationWarning: This function will be removed in tqdm==5.0.0\n",
            "Please use `tqdm.notebook.tqdm` instead of `tqdm.tqdm_notebook`\n",
            "  \"\"\"\n"
          ],
          "name": "stderr"
        },
        {
          "output_type": "display_data",
          "data": {
            "application/vnd.jupyter.widget-view+json": {
              "model_id": "88046fd6f9f040e29d9fcf62998d5f6d",
              "version_minor": 0,
              "version_major": 2
            },
            "text/plain": [
              "HBox(children=(FloatProgress(value=1.0, bar_style='info', max=1.0), HTML(value='')))"
            ]
          },
          "metadata": {
            "tags": []
          }
        },
        {
          "output_type": "stream",
          "text": [
            "\n"
          ],
          "name": "stdout"
        },
        {
          "output_type": "execute_result",
          "data": {
            "text/html": [
              "<div>\n",
              "<style scoped>\n",
              "    .dataframe tbody tr th:only-of-type {\n",
              "        vertical-align: middle;\n",
              "    }\n",
              "\n",
              "    .dataframe tbody tr th {\n",
              "        vertical-align: top;\n",
              "    }\n",
              "\n",
              "    .dataframe thead th {\n",
              "        text-align: right;\n",
              "    }\n",
              "</style>\n",
              "<table border=\"1\" class=\"dataframe\">\n",
              "  <thead>\n",
              "    <tr style=\"text-align: right;\">\n",
              "      <th></th>\n",
              "      <th>comment</th>\n",
              "    </tr>\n",
              "  </thead>\n",
              "  <tbody>\n",
              "    <tr>\n",
              "      <th>0</th>\n",
              "      <td>아니 정한이 숙소 창문에 x자 대문짝만하게 테이프 붙여놓은거 K 아이돌 - 창문이라...</td>\n",
              "    </tr>\n",
              "    <tr>\n",
              "      <th>1</th>\n",
              "      <td>아니 심지어 그 방 윤정한방 창문이 아니라 이지훈방 창문아님 ? ㅋㄲㅋㄱㅋㄱㅋㅋㅋㄱ...</td>\n",
              "    </tr>\n",
              "    <tr>\n",
              "      <th>2</th>\n",
              "      <td>이거이거 조사를 열심히 하신건지 이거 캐럿아니면 이렇게 할 수가 없는데..?애들 선...</td>\n",
              "    </tr>\n",
              "    <tr>\n",
              "      <th>3</th>\n",
              "      <td>민규랑 정한이 비주얼합 좋은거 알고있었지만 이렇게 보니까 진짜최고네ㅠㅠㅠㅠㅠ 원우랑...</td>\n",
              "    </tr>\n",
              "    <tr>\n",
              "      <th>4</th>\n",
              "      <td>이러다가 서명호 나중에 캐럿들은 정말 유난스러운 존재에요 이러면 어떡함</td>\n",
              "    </tr>\n",
              "    <tr>\n",
              "      <th>5</th>\n",
              "      <td>김민규가 살아 움직인다는것에 감사함을 느낌... 민규야ㅠㅠㅠ</td>\n",
              "    </tr>\n",
              "    <tr>\n",
              "      <th>6</th>\n",
              "      <td>너무 웃어서 광대가 아프다...ㅋㅋㅋㄲㅋㅋㅋㅋㅋ뭔가 저 조합 은은하게 웃겨서 더 재...</td>\n",
              "    </tr>\n",
              "    <tr>\n",
              "      <th>7</th>\n",
              "      <td>다들 느꼈구나... 이 영상에서 찐한 캐럿의 향기가 나는걸...ㅋㅋㅋㅋㅋㅋㅋㅋㅋㅋㅋ...</td>\n",
              "    </tr>\n",
              "    <tr>\n",
              "      <th>8</th>\n",
              "      <td>캐럿들💎 줌터뷰뿐만 아니라 입틀막하게 만드는 디지털 필름 영상도 남았으니 ,, 세븐...</td>\n",
              "    </tr>\n",
              "    <tr>\n",
              "      <th>9</th>\n",
              "      <td>디에잇 섹시해. 나 미쳐 어쩜좋아. \\n명호 머리 깐거 진짜 진리다.</td>\n",
              "    </tr>\n",
              "  </tbody>\n",
              "</table>\n",
              "</div>"
            ],
            "text/plain": [
              "                                             comment\n",
              "0  아니 정한이 숙소 창문에 x자 대문짝만하게 테이프 붙여놓은거 K 아이돌 - 창문이라...\n",
              "1  아니 심지어 그 방 윤정한방 창문이 아니라 이지훈방 창문아님 ? ㅋㄲㅋㄱㅋㄱㅋㅋㅋㄱ...\n",
              "2  이거이거 조사를 열심히 하신건지 이거 캐럿아니면 이렇게 할 수가 없는데..?애들 선...\n",
              "3  민규랑 정한이 비주얼합 좋은거 알고있었지만 이렇게 보니까 진짜최고네ㅠㅠㅠㅠㅠ 원우랑...\n",
              "4            이러다가 서명호 나중에 캐럿들은 정말 유난스러운 존재에요 이러면 어떡함\n",
              "5                  김민규가 살아 움직인다는것에 감사함을 느낌... 민규야ㅠㅠㅠ\n",
              "6  너무 웃어서 광대가 아프다...ㅋㅋㅋㄲㅋㅋㅋㅋㅋ뭔가 저 조합 은은하게 웃겨서 더 재...\n",
              "7  다들 느꼈구나... 이 영상에서 찐한 캐럿의 향기가 나는걸...ㅋㅋㅋㅋㅋㅋㅋㅋㅋㅋㅋ...\n",
              "8  캐럿들💎 줌터뷰뿐만 아니라 입틀막하게 만드는 디지털 필름 영상도 남았으니 ,, 세븐...\n",
              "9             디에잇 섹시해. 나 미쳐 어쩜좋아. \\n명호 머리 깐거 진짜 진리다."
            ]
          },
          "metadata": {
            "tags": []
          },
          "execution_count": 82
        }
      ]
    },
    {
      "cell_type": "code",
      "metadata": {
        "colab": {
          "base_uri": "https://localhost:8080/"
        },
        "id": "xkLb1o3RXoUe",
        "outputId": "09914cc0-5880-4d51-8efa-2643a50f44d7"
      },
      "source": [
        "corpus = whole_comment_df.apply(lambda row : jamo_sentence(str(row['comment'])), axis=1)\n",
        "corpus = [sent.strip().split(\" \") for sent in corpus]\n",
        "corpus[:10]"
      ],
      "execution_count": null,
      "outputs": [
        {
          "output_type": "execute_result",
          "data": {
            "text/plain": [
              "[['ㅇㅏ_ㄴㅣ_',\n",
              "  'ㅈㅓㅇㅎㅏㄴㅇㅣ_',\n",
              "  'ㅅㅜㄱㅅㅗ_',\n",
              "  'ㅊㅏㅇㅁㅜㄴㅇㅔ_',\n",
              "  'xㅈㅏ_',\n",
              "  'ㄷㅐ_ㅁㅜㄴㅉㅏㄱㅁㅏㄴㅎㅏ_ㄱㅔ_',\n",
              "  'ㅌㅔ_ㅇㅣ_ㅍㅡ_',\n",
              "  'ㅂㅜㅌㅇㅕ_ㄴㅗㅎㅇㅡㄴㄱㅓ_',\n",
              "  'K',\n",
              "  'ㅇㅏ_ㅇㅣ_ㄷㅗㄹ',\n",
              "  '-',\n",
              "  'ㅊㅏㅇㅁㅜㄴㅇㅣ_ㄹㅏ_ㄱㅗ_',\n",
              "  'ㅇㅣㄴㅌㅓ_ㄴㅔㅅㅇㅔ_',\n",
              "  'ㄷㅗ_ㄴㅡㄴㄱㅓ_',\n",
              "  'ㅂㅗ_ㄱㅗ_',\n",
              "  'ㅃㅏㅇㅌㅓ_ㅈㅣㅁ',\n",
              "  'ㅋ__ㅋ__ㅋ__ㅋ__ㅋ__ㅋ__ㅋ__ㅋ__ㅋ__ㅋ__ㅋ__ㅋ__ㅋ__ㅋ__ㅋ__'],\n",
              " ['ㅇㅏ_ㄴㅣ_',\n",
              "  'ㅅㅣㅁㅈㅣ_ㅇㅓ_',\n",
              "  'ㄱㅡ_',\n",
              "  'ㅂㅏㅇ',\n",
              "  'ㅇㅠㄴㅈㅓㅇㅎㅏㄴㅂㅏㅇ',\n",
              "  'ㅊㅏㅇㅁㅜㄴㅇㅣ_',\n",
              "  'ㅇㅏ_ㄴㅣ_ㄹㅏ_',\n",
              "  'ㅇㅣ_ㅈㅣ_ㅎㅜㄴㅂㅏㅇ',\n",
              "  'ㅊㅏㅇㅁㅜㄴㅇㅏ_ㄴㅣㅁ',\n",
              "  '?',\n",
              "  'ㅋ__ㄲ__ㅋ__ㄱ__ㅋ__ㄱ__ㅋ__ㅋ__ㅋ__ㄱ__ㅋ__ㄱ__ㅋ__ㄱ__ㅋ__ㄱ__'],\n",
              " ['ㅇㅣ_ㄱㅓ_ㅇㅣ_ㄱㅓ_',\n",
              "  'ㅈㅗ_ㅅㅏ_ㄹㅡㄹ',\n",
              "  'ㅇㅕㄹㅅㅣㅁㅎㅣ_',\n",
              "  'ㅎㅏ_ㅅㅣㄴㄱㅓㄴㅈㅣ_',\n",
              "  'ㅇㅣ_ㄱㅓ_',\n",
              "  'ㅋㅐ_ㄹㅓㅅㅇㅏ_ㄴㅣ_ㅁㅕㄴ',\n",
              "  'ㅇㅣ_ㄹㅓㅎㄱㅔ_',\n",
              "  'ㅎㅏㄹ',\n",
              "  'ㅅㅜ_ㄱㅏ_',\n",
              "  'ㅇㅓㅄㄴㅡㄴㄷㅔ_..?ㅇㅐ_ㄷㅡㄹ',\n",
              "  'ㅅㅓㄴㅁㅜㄹㄷㅗ_',\n",
              "  'ㅇㅘㄴㅈㅓㄴ',\n",
              "  'ㅁㅏㅈㅊㅜㅁㅇㅣ_ㄱㅗ_',\n",
              "  'ㅁㅣㄴㄱㅠ_',\n",
              "  'ㅇㅕ_ㄱㅣ_ㅅㅓ_ㄷㅗ_',\n",
              "  'ㅍㅕㄴㅈㅣㅂㅈㅓㅁㅋ__ㅋ__ㅋ__ㅋ__ㅋ__ㅋ__ㅋ__ㅋ__ㅋ__ㅋ__ㅋ__ㅋ__ㅋ__ㅋ__ㅋ__ㅋ__ㅋ__ㅋ__',\n",
              "  'ㅋ__ㅇㅜ_ㄹㅣ_',\n",
              "  'ㅇㅐ_ㄷㅡㄹ',\n",
              "  'ㅇㅣ_ㅃㅡ_ㄱㅔ_',\n",
              "  'ㅉㅣㄱㅇㅓ_ㅈㅜ_ㅅㅣ_ㄱㅗ_',\n",
              "  'ㅇㅣㄴㅌㅓ_ㅂㅠ_',\n",
              "  'ㅎㅐ_ㅈㅜ_ㅅㅕ_ㅅㅓ_',\n",
              "  'ㄱㅏㅁㅅㅏ_ㅎㅐ_ㅇㅛㅇ',\n",
              "  'ㅋㅗ_ㅅㅡ_ㅁㅗ_ㅍㅗㄹㄹㅣ_ㅌㅏㄴ',\n",
              "  'ㅊㅚ_ㄱㅗ_❣️'],\n",
              " ['ㅁㅣㄴㄱㅠ_ㄹㅏㅇ',\n",
              "  'ㅈㅓㅇㅎㅏㄴㅇㅣ_',\n",
              "  'ㅂㅣ_ㅈㅜ_ㅇㅓㄹㅎㅏㅂ',\n",
              "  'ㅈㅗㅎㅇㅡㄴㄱㅓ_',\n",
              "  'ㅇㅏㄹㄱㅗ_ㅇㅣㅆㅇㅓㅆㅈㅣ_ㅁㅏㄴ',\n",
              "  'ㅇㅣ_ㄹㅓㅎㄱㅔ_',\n",
              "  'ㅂㅗ_ㄴㅣ_ㄲㅏ_',\n",
              "  'ㅈㅣㄴㅉㅏ_ㅊㅚ_ㄱㅗ_ㄴㅔ__ㅠ__ㅠ__ㅠ__ㅠ__ㅠ_',\n",
              "  'ㅇㅝㄴㅇㅜ_ㄹㅏㅇ',\n",
              "  'ㅁㅕㅇㅎㅗ_ㄷㅗ_',\n",
              "  'ㅈㅏㄹㅅㅐㅇㄱㅕㅆㄱㅗ__ㅠ__ㅠ__ㅠ__ㅜ__ㅠ__ㅠ__ㅠ_'],\n",
              " ['ㅇㅣ_ㄹㅓ_ㄷㅏ_ㄱㅏ_',\n",
              "  'ㅅㅓ_ㅁㅕㅇㅎㅗ_',\n",
              "  'ㄴㅏ_ㅈㅜㅇㅇㅔ_',\n",
              "  'ㅋㅐ_ㄹㅓㅅㄷㅡㄹㅇㅡㄴ',\n",
              "  'ㅈㅓㅇㅁㅏㄹ',\n",
              "  'ㅇㅠ_ㄴㅏㄴㅅㅡ_ㄹㅓ_ㅇㅜㄴ',\n",
              "  'ㅈㅗㄴㅈㅐ_ㅇㅔ_ㅇㅛ_',\n",
              "  'ㅇㅣ_ㄹㅓ_ㅁㅕㄴ',\n",
              "  'ㅇㅓ_ㄸㅓㄱㅎㅏㅁ'],\n",
              " ['ㄱㅣㅁㅁㅣㄴㄱㅠ_ㄱㅏ_',\n",
              "  'ㅅㅏㄹㅇㅏ_',\n",
              "  'ㅇㅜㅁㅈㅣㄱㅇㅣㄴㄷㅏ_ㄴㅡㄴㄱㅓㅅㅇㅔ_',\n",
              "  'ㄱㅏㅁㅅㅏ_ㅎㅏㅁㅇㅡㄹ',\n",
              "  'ㄴㅡ_ㄲㅣㅁ...',\n",
              "  'ㅁㅣㄴㄱㅠ_ㅇㅑ__ㅠ__ㅠ__ㅠ_'],\n",
              " ['ㄴㅓ_ㅁㅜ_',\n",
              "  'ㅇㅜㅅㅇㅓ_ㅅㅓ_',\n",
              "  'ㄱㅘㅇㄷㅐ_ㄱㅏ_',\n",
              "  'ㅇㅏ_ㅍㅡ_ㄷㅏ_...ㅋ__ㅋ__ㅋ__ㄲ__ㅋ__ㅋ__ㅋ__ㅋ__ㅋ__ㅁㅝㄴㄱㅏ_',\n",
              "  'ㅈㅓ_',\n",
              "  'ㅈㅗ_ㅎㅏㅂ',\n",
              "  'ㅇㅡㄴㅇㅡㄴㅎㅏ_ㄱㅔ_',\n",
              "  'ㅇㅜㅅㄱㅕ_ㅅㅓ_',\n",
              "  'ㄷㅓ_',\n",
              "  'ㅈㅐ_ㅁㅣㅆㅇㅡㅁㅋ__ㅋ__ㅋ__ㅋ__ㅋ__ㅋ__ㅋ__'],\n",
              " ['ㄷㅏ_ㄷㅡㄹ',\n",
              "  'ㄴㅡ_ㄲㅕㅆㄱㅜ_ㄴㅏ_...',\n",
              "  'ㅇㅣ_',\n",
              "  'ㅇㅕㅇㅅㅏㅇㅇㅔ_ㅅㅓ_',\n",
              "  'ㅉㅣㄴㅎㅏㄴ',\n",
              "  'ㅋㅐ_ㄹㅓㅅㅇㅢ_',\n",
              "  'ㅎㅑㅇㄱㅣ_ㄱㅏ_',\n",
              "  'ㄴㅏ_ㄴㅡㄴㄱㅓㄹ...ㅋ__ㅋ__ㅋ__ㅋ__ㅋ__ㅋ__ㅋ__ㅋ__ㅋ__ㅋ__ㅋ__ㅋ__ㅋ__ㅋ__ㅋ__ㅋ__ㅋ__ㅋ__ㅋ__'],\n",
              " ['ㅋㅐ_ㄹㅓㅅㄷㅡㄹ💎',\n",
              "  'ㅈㅜㅁㅌㅓ_ㅂㅠ_ㅃㅜㄴㅁㅏㄴ',\n",
              "  'ㅇㅏ_ㄴㅣ_ㄹㅏ_',\n",
              "  'ㅇㅣㅂㅌㅡㄹㅁㅏㄱㅎㅏ_ㄱㅔ_',\n",
              "  'ㅁㅏㄴㄷㅡ_ㄴㅡㄴ',\n",
              "  'ㄷㅣ_ㅈㅣ_ㅌㅓㄹ',\n",
              "  'ㅍㅣㄹㄹㅡㅁ',\n",
              "  'ㅇㅕㅇㅅㅏㅇㄷㅗ_',\n",
              "  'ㄴㅏㅁㅇㅏㅆㅇㅡ_ㄴㅣ_',\n",
              "  ',,',\n",
              "  'ㅅㅔ_ㅂㅡㄴㅌㅣㄴXㅋㅗ_ㅅㅡ_ㅁㅗ_ㅍㅗㄹㄹㅣ_ㅌㅏㄴ',\n",
              "  'ㅈㅗ_ㅎㅏㅂ',\n",
              "  'ㅇㅣㅀㅈㅣ_',\n",
              "  'ㅁㅏㄹㄹㅏ_ㄱㅜ_ㅇㅛ_!(ㅎㅘ_ㅂㅗ_ㄷㅗ_',\n",
              "  'ㅁㅏㄶㅇㅣ_',\n",
              "  'ㅅㅏ_ㄹㅏㅇㅎㅐ_ㅈㅜ_ㅅㅣ_ㄱㅜ_',\n",
              "  ',,,',\n",
              "  'Bㅋㅓㅅㄷㅗ_',\n",
              "  'ㄴㅏㅁㅇㅏㅆㅇㅓ_ㅇㅛ_',\n",
              "  ',,,',\n",
              "  'ㅅㅗㄱㄷㅏㄱ)',\n",
              "  'ㅇㅕㅇㅅㅏㅇ',\n",
              "  'ㅂㅗ_ㄱㅗ_',\n",
              "  'ㄱㅏ_ㅅㅣ_ㄴㅡㄴ',\n",
              "  'ㄱㅣㄹㅇㅔ_',\n",
              "  'ㅋㅗ_ㅅㅡ_ㅁㅗ_ㅍㅗㄹㄹㅣ_ㅌㅏㄴ',\n",
              "  'ㅇㅠ_ㅋㅠ_ㅂㅡ_',\n",
              "  'ㄱㅜ_ㄷㅗㄱ',\n",
              "  'ㄲㅜ_ㅇㅜㄱ',\n",
              "  ',,,',\n",
              "  'ㄴㅜㄹㄹㅓ_ㅈㅝ_ㅇㅛ_\\U0001f90d'],\n",
              " ['ㄷㅣ_ㅇㅔ_ㅇㅣㅅ',\n",
              "  'ㅅㅔㄱㅅㅣ_ㅎㅐ_.',\n",
              "  'ㄴㅏ_',\n",
              "  'ㅁㅣ_ㅊㅕ_',\n",
              "  'ㅇㅓ_ㅉㅓㅁㅈㅗㅎㅇㅏ_.',\n",
              "  'ㅁㅕㅇㅎㅗ_',\n",
              "  'ㅁㅓ_ㄹㅣ_',\n",
              "  'ㄲㅏㄴㄱㅓ_',\n",
              "  'ㅈㅣㄴㅉㅏ_',\n",
              "  'ㅈㅣㄴㄹㅣ_ㄷㅏ_.']]"
            ]
          },
          "metadata": {
            "tags": []
          },
          "execution_count": 83
        }
      ]
    },
    {
      "cell_type": "code",
      "metadata": {
        "id": "v3hDXs_0Tvls"
      },
      "source": [
        "model = FastText(size=100, window=3, min_count=3, workers=4, sg=1)\n",
        "model.build_vocab(sentences=corpus)\n",
        "model.train(\n",
        "    sentences=corpus, epochs=model.epochs,\n",
        "    total_examples=model.corpus_count, total_words=model.corpus_total_words,\n",
        ")"
      ],
      "execution_count": null,
      "outputs": []
    },
    {
      "cell_type": "code",
      "metadata": {
        "id": "dYOUnRkUnTWf"
      },
      "source": [
        "# save model\n",
        "model_fDIR = \"/content/drive/MyDrive/GH/SandBoxProject/210524_DL/\"\n",
        "model.save(model_fDIR + 'fasttext')\n",
        "model.wv.save_word2vec_format(model_fDIR + 'fasttext_vis')"
      ],
      "execution_count": null,
      "outputs": []
    },
    {
      "cell_type": "code",
      "metadata": {
        "colab": {
          "base_uri": "https://localhost:8080/"
        },
        "id": "zmqa3NbUTvbw",
        "outputId": "8f543cbf-3c72-442d-9f66-f8d8c36eb2b8"
      },
      "source": [
        "print(model.wv)"
      ],
      "execution_count": null,
      "outputs": [
        {
          "output_type": "stream",
          "text": [
            "<gensim.models.keyedvectors.FastTextKeyedVectors object at 0x7f58581f77d0>\n"
          ],
          "name": "stdout"
        }
      ]
    },
    {
      "cell_type": "code",
      "metadata": {
        "colab": {
          "base_uri": "https://localhost:8080/"
        },
        "id": "9s9XGjr2XVrA",
        "outputId": "67edad0e-6d2c-4684-9232-dd9dbcdca30f"
      },
      "source": [
        "model.wv.vectors.shape"
      ],
      "execution_count": null,
      "outputs": [
        {
          "output_type": "execute_result",
          "data": {
            "text/plain": [
              "(283367, 100)"
            ]
          },
          "metadata": {
            "tags": []
          },
          "execution_count": 87
        }
      ]
    },
    {
      "cell_type": "markdown",
      "metadata": {
        "id": "C_d6tKHIeyXL"
      },
      "source": [
        "#### embedding 성능 test"
      ]
    },
    {
      "cell_type": "code",
      "metadata": {
        "id": "0wnjmhGYcu9s"
      },
      "source": [
        "def transform(list_): \n",
        "    return [(jamo_to_word(w), r) for (w, r) in list_]\n"
      ],
      "execution_count": null,
      "outputs": []
    },
    {
      "cell_type": "code",
      "metadata": {
        "colab": {
          "base_uri": "https://localhost:8080/"
        },
        "id": "2EDc3pJUXVkD",
        "outputId": "e27fe1a1-c94c-4460-cdf3-5df8b685c962"
      },
      "source": [
        "print(transform(model.wv.most_similar(jamo_sentence('손흥민'), topn=5)))"
      ],
      "execution_count": null,
      "outputs": [
        {
          "output_type": "stream",
          "text": [
            "[('“손흥민', 0.992994487285614), (\"'손흥민\", 0.992006778717041), ('\"손흥민', 0.9919321537017822), ('손흥민?', 0.9894469976425171), ('손흥민.', 0.9882667660713196)]\n"
          ],
          "name": "stdout"
        }
      ]
    },
    {
      "cell_type": "code",
      "metadata": {
        "colab": {
          "base_uri": "https://localhost:8080/"
        },
        "id": "GDCTwVEFYvCi",
        "outputId": "961190cd-5856-48a1-ef7a-22e537a59f08"
      },
      "source": [
        "print(transform(model.wv.most_similar(jamo_sentence('재미'), topn=5)))"
      ],
      "execution_count": null,
      "outputs": [
        {
          "output_type": "stream",
          "text": [
            "[('재미쒀', 0.9453452229499817), ('재미씀', 0.9396107196807861), ('재미따', 0.9187890887260437), ('재미써', 0.9178105592727661), ('재미져', 0.9103113412857056)]\n"
          ],
          "name": "stdout"
        }
      ]
    },
    {
      "cell_type": "code",
      "metadata": {
        "colab": {
          "base_uri": "https://localhost:8080/"
        },
        "id": "e7F5CzcWduAm",
        "outputId": "cc9439a4-fe8a-49e5-f0bb-0176030e86ca"
      },
      "source": [
        "print(transform(model.wv.most_similar(jamo_sentence('슬픔'), topn=5)))"
      ],
      "execution_count": null,
      "outputs": [
        {
          "output_type": "stream",
          "text": [
            "[('슬픔,', 0.9623531103134155), ('슬픔..', 0.9216196537017822), ('슬플', 0.9023023843765259), ('슬프단', 0.8952683210372925), ('슬프당..', 0.8917639851570129)]\n"
          ],
          "name": "stdout"
        }
      ]
    },
    {
      "cell_type": "code",
      "metadata": {
        "colab": {
          "base_uri": "https://localhost:8080/"
        },
        "id": "UVj-F-SEdw-e",
        "outputId": "1889a436-4417-4ea6-bdcd-905b1b2590f5"
      },
      "source": [
        "print(transform(model.wv.most_similar(jamo_sentence('주단태'), topn=5)))"
      ],
      "execution_count": null,
      "outputs": [
        {
          "output_type": "stream",
          "text": [
            "[('주단태-', 0.9942590594291687), ('주단태~', 0.9901915192604065), ('주단탠', 0.9890368580818176), ('주단탱-', 0.9884690642356873), ('주단탱,', 0.985360860824585)]\n"
          ],
          "name": "stdout"
        }
      ]
    },
    {
      "cell_type": "code",
      "metadata": {
        "colab": {
          "base_uri": "https://localhost:8080/"
        },
        "id": "LDu8oDJCd9nP",
        "outputId": "5cf24987-b09e-4397-a27d-614d95577d5c"
      },
      "source": [
        "print(transform(model.wv.most_similar(jamo_sentence('무리뉴'), topn=5)))"
      ],
      "execution_count": null,
      "outputs": [
        {
          "output_type": "stream",
          "text": [
            "[('무리뉴:', 0.99093097448349), ('무리뉴~', 0.9878108501434326), ('■무리뉴', 0.9823281168937683), ('“무리뉴', 0.9820902943611145), (\"'무리뉴\", 0.9820272922515869)]\n"
          ],
          "name": "stdout"
        }
      ]
    },
    {
      "cell_type": "code",
      "metadata": {
        "colab": {
          "base_uri": "https://localhost:8080/"
        },
        "id": "DKbytzyMe7-A",
        "outputId": "3c588ef4-e7b0-468d-c9b1-f867cac49276"
      },
      "source": [
        "model.wv.n_similarity([jamo_sentence(\"손흥민\")], [jamo_sentence(\"무리뉴\")])"
      ],
      "execution_count": null,
      "outputs": [
        {
          "output_type": "execute_result",
          "data": {
            "text/plain": [
              "0.6619248"
            ]
          },
          "metadata": {
            "tags": []
          },
          "execution_count": 94
        }
      ]
    },
    {
      "cell_type": "code",
      "metadata": {
        "colab": {
          "base_uri": "https://localhost:8080/"
        },
        "id": "af7r2cKUfw3U",
        "outputId": "6ac26747-ba49-4958-d4b6-32f53e329dcd"
      },
      "source": [
        "model.wv.n_similarity([jamo_sentence(\"손흥민\")], [jamo_sentence(\"주단태\")])"
      ],
      "execution_count": null,
      "outputs": [
        {
          "output_type": "execute_result",
          "data": {
            "text/plain": [
              "0.3717371"
            ]
          },
          "metadata": {
            "tags": []
          },
          "execution_count": 95
        }
      ]
    },
    {
      "cell_type": "code",
      "metadata": {
        "colab": {
          "base_uri": "https://localhost:8080/"
        },
        "id": "c5U7nAyVfwzL",
        "outputId": "28e2dd97-fa6a-44da-bca6-7a90a33f4140"
      },
      "source": [
        "model.wv.n_similarity([jamo_sentence(\"손흥민\")], [jamo_sentence(\"먹방\")])"
      ],
      "execution_count": null,
      "outputs": [
        {
          "output_type": "execute_result",
          "data": {
            "text/plain": [
              "0.16442917"
            ]
          },
          "metadata": {
            "tags": []
          },
          "execution_count": 96
        }
      ]
    },
    {
      "cell_type": "code",
      "metadata": {
        "colab": {
          "base_uri": "https://localhost:8080/"
        },
        "id": "eKe894cHfwrE",
        "outputId": "6d83cfde-a768-48fd-d700-74245d37a1e6"
      },
      "source": [
        "model.wv.n_similarity([jamo_sentence(\"손흥민\")], [jamo_sentence(\"축구\")])"
      ],
      "execution_count": null,
      "outputs": [
        {
          "output_type": "execute_result",
          "data": {
            "text/plain": [
              "0.53428406"
            ]
          },
          "metadata": {
            "tags": []
          },
          "execution_count": 97
        }
      ]
    },
    {
      "cell_type": "code",
      "metadata": {
        "colab": {
          "base_uri": "https://localhost:8080/"
        },
        "id": "fN7ZhoTrr2Lh",
        "outputId": "3b4f396a-0a59-4f2e-d93e-864a463219fd"
      },
      "source": [
        "model.wv.n_similarity([jamo_sentence(\"머니게임\")], [jamo_sentence(\"최애\")])"
      ],
      "execution_count": null,
      "outputs": [
        {
          "output_type": "execute_result",
          "data": {
            "text/plain": [
              "0.27210534"
            ]
          },
          "metadata": {
            "tags": []
          },
          "execution_count": 98
        }
      ]
    },
    {
      "cell_type": "code",
      "metadata": {
        "colab": {
          "base_uri": "https://localhost:8080/"
        },
        "id": "54KvKgr2r9vH",
        "outputId": "713072f1-28a8-422a-b278-72d1c7c6842d"
      },
      "source": [
        "model.wv.n_similarity([jamo_sentence(\"머니게임\")], [jamo_sentence(\"진용진\")])"
      ],
      "execution_count": null,
      "outputs": [
        {
          "output_type": "execute_result",
          "data": {
            "text/plain": [
              "0.46752903"
            ]
          },
          "metadata": {
            "tags": []
          },
          "execution_count": 99
        }
      ]
    },
    {
      "cell_type": "code",
      "metadata": {
        "colab": {
          "base_uri": "https://localhost:8080/"
        },
        "id": "AYqIXvfhsATG",
        "outputId": "6f67d281-b7e5-4963-df08-934738f6395a"
      },
      "source": [
        "model.wv.n_similarity([jamo_sentence(\"머니게임\")], [jamo_sentence(\"공혁준\")])"
      ],
      "execution_count": null,
      "outputs": [
        {
          "output_type": "execute_result",
          "data": {
            "text/plain": [
              "0.48653892"
            ]
          },
          "metadata": {
            "tags": []
          },
          "execution_count": 100
        }
      ]
    },
    {
      "cell_type": "code",
      "metadata": {
        "colab": {
          "base_uri": "https://localhost:8080/"
        },
        "id": "WNf2iIiAsDON",
        "outputId": "07336522-f62f-4063-c6af-7638a3b6dac4"
      },
      "source": [
        "model.wv.n_similarity([jamo_sentence(\"산범\")], [jamo_sentence(\"공혁준\")])"
      ],
      "execution_count": null,
      "outputs": [
        {
          "output_type": "execute_result",
          "data": {
            "text/plain": [
              "0.7007195"
            ]
          },
          "metadata": {
            "tags": []
          },
          "execution_count": 101
        }
      ]
    },
    {
      "cell_type": "code",
      "metadata": {
        "colab": {
          "base_uri": "https://localhost:8080/"
        },
        "id": "1TTyFS5esGh9",
        "outputId": "05141718-4650-47f9-f87e-8721d64d40e0"
      },
      "source": [
        "model.wv.n_similarity([jamo_sentence(\"무리뉴\")], [jamo_sentence(\"공혁준\")])"
      ],
      "execution_count": null,
      "outputs": [
        {
          "output_type": "execute_result",
          "data": {
            "text/plain": [
              "0.46512252"
            ]
          },
          "metadata": {
            "tags": []
          },
          "execution_count": 102
        }
      ]
    },
    {
      "cell_type": "code",
      "metadata": {
        "colab": {
          "base_uri": "https://localhost:8080/"
        },
        "id": "dxIl50yOsZnk",
        "outputId": "8addf397-8648-4772-e1b4-e3ace2847eca"
      },
      "source": [
        "model.wv.n_similarity([jamo_sentence(\"트로트\")], [jamo_sentence(\"공혁준\")])"
      ],
      "execution_count": null,
      "outputs": [
        {
          "output_type": "execute_result",
          "data": {
            "text/plain": [
              "0.20399697"
            ]
          },
          "metadata": {
            "tags": []
          },
          "execution_count": 103
        }
      ]
    },
    {
      "cell_type": "markdown",
      "metadata": {
        "id": "KKQ48iMLe5hE"
      },
      "source": [
        "#### embedding 된 vector 확인\n",
        "\n",
        "출처: https://radimrehurek.com/gensim/auto_examples/tutorials/run_fasttext.html"
      ]
    },
    {
      "cell_type": "code",
      "metadata": {
        "colab": {
          "base_uri": "https://localhost:8080/"
        },
        "id": "n_LGyM2Qe8Ku",
        "outputId": "2343d8b3-0099-40fb-f66c-dba890492927"
      },
      "source": [
        "model.wv[jamo_sentence(\"손흥민\")]"
      ],
      "execution_count": null,
      "outputs": [
        {
          "output_type": "execute_result",
          "data": {
            "text/plain": [
              "array([ 0.57643384, -1.6414546 , -0.24552028, -0.7539332 ,  0.26678166,\n",
              "        0.35393393, -0.6679476 , -0.6489672 , -0.45171592,  1.4473842 ,\n",
              "       -0.7428063 , -0.91519433, -0.18956031, -0.34081066, -0.20836973,\n",
              "        0.56054896, -0.6017387 ,  0.5482094 ,  1.9174218 , -0.9578388 ,\n",
              "       -0.3180518 , -0.80016017, -1.1227124 ,  0.5960045 ,  0.5047069 ,\n",
              "        0.628457  , -0.10020398, -2.264909  ,  0.42326355, -0.15910032,\n",
              "        1.271285  ,  0.55241126,  0.09666578, -0.14403383, -1.6420062 ,\n",
              "       -0.1275214 , -0.9844335 ,  0.862227  , -0.15074115,  0.49015576,\n",
              "       -0.16454384,  0.51263183, -0.25504604,  0.23586483,  0.3706472 ,\n",
              "        1.1367676 , -0.6912528 , -1.1284872 , -0.5130195 ,  0.57426614,\n",
              "       -0.2588535 , -0.788596  , -1.5116447 ,  0.4324854 ,  1.0688583 ,\n",
              "       -0.38725674, -0.57333475, -1.1115502 ,  0.27542108, -0.2430949 ,\n",
              "        0.9331736 , -0.23279065, -0.5711133 , -0.06201376,  0.9205951 ,\n",
              "       -0.99871296, -0.8155388 ,  0.71681225,  0.82432145, -1.856045  ,\n",
              "        0.22806759, -0.7666319 ,  0.23228578, -0.3757978 ,  0.18689941,\n",
              "       -1.8392009 ,  0.00936061, -0.4186761 , -0.35421813,  0.40800354,\n",
              "       -0.05768786, -0.3425781 , -0.95021224, -0.1830776 ,  0.19426787,\n",
              "        0.31527746, -0.04352208,  0.85276055,  0.33440346, -0.38391674,\n",
              "       -0.6362585 ,  0.7214997 ,  0.8223096 , -0.52734435,  0.02720765,\n",
              "       -0.4514128 ,  0.5824186 , -0.49354306, -0.6772431 , -0.43003654],\n",
              "      dtype=float32)"
            ]
          },
          "metadata": {
            "tags": []
          },
          "execution_count": 104
        }
      ]
    },
    {
      "cell_type": "code",
      "metadata": {
        "colab": {
          "base_uri": "https://localhost:8080/"
        },
        "id": "wr-d7pDtg7Jn",
        "outputId": "1a479432-1a81-4cb3-88a0-c0588cfb5b84"
      },
      "source": [
        "model.wv[jamo_sentence(\"무리뉴\")]"
      ],
      "execution_count": null,
      "outputs": [
        {
          "output_type": "execute_result",
          "data": {
            "text/plain": [
              "array([ 0.50575805, -0.76800334,  0.07831834, -0.5791681 ,  0.08383565,\n",
              "       -0.19101423, -0.6039074 , -0.5175718 , -0.32549435,  1.089218  ,\n",
              "       -0.07534763, -0.6464316 ,  0.90763557, -0.3388166 ,  0.07145465,\n",
              "        0.4129103 , -1.2022424 ,  0.9761676 ,  0.72677225,  0.07222657,\n",
              "       -0.6708291 , -0.08267989, -0.50139266, -0.21877243,  1.0338358 ,\n",
              "       -0.20215616,  0.19997585, -0.8877196 ,  1.0351778 , -0.581828  ,\n",
              "        1.082519  , -0.00622828,  0.27039063, -0.43332633, -0.25265127,\n",
              "       -0.46708018, -0.04878039,  0.67188054,  0.49335584,  0.7747082 ,\n",
              "        0.1857629 ,  0.8365447 , -0.58299357, -0.48687133,  0.38403544,\n",
              "        1.1583533 , -0.26721588, -0.12822069, -0.66785127,  0.40065596,\n",
              "       -0.43852365,  0.40031043, -0.31475472, -0.17877993,  0.97563565,\n",
              "       -0.06083592, -0.35537547, -0.9579187 , -0.18720272, -0.6509618 ,\n",
              "        1.2590991 ,  0.21215816,  0.37022042,  0.14629762,  0.71335566,\n",
              "       -0.78622144, -0.51695114,  0.27750993, -0.11644801, -1.1210673 ,\n",
              "        0.60820824, -0.88878363, -0.22024606,  0.0885935 , -0.32135513,\n",
              "       -0.8675049 , -0.01731615,  0.06259122,  0.5913761 , -0.13418119,\n",
              "       -0.75538075, -0.2769253 , -0.13707991, -0.38582337,  0.14917341,\n",
              "        0.22089556,  0.7661813 ,  0.657426  ,  0.6240124 ,  0.24722531,\n",
              "       -0.16458647,  0.6527571 , -0.27450714,  0.21461281, -0.7455441 ,\n",
              "       -1.0243812 ,  0.12276745, -0.42036885, -0.33380607, -0.26451918],\n",
              "      dtype=float32)"
            ]
          },
          "metadata": {
            "tags": []
          },
          "execution_count": 105
        }
      ]
    },
    {
      "cell_type": "code",
      "metadata": {
        "colab": {
          "base_uri": "https://localhost:8080/"
        },
        "id": "UQxt56G5sQS7",
        "outputId": "82adf90d-df81-4b6c-8a59-d55482616b15"
      },
      "source": [
        "model.wv[jamo_sentence(\"의\")]"
      ],
      "execution_count": null,
      "outputs": [
        {
          "output_type": "execute_result",
          "data": {
            "text/plain": [
              "array([ 1.4210777 , -0.81371677, -0.03749328,  1.1420807 ,  1.3048111 ,\n",
              "       -2.1337779 ,  0.48601452,  1.6949412 , -1.8845116 ,  0.2717323 ,\n",
              "       -0.5499069 , -0.10699414, -0.21678694, -0.23970495, -1.7765076 ,\n",
              "       -0.7156523 ,  1.3386067 ,  1.9705166 , -0.41027206,  1.6301857 ,\n",
              "        1.4153467 ,  0.25995895, -2.9717543 ,  0.00916565,  1.8039497 ,\n",
              "        1.9130538 , -2.2541816 ,  2.2106493 ,  1.8905944 ,  1.9232124 ,\n",
              "       -0.43900123, -0.40546915, -0.12867054,  0.8294946 , -0.7779432 ,\n",
              "       -3.1666255 , -0.4517913 , -0.02292189, -0.33861905,  0.8084839 ,\n",
              "        2.359629  ,  2.15161   , -2.1715438 , -0.89377385, -0.18682726,\n",
              "        0.6211433 , -2.900708  ,  1.17369   , -1.8680288 , -0.05298661,\n",
              "        2.321277  ,  0.9144438 ,  0.32484016, -0.27662602,  1.0084343 ,\n",
              "        0.49707267,  0.9757298 ,  0.2192508 , -0.30422705, -1.0776116 ,\n",
              "        0.23088615, -0.43616104,  1.2460271 ,  1.5946913 ,  1.2349356 ,\n",
              "        2.286337  , -0.5992277 ,  0.12026838,  0.25284907, -2.4865708 ,\n",
              "       -0.3175466 , -0.9032206 , -0.24471596,  0.15755382, -2.3080208 ,\n",
              "        0.41286245,  0.6272685 , -0.01331612,  0.20876543,  1.1107403 ,\n",
              "       -0.65494204, -0.3187759 ,  0.8395484 , -2.8976703 ,  0.17776836,\n",
              "        0.4564537 ,  0.8620142 , -1.2800277 , -0.8460061 ,  0.8386302 ,\n",
              "       -1.0043268 ,  0.51925194,  1.5268275 ,  0.266536  ,  0.39548287,\n",
              "       -0.6658862 ,  0.5967874 ,  0.72081625,  0.7995532 ,  2.5703871 ],\n",
              "      dtype=float32)"
            ]
          },
          "metadata": {
            "tags": []
          },
          "execution_count": 106
        }
      ]
    },
    {
      "cell_type": "code",
      "metadata": {
        "colab": {
          "base_uri": "https://localhost:8080/"
        },
        "id": "-6seKEg8sTKw",
        "outputId": "2b9b4d9f-5244-4648-f044-56330cb3ba42"
      },
      "source": [
        "model.wv[jamo_sentence(\"사랑\")]"
      ],
      "execution_count": null,
      "outputs": [
        {
          "output_type": "execute_result",
          "data": {
            "text/plain": [
              "array([-0.6993194 , -0.6766508 ,  1.0852938 ,  1.4949514 ,  0.24718733,\n",
              "       -0.19989447, -1.083013  ,  1.5152607 ,  0.0308862 ,  1.5063288 ,\n",
              "        2.6923752 , -1.0928504 , -0.40414062,  0.7002441 ,  1.7981144 ,\n",
              "       -0.6643979 , -0.2528179 , -0.85075057,  3.4187324 , -0.21016872,\n",
              "       -1.0372633 ,  0.0653699 , -1.1205925 ,  0.48261562, -0.59057456,\n",
              "       -2.7071092 ,  1.2039386 ,  0.08677571, -0.22625491, -1.4512116 ,\n",
              "       -1.9846793 , -0.9723848 ,  0.3016936 ,  0.8163773 ,  0.8181408 ,\n",
              "        0.03225449,  0.5289174 , -0.31768593, -0.19539957, -0.42638075,\n",
              "       -0.33651716, -0.52423906, -0.17983942, -0.03452187, -0.87619895,\n",
              "       -0.14652275, -1.5226325 ,  0.06480377,  0.57030976, -0.257104  ,\n",
              "        1.694818  ,  1.1884979 , -1.8981036 , -1.1742886 ,  2.2253165 ,\n",
              "       -0.85738844, -0.4097028 , -0.2864902 ,  0.80733097,  0.18326712,\n",
              "        0.3484178 , -0.5570772 , -0.5772124 , -0.40836114,  1.1699841 ,\n",
              "       -0.9056703 ,  0.7106095 ,  0.18948205,  0.29488817, -0.5562075 ,\n",
              "        1.1656777 , -0.25250128, -0.8601293 ,  0.1434755 , -0.63284546,\n",
              "       -0.27121615,  0.89478606, -0.3012867 ,  1.0743352 , -0.08725306,\n",
              "       -0.4980016 , -1.5735703 , -1.441641  , -0.895222  ,  0.4691522 ,\n",
              "        1.0502828 ,  0.47688365,  0.23136362, -0.62940735,  0.95085555,\n",
              "        0.63027143,  1.7838936 , -0.81355536, -0.3612861 ,  0.32188606,\n",
              "        0.01194374,  0.44185492, -0.24750923,  1.0649389 , -0.41685617],\n",
              "      dtype=float32)"
            ]
          },
          "metadata": {
            "tags": []
          },
          "execution_count": 107
        }
      ]
    },
    {
      "cell_type": "markdown",
      "metadata": {
        "id": "tnPgOQK2oGLF"
      },
      "source": [
        "#### Embedding 층 학습시키기"
      ]
    },
    {
      "cell_type": "markdown",
      "metadata": {
        "id": "de3rZzAvCIig"
      },
      "source": [
        "##### Preprocess for model input"
      ]
    },
    {
      "cell_type": "code",
      "metadata": {
        "id": "tYv645mlxjc1"
      },
      "source": [
        "from gensim.models import KeyedVectors, FastText"
      ],
      "execution_count": null,
      "outputs": []
    },
    {
      "cell_type": "code",
      "metadata": {
        "id": "zQ1nGK2doL0R"
      },
      "source": [
        "model_fname = \"/content/drive/Shareddrives/[GH x Sandbox]/code/DeepLevel/fasttext/jamo_fasttext\"\n",
        "embedding_model = FastText.load(model_fname)"
      ],
      "execution_count": null,
      "outputs": []
    },
    {
      "cell_type": "code",
      "metadata": {
        "colab": {
          "base_uri": "https://localhost:8080/"
        },
        "id": "OgzBtHeboLuB",
        "outputId": "fdf6939f-9758-4cec-ef75-1c279ba4af28"
      },
      "source": [
        "embedding_model.wv.vectors.shape"
      ],
      "execution_count": null,
      "outputs": [
        {
          "output_type": "execute_result",
          "data": {
            "text/plain": [
              "(283367, 100)"
            ]
          },
          "metadata": {
            "tags": []
          },
          "execution_count": 25
        }
      ]
    },
    {
      "cell_type": "code",
      "metadata": {
        "colab": {
          "base_uri": "https://localhost:8080/"
        },
        "id": "hYeHD-paoLgD",
        "outputId": "9e6d5750-5c8c-42ef-acc7-8cbf92e10ce4"
      },
      "source": [
        "embedding_matrix = np.zeros((embedding_model.wv.vectors.shape[0]+1, embedding_model.wv.vectors.shape[1]))\n",
        "np.shape(embedding_matrix)"
      ],
      "execution_count": null,
      "outputs": [
        {
          "output_type": "execute_result",
          "data": {
            "text/plain": [
              "(283368, 100)"
            ]
          },
          "metadata": {
            "tags": []
          },
          "execution_count": 26
        }
      ]
    },
    {
      "cell_type": "code",
      "metadata": {
        "colab": {
          "base_uri": "https://localhost:8080/"
        },
        "id": "BNcKBRGQyFGV",
        "outputId": "56859720-57a1-44c5-bebf-e17c2ec637db"
      },
      "source": [
        "vocab_size = np.shape(embedding_matrix)[0]\n",
        "vocab_size"
      ],
      "execution_count": null,
      "outputs": [
        {
          "output_type": "execute_result",
          "data": {
            "text/plain": [
              "283368"
            ]
          },
          "metadata": {
            "tags": []
          },
          "execution_count": 27
        }
      ]
    },
    {
      "cell_type": "markdown",
      "metadata": {
        "id": "A6UItVGhcxWw"
      },
      "source": [
        "##### FastText의 embeding vector 확인작업 "
      ]
    },
    {
      "cell_type": "code",
      "metadata": {
        "colab": {
          "base_uri": "https://localhost:8080/"
        },
        "id": "hST0DjsCxNPS",
        "outputId": "3e627344-87f4-45da-bce1-adc06813386d"
      },
      "source": [
        "embedding_model.wv.vocab"
      ],
      "execution_count": null,
      "outputs": [
        {
          "output_type": "execute_result",
          "data": {
            "text/plain": [
              "{'ㅇㅏ_ㄴㅣ_': <gensim.models.keyedvectors.Vocab at 0x7f1314e2dcd0>,\n",
              " 'ㅈㅓㅇㅎㅏㄴㅇㅣ_': <gensim.models.keyedvectors.Vocab at 0x7f1315739a10>,\n",
              " 'ㅅㅜㄱㅅㅗ_': <gensim.models.keyedvectors.Vocab at 0x7f1315739bd0>,\n",
              " 'ㅊㅏㅇㅁㅜㄴㅇㅔ_': <gensim.models.keyedvectors.Vocab at 0x7f1315739fd0>,\n",
              " 'ㄷㅐ_ㅁㅜㄴㅉㅏㄱㅁㅏㄴㅎㅏ_ㄱㅔ_': <gensim.models.keyedvectors.Vocab at 0x7f1315739c90>,\n",
              " 'ㅌㅔ_ㅇㅣ_ㅍㅡ_': <gensim.models.keyedvectors.Vocab at 0x7f1315739710>,\n",
              " 'K': <gensim.models.keyedvectors.Vocab at 0x7f1315739b90>,\n",
              " 'ㅇㅏ_ㅇㅣ_ㄷㅗㄹ': <gensim.models.keyedvectors.Vocab at 0x7f1315739f90>,\n",
              " '-': <gensim.models.keyedvectors.Vocab at 0x7f1315739f10>,\n",
              " 'ㅇㅣㄴㅌㅓ_ㄴㅔㅅㅇㅔ_': <gensim.models.keyedvectors.Vocab at 0x7f1315739490>,\n",
              " 'ㄷㅗ_ㄴㅡㄴㄱㅓ_': <gensim.models.keyedvectors.Vocab at 0x7f1315739310>,\n",
              " 'ㅂㅗ_ㄱㅗ_': <gensim.models.keyedvectors.Vocab at 0x7f1315739450>,\n",
              " 'ㅃㅏㅇㅌㅓ_ㅈㅣㅁ': <gensim.models.keyedvectors.Vocab at 0x7f1315739650>,\n",
              " 'ㅋ__ㅋ__ㅋ__ㅋ__ㅋ__ㅋ__ㅋ__ㅋ__ㅋ__ㅋ__ㅋ__ㅋ__ㅋ__ㅋ__ㅋ__': <gensim.models.keyedvectors.Vocab at 0x7f1315739ad0>,\n",
              " 'ㅅㅣㅁㅈㅣ_ㅇㅓ_': <gensim.models.keyedvectors.Vocab at 0x7f1312926b90>,\n",
              " 'ㄱㅡ_': <gensim.models.keyedvectors.Vocab at 0x7f1312926f10>,\n",
              " 'ㅂㅏㅇ': <gensim.models.keyedvectors.Vocab at 0x7f1312926e50>,\n",
              " 'ㅊㅏㅇㅁㅜㄴㅇㅣ_': <gensim.models.keyedvectors.Vocab at 0x7f1312926a50>,\n",
              " 'ㅇㅏ_ㄴㅣ_ㄹㅏ_': <gensim.models.keyedvectors.Vocab at 0x7f1312926b10>,\n",
              " '?': <gensim.models.keyedvectors.Vocab at 0x7f1312931050>,\n",
              " 'ㅇㅣ_ㄱㅓ_ㅇㅣ_ㄱㅓ_': <gensim.models.keyedvectors.Vocab at 0x7f1312931090>,\n",
              " 'ㅈㅗ_ㅅㅏ_ㄹㅡㄹ': <gensim.models.keyedvectors.Vocab at 0x7f13129310d0>,\n",
              " 'ㅇㅕㄹㅅㅣㅁㅎㅣ_': <gensim.models.keyedvectors.Vocab at 0x7f1312931110>,\n",
              " 'ㅎㅏ_ㅅㅣㄴㄱㅓㄴㅈㅣ_': <gensim.models.keyedvectors.Vocab at 0x7f1312931150>,\n",
              " 'ㅇㅣ_ㄱㅓ_': <gensim.models.keyedvectors.Vocab at 0x7f1312931190>,\n",
              " 'ㅇㅣ_ㄹㅓㅎㄱㅔ_': <gensim.models.keyedvectors.Vocab at 0x7f13129311d0>,\n",
              " 'ㅎㅏㄹ': <gensim.models.keyedvectors.Vocab at 0x7f1312931210>,\n",
              " 'ㅅㅜ_ㄱㅏ_': <gensim.models.keyedvectors.Vocab at 0x7f1312931250>,\n",
              " 'ㅅㅓㄴㅁㅜㄹㄷㅗ_': <gensim.models.keyedvectors.Vocab at 0x7f1312931290>,\n",
              " 'ㅇㅘㄴㅈㅓㄴ': <gensim.models.keyedvectors.Vocab at 0x7f13129312d0>,\n",
              " 'ㅁㅣㄴㄱㅠ_': <gensim.models.keyedvectors.Vocab at 0x7f1312931310>,\n",
              " 'ㅇㅕ_ㄱㅣ_ㅅㅓ_ㄷㅗ_': <gensim.models.keyedvectors.Vocab at 0x7f1312931350>,\n",
              " 'ㅇㅐ_ㄷㅡㄹ': <gensim.models.keyedvectors.Vocab at 0x7f1312931390>,\n",
              " 'ㅇㅣ_ㅃㅡ_ㄱㅔ_': <gensim.models.keyedvectors.Vocab at 0x7f13129313d0>,\n",
              " 'ㅉㅣㄱㅇㅓ_ㅈㅜ_ㅅㅣ_ㄱㅗ_': <gensim.models.keyedvectors.Vocab at 0x7f1312931410>,\n",
              " 'ㅇㅣㄴㅌㅓ_ㅂㅠ_': <gensim.models.keyedvectors.Vocab at 0x7f1312931450>,\n",
              " 'ㅎㅐ_ㅈㅜ_ㅅㅕ_ㅅㅓ_': <gensim.models.keyedvectors.Vocab at 0x7f1312931490>,\n",
              " 'ㄱㅏㅁㅅㅏ_ㅎㅐ_ㅇㅛㅇ': <gensim.models.keyedvectors.Vocab at 0x7f13129314d0>,\n",
              " 'ㅋㅗ_ㅅㅡ_ㅁㅗ_ㅍㅗㄹㄹㅣ_ㅌㅏㄴ': <gensim.models.keyedvectors.Vocab at 0x7f1312931510>,\n",
              " 'ㅁㅣㄴㄱㅠ_ㄹㅏㅇ': <gensim.models.keyedvectors.Vocab at 0x7f1312931550>,\n",
              " 'ㅈㅗㅎㅇㅡㄴㄱㅓ_': <gensim.models.keyedvectors.Vocab at 0x7f1312931590>,\n",
              " 'ㅇㅏㄹㄱㅗ_ㅇㅣㅆㅇㅓㅆㅈㅣ_ㅁㅏㄴ': <gensim.models.keyedvectors.Vocab at 0x7f13129315d0>,\n",
              " 'ㅂㅗ_ㄴㅣ_ㄲㅏ_': <gensim.models.keyedvectors.Vocab at 0x7f1312931610>,\n",
              " 'ㅁㅕㅇㅎㅗ_ㄷㅗ_': <gensim.models.keyedvectors.Vocab at 0x7f1312931650>,\n",
              " 'ㅇㅣ_ㄹㅓ_ㄷㅏ_ㄱㅏ_': <gensim.models.keyedvectors.Vocab at 0x7f1312931690>,\n",
              " 'ㅅㅓ_ㅁㅕㅇㅎㅗ_': <gensim.models.keyedvectors.Vocab at 0x7f13129316d0>,\n",
              " 'ㄴㅏ_ㅈㅜㅇㅇㅔ_': <gensim.models.keyedvectors.Vocab at 0x7f1312931710>,\n",
              " 'ㅈㅓㅇㅁㅏㄹ': <gensim.models.keyedvectors.Vocab at 0x7f1312931750>,\n",
              " 'ㅈㅗㄴㅈㅐ_ㅇㅔ_ㅇㅛ_': <gensim.models.keyedvectors.Vocab at 0x7f1312931790>,\n",
              " 'ㅇㅣ_ㄹㅓ_ㅁㅕㄴ': <gensim.models.keyedvectors.Vocab at 0x7f13129317d0>,\n",
              " 'ㅇㅓ_ㄸㅓㄱㅎㅏㅁ': <gensim.models.keyedvectors.Vocab at 0x7f1312931810>,\n",
              " 'ㅅㅏㄹㅇㅏ_': <gensim.models.keyedvectors.Vocab at 0x7f1312931850>,\n",
              " 'ㄱㅏㅁㅅㅏ_ㅎㅏㅁㅇㅡㄹ': <gensim.models.keyedvectors.Vocab at 0x7f1312931890>,\n",
              " 'ㄴㅡ_ㄲㅣㅁ...': <gensim.models.keyedvectors.Vocab at 0x7f13129318d0>,\n",
              " 'ㄴㅓ_ㅁㅜ_': <gensim.models.keyedvectors.Vocab at 0x7f1312931910>,\n",
              " 'ㅇㅜㅅㅇㅓ_ㅅㅓ_': <gensim.models.keyedvectors.Vocab at 0x7f1312931950>,\n",
              " 'ㄱㅘㅇㄷㅐ_ㄱㅏ_': <gensim.models.keyedvectors.Vocab at 0x7f1312931990>,\n",
              " 'ㅈㅓ_': <gensim.models.keyedvectors.Vocab at 0x7f13129319d0>,\n",
              " 'ㅈㅗ_ㅎㅏㅂ': <gensim.models.keyedvectors.Vocab at 0x7f1312931a10>,\n",
              " 'ㅇㅡㄴㅇㅡㄴㅎㅏ_ㄱㅔ_': <gensim.models.keyedvectors.Vocab at 0x7f1312931a50>,\n",
              " 'ㅇㅜㅅㄱㅕ_ㅅㅓ_': <gensim.models.keyedvectors.Vocab at 0x7f1312931a90>,\n",
              " 'ㄷㅓ_': <gensim.models.keyedvectors.Vocab at 0x7f1312931ad0>,\n",
              " 'ㄷㅏ_ㄷㅡㄹ': <gensim.models.keyedvectors.Vocab at 0x7f1312931b10>,\n",
              " 'ㅇㅣ_': <gensim.models.keyedvectors.Vocab at 0x7f1312931b50>,\n",
              " 'ㅇㅕㅇㅅㅏㅇㅇㅔ_ㅅㅓ_': <gensim.models.keyedvectors.Vocab at 0x7f1312931b90>,\n",
              " 'ㅉㅣㄴㅎㅏㄴ': <gensim.models.keyedvectors.Vocab at 0x7f1312931bd0>,\n",
              " 'ㅋㅐ_ㄹㅓㅅㅇㅢ_': <gensim.models.keyedvectors.Vocab at 0x7f1312931c10>,\n",
              " 'ㅎㅑㅇㄱㅣ_ㄱㅏ_': <gensim.models.keyedvectors.Vocab at 0x7f1312931c50>,\n",
              " 'ㅁㅏㄴㄷㅡ_ㄴㅡㄴ': <gensim.models.keyedvectors.Vocab at 0x7f1312931c90>,\n",
              " 'ㄷㅣ_ㅈㅣ_ㅌㅓㄹ': <gensim.models.keyedvectors.Vocab at 0x7f1312931cd0>,\n",
              " 'ㅍㅣㄹㄹㅡㅁ': <gensim.models.keyedvectors.Vocab at 0x7f1312931d10>,\n",
              " 'ㅇㅕㅇㅅㅏㅇㄷㅗ_': <gensim.models.keyedvectors.Vocab at 0x7f1312931d50>,\n",
              " 'ㄴㅏㅁㅇㅏㅆㅇㅡ_ㄴㅣ_': <gensim.models.keyedvectors.Vocab at 0x7f1312931d90>,\n",
              " ',,': <gensim.models.keyedvectors.Vocab at 0x7f1312931e10>,\n",
              " 'ㅇㅣㅀㅈㅣ_': <gensim.models.keyedvectors.Vocab at 0x7f1312931e50>,\n",
              " 'ㅁㅏㄶㅇㅣ_': <gensim.models.keyedvectors.Vocab at 0x7f1312931e90>,\n",
              " ',,,': <gensim.models.keyedvectors.Vocab at 0x7f1312931f10>,\n",
              " 'ㄴㅏㅁㅇㅏㅆㅇㅓ_ㅇㅛ_': <gensim.models.keyedvectors.Vocab at 0x7f1312931f50>,\n",
              " 'ㅇㅕㅇㅅㅏㅇ': <gensim.models.keyedvectors.Vocab at 0x7f1312931f90>,\n",
              " 'ㄱㅏ_ㅅㅣ_ㄴㅡㄴ': <gensim.models.keyedvectors.Vocab at 0x7f1312931fd0>,\n",
              " 'ㄱㅣㄹㅇㅔ_': <gensim.models.keyedvectors.Vocab at 0x7f13128bd050>,\n",
              " 'ㄱㅜ_ㄷㅗㄱ': <gensim.models.keyedvectors.Vocab at 0x7f13128bd090>,\n",
              " 'ㄲㅜ_ㅇㅜㄱ': <gensim.models.keyedvectors.Vocab at 0x7f13128bd0d0>,\n",
              " 'ㄷㅣ_ㅇㅔ_ㅇㅣㅅ': <gensim.models.keyedvectors.Vocab at 0x7f13128bd110>,\n",
              " 'ㄴㅏ_': <gensim.models.keyedvectors.Vocab at 0x7f13128bd150>,\n",
              " 'ㅁㅣ_ㅊㅕ_': <gensim.models.keyedvectors.Vocab at 0x7f13128bd190>,\n",
              " 'ㅁㅕㅇㅎㅗ_': <gensim.models.keyedvectors.Vocab at 0x7f13128bd1d0>,\n",
              " 'ㅁㅓ_ㄹㅣ_': <gensim.models.keyedvectors.Vocab at 0x7f13128bd210>,\n",
              " 'ㄲㅏㄴㄱㅓ_': <gensim.models.keyedvectors.Vocab at 0x7f13128bd250>,\n",
              " 'ㅈㅣㄴㅉㅏ_': <gensim.models.keyedvectors.Vocab at 0x7f13128bd290>,\n",
              " 'ㅈㅣㄴㄹㅣ_ㄷㅏ_.': <gensim.models.keyedvectors.Vocab at 0x7f13128bd2d0>,\n",
              " 'ㅇㅏ_': <gensim.models.keyedvectors.Vocab at 0x7f13128bd310>,\n",
              " 'ㅇㅙㄹㅋㅔ_': <gensim.models.keyedvectors.Vocab at 0x7f13128bd350>,\n",
              " 'ㅌㅣ_ㅋㅣ_ㅌㅏ_ㅋㅏ_': <gensim.models.keyedvectors.Vocab at 0x7f13128bd390>,\n",
              " 'ㅇㅣ_ㄱㅔ_': <gensim.models.keyedvectors.Vocab at 0x7f13128bd3d0>,\n",
              " 'ㅋ__ㅋ__ㅋ__ㅋ__ㅋ__ㅋ__ㅋ__ㅋ__': <gensim.models.keyedvectors.Vocab at 0x7f13128bd410>,\n",
              " 'ㄱㅗ_ㅇㅑㅇㅇㅣ_ㄹㅏㅇ': <gensim.models.keyedvectors.Vocab at 0x7f13128bd450>,\n",
              " 'ㄷㅙ_ㅈㅣ_?': <gensim.models.keyedvectors.Vocab at 0x7f13128bd490>,\n",
              " 'ㅁㅏㅈㅇㅏ_ㅇㅛ_': <gensim.models.keyedvectors.Vocab at 0x7f13128bd4d0>,\n",
              " 'ㅋ__ㅋ__ㅋ__ㅋ__ㅋ__ㅋ__ㅋ__ㅋ__ㅋ__': <gensim.models.keyedvectors.Vocab at 0x7f13128bd510>,\n",
              " 'ㅇㅜㅅㄱㅕ_': <gensim.models.keyedvectors.Vocab at 0x7f13128bd550>,\n",
              " 'ㅋ__ㅋ__ㅋ__ㅋ__ㅋ__ㅋ__ㅋ__': <gensim.models.keyedvectors.Vocab at 0x7f13128bd590>,\n",
              " 'ㅇㅕ_ㄱㅣ_': <gensim.models.keyedvectors.Vocab at 0x7f13128bd5d0>,\n",
              " 'ㅁㅏㄴㄷㅡ_ㄴㅡㄴㄱㅔ_': <gensim.models.keyedvectors.Vocab at 0x7f13128bd610>,\n",
              " 'ㄷㅗ_ㅇㅘ_ㅈㅜ_ㅅㅣㄴㅂㅜㄴㄷㅡㄹ': <gensim.models.keyedvectors.Vocab at 0x7f13128bd650>,\n",
              " 'ㄷㅙ_ㅈㅣ_': <gensim.models.keyedvectors.Vocab at 0x7f13128bd690>,\n",
              " 'ㅋ__ㄱ__ㅋ__ㄱ__ㅋ__ㄱ__ㅋ__ㅋ__': <gensim.models.keyedvectors.Vocab at 0x7f13128bd6d0>,\n",
              " 'ㅅㅐㅇㄱㅏㄱㄷㅗ_': <gensim.models.keyedvectors.Vocab at 0x7f13128bd710>,\n",
              " 'ㅃㅏㅇㅌㅓ_ㅈㅕ_ㅅㅓ_': <gensim.models.keyedvectors.Vocab at 0x7f13128bd750>,\n",
              " 'ㅇㅜㅅㄷㅏ_': <gensim.models.keyedvectors.Vocab at 0x7f13128bd790>,\n",
              " 'last': <gensim.models.keyedvectors.Vocab at 0x7f13128bd810>,\n",
              " 'words': <gensim.models.keyedvectors.Vocab at 0x7f13128bd890>,\n",
              " 'for': <gensim.models.keyedvectors.Vocab at 0x7f13128bd910>,\n",
              " 'with': <gensim.models.keyedvectors.Vocab at 0x7f13128bd990>,\n",
              " 'you': <gensim.models.keyedvectors.Vocab at 0x7f13128bda10>,\n",
              " 'have': <gensim.models.keyedvectors.Vocab at 0x7f13128bda90>,\n",
              " 'to': <gensim.models.keyedvectors.Vocab at 0x7f13128bdb10>,\n",
              " 'do': <gensim.models.keyedvectors.Vocab at 0x7f13128bdb90>,\n",
              " '[': <gensim.models.keyedvectors.Vocab at 0x7f13128bdbd0>,\n",
              " ']': <gensim.models.keyedvectors.Vocab at 0x7f13128bdc10>,\n",
              " 'the': <gensim.models.keyedvectors.Vocab at 0x7f13128bdc90>,\n",
              " 'Yes,': <gensim.models.keyedvectors.Vocab at 0x7f13128bdd10>,\n",
              " 'means': <gensim.models.keyedvectors.Vocab at 0x7f13128bdd90>,\n",
              " 'be': <gensim.models.keyedvectors.Vocab at 0x7f13128bde10>,\n",
              " '😂': <gensim.models.keyedvectors.Vocab at 0x7f13128bde50>,\n",
              " '&': <gensim.models.keyedvectors.Vocab at 0x7f13128bde90>,\n",
              " '8ㄹㅏㅇㅎㅐ_': <gensim.models.keyedvectors.Vocab at 0x7f13128bded0>,\n",
              " \"it's\": <gensim.models.keyedvectors.Vocab at 0x7f13128bdf50>,\n",
              " 'version': <gensim.models.keyedvectors.Vocab at 0x7f13128bdfd0>,\n",
              " 'of': <gensim.models.keyedvectors.Vocab at 0x7f13128c5090>,\n",
              " 'ㅅㅏ_ㄹㅏㅇㅎㅐ_': <gensim.models.keyedvectors.Vocab at 0x7f13128c50d0>,\n",
              " 'and': <gensim.models.keyedvectors.Vocab at 0x7f13128c5150>,\n",
              " 'it': <gensim.models.keyedvectors.Vocab at 0x7f13128c51d0>,\n",
              " 'which': <gensim.models.keyedvectors.Vocab at 0x7f13128c5250>,\n",
              " 'is': <gensim.models.keyedvectors.Vocab at 0x7f13128c52d0>,\n",
              " 'why': <gensim.models.keyedvectors.Vocab at 0x7f13128c5350>,\n",
              " 'i': <gensim.models.keyedvectors.Vocab at 0x7f13128c5390>,\n",
              " 'missed': <gensim.models.keyedvectors.Vocab at 0x7f13128c5410>,\n",
              " 'it,': <gensim.models.keyedvectors.Vocab at 0x7f13128c5490>,\n",
              " 'but': <gensim.models.keyedvectors.Vocab at 0x7f13128c5510>,\n",
              " 'ㅍㅏㄹ': <gensim.models.keyedvectors.Vocab at 0x7f13128c5550>,\n",
              " 'also': <gensim.models.keyedvectors.Vocab at 0x7f13128c55d0>,\n",
              " 'in': <gensim.models.keyedvectors.Vocab at 0x7f13128c5650>,\n",
              " 'korean': <gensim.models.keyedvectors.Vocab at 0x7f13128c56d0>,\n",
              " 'so': <gensim.models.keyedvectors.Vocab at 0x7f13128c5750>,\n",
              " 'kind': <gensim.models.keyedvectors.Vocab at 0x7f13128c57d0>,\n",
              " 'a': <gensim.models.keyedvectors.Vocab at 0x7f13128c5810>,\n",
              " 'word': <gensim.models.keyedvectors.Vocab at 0x7f13128c5890>,\n",
              " 'play': <gensim.models.keyedvectors.Vocab at 0x7f13128c5910>,\n",
              " 'too': <gensim.models.keyedvectors.Vocab at 0x7f13128c5990>,\n",
              " '😆': <gensim.models.keyedvectors.Vocab at 0x7f13128c59d0>,\n",
              " 'thanks': <gensim.models.keyedvectors.Vocab at 0x7f13128c5a50>,\n",
              " 'guys': <gensim.models.keyedvectors.Vocab at 0x7f13128c5ad0>,\n",
              " 'comments': <gensim.models.keyedvectors.Vocab at 0x7f13128c5b50>,\n",
              " 'me': <gensim.models.keyedvectors.Vocab at 0x7f13128c5bd0>,\n",
              " 'sorry': <gensim.models.keyedvectors.Vocab at 0x7f13128c5c50>,\n",
              " 'we': <gensim.models.keyedvectors.Vocab at 0x7f13128c5cd0>,\n",
              " 'finally': <gensim.models.keyedvectors.Vocab at 0x7f13128c5d50>,\n",
              " 'got': <gensim.models.keyedvectors.Vocab at 0x7f13128c5dd0>,\n",
              " '😭': <gensim.models.keyedvectors.Vocab at 0x7f13128c5e10>,\n",
              " '😭😭': <gensim.models.keyedvectors.Vocab at 0x7f13128c5e50>,\n",
              " 'ㄱㅓㄴㄱㅏㅇㅎㅏ_ㄱㅔ_': <gensim.models.keyedvectors.Vocab at 0x7f13128c5e90>,\n",
              " 'ㄷㅗㄹㅇㅏ_ㅇㅘ_ㅈㅝ_ㅅㅓ_': <gensim.models.keyedvectors.Vocab at 0x7f13128c5ed0>,\n",
              " 'ㄱㅗ_ㅁㅏ_ㅇㅝ__ㅠ__ㅠ__ㅠ_': <gensim.models.keyedvectors.Vocab at 0x7f13128c5f10>,\n",
              " 'ㅈㅓㅇㅎㅏㄴ': <gensim.models.keyedvectors.Vocab at 0x7f13128c5f50>,\n",
              " 'ㅇㅝㄴㅇㅜ_': <gensim.models.keyedvectors.Vocab at 0x7f13128c5f90>,\n",
              " 'ㄱㅗ_ㅁㅏ_ㅇㅝ_♡♡': <gensim.models.keyedvectors.Vocab at 0x7f13128c5fd0>,\n",
              " 'ㅈㅔ_ㅁㅗㄱㅇㅔ_': <gensim.models.keyedvectors.Vocab at 0x7f13128c9050>,\n",
              " 'ㅎㅗㄴㅈㅏ_ㅅㅓ_ㄷㅗ_': <gensim.models.keyedvectors.Vocab at 0x7f13128c9090>,\n",
              " 'ㅇㅗ_ㄷㅣ_ㅇㅗ_ㄱㅏ_': <gensim.models.keyedvectors.Vocab at 0x7f13128c90d0>,\n",
              " 'ㅌㅓ_ㅈㅣ_ㄴㅡㄴ': <gensim.models.keyedvectors.Vocab at 0x7f13128c9110>,\n",
              " 'ㄱㅡ_ㄹㅜㅂㅇㅣㄴㄷㅔ_': <gensim.models.keyedvectors.Vocab at 0x7f13128c9150>,\n",
              " 'ㅇㅓㄹㅁㅏ_ㄴㅏ_': <gensim.models.keyedvectors.Vocab at 0x7f13128c9190>,\n",
              " 'ㄱㅓㄱㅈㅓㅇㅎㅏ_ㅁㅕ_': <gensim.models.keyedvectors.Vocab at 0x7f13128c91d0>,\n",
              " '+': <gensim.models.keyedvectors.Vocab at 0x7f13128c9210>,\n",
              " 'ㅇㅗ_ㄴㅡㄹㅇㅡㄴ': <gensim.models.keyedvectors.Vocab at 0x7f13128c9250>,\n",
              " '(': <gensim.models.keyedvectors.Vocab at 0x7f13128c9290>,\n",
              " 'ㅇㅏ_ㅁㅏ_': <gensim.models.keyedvectors.Vocab at 0x7f13128c92d0>,\n",
              " 'ㅍㅕㄴㅈㅣㅂ': <gensim.models.keyedvectors.Vocab at 0x7f13128c9310>,\n",
              " 'ㅇㅜㅅㄱㅣ_ㄴㅔ_': <gensim.models.keyedvectors.Vocab at 0x7f13128c9350>,\n",
              " 'ㅋ__ㅋ__ㅋ__ㅋ__ㅋ__ㅋ__ㅋ__ㅋ__ㅋ__ㅋ__ㅋ__ㅋ__ㅋ__ㅋ__ㅋ__ㅋ__ㅋ__ㅋ__ㅋ__ㅋ__ㅋ__': <gensim.models.keyedvectors.Vocab at 0x7f13128c9390>,\n",
              " 'ㅂㅕㄹㄱㅓ_': <gensim.models.keyedvectors.Vocab at 0x7f13128c93d0>,\n",
              " 'ㄷㅏ_': <gensim.models.keyedvectors.Vocab at 0x7f13128c9410>,\n",
              " 'ㅇㅏㄹㄱㅗ_': <gensim.models.keyedvectors.Vocab at 0x7f13128c9450>,\n",
              " 'ㅇㅣㅆㄴㅡㄴ': <gensim.models.keyedvectors.Vocab at 0x7f13128c9490>,\n",
              " 'ㄱㅔ_': <gensim.models.keyedvectors.Vocab at 0x7f13128c94d0>,\n",
              " 'ㅈㅔ_ㅇㅣㄹ': <gensim.models.keyedvectors.Vocab at 0x7f13128c9510>,\n",
              " 'ㅇㅜㅅㄱㅣㅁㅋ__ㅋ__ㅋ__ㅋ__ㅋ__ㅋ__ㅋ__ㅋ__ㅋ__ㅋ__ㅋ__ㅋ__ㅋ__': <gensim.models.keyedvectors.Vocab at 0x7f13128c9550>,\n",
              " 'ㅇㅘ_...ㅇㅣ_ㄱㅓ_': <gensim.models.keyedvectors.Vocab at 0x7f13128c9590>,\n",
              " 'ㄱㅡㅂㅅㅏㅇㅅㅡㅇ': <gensim.models.keyedvectors.Vocab at 0x7f13128c95d0>,\n",
              " 'ㅈㅜㄴㅂㅣ_ㅎㅏ_ㅅㅣㄴ': <gensim.models.keyedvectors.Vocab at 0x7f13128c9610>,\n",
              " 'ㄱㅡ_..': <gensim.models.keyedvectors.Vocab at 0x7f13128c9650>,\n",
              " 'ㅇㅕㄴㄱㅜ_ㄹㅡㄹ': <gensim.models.keyedvectors.Vocab at 0x7f13128c9690>,\n",
              " 'ㅈㅗㅁ': <gensim.models.keyedvectors.Vocab at 0x7f13128c96d0>,\n",
              " 'ㅎㅏ_ㅅㅣㄴㅂㅜㄴ': <gensim.models.keyedvectors.Vocab at 0x7f13128c9710>,\n",
              " 'ㅇㅜㅅㄱㅣ_ㄴㅡㄴ': <gensim.models.keyedvectors.Vocab at 0x7f13128c9750>,\n",
              " 'ㅇㅘ_ㅈㅜㅇㅇㅔ_': <gensim.models.keyedvectors.Vocab at 0x7f13128c9790>,\n",
              " 'ㅎㅏㄴ': <gensim.models.keyedvectors.Vocab at 0x7f13128c97d0>,\n",
              " 'ㄱㅜ_ㅅㅓㄱㅇㅔ_ㅅㅓ_': <gensim.models.keyedvectors.Vocab at 0x7f13128c9810>,\n",
              " 'ㅎㅗㄹㄹㅗ_': <gensim.models.keyedvectors.Vocab at 0x7f13128c9850>,\n",
              " 'ㅈㅜㅇ....': <gensim.models.keyedvectors.Vocab at 0x7f13128c9890>,\n",
              " 'I': <gensim.models.keyedvectors.Vocab at 0x7f13128c98d0>,\n",
              " \"don't\": <gensim.models.keyedvectors.Vocab at 0x7f13128c9950>,\n",
              " 'care': <gensim.models.keyedvectors.Vocab at 0x7f13128c99d0>,\n",
              " 'about': <gensim.models.keyedvectors.Vocab at 0x7f13128c9a50>,\n",
              " 'English': <gensim.models.keyedvectors.Vocab at 0x7f13128c9ad0>,\n",
              " 'need': <gensim.models.keyedvectors.Vocab at 0x7f13128c9b50>,\n",
              " 'understand': <gensim.models.keyedvectors.Vocab at 0x7f13128c9bd0>,\n",
              " 'everything.': <gensim.models.keyedvectors.Vocab at 0x7f13128c9c50>,\n",
              " 'am': <gensim.models.keyedvectors.Vocab at 0x7f13128c9cd0>,\n",
              " 'happy': <gensim.models.keyedvectors.Vocab at 0x7f13128c9d50>,\n",
              " 'see': <gensim.models.keyedvectors.Vocab at 0x7f13128c9dd0>,\n",
              " 'here.': <gensim.models.keyedvectors.Vocab at 0x7f13128c9e50>,\n",
              " '_ㅠ__ㅠ_': <gensim.models.keyedvectors.Vocab at 0x7f13128c9e90>,\n",
              " 'ㅇㅠㄴㅈㅓㅇㅎㅏㄴ': <gensim.models.keyedvectors.Vocab at 0x7f13128c9ed0>,\n",
              " 'ㅇㅕㄱㅅㅣ_': <gensim.models.keyedvectors.Vocab at 0x7f13128c9f10>,\n",
              " 'ㄴㅗㄹㄹㅣㄹㄸㅐ_': <gensim.models.keyedvectors.Vocab at 0x7f13128c9f50>,\n",
              " 'ㅎㅕ_ㄹㅡㄹ': <gensim.models.keyedvectors.Vocab at 0x7f13128c9f90>,\n",
              " 'ㄹㅏ_ㅇㅣ_ㅌㅡ_ㄹㅗ_': <gensim.models.keyedvectors.Vocab at 0x7f13128c9fd0>,\n",
              " '༼;´༎ຶ': <gensim.models.keyedvectors.Vocab at 0x7f13128d2050>,\n",
              " '\\u06dd༎ຶ`༽': <gensim.models.keyedvectors.Vocab at 0x7f13128d2090>,\n",
              " 'ㅁㅣㄴㄱㅠ_ㄱㅏ_': <gensim.models.keyedvectors.Vocab at 0x7f13128d20d0>,\n",
              " 'ㅁㅐㄱㅂㅜㄱ': <gensim.models.keyedvectors.Vocab at 0x7f13128d2110>,\n",
              " 'ㅎㅏ_ㅁㅕㄴㅅㅓ_': <gensim.models.keyedvectors.Vocab at 0x7f13128d2150>,\n",
              " 'ㄷㅜㄹㅇㅣ_': <gensim.models.keyedvectors.Vocab at 0x7f13128d2190>,\n",
              " 'ㅇㅕ_ㅈㅓㄴㅎㅣ_': <gensim.models.keyedvectors.Vocab at 0x7f13128d21d0>,\n",
              " 'ㅌㅣ_ㄱㅕㄱㅌㅐ_ㄱㅕㄱ': <gensim.models.keyedvectors.Vocab at 0x7f13128d2210>,\n",
              " '😝': <gensim.models.keyedvectors.Vocab at 0x7f13128d2250>,\n",
              " 'ㅇㅠ_ㄴㅏㄴㅎㅣ_': <gensim.models.keyedvectors.Vocab at 0x7f13128d2290>,\n",
              " 'ㅁㅝ_ㅇㅑ_?': <gensim.models.keyedvectors.Vocab at 0x7f13128d22d0>,\n",
              " 'ㅎㅐㅆㅇㅡㄹㄸㅐ_': <gensim.models.keyedvectors.Vocab at 0x7f13128d2310>,\n",
              " 'ㄴㅏ_ㄷㅗ_': <gensim.models.keyedvectors.Vocab at 0x7f13128d2350>,\n",
              " 'ㅅㅐㅇㄱㅏㄱㅎㅏ_ㄱㅗ_': <gensim.models.keyedvectors.Vocab at 0x7f13128d2390>,\n",
              " 'ㅇㅣㅆㅇㅓㅆㄷㅏ_': <gensim.models.keyedvectors.Vocab at 0x7f13128d23d0>,\n",
              " 'ㅎㅕ_ㅇㅏㅀㅇㅣ_': <gensim.models.keyedvectors.Vocab at 0x7f13128d2410>,\n",
              " 'ㄴㅗㄹㄹㅣ_ㅁㅕㄴㅅㅓ_': <gensim.models.keyedvectors.Vocab at 0x7f13128d2450>,\n",
              " 'ㅅㅗㄴ': <gensim.models.keyedvectors.Vocab at 0x7f13128d2490>,\n",
              " 'ㄲㅗㄱ': <gensim.models.keyedvectors.Vocab at 0x7f13128d24d0>,\n",
              " 'ㅈㅏㅂㄱㅗ_': <gensim.models.keyedvectors.Vocab at 0x7f13128d2510>,\n",
              " 'ㅇㅣㅆㄴㅡㄴㄱㅓ_': <gensim.models.keyedvectors.Vocab at 0x7f13128d2550>,\n",
              " 'ㄴㅓㅁㄱㅟ_ㅇㅕ_ㅇㅝ_': <gensim.models.keyedvectors.Vocab at 0x7f13128d2590>,\n",
              " '_ㅠ__ㅠ__ㅠ__ㅠ__ㅠ__ㅠ__ㅠ_': <gensim.models.keyedvectors.Vocab at 0x7f13128d25d0>,\n",
              " '_ㅠ__ㅠ__ㅠ_': <gensim.models.keyedvectors.Vocab at 0x7f13128d2610>,\n",
              " 'ㅈㅣㄴㅉㅏㅋㅋ__ㅋ__ㅋ__ㅋ__ㅋ__ㅋ__ㅋ__ㅋ__ㅋ__': <gensim.models.keyedvectors.Vocab at 0x7f13128d2650>,\n",
              " 'ㄱㅡ_ㄹㅐ_ㅅㅓ_': <gensim.models.keyedvectors.Vocab at 0x7f13128d2690>,\n",
              " 'left': <gensim.models.keyedvectors.Vocab at 0x7f13128d2710>,\n",
              " 'right': <gensim.models.keyedvectors.Vocab at 0x7f13128d2790>,\n",
              " 'ㅇㅡ_ㄹㅗ_': <gensim.models.keyedvectors.Vocab at 0x7f13128d27d0>,\n",
              " '😜': <gensim.models.keyedvectors.Vocab at 0x7f13128d2810>,\n",
              " 'ㅁㅗㅅㅂㅗ_ㄴㅡㄴ': <gensim.models.keyedvectors.Vocab at 0x7f13128d2850>,\n",
              " 'ㄴㅓ_ㅇㅢ_': <gensim.models.keyedvectors.Vocab at 0x7f13128d2890>,\n",
              " 'ㅇㅣ_ㄹㅐ_ㅅㅓ_': <gensim.models.keyedvectors.Vocab at 0x7f13128d28d0>,\n",
              " 'ㄴㅐ_ㄱㅏ_': <gensim.models.keyedvectors.Vocab at 0x7f13128d2910>,\n",
              " 'ㅅㅔ_ㅂㅡㄴㅌㅣㄴ': <gensim.models.keyedvectors.Vocab at 0x7f13128d2950>,\n",
              " 'ㅈㅗㅎㅇㅏ_ㅎㅏ_ㅈㅣ_': <gensim.models.keyedvectors.Vocab at 0x7f13128d2990>,\n",
              " 'ㅋ__ㅋ__ㅋ__ㅋ__ㅋ__ㅋ__ㅋ__ㅋ__ㅋ__ㅋ__ㅋ__ㅋ__ㅋ__ㅋ__ㅋ__ㅋ__ㅋ__ㅋ__ㅋ__ㅋ__ㅋ__ㅋ__ㅋ__ㅋ__ㅋ__ㅋ__ㅋ__ㅋ__ㅋ__ㅋ__': <gensim.models.keyedvectors.Vocab at 0x7f13128d29d0>,\n",
              " 'ㅌㅔ_ㅇㅣ_ㅍㅡ_ㄹㅡㄹ': <gensim.models.keyedvectors.Vocab at 0x7f13128d2a10>,\n",
              " 'ㅈㅓ_ㄹㅓㅎㄱㅔ_': <gensim.models.keyedvectors.Vocab at 0x7f13128d2a50>,\n",
              " 'ㅇㅜ_ㄷㅏㅇㅌㅏㅇㅌㅏㅇ': <gensim.models.keyedvectors.Vocab at 0x7f13128d2a90>,\n",
              " 'ㅅㅔ_ㅂㅗㅇㅇㅣ_': <gensim.models.keyedvectors.Vocab at 0x7f13128d2ad0>,\n",
              " 'ㅎㅓㄹ': <gensim.models.keyedvectors.Vocab at 0x7f13128d2b10>,\n",
              " 'ㅈㅣㄴㅉㅏ_...': <gensim.models.keyedvectors.Vocab at 0x7f13128d2b50>,\n",
              " 'ㅅㅣㄴㄱㅣ_ㅎㅏㄴ': <gensim.models.keyedvectors.Vocab at 0x7f13128d2b90>,\n",
              " 'ㄱㅓㄴ': <gensim.models.keyedvectors.Vocab at 0x7f13128d2bd0>,\n",
              " 'ㅂㅜ_ㅁㅗ_ㄴㅣㅁㅇㅣ_': <gensim.models.keyedvectors.Vocab at 0x7f13128d2c10>,\n",
              " 'ㅍㅕㄴㅎㅏ_ㄱㅔ_': <gensim.models.keyedvectors.Vocab at 0x7f13128d2c50>,\n",
              " 'ㅈㅣ_ㄴㅐㄹ': <gensim.models.keyedvectors.Vocab at 0x7f13128d2c90>,\n",
              " 'ㅅㅜ_': <gensim.models.keyedvectors.Vocab at 0x7f13128d2cd0>,\n",
              " 'ㅇㅣㅆㅇㅓㅆㄷㅓㄴ': <gensim.models.keyedvectors.Vocab at 0x7f13128d2d10>,\n",
              " 'ㅅㅓㅇㄱㅕㄱㅇㅣ_': <gensim.models.keyedvectors.Vocab at 0x7f13128d2d50>,\n",
              " 'ㅇㅗㄴㅅㅜㄴㅎㅏㄴ': <gensim.models.keyedvectors.Vocab at 0x7f13128d2d90>,\n",
              " 'ㅈㅜㄹㅇㅡㄴ': <gensim.models.keyedvectors.Vocab at 0x7f13128d2dd0>,\n",
              " 'ㅇㅏㄹㅇㅏㅆㅈㅣ_ㅁㅏㄴ': <gensim.models.keyedvectors.Vocab at 0x7f13128d2e10>,\n",
              " 'ㄱㅡㄴㄷㅔ_': <gensim.models.keyedvectors.Vocab at 0x7f13128d2e50>,\n",
              " 'ㅇㅓ_ㄹㅡㄴㄷㅡㄹㄱㅘ_': <gensim.models.keyedvectors.Vocab at 0x7f13128d2e90>,\n",
              " 'ㅈㅏ_ㅇㅕㄴㅅㅡ_ㄹㅓㅂㄱㅔ_': <gensim.models.keyedvectors.Vocab at 0x7f13128d2ed0>,\n",
              " 'ㅇㅓ_ㅇㅜㄹㄹㅣㄹ': <gensim.models.keyedvectors.Vocab at 0x7f13128d2f10>,\n",
              " 'ㅁㅗㄹㄹㅏㅆㅇㅓ_ㅇㅛ_': <gensim.models.keyedvectors.Vocab at 0x7f13128d2f50>,\n",
              " '_ㅠ__ㅠ__ㅠ__ㅠ__ㅠ__ㅠ__ㅠ__ㅠ__ㅠ__ㅠ_': <gensim.models.keyedvectors.Vocab at 0x7f13128d2f90>,\n",
              " 'ㅎㅘ_ㅂㅗ_': <gensim.models.keyedvectors.Vocab at 0x7f13128d2fd0>,\n",
              " 'ㅉㅣㄱㅇㅡㄹㄸㅐ_': <gensim.models.keyedvectors.Vocab at 0x7f13128db050>,\n",
              " 'ㅂㅜㅌㅇㅓ_ㅇㅣㅆㄴㅡㄴㄱㅓ_': <gensim.models.keyedvectors.Vocab at 0x7f13128db090>,\n",
              " 'ㅂㅗㄴ': <gensim.models.keyedvectors.Vocab at 0x7f13128db0d0>,\n",
              " 'ㄱㅓㅅ': <gensim.models.keyedvectors.Vocab at 0x7f13128db110>,\n",
              " 'ㄱㅏㅌㄷㅏ_....': <gensim.models.keyedvectors.Vocab at 0x7f13128db150>,\n",
              " 'ㄱㅡ_ㅁㅏㄴㅋㅡㅁ': <gensim.models.keyedvectors.Vocab at 0x7f13128db190>,\n",
              " 'ㅈㅗㅎㅇㅡㄴ': <gensim.models.keyedvectors.Vocab at 0x7f13128db1d0>,\n",
              " 'ㄷㅜㄹㄷㅏ_': <gensim.models.keyedvectors.Vocab at 0x7f13128db210>,\n",
              " 'ㅅㅔㄱㅅㅣ_ㅎㅏ_ㄱㅔ_': <gensim.models.keyedvectors.Vocab at 0x7f13128db250>,\n",
              " 'ㅅㅐㅇㄱㅣㄴㄷㅡㅅ': <gensim.models.keyedvectors.Vocab at 0x7f13128db290>,\n",
              " 'ㅁㅣ_ㅇㅏㄴㅎㅐ_': <gensim.models.keyedvectors.Vocab at 0x7f13128db2d0>,\n",
              " 'ㅋ__ㅋ__ㅋ__ㅋ__': <gensim.models.keyedvectors.Vocab at 0x7f13128db310>,\n",
              " 'ㅎㅏ_ㄴㅡㄴㄷㅔ_': <gensim.models.keyedvectors.Vocab at 0x7f13128db350>,\n",
              " 'ㅁㅕㅇㅎㅗ_ㄱㅏ_': <gensim.models.keyedvectors.Vocab at 0x7f13128db390>,\n",
              " 'ㅁㅣ_ㅇㅏㄴㅎㅐ_~': <gensim.models.keyedvectors.Vocab at 0x7f13128db3d0>,\n",
              " 'ㅎㅐ_ㅅㅓ_': <gensim.models.keyedvectors.Vocab at 0x7f13128db410>,\n",
              " 'ㅈㅣㅇㅉㅏ_': <gensim.models.keyedvectors.Vocab at 0x7f13128db450>,\n",
              " 'ㅇㅘㄴㅈㅓㄴㅇㅜㅅㄱㅕ_': <gensim.models.keyedvectors.Vocab at 0x7f13128db490>,\n",
              " 'ㅋ__ㅋ__ㅋ__ㅋ__ㅋ__': <gensim.models.keyedvectors.Vocab at 0x7f13128db4d0>,\n",
              " 'The': <gensim.models.keyedvectors.Vocab at 0x7f13128db550>,\n",
              " 'just': <gensim.models.keyedvectors.Vocab at 0x7f13128db5d0>,\n",
              " 'how': <gensim.models.keyedvectors.Vocab at 0x7f13128db650>,\n",
              " 'funny': <gensim.models.keyedvectors.Vocab at 0x7f13128db6d0>,\n",
              " 'ㅇㅏ_ㄴㅏ_': <gensim.models.keyedvectors.Vocab at 0x7f13128db710>,\n",
              " 'ㅇㅣㄴㅌㅓ_ㅂㅠ_ㅇㅔ_ㅅㅓ_': <gensim.models.keyedvectors.Vocab at 0x7f13128db750>,\n",
              " 'ㄱㅏ_ㅈㅕ_ㅇㅗ_ㅈㅣ_': <gensim.models.keyedvectors.Vocab at 0x7f13128db790>,\n",
              " 'ㅁㅏㄹㄹㅏ_ㄱㅗ_': <gensim.models.keyedvectors.Vocab at 0x7f13128db7d0>,\n",
              " '_ㅜ__ㅜ_ㅋ__ㅋ__ㅋ__ㅋ__ㅋ__ㅋ__ㅋ__ㅋ__ㅋ__': <gensim.models.keyedvectors.Vocab at 0x7f13128db810>,\n",
              " 'ㅂㅏㄺㅇㅏ_ㅂㅗ_ㅇㅕ_ㅅㅓ_': <gensim.models.keyedvectors.Vocab at 0x7f13128db850>,\n",
              " 'ㅎㅣㅁㅇㅣ_': <gensim.models.keyedvectors.Vocab at 0x7f13128db890>,\n",
              " 'ㄴㅏㄴㄷㅏ_': <gensim.models.keyedvectors.Vocab at 0x7f13128db8d0>,\n",
              " 'ㄱㅣ_ㄷㅏ_ㄹㅕㅆㅇㅓ_': <gensim.models.keyedvectors.Vocab at 0x7f13128db910>,\n",
              " 'ㅅㅔㅂㅌㅣㄴ': <gensim.models.keyedvectors.Vocab at 0x7f13128db950>,\n",
              " '..': <gensim.models.keyedvectors.Vocab at 0x7f13128db9d0>,\n",
              " '💞💞💞': <gensim.models.keyedvectors.Vocab at 0x7f13128dba10>,\n",
              " 'ㅇㅣ_ㄸㅐ_ㄲㅏ_ㅈㅣ_': <gensim.models.keyedvectors.Vocab at 0x7f13128dba50>,\n",
              " 'ㅂㅘ_ㅇㅗㄴ': <gensim.models.keyedvectors.Vocab at 0x7f13128dba90>,\n",
              " 'ㅈㅏㅂㅈㅣ_': <gensim.models.keyedvectors.Vocab at 0x7f13128dbad0>,\n",
              " 'ㅈㅜㅇㅇㅔ_': <gensim.models.keyedvectors.Vocab at 0x7f13128dbb10>,\n",
              " 'ㄱㅟ_ㅇㅕ_ㅇㅜㄴ': <gensim.models.keyedvectors.Vocab at 0x7f13128dbb50>,\n",
              " 'ㅈㅐ_ㅁㅣㅆㄴㅡㄴ': <gensim.models.keyedvectors.Vocab at 0x7f13128dbb90>,\n",
              " 'ㅈㅣㄹㅁㅜㄴㄷㅡㄹㅇㅣ_': <gensim.models.keyedvectors.Vocab at 0x7f13128dbbd0>,\n",
              " 'ㅁㅏㄶㅇㅏㅆㄱㅗ_': <gensim.models.keyedvectors.Vocab at 0x7f13128dbc10>,\n",
              " 'ㅇㅏ_ㅅㅣ_ㄴㅡㄴㄱㅜ_ㄴㅏ_': <gensim.models.keyedvectors.Vocab at 0x7f13128dbc50>,\n",
              " 'ㅅㅣㅍㅇㅓㅆㄷㅓㄴ': <gensim.models.keyedvectors.Vocab at 0x7f13128dbc90>,\n",
              " 'ㅅㅔㄴㅅㅡ_ㄷㅗ_': <gensim.models.keyedvectors.Vocab at 0x7f13128dbcd0>,\n",
              " 'ㄴㅓㅁ': <gensim.models.keyedvectors.Vocab at 0x7f13128dbd10>,\n",
              " 'ㅇㅣㅅㅁㅗㅁ': <gensim.models.keyedvectors.Vocab at 0x7f13128dbd50>,\n",
              " 'ㅂㅘㅆㅇㅓ_ㅇㅛ_': <gensim.models.keyedvectors.Vocab at 0x7f13128dbd90>,\n",
              " 'ㄱㅐ_ㅇㅣㄴㅈㅓㄱㅇㅡ_ㄹㅗ_': <gensim.models.keyedvectors.Vocab at 0x7f13128dbdd0>,\n",
              " 'ㄴㅓㅁ..': <gensim.models.keyedvectors.Vocab at 0x7f13128dbe10>,\n",
              " 'ㅇㅜㅅㄱㅣㅁ..': <gensim.models.keyedvectors.Vocab at 0x7f13128dbe50>,\n",
              " 'ㅇㅣ_ㅂㅓㄴㅍㅕㄴ': <gensim.models.keyedvectors.Vocab at 0x7f13128dbe90>,\n",
              " 'ㅁㅏㄱ': <gensim.models.keyedvectors.Vocab at 0x7f13128dbed0>,\n",
              " 'ㅇㅜㅅㄱㅣㄴㄱㅔ_': <gensim.models.keyedvectors.Vocab at 0x7f13128dbf10>,\n",
              " 'ㅎㅕ_ㄱㅏ_': <gensim.models.keyedvectors.Vocab at 0x7f13128dbf50>,\n",
              " 'ㄹㅔㅍㄹㅏ_': <gensim.models.keyedvectors.Vocab at 0x7f13128dbf90>,\n",
              " 'ㄷㅡ_ㄹㅣㅂ': <gensim.models.keyedvectors.Vocab at 0x7f13128dbfd0>,\n",
              " 'ㅅㅣㄹㄹㅕㄱ': <gensim.models.keyedvectors.Vocab at 0x7f13128e5050>,\n",
              " 'ㄱㅡ_ㅅㅐ_': <gensim.models.keyedvectors.Vocab at 0x7f13128e5090>,\n",
              " 'ㄸㅗ_': <gensim.models.keyedvectors.Vocab at 0x7f13128e50d0>,\n",
              " 'ㄹㅔ_ㄱㅗ_': <gensim.models.keyedvectors.Vocab at 0x7f13128e5110>,\n",
              " 'ㅅㅗ_ㄱㅐ_ㅎㅏ_ㄴㅡㄴㄷㅔ_': <gensim.models.keyedvectors.Vocab at 0x7f13128e5150>,\n",
              " 'ㅊㅏㅇㅁㅜㄴ': <gensim.models.keyedvectors.Vocab at 0x7f13128e5190>,\n",
              " 'ㅁㅕㅇㅅㅏㅇ': <gensim.models.keyedvectors.Vocab at 0x7f13128e51d0>,\n",
              " 'ㅇㅣ_ㅈㅔ_ㄴㅡㄴ': <gensim.models.keyedvectors.Vocab at 0x7f13128e5210>,\n",
              " 'ㅇㅜ_ㄹㅣ_': <gensim.models.keyedvectors.Vocab at 0x7f13128e5250>,\n",
              " 'ㅉㅣㄱㅇㅡㄴ': <gensim.models.keyedvectors.Vocab at 0x7f13128e5290>,\n",
              " 'ㄱㅡ_ㄹㅣ_ㄱㅗ_': <gensim.models.keyedvectors.Vocab at 0x7f13128e52d0>,\n",
              " '4ㅇㅝㄹ': <gensim.models.keyedvectors.Vocab at 0x7f13128e5310>,\n",
              " '21ㅇㅣㄹ': <gensim.models.keyedvectors.Vocab at 0x7f13128e5350>,\n",
              " 'ㅋㅓㅁㅂㅐㄱ': <gensim.models.keyedvectors.Vocab at 0x7f13128e5390>,\n",
              " 'ㅅㅏ_ㄹㅏㅇㅎㅏㅂㄴㅣ_ㄷㅏ_': <gensim.models.keyedvectors.Vocab at 0x7f13128e53d0>,\n",
              " 'Kim': <gensim.models.keyedvectors.Vocab at 0x7f13128e5450>,\n",
              " 'all': <gensim.models.keyedvectors.Vocab at 0x7f13128e54d0>,\n",
              " 'that': <gensim.models.keyedvectors.Vocab at 0x7f13128e5550>,\n",
              " 'ㅈㅣㄹㅁㅜㄴ': <gensim.models.keyedvectors.Vocab at 0x7f13128e5590>,\n",
              " 'ㄷㅚ_ㄱㅔ_': <gensim.models.keyedvectors.Vocab at 0x7f13128e55d0>,\n",
              " 'ㅅㅣㄴㄱㅕㅇㅆㅡ_ㄱㅗ_': <gensim.models.keyedvectors.Vocab at 0x7f13128e5610>,\n",
              " 'ㅇㅏㄹㅇㅏ_ㅂㅗ_ㅅㅣ_ㄱㅗ_': <gensim.models.keyedvectors.Vocab at 0x7f13128e5650>,\n",
              " 'ㅈㅜㄴㅂㅣ_ㅎㅏ_ㅅㅣㄴㄱㅔ_': <gensim.models.keyedvectors.Vocab at 0x7f13128e5690>,\n",
              " 'ㄴㅡ_ㄲㅕ_ㅈㅕ_ㅅㅓ_': <gensim.models.keyedvectors.Vocab at 0x7f13128e56d0>,\n",
              " 'ㄱㅏㅁㅅㅏ_ㅎㅐ_ㅇㅛ_': <gensim.models.keyedvectors.Vocab at 0x7f13128e5710>,\n",
              " \"i'm\": <gensim.models.keyedvectors.Vocab at 0x7f13128e5790>,\n",
              " 'soo': <gensim.models.keyedvectors.Vocab at 0x7f13128e5810>,\n",
              " '🤣😂': <gensim.models.keyedvectors.Vocab at 0x7f13128e5850>,\n",
              " 'his': <gensim.models.keyedvectors.Vocab at 0x7f13128e58d0>,\n",
              " 'hair': <gensim.models.keyedvectors.Vocab at 0x7f13128e5950>,\n",
              " 'by': <gensim.models.keyedvectors.Vocab at 0x7f13128e59d0>,\n",
              " 'rain': <gensim.models.keyedvectors.Vocab at 0x7f13128e5a50>,\n",
              " '😂😂😂': <gensim.models.keyedvectors.Vocab at 0x7f13128e5a90>,\n",
              " 'ㅅㅏ_ㅅㅣㄹ': <gensim.models.keyedvectors.Vocab at 0x7f13128e5ad0>,\n",
              " 'ㅇㅜㅅㄱㅣㄴ': <gensim.models.keyedvectors.Vocab at 0x7f13128e5b10>,\n",
              " 'ㅁㅔㅁㅂㅓ_ㄴㅡㄴ': <gensim.models.keyedvectors.Vocab at 0x7f13128e5b50>,\n",
              " 'ㅇㅠ_ㅊㅣ_ㅇㅝㄴ': <gensim.models.keyedvectors.Vocab at 0x7f13128e5b90>,\n",
              " 'ㅅㅓㄴㅅㅐㅇㄴㅣㅁㅇㅢ_': <gensim.models.keyedvectors.Vocab at 0x7f13128e5bd0>,\n",
              " 'ㅊㅏㄱㅎㅏㄴ': <gensim.models.keyedvectors.Vocab at 0x7f13128e5c10>,\n",
              " 'ㅇㅣㄹㅇㅡㄹ': <gensim.models.keyedvectors.Vocab at 0x7f13128e5c50>,\n",
              " 'ㅊㅣㅇㅊㅏㄴㅎㅐ_ㅈㅜ_ㄱㅣ_': <gensim.models.keyedvectors.Vocab at 0x7f13128e5c90>,\n",
              " 'ㅈㅔ_ㄱㅖ_ㅇㅑㄱ': <gensim.models.keyedvectors.Vocab at 0x7f13128e5cd0>,\n",
              " 'ㅈㅔ_ㅂㅏㄹ': <gensim.models.keyedvectors.Vocab at 0x7f13128e5d10>,\n",
              " 'ㄷㅏ_ㅅㅣ_': <gensim.models.keyedvectors.Vocab at 0x7f13128e5d50>,\n",
              " 'ㅈㅓㄴㅇㅝㄴ': <gensim.models.keyedvectors.Vocab at 0x7f13128e5d90>,\n",
              " 'ㅁㅗ_ㄷㅜ_': <gensim.models.keyedvectors.Vocab at 0x7f13128e5dd0>,\n",
              " 'ㄱㅏ_ㅈㅏ_': <gensim.models.keyedvectors.Vocab at 0x7f13128e5e10>,\n",
              " '_ㅜ__ㅜ__ㅜ__ㅜ__ㅜ__ㅜ_': <gensim.models.keyedvectors.Vocab at 0x7f13128e5e50>,\n",
              " 'ㄴㅏ_ㅁㅏㄴ': <gensim.models.keyedvectors.Vocab at 0x7f13128e5e90>,\n",
              " 'ㅎㅏ_ㄴㅡㄴ': <gensim.models.keyedvectors.Vocab at 0x7f13128e5ed0>,\n",
              " 'ㄱㅓ_': <gensim.models.keyedvectors.Vocab at 0x7f13128e5f10>,\n",
              " 'ㄱㅐ_ㅇㅜㅅㄱㅣ_ㄴㅑ_': <gensim.models.keyedvectors.Vocab at 0x7f13128e5f50>,\n",
              " 'ㅈㅗㅇㅈㅗㅇ': <gensim.models.keyedvectors.Vocab at 0x7f13128e5f90>,\n",
              " 'ㅇㅜㅅㅇㅡㅁㅂㅔㄹ': <gensim.models.keyedvectors.Vocab at 0x7f13128e5fd0>,\n",
              " 'ㄱㅟ_ㅇㅕ_ㅇㅝ_': <gensim.models.keyedvectors.Vocab at 0x7f13128ec050>,\n",
              " 'ㅈㅜㄱㄱㅔㅆㄴㅔ_': <gensim.models.keyedvectors.Vocab at 0x7f13128ec090>,\n",
              " 'ㅈㅡㅇㅁㅏㄹ': <gensim.models.keyedvectors.Vocab at 0x7f13128ec0d0>,\n",
              " 'ㅋㅐ_ㄹㅓㅅㄷㅡㄹ': <gensim.models.keyedvectors.Vocab at 0x7f13128ec110>,\n",
              " 'ㄴㅏ_ㄴㅡㄴㄱㅜ_ㄴㅏ_': <gensim.models.keyedvectors.Vocab at 0x7f13128ec150>,\n",
              " 'ㅎㅓㅇ': <gensim.models.keyedvectors.Vocab at 0x7f13128ec190>,\n",
              " 'ㄴㅐ_': <gensim.models.keyedvectors.Vocab at 0x7f13128ec1d0>,\n",
              " 'ㄱㅏ_ㅅㅜ_ㅇㅑ_': <gensim.models.keyedvectors.Vocab at 0x7f13128ec210>,\n",
              " 'ㅈㅣ_ㄱㅜ_ㅃㅜ_ㅅㅕ_': <gensim.models.keyedvectors.Vocab at 0x7f13128ec250>,\n",
              " 'ㄷㅏ_ㅃㅜ_ㅅㅕ_': <gensim.models.keyedvectors.Vocab at 0x7f13128ec290>,\n",
              " 'ㅃㅜ_ㅅㅕ_': <gensim.models.keyedvectors.Vocab at 0x7f13128ec2d0>,\n",
              " 'ㅅㅏㄹㅃㅏ_ㅈㅣㄴㄱㅓ_': <gensim.models.keyedvectors.Vocab at 0x7f13128ec310>,\n",
              " 'ㅁㅏㅁㅇㅏ_ㅍㅡ_ㄷㅏ_..': <gensim.models.keyedvectors.Vocab at 0x7f13128ec350>,\n",
              " 'ㅇㅏ_ㅁㅜ_ㄹㅣ_': <gensim.models.keyedvectors.Vocab at 0x7f13128ec390>,\n",
              " 'ㄷㅡㄹㅇㅓ_ㄷㅗ_': <gensim.models.keyedvectors.Vocab at 0x7f13128ec3d0>,\n",
              " 'ㅌㅏㅁㄴㅏ_ㄴㅡㄴ': <gensim.models.keyedvectors.Vocab at 0x7f13128ec410>,\n",
              " 'ㄱㅜ_ㄴㅏ_': <gensim.models.keyedvectors.Vocab at 0x7f13128ec450>,\n",
              " 'ㅈㅗㄴㅂㅓ_ㅎㅏㅂㄴㅣ_ㄷㅏ_': <gensim.models.keyedvectors.Vocab at 0x7f13128ec490>,\n",
              " '+)': <gensim.models.keyedvectors.Vocab at 0x7f13128ec510>,\n",
              " 'ㅂㅓㄹㅆㅓ_': <gensim.models.keyedvectors.Vocab at 0x7f13128ec550>,\n",
              " 'ㅇㅏㄴㅁㅜ_': <gensim.models.keyedvectors.Vocab at 0x7f13128ec590>,\n",
              " 'ㅇㅗ_ㅃㅏ_ㄷㅡㄹ': <gensim.models.keyedvectors.Vocab at 0x7f13128ec5d0>,\n",
              " 'ㅇㅕ_ㄱㅣ_ㅅㅓ_': <gensim.models.keyedvectors.Vocab at 0x7f13128ec610>,\n",
              " 'ㅂㅗ_ㄴㅣ_ㄲㅏㄴ': <gensim.models.keyedvectors.Vocab at 0x7f13128ec650>,\n",
              " 'ㄷㅐ_ㅊㅜㅇㅅㅏㄹㅈㅏ_': <gensim.models.keyedvectors.Vocab at 0x7f13128ec690>,\n",
              " 'ㄷㅚㄴ': <gensim.models.keyedvectors.Vocab at 0x7f13128ec6d0>,\n",
              " 'ㄴㅜㄴ': <gensim.models.keyedvectors.Vocab at 0x7f13128ec710>,\n",
              " 'ㄱㅣㅁㅁㅣㄴㄱㅠ_': <gensim.models.keyedvectors.Vocab at 0x7f13128ec750>,\n",
              " '4ㅁㅕㅇ': <gensim.models.keyedvectors.Vocab at 0x7f13128ec790>,\n",
              " 'ㅈㅗ_ㅎㅏㅂㅇㅢ_': <gensim.models.keyedvectors.Vocab at 0x7f13128ec7d0>,\n",
              " 'small': <gensim.models.keyedvectors.Vocab at 0x7f13128ec850>,\n",
              " 'ㅇㅗ_ㄴㅡㄹㄷㅗ_': <gensim.models.keyedvectors.Vocab at 0x7f13128ec890>,\n",
              " 'ㅇㅓ_ㄱㅣㅁㅇㅓㅄㅇㅣ_': <gensim.models.keyedvectors.Vocab at 0x7f13128ec8d0>,\n",
              " 'ㄷㅡㅇㅈㅏㅇㅎㅏㄴ': <gensim.models.keyedvectors.Vocab at 0x7f13128ec910>,\n",
              " 'ㅇㅏ_ㅆㅣ_': <gensim.models.keyedvectors.Vocab at 0x7f13128ec950>,\n",
              " 'ㅇㅜㅅㄴㅡㄴㄱㅓ_': <gensim.models.keyedvectors.Vocab at 0x7f13128ec990>,\n",
              " 'ㄱㅐ_ㅈㅗㅎㅇㅏ_': <gensim.models.keyedvectors.Vocab at 0x7f13128ec9d0>,\n",
              " 'ㅇㅙ_ㅇㅣ_ㄹㅓㅎㄱㅔ_': <gensim.models.keyedvectors.Vocab at 0x7f13128eca10>,\n",
              " 'ㅇㅜㅅㄱㅕ_ㅇㅛ_ㅋ__ㅋ__ㅋ__ㅋ__ㅋ__': <gensim.models.keyedvectors.Vocab at 0x7f13128eca50>,\n",
              " 'ㅍㅛ_ㅈㅓㅇㅇㅣ_': <gensim.models.keyedvectors.Vocab at 0x7f13128eca90>,\n",
              " 'ㄷㅏㅇㅇㅕㄴㅎㅣ_': <gensim.models.keyedvectors.Vocab at 0x7f13128ecad0>,\n",
              " 'ㄴㅑㅇㅇㅣ_ㄴㅡㄴ': <gensim.models.keyedvectors.Vocab at 0x7f13128ecb10>,\n",
              " 'ㄷㅙ_ㅈㅣ_ㄹㅏ_ㄱㅗ_': <gensim.models.keyedvectors.Vocab at 0x7f13128ecb50>,\n",
              " 'ㅅㅐㅇㄱㅏㄱㅎㅏ_ㄴㅡㄴ': <gensim.models.keyedvectors.Vocab at 0x7f13128ecb90>,\n",
              " 'ㄱㅕㄹㄱㅜㄱ': <gensim.models.keyedvectors.Vocab at 0x7f13128ecbd0>,\n",
              " 'ㄷㅙ_ㅈㅣ_ㄱㅏ_': <gensim.models.keyedvectors.Vocab at 0x7f13128ecc10>,\n",
              " 'ㅁㅏㅈㅇㅏㅆㄷㅏ_ㄱㅗ_': <gensim.models.keyedvectors.Vocab at 0x7f13128ecc50>,\n",
              " 'ㅁㅏㄴㅈㅗㄱㅎㅏ_ㄴㅡㄴ': <gensim.models.keyedvectors.Vocab at 0x7f13128ecc90>,\n",
              " 'ㄴㅑㅇㅇㅣ_ㄹㅏ_ㄱㅗ_': <gensim.models.keyedvectors.Vocab at 0x7f13128eccd0>,\n",
              " 'ㅇㅣㄴㅈㅓㅇㅎㅏㄴ': <gensim.models.keyedvectors.Vocab at 0x7f13128ecd10>,\n",
              " 'ㅇㅏ_,': <gensim.models.keyedvectors.Vocab at 0x7f13128ecd50>,\n",
              " 'ㅈㅣㄴㅉㅏ_ㅋ__ㅋ__ㅋ__': <gensim.models.keyedvectors.Vocab at 0x7f13128ecd90>,\n",
              " 'ㅈㅏ_ㅅㅔ_ㅎㅏ_ㄱㅗ_': <gensim.models.keyedvectors.Vocab at 0x7f13128ecdd0>,\n",
              " 'ㅅㅔ_ㅅㅣㅁㅎㅏㄴ': <gensim.models.keyedvectors.Vocab at 0x7f13128ece10>,\n",
              " 'ㅈㅣㄹㅁㅜㄴㅇㅡㄹ': <gensim.models.keyedvectors.Vocab at 0x7f13128ece50>,\n",
              " 'ㅇㅣㅆㄴㅡㄴㄱㅓㄴ': <gensim.models.keyedvectors.Vocab at 0x7f13128ece90>,\n",
              " 'ㅋㅐ_ㄹㅓㅅ': <gensim.models.keyedvectors.Vocab at 0x7f13128eced0>,\n",
              " 'ㅈㅝㄹㄹㅏ_': <gensim.models.keyedvectors.Vocab at 0x7f13128ecf10>,\n",
              " 'ㅅㅔ_ㅅㅏㅇ': <gensim.models.keyedvectors.Vocab at 0x7f13128ecf50>,\n",
              " 'ㅈㅓㅇㅈㅣㄱㅎㅏㄴ': <gensim.models.keyedvectors.Vocab at 0x7f13128ecf90>,\n",
              " 'ㄱㅏ_ㄲㅡㅁ': <gensim.models.keyedvectors.Vocab at 0x7f13128ecfd0>,\n",
              " 'ㅇㅙ_ㅋㅔ_': <gensim.models.keyedvectors.Vocab at 0x7f1312876050>,\n",
              " 'ㅇㅙ_ㅋㅐ_': <gensim.models.keyedvectors.Vocab at 0x7f1312876090>,\n",
              " 'ㅇㅓ_ㅇㅜ_': <gensim.models.keyedvectors.Vocab at 0x7f13128760d0>,\n",
              " 'ㅇㅏㄴㄱㅕㅇ': <gensim.models.keyedvectors.Vocab at 0x7f1312876110>,\n",
              " 'ㅈㅏㄹㅇㅓ_ㅇㅜㄹㄹㅕ_': <gensim.models.keyedvectors.Vocab at 0x7f1312876150>,\n",
              " '_ㅠ__ㅠ__ㅠ__ㅠ__ㅠ__ㅠ_': <gensim.models.keyedvectors.Vocab at 0x7f1312876190>,\n",
              " 'ㅁㅝㄴㄷㅔㅋㅋ__ㅋ__ㅋ__ㅋ__ㅋ__ㅋ__ㅋ__ㅋ__': <gensim.models.keyedvectors.Vocab at 0x7f13128761d0>,\n",
              " 'ㅈㅣㄴㅅㅣㅁ': <gensim.models.keyedvectors.Vocab at 0x7f1312876210>,\n",
              " 'ㄱㅟ_ㅇㅕ_ㅇㅜㅁ': <gensim.models.keyedvectors.Vocab at 0x7f1312876250>,\n",
              " 'ㅇㅝㄴㄹㅏㅇㅎㅐ_': <gensim.models.keyedvectors.Vocab at 0x7f1312876290>,\n",
              " 'ㅎㅏ_ㄴㅣ_ㅎㅐ_': <gensim.models.keyedvectors.Vocab at 0x7f13128762d0>,\n",
              " 'ㄷㅙ_': <gensim.models.keyedvectors.Vocab at 0x7f1312876310>,\n",
              " 'ㄴㅑㅇ': <gensim.models.keyedvectors.Vocab at 0x7f1312876350>,\n",
              " 'ㅎㅏㄹㄸㅐ_': <gensim.models.keyedvectors.Vocab at 0x7f1312876390>,\n",
              " 'ㄱㅡ_ㄹㅓㅁ': <gensim.models.keyedvectors.Vocab at 0x7f13128763d0>,\n",
              " 'ㄴㅜㄴㅇㅡ_ㄹㅗ_': <gensim.models.keyedvectors.Vocab at 0x7f1312876410>,\n",
              " 'ㅂㅗ_ㄴㅡㄴㄱㅓ_': <gensim.models.keyedvectors.Vocab at 0x7f1312876450>,\n",
              " 'ㅈㅏㄹ': <gensim.models.keyedvectors.Vocab at 0x7f1312876490>,\n",
              " 'ㅈㅗㅎㅇㅏ_': <gensim.models.keyedvectors.Vocab at 0x7f13128764d0>,\n",
              " 'ㅁㅏ_ㅇㅡㅁㅇㅏ_ㅍㅏ_': <gensim.models.keyedvectors.Vocab at 0x7f1312876510>,\n",
              " '2021': <gensim.models.keyedvectors.Vocab at 0x7f1312876590>,\n",
              " 'ㄴㅓㄴ': <gensim.models.keyedvectors.Vocab at 0x7f13128765d0>,\n",
              " 'ㄱㅣ_ㄹㅗㄱㅇㅡ_ㄹㅗ_': <gensim.models.keyedvectors.Vocab at 0x7f1312876610>,\n",
              " 'ㅇㅗㄹㅌㅏ_ㅇㅣㅁ': <gensim.models.keyedvectors.Vocab at 0x7f1312876650>,\n",
              " 'ㄹㅔ_ㅈㅓㄴㄷㅡ_ㄴㅣ_ㄲㅏ_': <gensim.models.keyedvectors.Vocab at 0x7f1312876690>,\n",
              " 'ㄱㅡ_ㄷㅡㄹㅇㅡㄴ': <gensim.models.keyedvectors.Vocab at 0x7f13128766d0>,\n",
              " 'ㅁㅐ_ㅇㅣㄹ': <gensim.models.keyedvectors.Vocab at 0x7f1312876710>,\n",
              " 'ㅈㅓㅁㅈㅓㅁ': <gensim.models.keyedvectors.Vocab at 0x7f1312876750>,\n",
              " 'ㅅㅣ_ㅇㅝㄴㅎㅐ_ㅈㅣ_ㄱㅗ_': <gensim.models.keyedvectors.Vocab at 0x7f1312876790>,\n",
              " 'ㅇㅣㅆㅅㅡㅂㄴㅣ_ㄷㅏ_': <gensim.models.keyedvectors.Vocab at 0x7f13128767d0>,\n",
              " '<3': <gensim.models.keyedvectors.Vocab at 0x7f1312876850>,\n",
              " 'ㄱ__ㄱ__ㄱ__ㄱ__ㄱ__': <gensim.models.keyedvectors.Vocab at 0x7f1312876890>,\n",
              " 'cute': <gensim.models.keyedvectors.Vocab at 0x7f1312876910>,\n",
              " 'ㅇㅜ_ㅇㅏ_': <gensim.models.keyedvectors.Vocab at 0x7f1312876950>,\n",
              " 'ㄱㅏㄱㄱㅏㄱ': <gensim.models.keyedvectors.Vocab at 0x7f1312876990>,\n",
              " 'ㅈㅜㄴ': <gensim.models.keyedvectors.Vocab at 0x7f13128769d0>,\n",
              " 'ㅅㅓㄴㅁㅜㄹ': <gensim.models.keyedvectors.Vocab at 0x7f1312876a10>,\n",
              " 'ㅂㅗ_ㅁㅕㄴ': <gensim.models.keyedvectors.Vocab at 0x7f1312876a50>,\n",
              " 'ㅇㅏ_ㅅㅣ_ㄴㅡㄴ': <gensim.models.keyedvectors.Vocab at 0x7f1312876a90>,\n",
              " 'ㄷㅡㅅㅋ__ㅋ__ㅋ__ㅋ__': <gensim.models.keyedvectors.Vocab at 0x7f1312876ad0>,\n",
              " 'ㅇㅏ_ㅈㅣㄱ': <gensim.models.keyedvectors.Vocab at 0x7f1312876b10>,\n",
              " 'ㄱㅗ_ㅇㅣㅇ': <gensim.models.keyedvectors.Vocab at 0x7f1312876b50>,\n",
              " 'ㅇㅏㄴㄴㅏ_ㅇㅘ_ㅅㅓ_': <gensim.models.keyedvectors.Vocab at 0x7f1312876b90>,\n",
              " 'ㅅㅣㅁㅅㅣㅁㅎㅐㅆㄴㅡㄴㄷㅔ_': <gensim.models.keyedvectors.Vocab at 0x7f1312876bd0>,\n",
              " 'ㅁㅣㄴㄱㅠ_ㅇㅑ_': <gensim.models.keyedvectors.Vocab at 0x7f1312876c10>,\n",
              " 'ㅎㅣㅁㄴㅐ_!!': <gensim.models.keyedvectors.Vocab at 0x7f1312876c50>,\n",
              " 'They': <gensim.models.keyedvectors.Vocab at 0x7f1312876cd0>,\n",
              " 'look': <gensim.models.keyedvectors.Vocab at 0x7f1312876d50>,\n",
              " 'great!': <gensim.models.keyedvectors.Vocab at 0x7f1312876dd0>,\n",
              " 'love': <gensim.models.keyedvectors.Vocab at 0x7f1312876e50>,\n",
              " \"Minghao's\": <gensim.models.keyedvectors.Vocab at 0x7f1312876ed0>,\n",
              " 'Thank': <gensim.models.keyedvectors.Vocab at 0x7f1312876f50>,\n",
              " 'ㅇㅓ_ㄷㅣ_ㅇㅔ_': <gensim.models.keyedvectors.Vocab at 0x7f1312876f90>,\n",
              " 'ㅇㅣㅆㅇㅓ_ㄷㅗ_': <gensim.models.keyedvectors.Vocab at 0x7f1312876fd0>,\n",
              " 'ㅈㅏ_ㄹㅏㅇㅅㅡ_ㄹㅓ_ㅇㅜㄴ': <gensim.models.keyedvectors.Vocab at 0x7f131287e050>,\n",
              " 'ㅇㅗ_ㄷㅣ_ㅇㅗ_': <gensim.models.keyedvectors.Vocab at 0x7f131287e090>,\n",
              " 'ㅃㅏㅇㅃㅏㅇㅃㅏㅇ': <gensim.models.keyedvectors.Vocab at 0x7f131287e0d0>,\n",
              " 'ㄴㅔ_ㅁㅕㅇ': <gensim.models.keyedvectors.Vocab at 0x7f131287e110>,\n",
              " 'ㅈㅏㄴㅈㅏㄴㅎㅏ_ㄱㅔ_': <gensim.models.keyedvectors.Vocab at 0x7f131287e150>,\n",
              " 'ㅊㅐㅇㄱㅕ_': <gensim.models.keyedvectors.Vocab at 0x7f131287e190>,\n",
              " 'ㄱㅟ_ㅇㅕㅂㅈㅏ_ㄴㅑ_': <gensim.models.keyedvectors.Vocab at 0x7f131287e1d0>,\n",
              " 'ㄷㅏ_ㄹㅡㄴ': <gensim.models.keyedvectors.Vocab at 0x7f131287e210>,\n",
              " 'ㄱㅟ_ㅇㅕㅂㄱㅜ_': <gensim.models.keyedvectors.Vocab at 0x7f131287e250>,\n",
              " 'ㅅㅔㄱㅅㅣ_ㅎㅏ_ㄱㅗ_': <gensim.models.keyedvectors.Vocab at 0x7f131287e290>,\n",
              " 'ㄷㅏ_ㅎㅐ_': <gensim.models.keyedvectors.Vocab at 0x7f131287e2d0>,\n",
              " 'ㄱㅏ_ㅈㅏ_!': <gensim.models.keyedvectors.Vocab at 0x7f131287e310>,\n",
              " 'ㅇㅏ_ㄴㅣ_ㄷㅏ_': <gensim.models.keyedvectors.Vocab at 0x7f131287e350>,\n",
              " 'ㅇㅝㄴㅎㅏ_ㄴㅡㄴ': <gensim.models.keyedvectors.Vocab at 0x7f131287e390>,\n",
              " 'ㄱㅓㄹㄹㅗ_': <gensim.models.keyedvectors.Vocab at 0x7f131287e3d0>,\n",
              " 'ㄱㅏ_ㅈㅏ_!!!': <gensim.models.keyedvectors.Vocab at 0x7f131287e410>,\n",
              " 'ㅇㅣㅂㅅㅜㄹㅇㅣ_': <gensim.models.keyedvectors.Vocab at 0x7f131287e450>,\n",
              " 'ㄱㅓㄴㅈㅗ_ㅎㅐ_ㅅㅓ_': <gensim.models.keyedvectors.Vocab at 0x7f131287e490>,\n",
              " 'ㅊㅣㅁ': <gensim.models.keyedvectors.Vocab at 0x7f131287e4d0>,\n",
              " 'ㄱㅡ_ㄹㅐ_ㅇㅑ_': <gensim.models.keyedvectors.Vocab at 0x7f131287e510>,\n",
              " 'ㄴㅗ_ㄹㅐ_': <gensim.models.keyedvectors.Vocab at 0x7f131287e550>,\n",
              " 'ㅂㅜ_ㄹㅡㄴㄷㅏ_ㄱㅗ_': <gensim.models.keyedvectors.Vocab at 0x7f131287e590>,\n",
              " 'ㄷㅡ_ㄹㅣㅂㅇㅣㄴㅈㅜㄹ': <gensim.models.keyedvectors.Vocab at 0x7f131287e5d0>,\n",
              " 'ㅇㅏㄹㅇㅏㅅㄴㅡㄴㄷㅔ_': <gensim.models.keyedvectors.Vocab at 0x7f131287e610>,\n",
              " 'ㅇㅣㅂㅇㅣ_': <gensim.models.keyedvectors.Vocab at 0x7f131287e650>,\n",
              " 'ㅇㅏㄶㅇㅏ_ㄷㅗ_': <gensim.models.keyedvectors.Vocab at 0x7f131287e690>,\n",
              " 'ㅁㅗ_ㄹㅡ_ㄱㅔㅆㅇㅓ_': <gensim.models.keyedvectors.Vocab at 0x7f131287e6d0>,\n",
              " 'ㄱㅡ_ㄴㅑㅇ': <gensim.models.keyedvectors.Vocab at 0x7f131287e710>,\n",
              " 'ㅇㅘ_,': <gensim.models.keyedvectors.Vocab at 0x7f131287e750>,\n",
              " 'ㅂㅘㅆㄴㅡㄴㄷㅔ_': <gensim.models.keyedvectors.Vocab at 0x7f131287e790>,\n",
              " 'ㅇㅗ_ㄹㅐㄴㅁㅏㄴㅇㅣㄴㄷㅔ_': <gensim.models.keyedvectors.Vocab at 0x7f131287e7d0>,\n",
              " 'ㅎㅏㅁㄲㅔ_': <gensim.models.keyedvectors.Vocab at 0x7f131287e810>,\n",
              " 'ㄴㅓ_ㅁㅜ_ㅂㅗ_ㄱㅗ_': <gensim.models.keyedvectors.Vocab at 0x7f131287e850>,\n",
              " 'ㅅㅣㅍㅇㅓㅆㅇㅓ_ㅇㅛ_': <gensim.models.keyedvectors.Vocab at 0x7f131287e890>,\n",
              " 'ㅈㅣㄴㅉㅏ_ㄹㅗ_': <gensim.models.keyedvectors.Vocab at 0x7f131287e8d0>,\n",
              " 'ㅍㅏㄹㄹㅏㅇㅎㅐ_': <gensim.models.keyedvectors.Vocab at 0x7f131287e910>,\n",
              " 'ㄷㅟ_ㅇㅔ_': <gensim.models.keyedvectors.Vocab at 0x7f131287e950>,\n",
              " 'ㄴㅡㄹ': <gensim.models.keyedvectors.Vocab at 0x7f131287e990>,\n",
              " 'ㄸㅏ_ㄹㅏ_ㅇㅗ_ㄴㅡㄴ': <gensim.models.keyedvectors.Vocab at 0x7f131287e9d0>,\n",
              " 'ㅇㅓㄴㅈㅔ_ㅂㅜ_ㅌㅓ_': <gensim.models.keyedvectors.Vocab at 0x7f131287ea10>,\n",
              " 'ㄷㅙ_ㅈㅣ_ㅇㅘ_': <gensim.models.keyedvectors.Vocab at 0x7f131287ea50>,\n",
              " 'ㅇㅓㄴㅈㅔ_ㄴㅏ_': <gensim.models.keyedvectors.Vocab at 0x7f131287ea90>,\n",
              " 'ㄱㅡ_ㄹㅓ_ㄴㅣ_': <gensim.models.keyedvectors.Vocab at 0x7f131287ead0>,\n",
              " 'ㅍㅕㄴㅈㅣㅂㅈㅏ_ㄴㅡㄴ': <gensim.models.keyedvectors.Vocab at 0x7f131287eb10>,\n",
              " 'ㅈㅏ_ㅁㅏㄱ': <gensim.models.keyedvectors.Vocab at 0x7f131287eb50>,\n",
              " 'ㅊㅣ_ㅇㅜㄴ': <gensim.models.keyedvectors.Vocab at 0x7f131287eb90>,\n",
              " 'ㅂㅓ_ㅈㅓㄴㅇㅡㄹ': <gensim.models.keyedvectors.Vocab at 0x7f131287ebd0>,\n",
              " 'ㄷㅏㄹㄹㅏ_!!!': <gensim.models.keyedvectors.Vocab at 0x7f131287ec10>,\n",
              " 'ㅅㅏ_ㄹㅏㅇㅅㅡ_ㄹㅓㅂㄷㅏ_': <gensim.models.keyedvectors.Vocab at 0x7f131287ec50>,\n",
              " '_ㅜ__ㅜ_': <gensim.models.keyedvectors.Vocab at 0x7f131287ec90>,\n",
              " 'ㅇㅜㅅㄴㅡㄴㄱㅓ_ㅂㅘ_': <gensim.models.keyedvectors.Vocab at 0x7f131287ecd0>,\n",
              " 'ㄸㅐ_ㅁㅏ_ㄷㅏ_': <gensim.models.keyedvectors.Vocab at 0x7f131287ed10>,\n",
              " 'ㅂㅐ_ㄲㅗㅂㅇㅣ_': <gensim.models.keyedvectors.Vocab at 0x7f131287ed50>,\n",
              " 'ㄴㅓㅁㅇㅓ_ㄱㅏ_ㄷㅏ_': <gensim.models.keyedvectors.Vocab at 0x7f131287ed90>,\n",
              " 'ㅁㅗㅅㅎㅐ_': <gensim.models.keyedvectors.Vocab at 0x7f131287edd0>,\n",
              " 'ㄱㅏ_ㅊㅜㄹㅎㅐㅆㄷㅏ_ㄱㅏ_': <gensim.models.keyedvectors.Vocab at 0x7f131287ee10>,\n",
              " 'ㄷㅡㅇㅅㅏㄴ': <gensim.models.keyedvectors.Vocab at 0x7f131287ee50>,\n",
              " 'ㅎㅏ_ㄱㅗ_': <gensim.models.keyedvectors.Vocab at 0x7f131287ee90>,\n",
              " 'ㅌㅔㄴㅅㅕㄴ': <gensim.models.keyedvectors.Vocab at 0x7f131287eed0>,\n",
              " 'ㄴㅏ_ㄹㅡㄴㅎㅏ_ㄱㅗ_': <gensim.models.keyedvectors.Vocab at 0x7f131287ef10>,\n",
              " 'ㅊㅏ_ㅂㅜㄴㅎㅐ_ㅅㅓ_': <gensim.models.keyedvectors.Vocab at 0x7f131287ef50>,\n",
              " 'ㅇㅙㄴㅈㅣ_': <gensim.models.keyedvectors.Vocab at 0x7f131287ef90>,\n",
              " 'ㅇㅣㄴㅌㅓ_ㅂㅠ_ㄱㅏ_': <gensim.models.keyedvectors.Vocab at 0x7f131287efd0>,\n",
              " 'ㅈㅏ_ㅇㅕㄴㅅㅡ_ㄹㅓㅂㄱㅗ_': <gensim.models.keyedvectors.Vocab at 0x7f1312887050>,\n",
              " 'ㅂㅓㅂ': <gensim.models.keyedvectors.Vocab at 0x7f1312887090>,\n",
              " 'ㅂㅜㄴㅁㅕㅇ': <gensim.models.keyedvectors.Vocab at 0x7f13128870d0>,\n",
              " 'ㅇㅘ_': <gensim.models.keyedvectors.Vocab at 0x7f1312887110>,\n",
              " 'ㅅㅔ_ㅅㅔ_ㅎㅣ_': <gensim.models.keyedvectors.Vocab at 0x7f1312887150>,\n",
              " 'ㅎㅡㄴㅊㅣ_ㅇㅏㄶㅇㅡㄴ': <gensim.models.keyedvectors.Vocab at 0x7f1312887190>,\n",
              " 'ㅎㅐ_ㅈㅜ_ㄴㅡㄴ': <gensim.models.keyedvectors.Vocab at 0x7f13128871d0>,\n",
              " 'ㅁㅐ_ㅊㅔ_': <gensim.models.keyedvectors.Vocab at 0x7f1312887210>,\n",
              " 'ㅎㅗㄱㅅㅣ_': <gensim.models.keyedvectors.Vocab at 0x7f1312887250>,\n",
              " 'ㅇㅏ_ㄴㅣㄴ': <gensim.models.keyedvectors.Vocab at 0x7f1312887290>,\n",
              " 'ㅇㅣ_ㅅㅏㅇ': <gensim.models.keyedvectors.Vocab at 0x7f13128872d0>,\n",
              " 'ㄴㅏ_ㅇㅗㄹㅅㅜ_': <gensim.models.keyedvectors.Vocab at 0x7f1312887310>,\n",
              " 'ㅇㅓㅄㄴㅡㄴ': <gensim.models.keyedvectors.Vocab at 0x7f1312887350>,\n",
              " 'ㅇㅙ_': <gensim.models.keyedvectors.Vocab at 0x7f1312887390>,\n",
              " 'ㅁㅏㄹ': <gensim.models.keyedvectors.Vocab at 0x7f13128873d0>,\n",
              " 'cut': <gensim.models.keyedvectors.Vocab at 0x7f1312887450>,\n",
              " 'ㅈㅐ_ㅁㅣㅆㄱㅣㄴ': <gensim.models.keyedvectors.Vocab at 0x7f1312887490>,\n",
              " 'ㅎㅐ_ㅇㅛ_': <gensim.models.keyedvectors.Vocab at 0x7f13128874d0>,\n",
              " '\\U0001f90d': <gensim.models.keyedvectors.Vocab at 0x7f1312887510>,\n",
              " 'ㅇㅜㄹ': <gensim.models.keyedvectors.Vocab at 0x7f1312887550>,\n",
              " 'ㅇㅏ_ㄱㅏ_ㄷㅡㄹ': <gensim.models.keyedvectors.Vocab at 0x7f1312887590>,\n",
              " 'ㄱㅓㄴㄱㅏㅇㅁㅏㄴ': <gensim.models.keyedvectors.Vocab at 0x7f13128875d0>,\n",
              " 'ㅎㅏ_ㅈㅏ_': <gensim.models.keyedvectors.Vocab at 0x7f1312887610>,\n",
              " 'ㅁㅔㅁㅂㅓ_ㄷㅡㄹ': <gensim.models.keyedvectors.Vocab at 0x7f1312887650>,\n",
              " 'ㅅㅔㄴㅅㅡ_': <gensim.models.keyedvectors.Vocab at 0x7f1312887690>,\n",
              " 'ㅇㅐ_ㄱㅣ_ㄷㅡㄹ': <gensim.models.keyedvectors.Vocab at 0x7f13128876d0>,\n",
              " 'ㅅㅏㄹ': <gensim.models.keyedvectors.Vocab at 0x7f1312887710>,\n",
              " 'ㅃㅏ_ㅈㅕㅆㅇㅓ_..': <gensim.models.keyedvectors.Vocab at 0x7f1312887750>,\n",
              " 'ㅅㅏㄹㅇㅡㄴ': <gensim.models.keyedvectors.Vocab at 0x7f1312887790>,\n",
              " 'ㅇㅏ_ㄱㅏ_ㄷㅡㄹㅇㅣ_': <gensim.models.keyedvectors.Vocab at 0x7f13128877d0>,\n",
              " 'ㅇㅏㅍㅇㅡ_ㄹㅗ_ㄷㅗ_': <gensim.models.keyedvectors.Vocab at 0x7f1312887810>,\n",
              " 'ㅎㅘ_ㅇㅣ_ㅌㅣㅇ': <gensim.models.keyedvectors.Vocab at 0x7f1312887850>,\n",
              " '٩(': <gensim.models.keyedvectors.Vocab at 0x7f1312887890>,\n",
              " 'ᐛ': <gensim.models.keyedvectors.Vocab at 0x7f13128878d0>,\n",
              " ')و': <gensim.models.keyedvectors.Vocab at 0x7f1312887910>,\n",
              " 'ㅇㅓㄹㄱㅜㄹㅇㅣ_': <gensim.models.keyedvectors.Vocab at 0x7f1312887950>,\n",
              " 'ㅂㅏㄴㅉㅗㄱㅇㅣ_': <gensim.models.keyedvectors.Vocab at 0x7f1312887990>,\n",
              " 'ㄷㅙㅆㅇㅓ_': <gensim.models.keyedvectors.Vocab at 0x7f13128879d0>,\n",
              " 'ㅈㅓㄴㅇㅝㄴㅇㅜ_': <gensim.models.keyedvectors.Vocab at 0x7f1312887a10>,\n",
              " 'ㅁㅐㅁㅇㅣ_': <gensim.models.keyedvectors.Vocab at 0x7f1312887a50>,\n",
              " 'ㅇㅏ_ㅍㅡ_ㄷㅏ__ㅠ_': <gensim.models.keyedvectors.Vocab at 0x7f1312887a90>,\n",
              " 'ㅁㅣㅇㄱㅜ_': <gensim.models.keyedvectors.Vocab at 0x7f1312887ad0>,\n",
              " 'ㅊㅓㅅ': <gensim.models.keyedvectors.Vocab at 0x7f1312887b10>,\n",
              " 'ㄷㅐ_ㅊㅔ_': <gensim.models.keyedvectors.Vocab at 0x7f1312887b50>,\n",
              " 'ㅇㅏㄹㅁㅕㄴㅅㅓ_': <gensim.models.keyedvectors.Vocab at 0x7f1312887b90>,\n",
              " 'ㅁㅗ_ㄹㅡ_ㄴㅡㄴ': <gensim.models.keyedvectors.Vocab at 0x7f1312887bd0>,\n",
              " 'ㄱㅓㄹㄲㅏ_': <gensim.models.keyedvectors.Vocab at 0x7f1312887c10>,\n",
              " 'ㅋ__ㅋ__ㅋ__ㅋ__ㅋ__ㅋ__ㅋ__ㅋ__ㅋ__ㅋ__ㅋ__ㅋ__ㅋ__ㅋ__ㅋ__ㅋ__ㅋ__ㅋ__ㅋ__': <gensim.models.keyedvectors.Vocab at 0x7f1312887c50>,\n",
              " 'ㅇㅣㄴㅅㅐㅇㅇㅢ_': <gensim.models.keyedvectors.Vocab at 0x7f1312887c90>,\n",
              " 'ㄷㅏㄴㅇㅓ_ㄴㅡㄴ': <gensim.models.keyedvectors.Vocab at 0x7f1312887cd0>,\n",
              " 'ㅇㅓ_ㄷㅣ_ㅅㅓ_': <gensim.models.keyedvectors.Vocab at 0x7f1312887d10>,\n",
              " 'ㅇㅣ_ㅂㅜ_ㅂㅜㄴ': <gensim.models.keyedvectors.Vocab at 0x7f1312887d50>,\n",
              " 'ㅇㅖ_ㅈㅓㄴ': <gensim.models.keyedvectors.Vocab at 0x7f1312887d90>,\n",
              " 'ㅅㅐㅇㄱㅏㄱㄴㅏㅁㅋ__ㅋ__ㅋ__ㅋ__': <gensim.models.keyedvectors.Vocab at 0x7f1312887dd0>,\n",
              " '\"ㅇㅝㄴㄹㅐ_': <gensim.models.keyedvectors.Vocab at 0x7f1312887e10>,\n",
              " 'ㄴㅜㄴㅁㅜㄹㅇㅣ_': <gensim.models.keyedvectors.Vocab at 0x7f1312887e50>,\n",
              " 'ㅊㅚ_ㄱㅡㄴ': <gensim.models.keyedvectors.Vocab at 0x7f1312887e90>,\n",
              " 'ㅇㅓㄴㅈㅔ_': <gensim.models.keyedvectors.Vocab at 0x7f1312887ed0>,\n",
              " 'ㅇㅣ_ㅌㅡㄹㅈㅓㄴ': <gensim.models.keyedvectors.Vocab at 0x7f1312887f10>,\n",
              " 'ㅎㅓㄹㅎㅓㄹ': <gensim.models.keyedvectors.Vocab at 0x7f1312887f50>,\n",
              " 'ㅇㅒ_ㄷㅡㄹㅇㅏ_': <gensim.models.keyedvectors.Vocab at 0x7f1312887f90>,\n",
              " 'ㅅㅣㅍㅇㅓ_': <gensim.models.keyedvectors.Vocab at 0x7f1312887fd0>,\n",
              " 'ㄷㅏ_ㅎㅐㅇㅇㅣ_ㅇㅑ_': <gensim.models.keyedvectors.Vocab at 0x7f1312894050>,\n",
              " '😍😍😍': <gensim.models.keyedvectors.Vocab at 0x7f1312894090>,\n",
              " 'Do': <gensim.models.keyedvectors.Vocab at 0x7f1312894110>,\n",
              " 'saranghae': <gensim.models.keyedvectors.Vocab at 0x7f1312894190>,\n",
              " 'thought': <gensim.models.keyedvectors.Vocab at 0x7f1312894210>,\n",
              " 'he': <gensim.models.keyedvectors.Vocab at 0x7f1312894290>,\n",
              " 'would': <gensim.models.keyedvectors.Vocab at 0x7f1312894310>,\n",
              " 'say': <gensim.models.keyedvectors.Vocab at 0x7f1312894390>,\n",
              " 'at': <gensim.models.keyedvectors.Vocab at 0x7f1312894410>,\n",
              " 'first': <gensim.models.keyedvectors.Vocab at 0x7f1312894490>,\n",
              " \"I'm\": <gensim.models.keyedvectors.Vocab at 0x7f1312894510>,\n",
              " 'still': <gensim.models.keyedvectors.Vocab at 0x7f1312894590>,\n",
              " 'him': <gensim.models.keyedvectors.Vocab at 0x7f1312894610>,\n",
              " 'own': <gensim.models.keyedvectors.Vocab at 0x7f1312894690>,\n",
              " 'or': <gensim.models.keyedvectors.Vocab at 0x7f1312894710>,\n",
              " 'as': <gensim.models.keyedvectors.Vocab at 0x7f1312894790>,\n",
              " '8': <gensim.models.keyedvectors.Vocab at 0x7f13128947d0>,\n",
              " 'ㅁㅓㅅㅈㅣㄴ': <gensim.models.keyedvectors.Vocab at 0x7f1312894810>,\n",
              " 'ㅁㅗㄱㅅㅗ_ㄹㅣ_ㄷㅗ_': <gensim.models.keyedvectors.Vocab at 0x7f1312894850>,\n",
              " 'ㅁㅓㅅㅇㅣㅆㅇㅓ_': <gensim.models.keyedvectors.Vocab at 0x7f1312894890>,\n",
              " 'ㅅㅣ_ㄱㅏㄴㅇㅣ_': <gensim.models.keyedvectors.Vocab at 0x7f13128948d0>,\n",
              " 'ㅇㅏㄴㄱㅏ_ㄴㅡㄴㅈㅣ_': <gensim.models.keyedvectors.Vocab at 0x7f1312894910>,\n",
              " 'ㅅㅐ_': <gensim.models.keyedvectors.Vocab at 0x7f1312894950>,\n",
              " 'ㄴㅏ_ㅇㅗㄹㄸㅐ_ㅁㅏ_ㄷㅏ_': <gensim.models.keyedvectors.Vocab at 0x7f1312894990>,\n",
              " 'ㅎㅐㅇㅂㅗㄱ': <gensim.models.keyedvectors.Vocab at 0x7f13128949d0>,\n",
              " 'ㄱㅏㄴㅁㅏㄴㅇㅔ_': <gensim.models.keyedvectors.Vocab at 0x7f1312894a10>,\n",
              " 'ㅇㅣㅂㄲㅗ_ㄹㅣ_': <gensim.models.keyedvectors.Vocab at 0x7f1312894a50>,\n",
              " 'ㅈㅓ_ㄱㅓㄹ': <gensim.models.keyedvectors.Vocab at 0x7f1312894a90>,\n",
              " 'ㅇㅏㅍㅇㅔ_ㅅㅓ_': <gensim.models.keyedvectors.Vocab at 0x7f1312894ad0>,\n",
              " 'ㅈㅣ_ㅋㅕ_ㅂㅗ_ㄴㅡㄴ': <gensim.models.keyedvectors.Vocab at 0x7f1312894b10>,\n",
              " 'ㅅㅡ_ㅌㅔㅂㅂㅜㄴㄷㅡㄹ': <gensim.models.keyedvectors.Vocab at 0x7f1312894b50>,\n",
              " 'ㅂㅜ_ㄹㅓ_ㅇㅜㅁ': <gensim.models.keyedvectors.Vocab at 0x7f1312894b90>,\n",
              " 'ㅇㅏ_ㄴㅣㄴㄷㅔ_ㅇㅛ_..': <gensim.models.keyedvectors.Vocab at 0x7f1312894bd0>,\n",
              " 'ㅋ__ㅋ__ㅋ__ㅋ__ㅋ__ㅋ__ㅋ__ㅋ__ㅋ__ㅋ__ㅋ__ㅋ__ㅋ__ㅋ__': <gensim.models.keyedvectors.Vocab at 0x7f1312894c10>,\n",
              " 'ㅅㅣ_ㄹㅣ_ㅈㅡ_ㄱㅏ_': <gensim.models.keyedvectors.Vocab at 0x7f1312894c50>,\n",
              " 'ㅎㅏㄹㅁㅣ_ㄴㅡㄴ': <gensim.models.keyedvectors.Vocab at 0x7f1312894c90>,\n",
              " 'ㅇㅕ_ㅎㅏㄴㅇㅣ_': <gensim.models.keyedvectors.Vocab at 0x7f1312894cd0>,\n",
              " 'ㅇㅓㅄㄷㅏ_': <gensim.models.keyedvectors.Vocab at 0x7f1312894d10>,\n",
              " 'ㅇㅣ_ㅂㅜㄴ': <gensim.models.keyedvectors.Vocab at 0x7f1312894d50>,\n",
              " 'ㄴㅏㅁㅈㅏ_': <gensim.models.keyedvectors.Vocab at 0x7f1312894d90>,\n",
              " 'ㅊㅣㄴㄱㅜ_ㄱㅏ_': <gensim.models.keyedvectors.Vocab at 0x7f1312894dd0>,\n",
              " 'ㅍㅣㄹㅇㅛ_ㅎㅏ_ㅈㅣ_': <gensim.models.keyedvectors.Vocab at 0x7f1312894e10>,\n",
              " 'ㅇㅏㄶㅅㅡㅂㄴㅣ_ㄷㅏ_.': <gensim.models.keyedvectors.Vocab at 0x7f1312894e50>,\n",
              " 'ㅅㅏ_ㄹㅏㅇㅎㅐ_!!': <gensim.models.keyedvectors.Vocab at 0x7f1312894e90>,\n",
              " 'ㅎㅏㄱㄱㅖ_ㅇㅢ_': <gensim.models.keyedvectors.Vocab at 0x7f1312894ed0>,\n",
              " 'ㅈㅓㅁㅅㅣㅁ': <gensim.models.keyedvectors.Vocab at 0x7f1312894f10>,\n",
              " 'ㅁㅏ_ㅈㅣ_ㅁㅏㄱ': <gensim.models.keyedvectors.Vocab at 0x7f1312894f50>,\n",
              " 'ㄱㅟ_ㅇㅕㅂㅈㅣ_ㅁㅏㄴ': <gensim.models.keyedvectors.Vocab at 0x7f1312894f90>,\n",
              " 'ㅂㅗㄹ': <gensim.models.keyedvectors.Vocab at 0x7f1312894fd0>,\n",
              " 'ㄱㅟ_ㅇㅕ_ㅇㅝ_ㅇㅛ_': <gensim.models.keyedvectors.Vocab at 0x7f131289c050>,\n",
              " 'ㅈㅏ_ㅅㅔ_ㅎㅣ_': <gensim.models.keyedvectors.Vocab at 0x7f131289c090>,\n",
              " 'ㅂㅗ_ㄹㅓ_': <gensim.models.keyedvectors.Vocab at 0x7f131289c0d0>,\n",
              " 'ㅈㅣㄱㅋㅐㅁ': <gensim.models.keyedvectors.Vocab at 0x7f131289c110>,\n",
              " 'ㅇㅜㅅㄴㅡㄴ': <gensim.models.keyedvectors.Vocab at 0x7f131289c150>,\n",
              " 'ㅇㅣㄹㅁㅏㄴ': <gensim.models.keyedvectors.Vocab at 0x7f131289c190>,\n",
              " 'ㄱㅏ_ㄷㅡㄱㅎㅐ_': <gensim.models.keyedvectors.Vocab at 0x7f131289c1d0>,\n",
              " '~~!!': <gensim.models.keyedvectors.Vocab at 0x7f131289c250>,\n",
              " 'ㅋ__ㅋ__ㅋ__ㅋ__ㅋ__ㅋ__ㅋ__ㅇㅏ_ㄴㅣ_': <gensim.models.keyedvectors.Vocab at 0x7f131289c290>,\n",
              " 'ㄱㅜ_ㄷㅗㄱㅇㅡㄴ': <gensim.models.keyedvectors.Vocab at 0x7f131289c2d0>,\n",
              " 'ㅇㅏㄴㅎㅏ_ㄴㅡㄴ': <gensim.models.keyedvectors.Vocab at 0x7f131289c310>,\n",
              " 'ㄱㅟ_ㅇㅕㅂㄷㅏ_': <gensim.models.keyedvectors.Vocab at 0x7f131289c350>,\n",
              " 'ㅁㅝ_ㅇㅑ_': <gensim.models.keyedvectors.Vocab at 0x7f131289c390>,\n",
              " 'ㅈㅓㄱ': <gensim.models.keyedvectors.Vocab at 0x7f131289c3d0>,\n",
              " 'ㅇㅓㅁㅊㅓㅇ': <gensim.models.keyedvectors.Vocab at 0x7f131289c410>,\n",
              " 'ㅊㅏ_ㅂㅜㄴㅎㅏ_ㄱㅔ_': <gensim.models.keyedvectors.Vocab at 0x7f131289c450>,\n",
              " 'ㅇㅏ_ㅎㅡㄱ': <gensim.models.keyedvectors.Vocab at 0x7f131289c490>,\n",
              " '_ㅠ__ㅠ__ㅠ__ㅠ__ㅠ__ㅠ__ㅠ__ㅠ__ㅠ__ㅠ__ㅠ_': <gensim.models.keyedvectors.Vocab at 0x7f131289c4d0>,\n",
              " '3ㄱㅐ_': <gensim.models.keyedvectors.Vocab at 0x7f131289c510>,\n",
              " 'ㅅㅣ_ㅋㅕㅆㄴㅡㄴㄷㅔ_': <gensim.models.keyedvectors.Vocab at 0x7f131289c550>,\n",
              " 'ㅇㅣㄴㅌㅓ_ㅂㅠ_ㄲㅏ_ㅈㅣ_': <gensim.models.keyedvectors.Vocab at 0x7f131289c590>,\n",
              " 'ㅈㅐ_ㅁㅣㅆㅇㅡ_ㅁㅕㄴ': <gensim.models.keyedvectors.Vocab at 0x7f131289c5d0>,\n",
              " 'ㅇㅓ_ㄸㅓㄱㅎㅐ_': <gensim.models.keyedvectors.Vocab at 0x7f131289c610>,\n",
              " 'ㅇㅛ_ㄹㅏㄴㅎㅏㄴ': <gensim.models.keyedvectors.Vocab at 0x7f131289c650>,\n",
              " 'ㅅㅣㅁㅈㅏㅇㅇㅏ_ㅍㅡ_ㄷㅏ_': <gensim.models.keyedvectors.Vocab at 0x7f131289c690>,\n",
              " '_ㅠ__ㅠ__ㅠ__ㅠ__ㅠ__ㅠ__ㅠ__ㅠ_': <gensim.models.keyedvectors.Vocab at 0x7f131289c6d0>,\n",
              " 'ㅇㅓㄹㄱㅜㄹ': <gensim.models.keyedvectors.Vocab at 0x7f131289c710>,\n",
              " 'ㅈㅗㅎㄷㅏ_~~': <gensim.models.keyedvectors.Vocab at 0x7f131289c750>,\n",
              " 'ㅈㅣ_ㄴㅐ_ㄱㅗ_': <gensim.models.keyedvectors.Vocab at 0x7f131289c790>,\n",
              " 'ㄱㅏㅌㅇㅏ_': <gensim.models.keyedvectors.Vocab at 0x7f131289c7d0>,\n",
              " 'ㅇㅜ_ㄹㅣ_ㅇㅐ_ㄷㅡㄹ': <gensim.models.keyedvectors.Vocab at 0x7f131289c810>,\n",
              " 'ㅊㅚ_ㄱㅗ_': <gensim.models.keyedvectors.Vocab at 0x7f131289c850>,\n",
              " 'ㅇㅗ_ㄹㅐㄴㅁㅏㄴㅇㅔ_': <gensim.models.keyedvectors.Vocab at 0x7f131289c890>,\n",
              " 'ㅇㅜㅁㅈㅣㄱㅇㅣ_ㄱㅗ_': <gensim.models.keyedvectors.Vocab at 0x7f131289c8d0>,\n",
              " 'ㅁㅏㄹㅎㅏ_ㄴㅡㄴ': <gensim.models.keyedvectors.Vocab at 0x7f131289c910>,\n",
              " 'ㄴㅐ_ㅅㅐ_ㄲㅣ_ㄷㅡㄹ': <gensim.models.keyedvectors.Vocab at 0x7f131289c950>,\n",
              " 'ㅂㅘㅆㄷㅏ_': <gensim.models.keyedvectors.Vocab at 0x7f131289c990>,\n",
              " 'ㅈㅗㅎㄷㅏ_...': <gensim.models.keyedvectors.Vocab at 0x7f131289c9d0>,\n",
              " 'ㄴㅜ_ㄴㅏ_': <gensim.models.keyedvectors.Vocab at 0x7f131289ca10>,\n",
              " 'ㅎㅐㅇㅂㅗㄱㅎㅏ_ㄷㅏ_': <gensim.models.keyedvectors.Vocab at 0x7f131289ca50>,\n",
              " 'ㅈㅣ_ㄱㅡㅁ...': <gensim.models.keyedvectors.Vocab at 0x7f131289ca90>,\n",
              " 'ㅇㅓ_ㅉㅓㅁ': <gensim.models.keyedvectors.Vocab at 0x7f131289cad0>,\n",
              " 'ㄴㅏ_ㄴㅡㄴ': <gensim.models.keyedvectors.Vocab at 0x7f131289cb10>,\n",
              " 'ㄴㅓ_ㅎㅢ_ㅁㅏㄴ': <gensim.models.keyedvectors.Vocab at 0x7f131289cb50>,\n",
              " 'ㅇㅕㅇㅅㅏㅇㅇㅡ_ㄹㅗ_': <gensim.models.keyedvectors.Vocab at 0x7f131289cb90>,\n",
              " 'ㅂㅗ_ㄴㅡㄴㄷㅔ_ㄷㅗ_': <gensim.models.keyedvectors.Vocab at 0x7f131289cbd0>,\n",
              " 'ㅈㅗㅎㅇㅡㄴㄷㅔ_': <gensim.models.keyedvectors.Vocab at 0x7f131289cc10>,\n",
              " 'ㅈㅣㄱㅈㅓㅂ': <gensim.models.keyedvectors.Vocab at 0x7f131289cc50>,\n",
              " 'ㅅㅣㄹㅈㅔ_ㄹㅗ_': <gensim.models.keyedvectors.Vocab at 0x7f131289cc90>,\n",
              " 'ㅇㅏ_ㄴㅣㄴㄱㅏ_': <gensim.models.keyedvectors.Vocab at 0x7f131289ccd0>,\n",
              " 'ㅁㅗ_ㄹㅡ_ㄱㅔㅆㄷㅏ_...': <gensim.models.keyedvectors.Vocab at 0x7f131289cd10>,\n",
              " 'ㄴㅏ_ㅇㅢ_': <gensim.models.keyedvectors.Vocab at 0x7f131289cd50>,\n",
              " 'ㅎㅐㅇㅂㅗㄱㅇㅡㄴ': <gensim.models.keyedvectors.Vocab at 0x7f131289cd90>,\n",
              " 'ㅅㅏ_ㄹㅏㅇㄷㅗ_': <gensim.models.keyedvectors.Vocab at 0x7f131289cdd0>,\n",
              " 'ㅅㅏ_ㄹㅏㅇㅎㅐ_...': <gensim.models.keyedvectors.Vocab at 0x7f131289ce10>,\n",
              " 'ㄴㅓ_ㅇㅓ_ㅁㅜ_': <gensim.models.keyedvectors.Vocab at 0x7f131289ce50>,\n",
              " 'ㅎㅏ_': <gensim.models.keyedvectors.Vocab at 0x7f131289ce90>,\n",
              " 'ㅆㅣㅋㅋ__ㅋ__ㅋ__ㅋ__': <gensim.models.keyedvectors.Vocab at 0x7f131289ced0>,\n",
              " 'ㅇㅏㅅ': <gensim.models.keyedvectors.Vocab at 0x7f131289cf10>,\n",
              " 'ㄱㅡ_ㄹㅓㄴㄷㅔ_': <gensim.models.keyedvectors.Vocab at 0x7f131289cf50>,\n",
              " 'ㅈㅗㅎㅇㅏ_ㅎㅏ_ㄴㅡㄴ': <gensim.models.keyedvectors.Vocab at 0x7f131289cf90>,\n",
              " 'ㅂㅜㄹㅇㅡㄹ': <gensim.models.keyedvectors.Vocab at 0x7f131289cfd0>,\n",
              " 'ㅎㅏ_ㅅㅣㄴ': <gensim.models.keyedvectors.Vocab at 0x7f13128a4050>,\n",
              " 'ㄱㅏㅌㅇㅏ_ㅇㅛ_!': <gensim.models.keyedvectors.Vocab at 0x7f13128a4090>,\n",
              " 'ㅇㅒ_ㄷㅡ_ㄹㅏ_': <gensim.models.keyedvectors.Vocab at 0x7f13128a40d0>,\n",
              " 'ㅇㅣ_ㅃㅡ_ㄴㅔ_': <gensim.models.keyedvectors.Vocab at 0x7f13128a4110>,\n",
              " 'ㄴㅓ_ㅁㅗ_': <gensim.models.keyedvectors.Vocab at 0x7f13128a4150>,\n",
              " 'ㅍㅣ_ㅂㅜ_': <gensim.models.keyedvectors.Vocab at 0x7f13128a4190>,\n",
              " 'ㄱㅘㄴㄹㅣ_': <gensim.models.keyedvectors.Vocab at 0x7f13128a41d0>,\n",
              " 'ㄴㅗ_ㅎㅏ_ㅇㅜ_': <gensim.models.keyedvectors.Vocab at 0x7f13128a4210>,\n",
              " 'ㅇㅣ_ㄹㅓㄴㄱㅓㅅㅇㅡㄹ': <gensim.models.keyedvectors.Vocab at 0x7f13128a4250>,\n",
              " 'ㄱㅣ_ㄷㅐ_ㅎㅏㄴ': <gensim.models.keyedvectors.Vocab at 0x7f13128a4290>,\n",
              " '1': <gensim.models.keyedvectors.Vocab at 0x7f13128a42d0>,\n",
              " '...............': <gensim.models.keyedvectors.Vocab at 0x7f13128a4350>,\n",
              " 'ㅈㅣㄴㅅㅣㅁㅇㅡ_ㄹㅗ_': <gensim.models.keyedvectors.Vocab at 0x7f13128a4390>,\n",
              " 'ㅈㅗㅎㅇㅡㄴㅈㅣ_': <gensim.models.keyedvectors.Vocab at 0x7f13128a43d0>,\n",
              " 'ㄱㅜㅇㄱㅡㅁㅎㅏㄴ': <gensim.models.keyedvectors.Vocab at 0x7f13128a4410>,\n",
              " 'ㅂㅜ_ㅂㅜㄴ': <gensim.models.keyedvectors.Vocab at 0x7f13128a4450>,\n",
              " '^^': <gensim.models.keyedvectors.Vocab at 0x7f13128a44d0>,\n",
              " 'ㄷㅏ_ㅇㅡㅁㅇㅔㄴ': <gensim.models.keyedvectors.Vocab at 0x7f13128a4510>,\n",
              " 'ㅂㅠ_ㅌㅣ_': <gensim.models.keyedvectors.Vocab at 0x7f13128a4550>,\n",
              " 'ㅎㅏㄴㅂㅓㄴ': <gensim.models.keyedvectors.Vocab at 0x7f13128a4590>,\n",
              " 'ㅉㅣㄱㅇㅓ_ㅈㅜ_ㅅㅔ_ㅇㅛ_': <gensim.models.keyedvectors.Vocab at 0x7f13128a45d0>,\n",
              " '~~~~': <gensim.models.keyedvectors.Vocab at 0x7f13128a4650>,\n",
              " '💝': <gensim.models.keyedvectors.Vocab at 0x7f13128a4690>,\n",
              " 'ㅈㅓ_ㄹㅓㄴ': <gensim.models.keyedvectors.Vocab at 0x7f13128a46d0>,\n",
              " 'ㅎㅏ_ㄱㅗ_ㄷㅗ_': <gensim.models.keyedvectors.Vocab at 0x7f13128a4710>,\n",
              " 'ㅇㅞㄹㅋㅔ_': <gensim.models.keyedvectors.Vocab at 0x7f13128a4750>,\n",
              " 'ㅇㅣ_ㅃㅓ_': <gensim.models.keyedvectors.Vocab at 0x7f13128a4790>,\n",
              " 'ㅈㅣ_ㅎㅜㄴㅇㅣ_': <gensim.models.keyedvectors.Vocab at 0x7f13128a47d0>,\n",
              " 'ㅂㅏㅇㅇㅔ_': <gensim.models.keyedvectors.Vocab at 0x7f13128a4810>,\n",
              " 'ㅇㅘ_ㅇㅣㄴㅇㅣ_': <gensim.models.keyedvectors.Vocab at 0x7f13128a4850>,\n",
              " 'ㅎㅏ_ㅇㅕ_ㅌㅡㄴ': <gensim.models.keyedvectors.Vocab at 0x7f13128a4890>,\n",
              " 'ㅉㅗㄱ': <gensim.models.keyedvectors.Vocab at 0x7f13128a48d0>,\n",
              " 'ㅂㅕㄱㅇㅔ_': <gensim.models.keyedvectors.Vocab at 0x7f13128a4910>,\n",
              " 'ㄴㅓㄹㅂㅜ_ㄹㅓ_ㅈㅕ_': <gensim.models.keyedvectors.Vocab at 0x7f13128a4950>,\n",
              " 'ㄱㅓ_ㅇㅢ_': <gensim.models.keyedvectors.Vocab at 0x7f13128a4990>,\n",
              " '1ㅊㅗ_': <gensim.models.keyedvectors.Vocab at 0x7f13128a49d0>,\n",
              " 'ㄷㅗㅇㅇㅏㄴ': <gensim.models.keyedvectors.Vocab at 0x7f13128a4a10>,\n",
              " 'ㅈㅏㅁㄲㅏㄴ': <gensim.models.keyedvectors.Vocab at 0x7f13128a4a50>,\n",
              " 'ㄱㅏ_ㅅㅓ_': <gensim.models.keyedvectors.Vocab at 0x7f13128a4a90>,\n",
              " 'ㅍㅐㄴㄷㅡㄹ': <gensim.models.keyedvectors.Vocab at 0x7f13128a4ad0>,\n",
              " '????': <gensim.models.keyedvectors.Vocab at 0x7f13128a4b50>,\n",
              " 'ㅅㅏㅇㅌㅐ_ㅇㅕㅆㅇㅡㅁ': <gensim.models.keyedvectors.Vocab at 0x7f13128a4b90>,\n",
              " 'ㅅㅏ_ㄹㅏㅇㅎㅐ_ㅇㅛ_': <gensim.models.keyedvectors.Vocab at 0x7f13128a4bd0>,\n",
              " 'ㅇㅓㄹㄹㅡㄴ': <gensim.models.keyedvectors.Vocab at 0x7f13128a4c10>,\n",
              " 'ㅇㅘ_~~': <gensim.models.keyedvectors.Vocab at 0x7f13128a4c50>,\n",
              " 'ㅁㅣ_ㅊㅣㄴㄷㅡㅅㅇㅣ_': <gensim.models.keyedvectors.Vocab at 0x7f13128a4c90>,\n",
              " 'ㄱㅟ_ㅇㅕㅂㄷㅏ_ㄱㅗ_': <gensim.models.keyedvectors.Vocab at 0x7f13128a4cd0>,\n",
              " 'ㅅㅗ_ㄹㅣ_ㅊㅣ_ㄱㅗ_': <gensim.models.keyedvectors.Vocab at 0x7f13128a4d10>,\n",
              " 'ㅅㅣㅍㄷㅏ_': <gensim.models.keyedvectors.Vocab at 0x7f13128a4d50>,\n",
              " 'ㅅㅏ_ㄹㅏㅇㄷㅜㅇㅇㅣ_': <gensim.models.keyedvectors.Vocab at 0x7f13128a4d90>,\n",
              " '❤️': <gensim.models.keyedvectors.Vocab at 0x7f13128a4dd0>,\n",
              " 'ㅇㅏㅋ': <gensim.models.keyedvectors.Vocab at 0x7f13128a4e10>,\n",
              " 'ㄱㅣ_ㅇㅕ_ㅇㅝㅇ': <gensim.models.keyedvectors.Vocab at 0x7f13128a4e50>,\n",
              " 'ㅇㅣ_ㅂㅓㄴ': <gensim.models.keyedvectors.Vocab at 0x7f13128a4e90>,\n",
              " 'ㄱㅣ_ㅎㅚ_ㅇㅔ_': <gensim.models.keyedvectors.Vocab at 0x7f13128a4ed0>,\n",
              " 'ㅈㅜ_ㅅㅕ_ㅅㅓ_': <gensim.models.keyedvectors.Vocab at 0x7f13128a4f10>,\n",
              " 'ㄱㅏㅁㅅㅏ_ㅎㅏㅂㄴㅣ_ㄷㅏ_': <gensim.models.keyedvectors.Vocab at 0x7f13128a4f50>,\n",
              " '!!': <gensim.models.keyedvectors.Vocab at 0x7f13128a4fd0>,\n",
              " 'ㅊㅗ_ㄷㅏㄴㅇㅟ_ㄹㅗ_': <gensim.models.keyedvectors.Vocab at 0x7f13128ad050>,\n",
              " 'ㅁㅐ_ㄹㅕㄱㅇㅣ_': <gensim.models.keyedvectors.Vocab at 0x7f13128ad090>,\n",
              " 'ㄴㅓㅁㅊㅕ_ㅅㅓ_': <gensim.models.keyedvectors.Vocab at 0x7f13128ad0d0>,\n",
              " 'ㄱㅖ_ㅅㅗㄱ': <gensim.models.keyedvectors.Vocab at 0x7f13128ad110>,\n",
              " 'ㅁㅓㅁㅊㅜ_ㄱㅗ_': <gensim.models.keyedvectors.Vocab at 0x7f13128ad150>,\n",
              " 'ㄷㅏ_ㅅㅣ_ㅂㅗ_ㄴㅡㄴ': <gensim.models.keyedvectors.Vocab at 0x7f13128ad190>,\n",
              " 'ㅇㅕ_ㄱㅣ_ㅇㅔ_': <gensim.models.keyedvectors.Vocab at 0x7f13128ad1d0>,\n",
              " 'ㅈㅗㅎㅇㅏ_ㅎㅏㄴㄷㅏ_ㄱㅗ_': <gensim.models.keyedvectors.Vocab at 0x7f13128ad210>,\n",
              " 'ㅅㅗ_ㅅㅗㄱㅅㅏ_': <gensim.models.keyedvectors.Vocab at 0x7f13128ad250>,\n",
              " 'ㅊㅏ_ㄹㅣ_ㄱㅗ_': <gensim.models.keyedvectors.Vocab at 0x7f13128ad290>,\n",
              " 'ㅅㅣㅍㄱㅔ_': <gensim.models.keyedvectors.Vocab at 0x7f13128ad2d0>,\n",
              " 'ㅇㅗ_ㄱㅗ_': <gensim.models.keyedvectors.Vocab at 0x7f13128ad310>,\n",
              " 'ㅈㅣㅂㅇㅔ_': <gensim.models.keyedvectors.Vocab at 0x7f13128ad350>,\n",
              " 'ㅊㅏ_ㄹㅣㄹㄲㅏ_': <gensim.models.keyedvectors.Vocab at 0x7f13128ad390>,\n",
              " 'ㅊㅓ_ㅇㅡㅁ': <gensim.models.keyedvectors.Vocab at 0x7f13128ad3d0>,\n",
              " 'ㅅㅏ_ㅂㅘㅆㄴㅡㄴㄷㅔ_': <gensim.models.keyedvectors.Vocab at 0x7f13128ad410>,\n",
              " 'ㅃㅏㄹㄱㅏㄴㅁㅓ_ㄹㅣ_': <gensim.models.keyedvectors.Vocab at 0x7f13128ad450>,\n",
              " 'ㅂㅣ_ㅈㅜ_ㅇㅓㄹ': <gensim.models.keyedvectors.Vocab at 0x7f13128ad490>,\n",
              " 'ㅁㅜㄹㄱㅐ_ㅂㅏㄱㅅㅜ_': <gensim.models.keyedvectors.Vocab at 0x7f13128ad4d0>,\n",
              " 'ㅁㅔ_ㅇㅣ_ㅋㅣㅇ': <gensim.models.keyedvectors.Vocab at 0x7f13128ad510>,\n",
              " 'ㅍㅣㄹㄹㅡㅁㄷㅗ_': <gensim.models.keyedvectors.Vocab at 0x7f13128ad550>,\n",
              " 'ㅇㅗㄹㄹㅕ_ㅈㅜ_ㅅㅔ_ㅇㅛ_': <gensim.models.keyedvectors.Vocab at 0x7f13128ad590>,\n",
              " '!!!!!': <gensim.models.keyedvectors.Vocab at 0x7f13128ad610>,\n",
              " 'ㅇㅡ_ㅇㅔㅇ': <gensim.models.keyedvectors.Vocab at 0x7f13128ad650>,\n",
              " 'ㅈㅗㄴㅈㅏㄹ': <gensim.models.keyedvectors.Vocab at 0x7f13128ad690>,\n",
              " 'ㄲㅜ_ㅈㅜㄴㅎㅣ_': <gensim.models.keyedvectors.Vocab at 0x7f13128ad6d0>,\n",
              " 'ㅇㅜㅅㄱㅣ_ㅈㅣ_': <gensim.models.keyedvectors.Vocab at 0x7f13128ad710>,\n",
              " 'ㄷㅐ_ㅂㅏㄱ': <gensim.models.keyedvectors.Vocab at 0x7f13128ad750>,\n",
              " 'ㅁㅣ_ㅊㅕㅆㄷㅏ_': <gensim.models.keyedvectors.Vocab at 0x7f13128ad790>,\n",
              " 'ㅈㅣㄹㅁㅜㄴㄷㅡㄹ': <gensim.models.keyedvectors.Vocab at 0x7f13128ad7d0>,\n",
              " 'ㅇㅖ_ㅅㅏㅇㅊㅣ_': <gensim.models.keyedvectors.Vocab at 0x7f13128ad810>,\n",
              " 'ㅁㅗㅅㅎㅏㄴ': <gensim.models.keyedvectors.Vocab at 0x7f13128ad850>,\n",
              " 'ㅈㅗㅎㄷㅏ_': <gensim.models.keyedvectors.Vocab at 0x7f13128ad890>,\n",
              " 'ㅋㅗ_ㅅㅡ_ㅁㅗ_': <gensim.models.keyedvectors.Vocab at 0x7f13128ad8d0>,\n",
              " 'ㅅㅔㄴㅅㅡ_ㅇㅣㅆㄴㅡㄴ': <gensim.models.keyedvectors.Vocab at 0x7f13128ad910>,\n",
              " 'ㄱㅏㅁㅅㅏ_ㅎㅐ_ㅇㅛ_❤️': <gensim.models.keyedvectors.Vocab at 0x7f13128ad950>,\n",
              " 'ㅁㅏㅁㅇㅔ_': <gensim.models.keyedvectors.Vocab at 0x7f13128ad990>,\n",
              " '_ㅠ__ㅠ__ㅠ__ㅠ__ㅠ__ㅠ__ㅠ__ㅠ__ㅠ_': <gensim.models.keyedvectors.Vocab at 0x7f13128ad9d0>,\n",
              " 'ㅃㅏ_ㅈㅣㄴㄱㅓ_': <gensim.models.keyedvectors.Vocab at 0x7f13128ada10>,\n",
              " 'ㅇㅏ_ㄴㅣ_ㄴㅑ_ㄱㅜ_': <gensim.models.keyedvectors.Vocab at 0x7f13128ada50>,\n",
              " 'ㅂㅏㅂ': <gensim.models.keyedvectors.Vocab at 0x7f13128ada90>,\n",
              " 'ㅇㅏ__ㅏ__ㅏ__ㅏ__ㅏ__ㅏ_': <gensim.models.keyedvectors.Vocab at 0x7f13128adad0>,\n",
              " 'ㅂㅗ_ㄱㅗ_ㅅㅣㅍㄷㅏ_': <gensim.models.keyedvectors.Vocab at 0x7f13128adb10>,\n",
              " 'ㄱㅐ_ㄱㅟ_ㅇㅕㅂㄴㅔ_': <gensim.models.keyedvectors.Vocab at 0x7f13128adb50>,\n",
              " 'ㅇㅣㄴㅌㅓ_ㅂㅠ_ㄷㅗ_': <gensim.models.keyedvectors.Vocab at 0x7f13128adb90>,\n",
              " 'ㅇㅜㅅㄱㅕㅋㅋ__ㅋ__ㅋ__ㅋ__ㅋ__ㅋ__ㅋ__ㅋ__ㅋ__ㅋ__ㅋ__ㅋ__ㅋ__': <gensim.models.keyedvectors.Vocab at 0x7f13128adbd0>,\n",
              " 'ㅆㅓㅁㄴㅔㄹ': <gensim.models.keyedvectors.Vocab at 0x7f13128adc10>,\n",
              " 'ㄴㅜ_ㄱㅏ_': <gensim.models.keyedvectors.Vocab at 0x7f13128adc50>,\n",
              " 'ㅇㅏㄴ': <gensim.models.keyedvectors.Vocab at 0x7f13128adc90>,\n",
              " 'ㅇㅏ_ㅋㅜ_ㅇㅏ_ㅁㅐㄴ': <gensim.models.keyedvectors.Vocab at 0x7f13128adcd0>,\n",
              " 'ㅂㅏㅇㅅㅗㅇ': <gensim.models.keyedvectors.Vocab at 0x7f13128add10>,\n",
              " 'ㅂㅗ_ㅇㅣ_ㄴㅡㄴㄷㅔ_': <gensim.models.keyedvectors.Vocab at 0x7f13128add50>,\n",
              " 'ㅇㅣ_ㅂㅜ_ㅂㅜㄴㅇㅔ_': <gensim.models.keyedvectors.Vocab at 0x7f13128add90>,\n",
              " 'ㄷㅡㄷㄱㅗ_': <gensim.models.keyedvectors.Vocab at 0x7f13128addd0>,\n",
              " 'ㄴㅗㄹㄹㅐ_ㅅㅓ_': <gensim.models.keyedvectors.Vocab at 0x7f13128ade10>,\n",
              " 'ㅇㅣ_ㅈㅔ_': <gensim.models.keyedvectors.Vocab at 0x7f13128ade50>,\n",
              " 'ㅈㅗㅁㅇㅣㅆㅇㅡ_ㅁㅕㄴ': <gensim.models.keyedvectors.Vocab at 0x7f13128ade90>,\n",
              " 'ㅇㅕ_ㄹㅡㅁㅇㅣㄴㄷㅔ_': <gensim.models.keyedvectors.Vocab at 0x7f13128aded0>,\n",
              " 'ㄱㅕ_ㅇㅜㄹㅇㅔ_': <gensim.models.keyedvectors.Vocab at 0x7f13128adf10>,\n",
              " 'ㄸㅐ_ㄱㅗ_': <gensim.models.keyedvectors.Vocab at 0x7f13128adf50>,\n",
              " 'ㅇㅕ_ㄹㅡㅁㅇㅔ_': <gensim.models.keyedvectors.Vocab at 0x7f13128adf90>,\n",
              " 'ㅇㅏ_ㅇㅣ_ㄱㅗ_': <gensim.models.keyedvectors.Vocab at 0x7f13128adfd0>,\n",
              " 'ㄷㅐㅇㄷㅐㅇㅁㅣ_': <gensim.models.keyedvectors.Vocab at 0x7f1312836050>,\n",
              " 'ㅁㅣ_ㅊㅣ_ㄱㅔㅆㄷㅏ__ㅠ__ㅠ_': <gensim.models.keyedvectors.Vocab at 0x7f1312836090>,\n",
              " 'ㄴㅏ_ㅇㅗㄴㄱㅓ_ㅂㅗ_ㅁㅕㄴ': <gensim.models.keyedvectors.Vocab at 0x7f13128360d0>,\n",
              " 'ㄴㅏ_ㅇㅗ_ㄴㅡㄴㄱㅓ_ㅈㅣ_..?': <gensim.models.keyedvectors.Vocab at 0x7f1312836110>,\n",
              " 'ㅇㅔ_ㅇㅣㅅㅇㅣ_': <gensim.models.keyedvectors.Vocab at 0x7f1312836150>,\n",
              " 'ㄴㅏ_ㅁㅜ_': <gensim.models.keyedvectors.Vocab at 0x7f1312836190>,\n",
              " 'ㅈㅏㄹㅇㅓ_ㅇㅜㄹㄹㅣㄴㄷㅏ_': <gensim.models.keyedvectors.Vocab at 0x7f13128361d0>,\n",
              " 'ㅁㅝㄴㄱㅏ_': <gensim.models.keyedvectors.Vocab at 0x7f1312836210>,\n",
              " 'ㄱㅡㄹㄱㅗ_': <gensim.models.keyedvectors.Vocab at 0x7f1312836250>,\n",
              " 'ㄱㅡ_ㄹㅐ_..': <gensim.models.keyedvectors.Vocab at 0x7f1312836290>,\n",
              " 'ㄴㅓ_': <gensim.models.keyedvectors.Vocab at 0x7f13128362d0>,\n",
              " 'ㅎㅏ_ㄱㅗ_ㅅㅣㅍㅇㅡㄴㄱㅓ_': <gensim.models.keyedvectors.Vocab at 0x7f1312836310>,\n",
              " 'ㅎㅐ_..': <gensim.models.keyedvectors.Vocab at 0x7f1312836350>,\n",
              " '_ㅠ__ㅠ__ㅠ__ㅠ__ㅠ_': <gensim.models.keyedvectors.Vocab at 0x7f1312836390>,\n",
              " 'ㅊㅏ_ㅂㅜㄴㅎㅏㄴ': <gensim.models.keyedvectors.Vocab at 0x7f13128363d0>,\n",
              " 'ㄷㅡㅅ': <gensim.models.keyedvectors.Vocab at 0x7f1312836410>,\n",
              " 'ㅅㅣ_ㄲㅡ_ㄹㅓ_ㅇㅜㄴ': <gensim.models.keyedvectors.Vocab at 0x7f1312836450>,\n",
              " 'ㄷㅡㅅㅋ__ㅋ__ㅋ__ㅋ__ㅋ__ㅋ__ㅋ__ㅋ__ㅋ__ㅋ__': <gensim.models.keyedvectors.Vocab at 0x7f1312836490>,\n",
              " 'ㅇㅣ_ㄱㅓㄹ': <gensim.models.keyedvectors.Vocab at 0x7f13128364d0>,\n",
              " 'ㅂㅏ_ㄹㅗ_': <gensim.models.keyedvectors.Vocab at 0x7f1312836510>,\n",
              " 'ㄱㅏㅆㅅㅡㅂㄴㅣ_ㄷㅏ_': <gensim.models.keyedvectors.Vocab at 0x7f1312836550>,\n",
              " 'ㅇㅕㅇㅅㅏㅇㅇㅣㄴㄷㅔ_': <gensim.models.keyedvectors.Vocab at 0x7f1312836590>,\n",
              " 'ㅋ__ㅋ__': <gensim.models.keyedvectors.Vocab at 0x7f13128365d0>,\n",
              " 'ㅈㅐ_ㅁㅣㅆㄷㅏ_': <gensim.models.keyedvectors.Vocab at 0x7f1312836610>,\n",
              " 'ㅎㅏㄴㅅㅜㄴㄱㅏㄴㄷㅗ_': <gensim.models.keyedvectors.Vocab at 0x7f1312836650>,\n",
              " 'ㅇㅏㄴㅇㅜㅅㄱㅣㄴ': <gensim.models.keyedvectors.Vocab at 0x7f1312836690>,\n",
              " 'ㅈㅏㅇㅁㅕㄴㅇㅣ_': <gensim.models.keyedvectors.Vocab at 0x7f13128366d0>,\n",
              " 'ㅇㅓㅄㄴㅔ_': <gensim.models.keyedvectors.Vocab at 0x7f1312836710>,\n",
              " 'ㄱㅟ_ㅇㅕ_ㅇㅝ_~~~': <gensim.models.keyedvectors.Vocab at 0x7f1312836750>,\n",
              " 'ㄴㅓ_ㅁㅜ_ㄴㅓ_ㅁㅜ_': <gensim.models.keyedvectors.Vocab at 0x7f1312836790>,\n",
              " 'ㅂㅗ_ㄱㅗ_ㅅㅣㅍㅇㅓㅆㄷㅏ_': <gensim.models.keyedvectors.Vocab at 0x7f13128367d0>,\n",
              " 'ㅇㅣㄴㅌㅓ_ㅂㅠ_ㅁㅏㄴ': <gensim.models.keyedvectors.Vocab at 0x7f1312836810>,\n",
              " 'ㅂㅘ_ㄷㅗ_': <gensim.models.keyedvectors.Vocab at 0x7f1312836850>,\n",
              " 'ㅋ__ㅋ__ㅋ__ㅋ__ㅋ__ㅋ__ㅋ__ㅋ__ㅋ__ㅋ__': <gensim.models.keyedvectors.Vocab at 0x7f1312836890>,\n",
              " 'ㄲㅏ_ㄹㅣ_ㅎㅐ_': <gensim.models.keyedvectors.Vocab at 0x7f13128368d0>,\n",
              " '...': <gensim.models.keyedvectors.Vocab at 0x7f1312836950>,\n",
              " 'ㄱㅟ_ㅇㅕㅂㄷㅏ_,,': <gensim.models.keyedvectors.Vocab at 0x7f1312836990>,\n",
              " 'ㅇ__': <gensim.models.keyedvectors.Vocab at 0x7f13128369d0>,\n",
              " 'ㅈㅓㄹ': <gensim.models.keyedvectors.Vocab at 0x7f1312836a10>,\n",
              " 'ㅋ__ㅋ__ㅋ__': <gensim.models.keyedvectors.Vocab at 0x7f1312836a50>,\n",
              " 'ㅃㅏㄹㄹㅏㅇ': <gensim.models.keyedvectors.Vocab at 0x7f1312836a90>,\n",
              " 'ㅅㅣ_ㅍㅡ_ㄷㅏ_': <gensim.models.keyedvectors.Vocab at 0x7f1312836ad0>,\n",
              " 'ㅁㅏ_ㅈㅣ_ㅁㅏㄱㅇㅡ_ㄹㅗ_': <gensim.models.keyedvectors.Vocab at 0x7f1312836b10>,\n",
              " 'ㄴㅏ_ㅇㅗㄴㄱㅔ_': <gensim.models.keyedvectors.Vocab at 0x7f1312836b50>,\n",
              " 'ㅂㅏㄴㅂㅏㄴ': <gensim.models.keyedvectors.Vocab at 0x7f1312836b90>,\n",
              " 'ㄷㅡ_ㄷㅣ_ㅇㅓ_': <gensim.models.keyedvectors.Vocab at 0x7f1312836bd0>,\n",
              " 'ㅇㅓ_...?': <gensim.models.keyedvectors.Vocab at 0x7f1312836c10>,\n",
              " 'ㅅㅣ_ㄷㅗ_ㅎㅏ_ㄴㅡㄴㄱㅔ_': <gensim.models.keyedvectors.Vocab at 0x7f1312836c50>,\n",
              " 'ㅇㅓ_ㄸㅓ_ㄴㅣ_': <gensim.models.keyedvectors.Vocab at 0x7f1312836c90>,\n",
              " 'ㅇㅣ_ㅅㅗ_ㄹㅣ_': <gensim.models.keyedvectors.Vocab at 0x7f1312836cd0>,\n",
              " 'ㄴㅏ_ㅇㅗㄹㅅㅜ_ㄷㅗ_': <gensim.models.keyedvectors.Vocab at 0x7f1312836d10>,\n",
              " 'ㅇㅣㅆㄷㅏ_': <gensim.models.keyedvectors.Vocab at 0x7f1312836d50>,\n",
              " 'ㄴㅐㅁㅅㅐ_ㄱㅏ_': <gensim.models.keyedvectors.Vocab at 0x7f1312836d90>,\n",
              " 'ㅇㅒ_ㄱㅣ_ㄱㅏ_': <gensim.models.keyedvectors.Vocab at 0x7f1312836dd0>,\n",
              " '♡♡': <gensim.models.keyedvectors.Vocab at 0x7f1312836e10>,\n",
              " ':': <gensim.models.keyedvectors.Vocab at 0x7f1312836e50>,\n",
              " 'think': <gensim.models.keyedvectors.Vocab at 0x7f1312836ed0>,\n",
              " 'song': <gensim.models.keyedvectors.Vocab at 0x7f1312836f50>,\n",
              " 'said': <gensim.models.keyedvectors.Vocab at 0x7f1312836fd0>,\n",
              " 'was': <gensim.models.keyedvectors.Vocab at 0x7f131283f090>,\n",
              " 'not': <gensim.models.keyedvectors.Vocab at 0x7f131283f110>,\n",
              " 'my': <gensim.models.keyedvectors.Vocab at 0x7f131283f190>,\n",
              " '_ㅠ__ㅠ__ㅠ__ㅠ_': <gensim.models.keyedvectors.Vocab at 0x7f131283f1d0>,\n",
              " 'ㅇㅝㄴㅇㅜ_ㅇㅑ_': <gensim.models.keyedvectors.Vocab at 0x7f131283f210>,\n",
              " 'ㅅㅏ_ㅈㅣㄴ': <gensim.models.keyedvectors.Vocab at 0x7f131283f250>,\n",
              " 'ㅁㅗ_ㅅㅡㅂ': <gensim.models.keyedvectors.Vocab at 0x7f131283f290>,\n",
              " 'ㅂㅗ_ㄱㅣ_': <gensim.models.keyedvectors.Vocab at 0x7f131283f2d0>,\n",
              " '😄': <gensim.models.keyedvectors.Vocab at 0x7f131283f310>,\n",
              " '😻': <gensim.models.keyedvectors.Vocab at 0x7f131283f350>,\n",
              " 'ㅈㅏㄹㅅㅐㅇㄱㅣㅁ': <gensim.models.keyedvectors.Vocab at 0x7f131283f390>,\n",
              " 'ㅊㅓ_ㅇㅡㅁㅂㅘㅆㅇㅓ_ㅇㅛ_': <gensim.models.keyedvectors.Vocab at 0x7f131283f3d0>,\n",
              " 'ㅃㅏ_ㅈㅣㅁ': <gensim.models.keyedvectors.Vocab at 0x7f131283f410>,\n",
              " '_ㅠ__ㅠ__ㅠ__ㅠ__ㅠ__ㅠ__ㅠ__ㅠ__ㅠ__ㅠ__ㅠ__ㅠ_': <gensim.models.keyedvectors.Vocab at 0x7f131283f450>,\n",
              " 'ㅅㅗ_ㄱㅗ_ㄱㅣ_': <gensim.models.keyedvectors.Vocab at 0x7f131283f490>,\n",
              " 'ㅁㅓㄱㅇㅓ_': <gensim.models.keyedvectors.Vocab at 0x7f131283f4d0>,\n",
              " 'ㄴㅓㅁㄱㅟ_ㅇㅕㅂㄷㅏㅇ': <gensim.models.keyedvectors.Vocab at 0x7f131283f510>,\n",
              " 'ㄴㅓ_ㅁㅜ_ㄱㅟ_ㅇㅕ_ㅇㅝ_': <gensim.models.keyedvectors.Vocab at 0x7f131283f550>,\n",
              " 'ㅎㅓㄱ': <gensim.models.keyedvectors.Vocab at 0x7f131283f590>,\n",
              " 'ㅁㅗㄹㅇㅣ_': <gensim.models.keyedvectors.Vocab at 0x7f131283f5d0>,\n",
              " 'ㄷㅏㅇㅎㅏㄹ': <gensim.models.keyedvectors.Vocab at 0x7f131283f610>,\n",
              " 'ㄸㅐ_': <gensim.models.keyedvectors.Vocab at 0x7f131283f650>,\n",
              " 'ㅎㅏ_ㄴㅡㄴㄱㅓ_': <gensim.models.keyedvectors.Vocab at 0x7f131283f690>,\n",
              " 'ㄱㅟ_ㅇㅕㅂㄱㅗ_': <gensim.models.keyedvectors.Vocab at 0x7f131283f6d0>,\n",
              " 'ㄲㅏ_ㄱㅗ_': <gensim.models.keyedvectors.Vocab at 0x7f131283f710>,\n",
              " 'ㄱㅟ_ㅇㅕㅂㄱㅔ_': <gensim.models.keyedvectors.Vocab at 0x7f131283f750>,\n",
              " 'ㄸㅗ_ㅂㅏㄱㄸㅗ_ㅂㅏㄱ': <gensim.models.keyedvectors.Vocab at 0x7f131283f790>,\n",
              " 'ㅈㅏㄹㅅㅐㅇㄱㅣ_ㄱㅗ_': <gensim.models.keyedvectors.Vocab at 0x7f131283f7d0>,\n",
              " 'ㅃㅏㄹㄱㅏㄴㅅㅐㄱㅇㅔ_': <gensim.models.keyedvectors.Vocab at 0x7f131283f810>,\n",
              " 'ㄱㅣ_ㄹㅡㄴ': <gensim.models.keyedvectors.Vocab at 0x7f131283f850>,\n",
              " 'ㅎㅏㄴㄱㅜㄱㅁㅏㄹ': <gensim.models.keyedvectors.Vocab at 0x7f131283f890>,\n",
              " 'ㄱㅟ_ㅇㅕ_ㅇㅜ_ㅁㅕㄴ': <gensim.models.keyedvectors.Vocab at 0x7f131283f8d0>,\n",
              " 'ㅅㅣㅁㅈㅏㅇㅁㅏ_ㅂㅣ_ㄹㅗ_': <gensim.models.keyedvectors.Vocab at 0x7f131283f910>,\n",
              " 'ㅆㅡ_ㄹㅓ_ㅈㅕ_': <gensim.models.keyedvectors.Vocab at 0x7f131283f950>,\n",
              " 'ㅂㅕㅇㅇㅝㄴ': <gensim.models.keyedvectors.Vocab at 0x7f131283f990>,\n",
              " 'ㄱㅏㄴㄷㅏ_.': <gensim.models.keyedvectors.Vocab at 0x7f131283f9d0>,\n",
              " 'ㅈㅏㄹㅅㅐㅇㄱㅣㄴ': <gensim.models.keyedvectors.Vocab at 0x7f131283fa10>,\n",
              " 'ㅎㅡㄱㅂㅏㄹㅇㅔ_': <gensim.models.keyedvectors.Vocab at 0x7f131283fa50>,\n",
              " 'ㄱㅓㅁㅈㅓㅇ': <gensim.models.keyedvectors.Vocab at 0x7f131283fa90>,\n",
              " 'ㅇㅗㅅ': <gensim.models.keyedvectors.Vocab at 0x7f131283fad0>,\n",
              " 'ㅁㅣ_ㅊㅕㅆㅇㅓ_ㅇㅛ_': <gensim.models.keyedvectors.Vocab at 0x7f131283fb10>,\n",
              " 'ㅎㅡㄱㅂㅏㄹ': <gensim.models.keyedvectors.Vocab at 0x7f131283fb50>,\n",
              " 'ㅈㅗㄴㅂㅓ_ㅌㅏ_ㄱㅗ_': <gensim.models.keyedvectors.Vocab at 0x7f131283fb90>,\n",
              " 'ㅇㅣㅆㅇㅓㅆㄴㅡㄴㄷㅔ_': <gensim.models.keyedvectors.Vocab at 0x7f131283fbd0>,\n",
              " 'ㄴㅏ_ㅇㅗ_ㄴㅡㄴ': <gensim.models.keyedvectors.Vocab at 0x7f131283fc10>,\n",
              " 'ㅁㅣ_ㅅㅗ_': <gensim.models.keyedvectors.Vocab at 0x7f131283fc50>,\n",
              " 'ㅇㅘㄴㅂㅕㄱㅎㅏ_ㄷㅏ_': <gensim.models.keyedvectors.Vocab at 0x7f131283fc90>,\n",
              " 'ㅊㅗ_ㄹㅗㄱ': <gensim.models.keyedvectors.Vocab at 0x7f131283fcd0>,\n",
              " 'ㅁㅓ_ㄹㅣ_ㄷㅗ_': <gensim.models.keyedvectors.Vocab at 0x7f131283fd10>,\n",
              " 'ㅈㅗㅎㄱㅗ_': <gensim.models.keyedvectors.Vocab at 0x7f131283fd50>,\n",
              " 'ㅈㅗㅎㅇㅏ_ㅇㅛ_ㅎ__ㅎ__': <gensim.models.keyedvectors.Vocab at 0x7f131283fd90>,\n",
              " 'ㄱㅡ_ㄹㅓㄴㅇㅢ_ㅁㅣ_ㄹㅗ_': <gensim.models.keyedvectors.Vocab at 0x7f131283fdd0>,\n",
              " 'ㅁㅜ_ㅈㅣ_ㄱㅐ_': <gensim.models.keyedvectors.Vocab at 0x7f131283fe10>,\n",
              " 'ㅁㅓ_ㄹㅣ_ㅇㅔ_': <gensim.models.keyedvectors.Vocab at 0x7f131283fe50>,\n",
              " 'ㅇㅗ_ㅃㅏ_': <gensim.models.keyedvectors.Vocab at 0x7f131283fe90>,\n",
              " 'ㅎㅕ_': <gensim.models.keyedvectors.Vocab at 0x7f131283fed0>,\n",
              " 'ㅇㅏㅀㅇㅣ_': <gensim.models.keyedvectors.Vocab at 0x7f131283ff10>,\n",
              " 'ㅎㅐ_ㅈㅜ_ㅅㅔ_ㅇㅛ_': <gensim.models.keyedvectors.Vocab at 0x7f131283ff50>,\n",
              " 'ㅂㅜㄹㄹㅓ_ㅈㅜ_ㅅㅕ_ㅅㅓ_': <gensim.models.keyedvectors.Vocab at 0x7f131283ff90>,\n",
              " 'ㄱㅏㅁㅅㅏ_ㅎㅐ_ㅇㅛ_:)': <gensim.models.keyedvectors.Vocab at 0x7f131283ffd0>,\n",
              " 'ㅋㅗ_ㄹㅗ_ㄴㅏ_': <gensim.models.keyedvectors.Vocab at 0x7f1312849050>,\n",
              " 'ㅈㅗ_ㅅㅣㅁㅎㅏ_ㄱㅗ_': <gensim.models.keyedvectors.Vocab at 0x7f1312849090>,\n",
              " 'ㅇㅏㄱㅍㅡㄹ': <gensim.models.keyedvectors.Vocab at 0x7f13128490d0>,\n",
              " 'ㅁㅜ_ㅅㅣ_ㅎㅏ_ㄱㅗ_': <gensim.models.keyedvectors.Vocab at 0x7f1312849110>,\n",
              " 'ㅁㅓㄱㅇㅓ_ㅇㅛ_': <gensim.models.keyedvectors.Vocab at 0x7f1312849150>,\n",
              " 'ㄱㅘㄴㄱㅖ_ㅈㅏ_': <gensim.models.keyedvectors.Vocab at 0x7f1312849190>,\n",
              " 'ㅂㅜㄴㄷㅡㄹㄷㅗ_': <gensim.models.keyedvectors.Vocab at 0x7f13128491d0>,\n",
              " 'ㅈㅗ_ㅅㅣㅁㅎㅏ_ㅅㅔ_ㅇㅛ_~': <gensim.models.keyedvectors.Vocab at 0x7f1312849210>,\n",
              " 'ㄱㅜ_ㅎㅗ_': <gensim.models.keyedvectors.Vocab at 0x7f1312849250>,\n",
              " '~': <gensim.models.keyedvectors.Vocab at 0x7f1312849290>,\n",
              " 'ㅇㅣ_ㅎㅜ_ㄹㅗ_': <gensim.models.keyedvectors.Vocab at 0x7f13128492d0>,\n",
              " 'ㅂㅗㄴㄷㅏ_': <gensim.models.keyedvectors.Vocab at 0x7f1312849310>,\n",
              " 'ㄹㅏ_ㅈㅣ_ㅅㅏ_ㅇㅣ_ㅈㅡ_': <gensim.models.keyedvectors.Vocab at 0x7f1312849350>,\n",
              " 'ㄱㅡ_ㄷㅗㅇㅇㅏㄴ': <gensim.models.keyedvectors.Vocab at 0x7f1312849390>,\n",
              " 'ㅁㅏㄹㅇㅡㄹ': <gensim.models.keyedvectors.Vocab at 0x7f13128493d0>,\n",
              " 'ㅇㅣㄺㄱㅗ_': <gensim.models.keyedvectors.Vocab at 0x7f1312849410>,\n",
              " 'ㄷㅡㄹㅇㅓㅆㄴㅡㄴㄷㅔ_': <gensim.models.keyedvectors.Vocab at 0x7f1312849450>,\n",
              " 'ㄸㅡㅅㅇㅣ_': <gensim.models.keyedvectors.Vocab at 0x7f1312849490>,\n",
              " ...}"
            ]
          },
          "metadata": {
            "tags": []
          },
          "execution_count": 28
        }
      ]
    },
    {
      "cell_type": "code",
      "metadata": {
        "colab": {
          "base_uri": "https://localhost:8080/"
        },
        "id": "Qvw-t9sk1TN1",
        "outputId": "18524dff-61bf-46cb-ca57-19210adba10c"
      },
      "source": [
        "embedding_model.wv.vocab['ㅇ__']"
      ],
      "execution_count": null,
      "outputs": [
        {
          "output_type": "execute_result",
          "data": {
            "text/plain": [
              "<gensim.models.keyedvectors.Vocab at 0x7f13128369d0>"
            ]
          },
          "metadata": {
            "tags": []
          },
          "execution_count": 29
        }
      ]
    },
    {
      "cell_type": "code",
      "metadata": {
        "colab": {
          "base_uri": "https://localhost:8080/"
        },
        "id": "m0sextHkbk4N",
        "outputId": "9c0c9cf7-59d4-42ac-bef6-c9ae9f8a9a84"
      },
      "source": [
        "test_str = '이효배'\n",
        "try:\n",
        "    embedding_model.wv.vocab[jamo_sentence(test_str)]\n",
        "except:\n",
        "    print(f\"{test_str} is not in wv.vocab\")"
      ],
      "execution_count": null,
      "outputs": [
        {
          "output_type": "stream",
          "text": [
            "이효배 is not in wv.vocab\n"
          ],
          "name": "stdout"
        }
      ]
    },
    {
      "cell_type": "code",
      "metadata": {
        "colab": {
          "base_uri": "https://localhost:8080/"
        },
        "id": "X0sKSIricB1P",
        "outputId": "e0c57d4b-d4af-4799-9e22-16a29bed50e2"
      },
      "source": [
        "try:\n",
        "    embedding_model.wv.index2word.index(jamo_sentence(test_str))\n",
        "except:\n",
        "    print(f\"{test_str} is not in wv\")"
      ],
      "execution_count": null,
      "outputs": [
        {
          "output_type": "stream",
          "text": [
            "이효배 is not in wv\n"
          ],
          "name": "stdout"
        }
      ]
    },
    {
      "cell_type": "code",
      "metadata": {
        "colab": {
          "base_uri": "https://localhost:8080/"
        },
        "id": "S2FCqst4cPyp",
        "outputId": "4ee43f84-afca-43c0-eb41-c88fa47c8116"
      },
      "source": [
        "try:\n",
        "    print(embedding_model.wv.get_vector(jamo_sentence(test_str)))\n",
        "except:\n",
        "    print(f\"{test_str}'s vector cannot be computed\")"
      ],
      "execution_count": null,
      "outputs": [
        {
          "output_type": "stream",
          "text": [
            "[-0.37403655  0.19651023  0.11929256 -0.02654292  0.5206497   0.02764431\n",
            " -0.49339563  0.18313037  0.00155129  0.5843913   0.21148854 -0.17790422\n",
            " -0.4318161  -0.2522056  -0.38778958  0.11212477 -1.2797831  -0.27379298\n",
            "  0.42056373 -0.38070545 -0.7472793  -0.34145415 -0.23099454 -0.08130452\n",
            "  0.2458399   0.01194939  0.16582264 -0.23610143 -0.3233421  -0.30369434\n",
            "  0.23559421  0.45279443 -0.08031224  0.37099707 -0.6369605   0.05327706\n",
            " -0.3464001  -0.34033656  0.43969962  0.21471928  0.8727519  -0.44991803\n",
            " -0.05010193 -0.41895708  0.47782835  0.45255774 -0.6736622   0.26439163\n",
            " -0.54832244  0.26810032  0.404838   -0.05194169 -1.0068007  -0.0334061\n",
            "  0.53493667 -0.06614195  0.08650637 -0.75539285 -0.5632158  -0.35702547\n",
            "  0.3789106   0.01599285  0.20340548  0.40650192  0.5133192   0.68571496\n",
            " -0.36023414  0.27157545 -0.55225766 -1.1147113   0.68698704 -0.7739677\n",
            " -0.0582931  -0.18629786 -0.41507697 -0.76411766  0.2350322  -0.41220742\n",
            " -0.13564985  0.27068695 -0.18568334  0.2893728   0.4462098   0.01060166\n",
            "  0.2758874   0.56183875 -0.34220442 -0.06446892  0.9017115   0.04480784\n",
            "  0.17265041  0.2545061  -0.17946985 -0.5628888   0.07089873 -0.3156403\n",
            "  0.18077368  0.10373673 -0.04098466 -0.2657458 ]\n"
          ],
          "name": "stdout"
        }
      ]
    },
    {
      "cell_type": "markdown",
      "metadata": {
        "id": "92EsnvhkclHI"
      },
      "source": [
        "**문제점: FastText는 vocab에 없는 단어도 vector값으로 embedding 할 수 있다**\n",
        "\n",
        "이를 modeling할 때 참고한다면, train과 test data를 합친 corpus를 이용해서 sen->seq 함수를 만들고, embedding matrix를 만들어야 한다.\n",
        "이를 한 번에 해결해 주는 FastText embedder가 왜 없지?"
      ]
    },
    {
      "cell_type": "code",
      "metadata": {
        "colab": {
          "base_uri": "https://localhost:8080/"
        },
        "id": "HmU6gdam1idV",
        "outputId": "df7178ad-081c-4159-dd24-7c7b2f953bea"
      },
      "source": [
        "embedding_model.wv.vectors[0]"
      ],
      "execution_count": null,
      "outputs": [
        {
          "output_type": "execute_result",
          "data": {
            "text/plain": [
              "array([-0.35807574,  0.24967086, -0.39211652,  0.22270921, -0.30095124,\n",
              "       -0.26930484, -0.03055471,  0.41335186, -0.10280499,  1.0449572 ,\n",
              "        0.38705868,  0.25030985,  0.5340444 , -0.11750946, -0.08750965,\n",
              "        0.6022821 , -0.7128501 ,  0.28803402,  0.6250402 , -0.7274412 ,\n",
              "       -0.38887247, -0.8217862 ,  0.23845713,  0.21378914, -0.11827174,\n",
              "        0.5607895 , -0.0617753 ,  0.48724902, -0.7959248 , -1.3584498 ,\n",
              "        0.05636201,  0.11509445,  0.2918855 ,  0.14894316, -1.5500443 ,\n",
              "        0.8018711 ,  0.74725366,  0.66799784,  0.0449916 ,  1.635262  ,\n",
              "        0.19985682, -0.44706652,  0.01261949, -0.24851829,  0.59905064,\n",
              "        1.255239  , -0.36310238,  0.61766183, -1.0230314 ,  0.11231538,\n",
              "        0.19976164, -0.6234934 , -0.20289727,  0.4597294 ,  0.7228388 ,\n",
              "        0.2155575 , -0.50266254, -0.46275043, -0.02873549,  0.60092735,\n",
              "        0.9514901 , -0.03955876, -0.46764556,  0.25555587,  0.6284891 ,\n",
              "       -0.3047173 , -0.29829472, -0.07919572, -0.2810281 , -0.8668252 ,\n",
              "        1.2925323 , -0.97434855,  0.6062987 ,  0.503615  ,  0.16954726,\n",
              "       -0.11835196,  0.02884692, -0.7013284 ,  0.06444389,  0.8637624 ,\n",
              "        1.0860199 , -0.54487514,  0.6041475 ,  0.42124823,  0.18296099,\n",
              "        0.58721566,  0.5119971 ,  0.6117149 , -0.03739612, -0.12849547,\n",
              "       -0.20887548,  0.10884953, -1.4045532 , -1.14217   , -0.37138683,\n",
              "       -1.0398754 , -0.10266411, -0.2014739 ,  0.2820014 , -0.43271145],\n",
              "      dtype=float32)"
            ]
          },
          "metadata": {
            "tags": []
          },
          "execution_count": 33
        }
      ]
    },
    {
      "cell_type": "code",
      "metadata": {
        "colab": {
          "base_uri": "https://localhost:8080/"
        },
        "id": "iH5q7bjo1iUb",
        "outputId": "79cd8443-8d7d-4cba-952a-d42c156feac4"
      },
      "source": [
        "embedding_model.wv.index2word[0]"
      ],
      "execution_count": null,
      "outputs": [
        {
          "output_type": "execute_result",
          "data": {
            "application/vnd.google.colaboratory.intrinsic+json": {
              "type": "string"
            },
            "text/plain": [
              "'ㅈㅣㄴㅉㅏ_'"
            ]
          },
          "metadata": {
            "tags": []
          },
          "execution_count": 34
        }
      ]
    },
    {
      "cell_type": "code",
      "metadata": {
        "colab": {
          "base_uri": "https://localhost:8080/"
        },
        "id": "l5CJus1258wd",
        "outputId": "efbf5728-ca97-470a-b100-3a4e3d5cc127"
      },
      "source": [
        "embedding_model.wv.index2word.index('ㅈㅣㄴㅉㅏ_')"
      ],
      "execution_count": null,
      "outputs": [
        {
          "output_type": "execute_result",
          "data": {
            "text/plain": [
              "0"
            ]
          },
          "metadata": {
            "tags": []
          },
          "execution_count": 35
        }
      ]
    },
    {
      "cell_type": "code",
      "metadata": {
        "colab": {
          "base_uri": "https://localhost:8080/"
        },
        "id": "VnXo_GMb1iXB",
        "outputId": "ca92b108-dd97-40e6-d56e-00d1967ec640"
      },
      "source": [
        "embedding_model.wv.get_vector('ㅈㅣㄴㅉㅏ_')"
      ],
      "execution_count": null,
      "outputs": [
        {
          "output_type": "execute_result",
          "data": {
            "text/plain": [
              "array([-0.35807574,  0.24967086, -0.39211652,  0.22270921, -0.30095124,\n",
              "       -0.26930484, -0.03055471,  0.41335186, -0.10280499,  1.0449572 ,\n",
              "        0.38705868,  0.25030985,  0.5340444 , -0.11750946, -0.08750965,\n",
              "        0.6022821 , -0.7128501 ,  0.28803402,  0.6250402 , -0.7274412 ,\n",
              "       -0.38887247, -0.8217862 ,  0.23845713,  0.21378914, -0.11827174,\n",
              "        0.5607895 , -0.0617753 ,  0.48724902, -0.7959248 , -1.3584498 ,\n",
              "        0.05636201,  0.11509445,  0.2918855 ,  0.14894316, -1.5500443 ,\n",
              "        0.8018711 ,  0.74725366,  0.66799784,  0.0449916 ,  1.635262  ,\n",
              "        0.19985682, -0.44706652,  0.01261949, -0.24851829,  0.59905064,\n",
              "        1.255239  , -0.36310238,  0.61766183, -1.0230314 ,  0.11231538,\n",
              "        0.19976164, -0.6234934 , -0.20289727,  0.4597294 ,  0.7228388 ,\n",
              "        0.2155575 , -0.50266254, -0.46275043, -0.02873549,  0.60092735,\n",
              "        0.9514901 , -0.03955876, -0.46764556,  0.25555587,  0.6284891 ,\n",
              "       -0.3047173 , -0.29829472, -0.07919572, -0.2810281 , -0.8668252 ,\n",
              "        1.2925323 , -0.97434855,  0.6062987 ,  0.503615  ,  0.16954726,\n",
              "       -0.11835196,  0.02884692, -0.7013284 ,  0.06444389,  0.8637624 ,\n",
              "        1.0860199 , -0.54487514,  0.6041475 ,  0.42124823,  0.18296099,\n",
              "        0.58721566,  0.5119971 ,  0.6117149 , -0.03739612, -0.12849547,\n",
              "       -0.20887548,  0.10884953, -1.4045532 , -1.14217   , -0.37138683,\n",
              "       -1.0398754 , -0.10266411, -0.2014739 ,  0.2820014 , -0.43271145],\n",
              "      dtype=float32)"
            ]
          },
          "metadata": {
            "tags": []
          },
          "execution_count": 36
        }
      ]
    },
    {
      "cell_type": "code",
      "metadata": {
        "colab": {
          "base_uri": "https://localhost:8080/"
        },
        "id": "MdGH2Ffo5Sqz",
        "outputId": "ed3242ea-3220-4a62-8023-476ab1304848"
      },
      "source": [
        "len(embedding_model.wv.index2word)"
      ],
      "execution_count": null,
      "outputs": [
        {
          "output_type": "execute_result",
          "data": {
            "text/plain": [
              "283367"
            ]
          },
          "metadata": {
            "tags": []
          },
          "execution_count": 37
        }
      ]
    },
    {
      "cell_type": "code",
      "metadata": {
        "colab": {
          "base_uri": "https://localhost:8080/"
        },
        "id": "nKHJ6_JX7Fd7",
        "outputId": "4445b440-fa2c-437b-e351-d58ffe56ec35"
      },
      "source": [
        "try:\n",
        "    embedding_model.wv.index2word.index('히히')\n",
        "except:\n",
        "    print(\"'히히' is not in list\")"
      ],
      "execution_count": null,
      "outputs": [
        {
          "output_type": "stream",
          "text": [
            "'히히' is not in list\n"
          ],
          "name": "stdout"
        }
      ]
    },
    {
      "cell_type": "markdown",
      "metadata": {
        "id": "3InQ7-0Bc7Jr"
      },
      "source": [
        "##### change train data to integer vector (token -> integer)"
      ]
    },
    {
      "cell_type": "code",
      "metadata": {
        "id": "EJEyTW2N5Vic"
      },
      "source": [
        "def sen_to_seq(s_list): # s = ['ㅇㅣ_ㅎㅛ_ㅂㅐ_', 'ㅂㅏ_ㅂㅗ_']\n",
        "    seq = list()\n",
        "    for s in s_list:\n",
        "        try:\n",
        "            seq_value = embedding_model.wv.index2word.index(s)+1\n",
        "        except:\n",
        "            seq_value = 0 # 없으면 0\n",
        "        seq.append(seq_value)\n",
        "    return seq"
      ],
      "execution_count": null,
      "outputs": []
    },
    {
      "cell_type": "code",
      "metadata": {
        "colab": {
          "base_uri": "https://localhost:8080/"
        },
        "id": "_YhBFdhowpsD",
        "outputId": "53b6660e-037b-425b-f106-b8ee24042950"
      },
      "source": [
        "X_train.iloc[0]"
      ],
      "execution_count": null,
      "outputs": [
        {
          "output_type": "execute_result",
          "data": {
            "text/plain": [
              "['ㅎㅕㅇ!ㅍㅏ_ㅌㅡ_ㅋㅗ_ㅇㅣㄴ', 'ㅎㅐ_ㅂㅘ_!ㄹ__ㅇ__', 'ㅎㅏ_ㄹㅜ_ㅇㅔ_', '1cm']"
            ]
          },
          "metadata": {
            "tags": []
          },
          "execution_count": 29
        }
      ]
    },
    {
      "cell_type": "code",
      "metadata": {
        "colab": {
          "base_uri": "https://localhost:8080/"
        },
        "id": "y4zHlFp25VgV",
        "outputId": "76170d48-743d-4e49-f031-297814252cef"
      },
      "source": [
        "sen_to_seq(X_train.iloc[0])"
      ],
      "execution_count": null,
      "outputs": [
        {
          "output_type": "execute_result",
          "data": {
            "text/plain": [
              "[0, 0, 1259, 78093]"
            ]
          },
          "metadata": {
            "tags": []
          },
          "execution_count": 30
        }
      ]
    },
    {
      "cell_type": "code",
      "metadata": {
        "colab": {
          "base_uri": "https://localhost:8080/"
        },
        "id": "PQxSgsPioLbe",
        "outputId": "c208c4a8-2cd6-4eb9-d065-4d594ea29b65"
      },
      "source": [
        "embedding_model.wv[X_train.iloc[0]].shape"
      ],
      "execution_count": null,
      "outputs": [
        {
          "output_type": "execute_result",
          "data": {
            "text/plain": [
              "(4, 100)"
            ]
          },
          "metadata": {
            "tags": []
          },
          "execution_count": 31
        }
      ]
    },
    {
      "cell_type": "code",
      "metadata": {
        "id": "mduOmRIJ5VeP"
      },
      "source": [
        "def seq_padding(seq, max_len):\n",
        "    if len(seq) < max_len:\n",
        "        n = max_len - len(seq)\n",
        "        zero_list = [0] * n\n",
        "        seq += zero_list\n",
        "    elif len(seq) > max_len:\n",
        "        seq = seq[:max_len] \n",
        "    \n",
        "    return seq   "
      ],
      "execution_count": null,
      "outputs": []
    },
    {
      "cell_type": "code",
      "metadata": {
        "colab": {
          "base_uri": "https://localhost:8080/"
        },
        "id": "ZJktWsfMydem",
        "outputId": "36ad543d-8a0f-43be-c514-016a03d7fbf5"
      },
      "source": [
        "max_len = max(len(l) for l in X_train)\n",
        "max_len"
      ],
      "execution_count": null,
      "outputs": [
        {
          "output_type": "execute_result",
          "data": {
            "text/plain": [
              "825"
            ]
          },
          "metadata": {
            "tags": []
          },
          "execution_count": 30
        }
      ]
    },
    {
      "cell_type": "code",
      "metadata": {
        "id": "FA65aUn7hRcR"
      },
      "source": [
        "len_distribution = [len(l) for l in X_train]"
      ],
      "execution_count": null,
      "outputs": []
    },
    {
      "cell_type": "code",
      "metadata": {
        "colab": {
          "base_uri": "https://localhost:8080/"
        },
        "id": "AzHROTl7nJhb",
        "outputId": "f398c42c-4134-4943-c77d-e3f548c85bc1"
      },
      "source": [
        "np.mean(len_distribution)"
      ],
      "execution_count": null,
      "outputs": [
        {
          "output_type": "execute_result",
          "data": {
            "text/plain": [
              "8.25852380952381"
            ]
          },
          "metadata": {
            "tags": []
          },
          "execution_count": 32
        }
      ]
    },
    {
      "cell_type": "code",
      "metadata": {
        "colab": {
          "base_uri": "https://localhost:8080/",
          "height": 265
        },
        "id": "wOjGzIwHnJen",
        "outputId": "624b6487-169b-48af-84a3-4b18da56a35b"
      },
      "source": [
        "len_distribution_array = np.array(len_distribution)\n",
        "\n",
        "plt.hist(len_distribution_array, bins = np.arange(0,100,1))\n",
        "plt.show()"
      ],
      "execution_count": null,
      "outputs": [
        {
          "output_type": "display_data",
          "data": {
            "image/png": "[encoded data removed]",
            "text/plain": [
              "<Figure size 432x288 with 1 Axes>"
            ]
          },
          "metadata": {
            "tags": [],
            "needs_background": "light"
          }
        }
      ]
    },
    {
      "cell_type": "code",
      "metadata": {
        "colab": {
          "base_uri": "https://localhost:8080/",
          "height": 265
        },
        "id": "CKmws22ZoKef",
        "outputId": "7830646e-a056-4269-8787-3963d9aaa1f2"
      },
      "source": [
        "plt.hist(len_distribution_array, bins = np.arange(0,40,1))\n",
        "plt.show()"
      ],
      "execution_count": null,
      "outputs": [
        {
          "output_type": "display_data",
          "data": {
            "image/png": "[encoded data removed]",
            "text/plain": [
              "<Figure size 432x288 with 1 Axes>"
            ]
          },
          "metadata": {
            "tags": [],
            "needs_background": "light"
          }
        }
      ]
    },
    {
      "cell_type": "code",
      "metadata": {
        "id": "u7DkYCMkoSdv"
      },
      "source": [
        "sentence_len = 15"
      ],
      "execution_count": null,
      "outputs": []
    },
    {
      "cell_type": "code",
      "metadata": {
        "colab": {
          "base_uri": "https://localhost:8080/"
        },
        "id": "GQLYUEwzqzai",
        "outputId": "708f1287-e246-4b3b-82ce-ba9a92c9586e"
      },
      "source": [
        "for i in tqdm(range(len(embedding_model.wv.vectors))):\n",
        "    embedding_matrix[i+1] = embedding_model.wv.vectors[i]"
      ],
      "execution_count": null,
      "outputs": [
        {
          "output_type": "stream",
          "text": [
            "100%|██████████| 283367/283367 [00:00<00:00, 862283.31it/s]\n"
          ],
          "name": "stderr"
        }
      ]
    },
    {
      "cell_type": "code",
      "metadata": {
        "colab": {
          "base_uri": "https://localhost:8080/"
        },
        "id": "IhV4zSseqzX_",
        "outputId": "88305160-5a7c-46e2-bd9a-32a21dfb4582"
      },
      "source": [
        "embedding_matrix[0]"
      ],
      "execution_count": null,
      "outputs": [
        {
          "output_type": "execute_result",
          "data": {
            "text/plain": [
              "array([0., 0., 0., 0., 0., 0., 0., 0., 0., 0., 0., 0., 0., 0., 0., 0., 0.,\n",
              "       0., 0., 0., 0., 0., 0., 0., 0., 0., 0., 0., 0., 0., 0., 0., 0., 0.,\n",
              "       0., 0., 0., 0., 0., 0., 0., 0., 0., 0., 0., 0., 0., 0., 0., 0., 0.,\n",
              "       0., 0., 0., 0., 0., 0., 0., 0., 0., 0., 0., 0., 0., 0., 0., 0., 0.,\n",
              "       0., 0., 0., 0., 0., 0., 0., 0., 0., 0., 0., 0., 0., 0., 0., 0., 0.,\n",
              "       0., 0., 0., 0., 0., 0., 0., 0., 0., 0., 0., 0., 0., 0., 0.])"
            ]
          },
          "metadata": {
            "tags": []
          },
          "execution_count": 37
        }
      ]
    },
    {
      "cell_type": "code",
      "metadata": {
        "colab": {
          "base_uri": "https://localhost:8080/"
        },
        "id": "H1mwXgbS-Flp",
        "outputId": "144475a8-c114-43b9-b02f-540af05bdc4c"
      },
      "source": [
        "embedding_matrix[1] # = embedding_model.wv.get_vector('ㅈㅣㄴㅉㅏ_')"
      ],
      "execution_count": null,
      "outputs": [
        {
          "output_type": "execute_result",
          "data": {
            "text/plain": [
              "array([-0.35807574,  0.24967086, -0.39211652,  0.22270921, -0.30095124,\n",
              "       -0.26930484, -0.03055471,  0.41335186, -0.10280499,  1.04495716,\n",
              "        0.38705868,  0.25030985,  0.53404438, -0.11750946, -0.08750965,\n",
              "        0.60228211, -0.71285009,  0.28803402,  0.62504017, -0.72744119,\n",
              "       -0.38887247, -0.82178622,  0.23845713,  0.21378914, -0.11827174,\n",
              "        0.56078953, -0.0617753 ,  0.48724902, -0.79592478, -1.35844982,\n",
              "        0.05636201,  0.11509445,  0.2918855 ,  0.14894316, -1.5500443 ,\n",
              "        0.80187112,  0.74725366,  0.66799784,  0.0449916 ,  1.63526201,\n",
              "        0.19985682, -0.44706652,  0.01261949, -0.24851829,  0.59905064,\n",
              "        1.25523901, -0.36310238,  0.61766183, -1.02303135,  0.11231538,\n",
              "        0.19976164, -0.62349337, -0.20289727,  0.4597294 ,  0.72283882,\n",
              "        0.2155575 , -0.50266254, -0.46275043, -0.02873549,  0.60092735,\n",
              "        0.9514901 , -0.03955876, -0.46764556,  0.25555587,  0.62848908,\n",
              "       -0.3047173 , -0.29829472, -0.07919572, -0.28102809, -0.86682522,\n",
              "        1.29253232, -0.97434855,  0.60629869,  0.50361502,  0.16954726,\n",
              "       -0.11835196,  0.02884692, -0.7013284 ,  0.06444389,  0.86376238,\n",
              "        1.08601987, -0.54487514,  0.60414749,  0.42124823,  0.18296099,\n",
              "        0.58721566,  0.5119971 ,  0.6117149 , -0.03739612, -0.12849547,\n",
              "       -0.20887548,  0.10884953, -1.40455317, -1.14216995, -0.37138683,\n",
              "       -1.03987539, -0.10266411, -0.20147391,  0.28200141, -0.43271145])"
            ]
          },
          "metadata": {
            "tags": []
          },
          "execution_count": 38
        }
      ]
    },
    {
      "cell_type": "code",
      "metadata": {
        "colab": {
          "base_uri": "https://localhost:8080/"
        },
        "id": "vax0zM2F-SI1",
        "outputId": "e5c4bbae-e8dc-462c-cd09-ffddc95e46d0"
      },
      "source": [
        "# X_train = X_train.apply(lambda row : jamo_sentence(str(row['comment'])).strip().split(\" \"), axis=1)\n",
        "\n",
        "word_seq_train = X_train.apply(lambda row : sen_to_seq(row))\n",
        "word_seq_test = X_test.apply(lambda row : sen_to_seq(row))\n",
        "\n",
        "word_seq_train.head(5)"
      ],
      "execution_count": null,
      "outputs": [
        {
          "output_type": "execute_result",
          "data": {
            "text/plain": [
              "7959                 [0, 0, 1259, 78093]\n",
              "2712                          [0, 20889]\n",
              "13606                             [0, 0]\n",
              "18062                           [147868]\n",
              "113      [464, 28559, 65920, 53799, 464]\n",
              "dtype: object"
            ]
          },
          "metadata": {
            "tags": []
          },
          "execution_count": 39
        }
      ]
    },
    {
      "cell_type": "code",
      "metadata": {
        "colab": {
          "base_uri": "https://localhost:8080/"
        },
        "id": "bIZZXMof-SGJ",
        "outputId": "3ad91706-3b60-47fa-e1e1-cca09630c55f"
      },
      "source": [
        "word_seq_train = word_seq_train.apply(lambda row : seq_padding(row, sentence_len))\n",
        "word_seq_test = word_seq_test.apply(lambda row : seq_padding(row, sentence_len))\n",
        "\n",
        "word_seq_train.head(5)"
      ],
      "execution_count": null,
      "outputs": [
        {
          "output_type": "execute_result",
          "data": {
            "text/plain": [
              "7959     [0, 0, 1259, 78093, 0, 0, 0, 0, 0, 0, 0, 0, 0,...\n",
              "2712     [0, 20889, 0, 0, 0, 0, 0, 0, 0, 0, 0, 0, 0, 0, 0]\n",
              "13606        [0, 0, 0, 0, 0, 0, 0, 0, 0, 0, 0, 0, 0, 0, 0]\n",
              "18062    [147868, 0, 0, 0, 0, 0, 0, 0, 0, 0, 0, 0, 0, 0...\n",
              "113      [464, 28559, 65920, 53799, 464, 0, 0, 0, 0, 0,...\n",
              "dtype: object"
            ]
          },
          "metadata": {
            "tags": []
          },
          "execution_count": 40
        }
      ]
    },
    {
      "cell_type": "code",
      "metadata": {
        "colab": {
          "base_uri": "https://localhost:8080/"
        },
        "id": "STVP2K9YDGyi",
        "outputId": "d2e29992-7b7f-4647-e235-cbea1535c18d"
      },
      "source": [
        "word_seq_train = np.array(word_seq_train.to_list())\n",
        "word_seq_test = np.array(word_seq_test.to_list())\n",
        "\n",
        "word_seq_train"
      ],
      "execution_count": null,
      "outputs": [
        {
          "output_type": "execute_result",
          "data": {
            "text/plain": [
              "array([[     0,      0,   1259, ...,      0,      0,      0],\n",
              "       [     0,  20889,      0, ...,      0,      0,      0],\n",
              "       [     0,      0,      0, ...,      0,      0,      0],\n",
              "       ...,\n",
              "       [   115,   8278,   3291, ...,      0,      0,      0],\n",
              "       [ 11473,  66961,    572, ...,      0,      0,      0],\n",
              "       [  1583, 137346,      2, ...,      0,      0,      0]])"
            ]
          },
          "metadata": {
            "tags": []
          },
          "execution_count": 41
        }
      ]
    },
    {
      "cell_type": "markdown",
      "metadata": {
        "id": "Se4-mU7YSTUP"
      },
      "source": [
        "#### modeling"
      ]
    },
    {
      "cell_type": "code",
      "metadata": {
        "id": "L5XNZHqvqzWh"
      },
      "source": [
        "import tensorflow as tf\n",
        "from tensorflow.keras.layers import *\n",
        "from tensorflow.keras.models import Model\n",
        "from tensorflow.keras.models import Sequential\n",
        "from tensorflow.keras.models import load_model\n",
        "from tensorflow.keras.callbacks import EarlyStopping, ModelCheckpoint\n",
        "from tensorflow.keras.preprocessing.text import Tokenizer\n",
        "from tensorflow.keras.preprocessing.sequence import pad_sequences\n",
        "from tensorflow.keras.utils import to_categorical\n",
        "\n",
        "# from keras.utils import plot_model"
      ],
      "execution_count": null,
      "outputs": []
    },
    {
      "cell_type": "code",
      "metadata": {
        "id": "NZXbEZ93xXL5",
        "colab": {
          "base_uri": "https://localhost:8080/"
        },
        "outputId": "7d312dec-21bd-4901-a164-2cfe7f82b74b"
      },
      "source": [
        "# set target data\n",
        "y_train_catg = to_categorical(y_train, num_classes=7)\n",
        "y_test_catg = to_categorical(y_test, num_classes=7)\n",
        "\n",
        "y_train_catg"
      ],
      "execution_count": null,
      "outputs": [
        {
          "output_type": "execute_result",
          "data": {
            "text/plain": [
              "array([[1., 0., 0., ..., 0., 0., 0.],\n",
              "       [1., 0., 0., ..., 0., 0., 0.],\n",
              "       [0., 1., 0., ..., 0., 0., 0.],\n",
              "       ...,\n",
              "       [1., 0., 0., ..., 0., 0., 0.],\n",
              "       [0., 1., 0., ..., 0., 0., 0.],\n",
              "       [1., 0., 0., ..., 0., 0., 0.]], dtype=float32)"
            ]
          },
          "metadata": {
            "tags": []
          },
          "execution_count": 43
        }
      ]
    },
    {
      "cell_type": "markdown",
      "metadata": {
        "id": "sNXxBwPACGo8"
      },
      "source": [
        "##### LSTM model"
      ]
    },
    {
      "cell_type": "code",
      "metadata": {
        "colab": {
          "base_uri": "https://localhost:8080/"
        },
        "id": "yovAvzIgqzTI",
        "outputId": "30c955d6-fc2e-4395-dda4-15c9917921a2"
      },
      "source": [
        "lstm_model = Sequential()\n",
        "\n",
        "e = Embedding(input_dim=vocab_size, output_dim=100, weights=[embedding_matrix], input_length=sentence_len, trainable=False) # input_length = sentence_len\n",
        "lstm_model.add(e)\n",
        "lstm_model.add(LSTM(64, return_sequences=True))\n",
        "lstm_model.add(LSTM(32, return_sequences=False))\n",
        "# lstm_model.add(BatchNormalization())\n",
        "lstm_model.add(Dense(16, activation = 'tanh'))\n",
        "lstm_model.add(Dense(7, activation = 'softmax')) # 여기서 3은 최종 라벨 갯수\n",
        "\n",
        "lstm_model.compile(optimizer='adam', loss='categorical_crossentropy', metrics=['acc'])\n",
        "lstm_model.summary()"
      ],
      "execution_count": null,
      "outputs": [
        {
          "output_type": "stream",
          "text": [
            "Model: \"sequential_3\"\n",
            "_________________________________________________________________\n",
            "Layer (type)                 Output Shape              Param #   \n",
            "=================================================================\n",
            "embedding_3 (Embedding)      (None, 15, 100)           28336800  \n",
            "_________________________________________________________________\n",
            "lstm_6 (LSTM)                (None, 15, 64)            42240     \n",
            "_________________________________________________________________\n",
            "lstm_7 (LSTM)                (None, 32)                12416     \n",
            "_________________________________________________________________\n",
            "dense_6 (Dense)              (None, 16)                528       \n",
            "_________________________________________________________________\n",
            "dense_7 (Dense)              (None, 7)                 119       \n",
            "=================================================================\n",
            "Total params: 28,392,103\n",
            "Trainable params: 55,303\n",
            "Non-trainable params: 28,336,800\n",
            "_________________________________________________________________\n"
          ],
          "name": "stdout"
        }
      ]
    },
    {
      "cell_type": "code",
      "metadata": {
        "colab": {
          "base_uri": "https://localhost:8080/"
        },
        "id": "YpHKdrgbzyC9",
        "outputId": "ab68cfa5-725f-426c-d267-0e3bf562a038"
      },
      "source": [
        "checkpoint_path = '/content/drive/Shareddrives/[GH x Sandbox]/code/DeepLevel/model/lstm_jamo_7.ckpt'\n",
        "checkpoint = ModelCheckpoint(filepath=checkpoint_path,\n",
        "                             save_weights_only=False,\n",
        "                             save_best_only=True,\n",
        "                             monitor='val_acc',\n",
        "                             verbose=1)\n",
        "\n",
        "\n",
        "lstm_model.fit(word_seq_train, y_train_catg, \n",
        "               epochs=30, verbose=2, \n",
        "               validation_data=(word_seq_test, y_test_catg),\n",
        "               callbacks=[checkpoint])"
      ],
      "execution_count": null,
      "outputs": [
        {
          "output_type": "stream",
          "text": [
            "Epoch 1/30\n",
            "657/657 - 6s - loss: 1.1734 - acc: 0.6206 - val_loss: 1.0569 - val_acc: 0.6540\n",
            "\n",
            "Epoch 00001: val_acc improved from -inf to 0.65400, saving model to /content/drive/Shareddrives/[GH x Sandbox]/code/DeepLevel/model/lstm_jamo_7.ckpt\n"
          ],
          "name": "stdout"
        },
        {
          "output_type": "stream",
          "text": [
            "WARNING:absl:Found untraced functions such as lstm_cell_26_layer_call_and_return_conditional_losses, lstm_cell_26_layer_call_fn, lstm_cell_27_layer_call_and_return_conditional_losses, lstm_cell_27_layer_call_fn, lstm_cell_26_layer_call_fn while saving (showing 5 of 10). These functions will not be directly callable after loading.\n"
          ],
          "name": "stderr"
        },
        {
          "output_type": "stream",
          "text": [
            "INFO:tensorflow:Assets written to: /content/drive/Shareddrives/[GH x Sandbox]/code/DeepLevel/model/lstm_jamo_7.ckpt/assets\n"
          ],
          "name": "stdout"
        },
        {
          "output_type": "stream",
          "text": [
            "INFO:tensorflow:Assets written to: /content/drive/Shareddrives/[GH x Sandbox]/code/DeepLevel/model/lstm_jamo_7.ckpt/assets\n"
          ],
          "name": "stderr"
        },
        {
          "output_type": "stream",
          "text": [
            "Epoch 2/30\n",
            "657/657 - 3s - loss: 1.0580 - acc: 0.6486 - val_loss: 1.0375 - val_acc: 0.6490\n",
            "\n",
            "Epoch 00002: val_acc did not improve from 0.65400\n",
            "Epoch 3/30\n",
            "657/657 - 3s - loss: 1.0264 - acc: 0.6554 - val_loss: 1.0419 - val_acc: 0.6620\n",
            "\n",
            "Epoch 00003: val_acc improved from 0.65400 to 0.66200, saving model to /content/drive/Shareddrives/[GH x Sandbox]/code/DeepLevel/model/lstm_jamo_7.ckpt\n"
          ],
          "name": "stdout"
        },
        {
          "output_type": "stream",
          "text": [
            "WARNING:absl:Found untraced functions such as lstm_cell_26_layer_call_and_return_conditional_losses, lstm_cell_26_layer_call_fn, lstm_cell_27_layer_call_and_return_conditional_losses, lstm_cell_27_layer_call_fn, lstm_cell_26_layer_call_fn while saving (showing 5 of 10). These functions will not be directly callable after loading.\n"
          ],
          "name": "stderr"
        },
        {
          "output_type": "stream",
          "text": [
            "INFO:tensorflow:Assets written to: /content/drive/Shareddrives/[GH x Sandbox]/code/DeepLevel/model/lstm_jamo_7.ckpt/assets\n"
          ],
          "name": "stdout"
        },
        {
          "output_type": "stream",
          "text": [
            "INFO:tensorflow:Assets written to: /content/drive/Shareddrives/[GH x Sandbox]/code/DeepLevel/model/lstm_jamo_7.ckpt/assets\n"
          ],
          "name": "stderr"
        },
        {
          "output_type": "stream",
          "text": [
            "Epoch 4/30\n",
            "657/657 - 3s - loss: 0.9976 - acc: 0.6652 - val_loss: 1.0440 - val_acc: 0.6530\n",
            "\n",
            "Epoch 00004: val_acc did not improve from 0.66200\n",
            "Epoch 5/30\n",
            "657/657 - 3s - loss: 0.9767 - acc: 0.6691 - val_loss: 1.0368 - val_acc: 0.6510\n",
            "\n",
            "Epoch 00005: val_acc did not improve from 0.66200\n",
            "Epoch 6/30\n",
            "657/657 - 3s - loss: 0.9530 - acc: 0.6753 - val_loss: 1.0391 - val_acc: 0.6440\n",
            "\n",
            "Epoch 00006: val_acc did not improve from 0.66200\n",
            "Epoch 7/30\n",
            "657/657 - 3s - loss: 0.9278 - acc: 0.6843 - val_loss: 1.0552 - val_acc: 0.6400\n",
            "\n",
            "Epoch 00007: val_acc did not improve from 0.66200\n",
            "Epoch 8/30\n",
            "657/657 - 3s - loss: 0.9040 - acc: 0.6917 - val_loss: 1.0682 - val_acc: 0.6530\n",
            "\n",
            "Epoch 00008: val_acc did not improve from 0.66200\n",
            "Epoch 9/30\n",
            "657/657 - 3s - loss: 0.8741 - acc: 0.7015 - val_loss: 1.0904 - val_acc: 0.6380\n",
            "\n",
            "Epoch 00009: val_acc did not improve from 0.66200\n",
            "Epoch 10/30\n",
            "657/657 - 3s - loss: 0.8453 - acc: 0.7089 - val_loss: 1.1142 - val_acc: 0.6470\n",
            "\n",
            "Epoch 00010: val_acc did not improve from 0.66200\n",
            "Epoch 11/30\n",
            "657/657 - 3s - loss: 0.8155 - acc: 0.7217 - val_loss: 1.1390 - val_acc: 0.6420\n",
            "\n",
            "Epoch 00011: val_acc did not improve from 0.66200\n",
            "Epoch 12/30\n",
            "657/657 - 3s - loss: 0.7857 - acc: 0.7335 - val_loss: 1.1633 - val_acc: 0.6310\n",
            "\n",
            "Epoch 00012: val_acc did not improve from 0.66200\n",
            "Epoch 13/30\n",
            "657/657 - 3s - loss: 0.7566 - acc: 0.7417 - val_loss: 1.1933 - val_acc: 0.6330\n",
            "\n",
            "Epoch 00013: val_acc did not improve from 0.66200\n",
            "Epoch 14/30\n",
            "657/657 - 3s - loss: 0.7223 - acc: 0.7573 - val_loss: 1.2269 - val_acc: 0.6370\n",
            "\n",
            "Epoch 00014: val_acc did not improve from 0.66200\n",
            "Epoch 15/30\n",
            "657/657 - 3s - loss: 0.6964 - acc: 0.7679 - val_loss: 1.2882 - val_acc: 0.6160\n",
            "\n",
            "Epoch 00015: val_acc did not improve from 0.66200\n",
            "Epoch 16/30\n",
            "657/657 - 3s - loss: 0.6617 - acc: 0.7804 - val_loss: 1.3092 - val_acc: 0.6080\n",
            "\n",
            "Epoch 00016: val_acc did not improve from 0.66200\n",
            "Epoch 17/30\n",
            "657/657 - 3s - loss: 0.6384 - acc: 0.7893 - val_loss: 1.3918 - val_acc: 0.6110\n",
            "\n",
            "Epoch 00017: val_acc did not improve from 0.66200\n",
            "Epoch 18/30\n",
            "657/657 - 3s - loss: 0.6096 - acc: 0.8002 - val_loss: 1.4217 - val_acc: 0.6220\n",
            "\n",
            "Epoch 00018: val_acc did not improve from 0.66200\n",
            "Epoch 19/30\n",
            "657/657 - 3s - loss: 0.5798 - acc: 0.8113 - val_loss: 1.4249 - val_acc: 0.6150\n",
            "\n",
            "Epoch 00019: val_acc did not improve from 0.66200\n",
            "Epoch 20/30\n",
            "657/657 - 3s - loss: 0.5620 - acc: 0.8180 - val_loss: 1.4768 - val_acc: 0.6200\n",
            "\n",
            "Epoch 00020: val_acc did not improve from 0.66200\n",
            "Epoch 21/30\n",
            "657/657 - 3s - loss: 0.5331 - acc: 0.8290 - val_loss: 1.5346 - val_acc: 0.6090\n",
            "\n",
            "Epoch 00021: val_acc did not improve from 0.66200\n",
            "Epoch 22/30\n",
            "657/657 - 3s - loss: 0.5192 - acc: 0.8323 - val_loss: 1.5266 - val_acc: 0.6270\n",
            "\n",
            "Epoch 00022: val_acc did not improve from 0.66200\n",
            "Epoch 23/30\n",
            "657/657 - 3s - loss: 0.4955 - acc: 0.8422 - val_loss: 1.6506 - val_acc: 0.5980\n",
            "\n",
            "Epoch 00023: val_acc did not improve from 0.66200\n",
            "Epoch 24/30\n",
            "657/657 - 3s - loss: 0.4807 - acc: 0.8488 - val_loss: 1.6220 - val_acc: 0.6020\n",
            "\n",
            "Epoch 00024: val_acc did not improve from 0.66200\n",
            "Epoch 25/30\n",
            "657/657 - 3s - loss: 0.4698 - acc: 0.8485 - val_loss: 1.6961 - val_acc: 0.5900\n",
            "\n",
            "Epoch 00025: val_acc did not improve from 0.66200\n",
            "Epoch 26/30\n",
            "657/657 - 3s - loss: 0.4576 - acc: 0.8545 - val_loss: 1.7814 - val_acc: 0.5690\n",
            "\n",
            "Epoch 00026: val_acc did not improve from 0.66200\n",
            "Epoch 27/30\n",
            "657/657 - 3s - loss: 0.4340 - acc: 0.8628 - val_loss: 1.8028 - val_acc: 0.5980\n",
            "\n",
            "Epoch 00027: val_acc did not improve from 0.66200\n",
            "Epoch 28/30\n",
            "657/657 - 3s - loss: 0.4298 - acc: 0.8622 - val_loss: 1.7724 - val_acc: 0.5970\n",
            "\n",
            "Epoch 00028: val_acc did not improve from 0.66200\n",
            "Epoch 29/30\n",
            "657/657 - 3s - loss: 0.4215 - acc: 0.8678 - val_loss: 1.8057 - val_acc: 0.6090\n",
            "\n",
            "Epoch 00029: val_acc did not improve from 0.66200\n",
            "Epoch 30/30\n",
            "657/657 - 3s - loss: 0.4078 - acc: 0.8701 - val_loss: 1.8720 - val_acc: 0.6170\n",
            "\n",
            "Epoch 00030: val_acc did not improve from 0.66200\n"
          ],
          "name": "stdout"
        },
        {
          "output_type": "execute_result",
          "data": {
            "text/plain": [
              "<tensorflow.python.keras.callbacks.History at 0x7f54db4ec910>"
            ]
          },
          "metadata": {
            "tags": []
          },
          "execution_count": 84
        }
      ]
    },
    {
      "cell_type": "code",
      "metadata": {
        "id": "wrxf0qMhhVLv"
      },
      "source": [
        "# save_options = tf.saved_model.SaveOptions(experimental_io_device='/job:localhost')\n",
        "saved_model_path = '/content/drive/Shareddrives/[GH x Sandbox]/code/DeepLevel/model/lstm_jamo7_model_h5'\n",
        "lstm_model.save(saved_model_path, save_format='h5') #, options=save_options)"
      ],
      "execution_count": null,
      "outputs": []
    },
    {
      "cell_type": "code",
      "metadata": {
        "colab": {
          "base_uri": "https://localhost:8080/"
        },
        "id": "toZx7-DrlH6w",
        "outputId": "8a3677d5-8adb-483f-e779-8dd567e583a0"
      },
      "source": [
        "config = lstm_model.get_config()\n",
        "config"
      ],
      "execution_count": null,
      "outputs": [
        {
          "output_type": "execute_result",
          "data": {
            "text/plain": [
              "{'layers': [{'class_name': 'InputLayer',\n",
              "   'config': {'batch_input_shape': (None, 15),\n",
              "    'dtype': 'float32',\n",
              "    'name': 'embedding_3_input',\n",
              "    'ragged': False,\n",
              "    'sparse': False}},\n",
              "  {'class_name': 'Embedding',\n",
              "   'config': {'activity_regularizer': None,\n",
              "    'batch_input_shape': (None, 15),\n",
              "    'dtype': 'float32',\n",
              "    'embeddings_constraint': None,\n",
              "    'embeddings_initializer': {'class_name': 'RandomUniform',\n",
              "     'config': {'maxval': 0.05, 'minval': -0.05, 'seed': None}},\n",
              "    'embeddings_regularizer': None,\n",
              "    'input_dim': 283368,\n",
              "    'input_length': 15,\n",
              "    'mask_zero': False,\n",
              "    'name': 'embedding_3',\n",
              "    'output_dim': 100,\n",
              "    'trainable': False}},\n",
              "  {'class_name': 'LSTM',\n",
              "   'config': {'activation': 'tanh',\n",
              "    'activity_regularizer': None,\n",
              "    'bias_constraint': None,\n",
              "    'bias_initializer': {'class_name': 'Zeros', 'config': {}},\n",
              "    'bias_regularizer': None,\n",
              "    'dropout': 0.0,\n",
              "    'dtype': 'float32',\n",
              "    'go_backwards': False,\n",
              "    'implementation': 2,\n",
              "    'kernel_constraint': None,\n",
              "    'kernel_initializer': {'class_name': 'GlorotUniform',\n",
              "     'config': {'seed': None}},\n",
              "    'kernel_regularizer': None,\n",
              "    'name': 'lstm_6',\n",
              "    'recurrent_activation': 'sigmoid',\n",
              "    'recurrent_constraint': None,\n",
              "    'recurrent_dropout': 0.0,\n",
              "    'recurrent_initializer': {'class_name': 'Orthogonal',\n",
              "     'config': {'gain': 1.0, 'seed': None}},\n",
              "    'recurrent_regularizer': None,\n",
              "    'return_sequences': True,\n",
              "    'return_state': False,\n",
              "    'stateful': False,\n",
              "    'time_major': False,\n",
              "    'trainable': True,\n",
              "    'unit_forget_bias': True,\n",
              "    'units': 64,\n",
              "    'unroll': False,\n",
              "    'use_bias': True}},\n",
              "  {'class_name': 'LSTM',\n",
              "   'config': {'activation': 'tanh',\n",
              "    'activity_regularizer': None,\n",
              "    'bias_constraint': None,\n",
              "    'bias_initializer': {'class_name': 'Zeros', 'config': {}},\n",
              "    'bias_regularizer': None,\n",
              "    'dropout': 0.0,\n",
              "    'dtype': 'float32',\n",
              "    'go_backwards': False,\n",
              "    'implementation': 2,\n",
              "    'kernel_constraint': None,\n",
              "    'kernel_initializer': {'class_name': 'GlorotUniform',\n",
              "     'config': {'seed': None}},\n",
              "    'kernel_regularizer': None,\n",
              "    'name': 'lstm_7',\n",
              "    'recurrent_activation': 'sigmoid',\n",
              "    'recurrent_constraint': None,\n",
              "    'recurrent_dropout': 0.0,\n",
              "    'recurrent_initializer': {'class_name': 'Orthogonal',\n",
              "     'config': {'gain': 1.0, 'seed': None}},\n",
              "    'recurrent_regularizer': None,\n",
              "    'return_sequences': False,\n",
              "    'return_state': False,\n",
              "    'stateful': False,\n",
              "    'time_major': False,\n",
              "    'trainable': True,\n",
              "    'unit_forget_bias': True,\n",
              "    'units': 32,\n",
              "    'unroll': False,\n",
              "    'use_bias': True}},\n",
              "  {'class_name': 'Dense',\n",
              "   'config': {'activation': 'tanh',\n",
              "    'activity_regularizer': None,\n",
              "    'bias_constraint': None,\n",
              "    'bias_initializer': {'class_name': 'Zeros', 'config': {}},\n",
              "    'bias_regularizer': None,\n",
              "    'dtype': 'float32',\n",
              "    'kernel_constraint': None,\n",
              "    'kernel_initializer': {'class_name': 'GlorotUniform',\n",
              "     'config': {'seed': None}},\n",
              "    'kernel_regularizer': None,\n",
              "    'name': 'dense_6',\n",
              "    'trainable': True,\n",
              "    'units': 16,\n",
              "    'use_bias': True}},\n",
              "  {'class_name': 'Dense',\n",
              "   'config': {'activation': 'softmax',\n",
              "    'activity_regularizer': None,\n",
              "    'bias_constraint': None,\n",
              "    'bias_initializer': {'class_name': 'Zeros', 'config': {}},\n",
              "    'bias_regularizer': None,\n",
              "    'dtype': 'float32',\n",
              "    'kernel_constraint': None,\n",
              "    'kernel_initializer': {'class_name': 'GlorotUniform',\n",
              "     'config': {'seed': None}},\n",
              "    'kernel_regularizer': None,\n",
              "    'name': 'dense_7',\n",
              "    'trainable': True,\n",
              "    'units': 7,\n",
              "    'use_bias': True}}],\n",
              " 'name': 'sequential_3'}"
            ]
          },
          "metadata": {
            "tags": []
          },
          "execution_count": 89
        }
      ]
    },
    {
      "cell_type": "markdown",
      "metadata": {
        "id": "eKRYQCedOx_l"
      },
      "source": [
        "##### CNN model"
      ]
    },
    {
      "cell_type": "code",
      "metadata": {
        "id": "SEiWLouS3PRh"
      },
      "source": [
        "CNN_input = Input(shape = (sentence_len,))\n",
        "Embedded = Embedding(vocab_size, 100, weights=[embedding_matrix], input_length=sentence_len, trainable=False)(CNN_input)\n",
        "Permuted = Permute(dims = (2,1))(Embedded)\n",
        "CONV1 = Conv1D(filters = 70, kernel_size= 3, padding = 'same')(Permuted)\n",
        "CONV1 = ReLU()(CONV1)\n",
        "Pooled1 = MaxPool1D(CONV1.shape[1])(CONV1)\n",
        "Flattened1 = Flatten()(Pooled1)\n",
        "\n",
        "CONV2 = Conv1D(filters = 70, kernel_size= 4, padding = 'same')(Permuted)\n",
        "CONV2 = ReLU()(CONV2)\n",
        "Pooled2 = MaxPool1D(CONV2.shape[1])(CONV2)\n",
        "Flattened2 = Flatten()(Pooled2)\n",
        "\n",
        "CONV3 = Conv1D(filters = 70, kernel_size= 5, padding = 'same')(Permuted)\n",
        "CONV3 = ReLU()(CONV3)\n",
        "Pooled3 = MaxPool1D(CONV3.shape[1])(CONV3)\n",
        "Flattened3 = Flatten()(Pooled3)\n",
        "\n",
        "Merged = Concatenate()([Flattened1, Flattened2, Flattened3])\n",
        "CNN_output = Dense(3, activation='softmax')(Merged)"
      ],
      "execution_count": null,
      "outputs": []
    },
    {
      "cell_type": "code",
      "metadata": {
        "colab": {
          "base_uri": "https://localhost:8080/"
        },
        "id": "wEyHTpQGPHlI",
        "outputId": "5d03fbe3-ddb5-49f0-daab-c8e24faa5caf"
      },
      "source": [
        "CNN_model = Model(CNN_input, CNN_output)\n",
        "CNN_model.summary()"
      ],
      "execution_count": null,
      "outputs": [
        {
          "output_type": "stream",
          "text": [
            "Model: \"model\"\n",
            "__________________________________________________________________________________________________\n",
            "Layer (type)                    Output Shape         Param #     Connected to                     \n",
            "==================================================================================================\n",
            "input_2 (InputLayer)            [(None, 15)]         0                                            \n",
            "__________________________________________________________________________________________________\n",
            "embedding (Embedding)           (None, 15, 100)      28336800    input_2[0][0]                    \n",
            "__________________________________________________________________________________________________\n",
            "permute (Permute)               (None, 100, 15)      0           embedding[0][0]                  \n",
            "__________________________________________________________________________________________________\n",
            "conv1d (Conv1D)                 (None, 100, 70)      3220        permute[0][0]                    \n",
            "__________________________________________________________________________________________________\n",
            "conv1d_1 (Conv1D)               (None, 100, 70)      4270        permute[0][0]                    \n",
            "__________________________________________________________________________________________________\n",
            "conv1d_2 (Conv1D)               (None, 100, 70)      5320        permute[0][0]                    \n",
            "__________________________________________________________________________________________________\n",
            "re_lu (ReLU)                    (None, 100, 70)      0           conv1d[0][0]                     \n",
            "__________________________________________________________________________________________________\n",
            "re_lu_1 (ReLU)                  (None, 100, 70)      0           conv1d_1[0][0]                   \n",
            "__________________________________________________________________________________________________\n",
            "re_lu_2 (ReLU)                  (None, 100, 70)      0           conv1d_2[0][0]                   \n",
            "__________________________________________________________________________________________________\n",
            "max_pooling1d (MaxPooling1D)    (None, 1, 70)        0           re_lu[0][0]                      \n",
            "__________________________________________________________________________________________________\n",
            "max_pooling1d_1 (MaxPooling1D)  (None, 1, 70)        0           re_lu_1[0][0]                    \n",
            "__________________________________________________________________________________________________\n",
            "max_pooling1d_2 (MaxPooling1D)  (None, 1, 70)        0           re_lu_2[0][0]                    \n",
            "__________________________________________________________________________________________________\n",
            "flatten (Flatten)               (None, 70)           0           max_pooling1d[0][0]              \n",
            "__________________________________________________________________________________________________\n",
            "flatten_1 (Flatten)             (None, 70)           0           max_pooling1d_1[0][0]            \n",
            "__________________________________________________________________________________________________\n",
            "flatten_2 (Flatten)             (None, 70)           0           max_pooling1d_2[0][0]            \n",
            "__________________________________________________________________________________________________\n",
            "concatenate (Concatenate)       (None, 210)          0           flatten[0][0]                    \n",
            "                                                                 flatten_1[0][0]                  \n",
            "                                                                 flatten_2[0][0]                  \n",
            "__________________________________________________________________________________________________\n",
            "dense (Dense)                   (None, 3)            633         concatenate[0][0]                \n",
            "==================================================================================================\n",
            "Total params: 28,350,243\n",
            "Trainable params: 13,443\n",
            "Non-trainable params: 28,336,800\n",
            "__________________________________________________________________________________________________\n"
          ],
          "name": "stdout"
        }
      ]
    },
    {
      "cell_type": "code",
      "metadata": {
        "colab": {
          "base_uri": "https://localhost:8080/",
          "height": 521
        },
        "id": "rhUV3F3jPHh5",
        "outputId": "904170c7-f639-45de-a79d-2e141cc2edd0"
      },
      "source": [
        "plot_model(CNN_model, \"cnn.png\", show_shapes=True)"
      ],
      "execution_count": null,
      "outputs": [
        {
          "output_type": "execute_result",
          "data": {
            "image/png": "[encoded data removed]",
            "text/plain": [
              "<IPython.core.display.Image object>"
            ]
          },
          "metadata": {
            "tags": []
          },
          "execution_count": 71
        }
      ]
    },
    {
      "cell_type": "code",
      "metadata": {
        "colab": {
          "base_uri": "https://localhost:8080/"
        },
        "id": "7QRBso7bPHdf",
        "outputId": "2fa88da0-2526-423a-c34b-574c657871ea"
      },
      "source": [
        "CNN_model.compile(optimizer='adam', loss='categorical_crossentropy', metrics=['acc'])\n",
        "CNN_model.fit(word_seq_train, y_train_catg, epochs=30, verbose=2, validation_data=(word_seq_test, y_test_catg))"
      ],
      "execution_count": null,
      "outputs": [
        {
          "output_type": "stream",
          "text": [
            "Epoch 1/30\n",
            "313/313 - 34s - loss: 0.9745 - acc: 0.5340\n",
            "Epoch 2/30\n",
            "313/313 - 1s - loss: 0.9086 - acc: 0.5806\n",
            "Epoch 3/30\n",
            "313/313 - 1s - loss: 0.8703 - acc: 0.6093\n",
            "Epoch 4/30\n",
            "313/313 - 1s - loss: 0.8329 - acc: 0.6418\n",
            "Epoch 5/30\n",
            "313/313 - 1s - loss: 0.8061 - acc: 0.6586\n",
            "Epoch 6/30\n",
            "313/313 - 1s - loss: 0.7761 - acc: 0.6766\n",
            "Epoch 7/30\n",
            "313/313 - 1s - loss: 0.7575 - acc: 0.6869\n",
            "Epoch 8/30\n",
            "313/313 - 1s - loss: 0.7296 - acc: 0.7066\n",
            "Epoch 9/30\n",
            "313/313 - 1s - loss: 0.7091 - acc: 0.7119\n",
            "Epoch 10/30\n",
            "313/313 - 1s - loss: 0.6878 - acc: 0.7228\n",
            "Epoch 11/30\n",
            "313/313 - 1s - loss: 0.6698 - acc: 0.7363\n",
            "Epoch 12/30\n",
            "313/313 - 1s - loss: 0.6474 - acc: 0.7471\n",
            "Epoch 13/30\n",
            "313/313 - 1s - loss: 0.6319 - acc: 0.7540\n",
            "Epoch 14/30\n",
            "313/313 - 1s - loss: 0.6167 - acc: 0.7605\n",
            "Epoch 15/30\n",
            "313/313 - 1s - loss: 0.6015 - acc: 0.7669\n",
            "Epoch 16/30\n",
            "313/313 - 1s - loss: 0.5861 - acc: 0.7763\n",
            "Epoch 17/30\n",
            "313/313 - 1s - loss: 0.5740 - acc: 0.7775\n",
            "Epoch 18/30\n",
            "313/313 - 1s - loss: 0.5601 - acc: 0.7835\n",
            "Epoch 19/30\n",
            "313/313 - 1s - loss: 0.5460 - acc: 0.7909\n",
            "Epoch 20/30\n",
            "313/313 - 1s - loss: 0.5398 - acc: 0.7898\n",
            "Epoch 21/30\n",
            "313/313 - 1s - loss: 0.5273 - acc: 0.7964\n",
            "Epoch 22/30\n",
            "313/313 - 1s - loss: 0.5159 - acc: 0.8052\n",
            "Epoch 23/30\n",
            "313/313 - 1s - loss: 0.5090 - acc: 0.8078\n",
            "Epoch 24/30\n",
            "313/313 - 1s - loss: 0.4963 - acc: 0.8102\n",
            "Epoch 25/30\n",
            "313/313 - 1s - loss: 0.4882 - acc: 0.8174\n",
            "Epoch 26/30\n",
            "313/313 - 1s - loss: 0.4812 - acc: 0.8189\n",
            "Epoch 27/30\n",
            "313/313 - 1s - loss: 0.4730 - acc: 0.8224\n",
            "Epoch 28/30\n",
            "313/313 - 1s - loss: 0.4690 - acc: 0.8212\n",
            "Epoch 29/30\n",
            "313/313 - 1s - loss: 0.4594 - acc: 0.8265\n",
            "Epoch 30/30\n",
            "313/313 - 1s - loss: 0.4560 - acc: 0.8260\n"
          ],
          "name": "stdout"
        },
        {
          "output_type": "execute_result",
          "data": {
            "text/plain": [
              "<tensorflow.python.keras.callbacks.History at 0x7f769b7fddd0>"
            ]
          },
          "metadata": {
            "tags": []
          },
          "execution_count": 74
        }
      ]
    },
    {
      "cell_type": "markdown",
      "metadata": {
        "id": "C1IQK8KhggAW"
      },
      "source": [
        "# Model Load Test"
      ]
    },
    {
      "cell_type": "code",
      "metadata": {
        "id": "eFffZfhKT1Yp",
        "colab": {
          "base_uri": "https://localhost:8080/"
        },
        "outputId": "4e3ae1ee-95e4-4401-bda6-074438ecb3e4"
      },
      "source": [
        "model = Sequential.from_config(config)\n",
        "\n",
        "# e = Embedding(input_dim=vocab_size, output_dim=100, weights=[embedding_matrix], input_length=sentence_len, trainable=False) # input_length = sentence_len\n",
        "# model.add(e)\n",
        "# model.add(LSTM(64, return_sequences=True))\n",
        "# model.add(LSTM(32, return_sequences=False))\n",
        "# # lstm_model.add(BatchNormalization())\n",
        "# model.add(Dense(16, activation = 'tanh'))\n",
        "# model.add(Dense(7, activation = 'softmax')) # 여기서 3은 최종 라벨 갯수\n",
        "\n",
        "model.compile(optimizer='adam', loss='categorical_crossentropy', metrics=['acc'])\n",
        "model.summary()"
      ],
      "execution_count": null,
      "outputs": [
        {
          "output_type": "stream",
          "text": [
            "Model: \"sequential_3\"\n",
            "_________________________________________________________________\n",
            "Layer (type)                 Output Shape              Param #   \n",
            "=================================================================\n",
            "embedding_3 (Embedding)      (None, 15, 100)           28336800  \n",
            "_________________________________________________________________\n",
            "lstm_6 (LSTM)                (None, 15, 64)            42240     \n",
            "_________________________________________________________________\n",
            "lstm_7 (LSTM)                (None, 32)                12416     \n",
            "_________________________________________________________________\n",
            "dense_6 (Dense)              (None, 16)                528       \n",
            "_________________________________________________________________\n",
            "dense_7 (Dense)              (None, 7)                 119       \n",
            "=================================================================\n",
            "Total params: 28,392,103\n",
            "Trainable params: 55,303\n",
            "Non-trainable params: 28,336,800\n",
            "_________________________________________________________________\n"
          ],
          "name": "stdout"
        }
      ]
    },
    {
      "cell_type": "code",
      "metadata": {
        "colab": {
          "base_uri": "https://localhost:8080/"
        },
        "id": "Hob7HkOFgu9u",
        "outputId": "b4fdae90-e440-4620-bc2a-48f0e56f0e72"
      },
      "source": [
        "model.evaluate(word_seq_test,  y_test_catg, verbose=2)"
      ],
      "execution_count": null,
      "outputs": [
        {
          "output_type": "stream",
          "text": [
            "32/32 - 1s - loss: 1.9419 - acc: 0.0520\n"
          ],
          "name": "stdout"
        },
        {
          "output_type": "execute_result",
          "data": {
            "text/plain": [
              "[1.9419199228286743, 0.052000001072883606]"
            ]
          },
          "metadata": {
            "tags": []
          },
          "execution_count": 91
        }
      ]
    },
    {
      "cell_type": "code",
      "metadata": {
        "id": "jZIwZI3HhvB7"
      },
      "source": [
        "from keras.models import load_model"
      ],
      "execution_count": null,
      "outputs": []
    },
    {
      "cell_type": "code",
      "metadata": {
        "id": "gQejvIXgg7M_"
      },
      "source": [
        "model = load_model(saved_model_path, options=load_options)"
      ],
      "execution_count": null,
      "outputs": []
    },
    {
      "cell_type": "code",
      "metadata": {
        "colab": {
          "base_uri": "https://localhost:8080/"
        },
        "id": "iBB5TC6Vq0oJ",
        "outputId": "f82bbcd2-df72-4c40-abd5-e5383523d81d"
      },
      "source": [
        "model.evaluate(word_seq_test,  y_test_catg, verbose=2)"
      ],
      "execution_count": null,
      "outputs": [
        {
          "output_type": "stream",
          "text": [
            "32/32 - 13s - loss: 1.8720 - acc: 0.6170\n"
          ],
          "name": "stdout"
        },
        {
          "output_type": "execute_result",
          "data": {
            "text/plain": [
              "[1.872029423713684, 0.6169999837875366]"
            ]
          },
          "metadata": {
            "tags": []
          },
          "execution_count": 93
        }
      ]
    },
    {
      "cell_type": "code",
      "metadata": {
        "id": "TGIYltf5wujk"
      },
      "source": [
        ""
      ],
      "execution_count": null,
      "outputs": []
    }
  ]
}