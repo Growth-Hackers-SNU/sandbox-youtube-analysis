{
  "nbformat": 4,
  "nbformat_minor": 0,
  "metadata": {
    "colab": {
      "name": "DeepModelMaker.ipynb",
      "provenance": [],
      "collapsed_sections": [],
      "toc_visible": true,
      "machine_shape": "hm",
      "include_colab_link": true
    },
    "kernelspec": {
      "name": "python3",
      "display_name": "Python 3"
    },
    "language_info": {
      "name": "python"
    },
    "accelerator": "GPU",
    "widgets": {
      "application/vnd.jupyter.widget-state+json": {
        "2a8a0f0867b348d28d13328b92b7dc71": {
          "model_module": "@jupyter-widgets/controls",
          "model_name": "HBoxModel",
          "model_module_version": "1.5.0",
          "state": {
            "_view_name": "HBoxView",
            "_dom_classes": [],
            "_model_name": "HBoxModel",
            "_view_module": "@jupyter-widgets/controls",
            "_model_module_version": "1.5.0",
            "_view_count": null,
            "_view_module_version": "1.5.0",
            "box_style": "",
            "layout": "IPY_MODEL_8f8b69b0fc874a7ba25921ce49cbf9b8",
            "_model_module": "@jupyter-widgets/controls",
            "children": [
              "IPY_MODEL_bac911779e5444b5865dd61efb96ec6c",
              "IPY_MODEL_6d88060ded9d47e6a0ee6b301fbec75c"
            ]
          }
        },
        "8f8b69b0fc874a7ba25921ce49cbf9b8": {
          "model_module": "@jupyter-widgets/base",
          "model_name": "LayoutModel",
          "model_module_version": "1.2.0",
          "state": {
            "_view_name": "LayoutView",
            "grid_template_rows": null,
            "right": null,
            "justify_content": null,
            "_view_module": "@jupyter-widgets/base",
            "overflow": null,
            "_model_module_version": "1.2.0",
            "_view_count": null,
            "flex_flow": null,
            "width": null,
            "min_width": null,
            "border": null,
            "align_items": null,
            "bottom": null,
            "_model_module": "@jupyter-widgets/base",
            "top": null,
            "grid_column": null,
            "overflow_y": null,
            "overflow_x": null,
            "grid_auto_flow": null,
            "grid_area": null,
            "grid_template_columns": null,
            "flex": null,
            "_model_name": "LayoutModel",
            "justify_items": null,
            "grid_row": null,
            "max_height": null,
            "align_content": null,
            "visibility": null,
            "align_self": null,
            "height": null,
            "min_height": null,
            "padding": null,
            "grid_auto_rows": null,
            "grid_gap": null,
            "max_width": null,
            "order": null,
            "_view_module_version": "1.2.0",
            "grid_template_areas": null,
            "object_position": null,
            "object_fit": null,
            "grid_auto_columns": null,
            "margin": null,
            "display": null,
            "left": null
          }
        },
        "bac911779e5444b5865dd61efb96ec6c": {
          "model_module": "@jupyter-widgets/controls",
          "model_name": "FloatProgressModel",
          "model_module_version": "1.5.0",
          "state": {
            "_view_name": "ProgressView",
            "style": "IPY_MODEL_833610e7b2974159b6dcc9e7641a4648",
            "_dom_classes": [],
            "description": "",
            "_model_name": "FloatProgressModel",
            "bar_style": "success",
            "max": 1,
            "_view_module": "@jupyter-widgets/controls",
            "_model_module_version": "1.5.0",
            "value": 1,
            "_view_count": null,
            "_view_module_version": "1.5.0",
            "orientation": "horizontal",
            "min": 0,
            "description_tooltip": null,
            "_model_module": "@jupyter-widgets/controls",
            "layout": "IPY_MODEL_fef701a9bf6d469ea1982a851aa1b8b8"
          }
        },
        "6d88060ded9d47e6a0ee6b301fbec75c": {
          "model_module": "@jupyter-widgets/controls",
          "model_name": "HTMLModel",
          "model_module_version": "1.5.0",
          "state": {
            "_view_name": "HTMLView",
            "style": "IPY_MODEL_36aefedcaf8c4ef68508156fa4f9bbb1",
            "_dom_classes": [],
            "description": "",
            "_model_name": "HTMLModel",
            "placeholder": "​",
            "_view_module": "@jupyter-widgets/controls",
            "_model_module_version": "1.5.0",
            "value": " 21000/? [00:02&lt;00:00, 10451.85it/s]",
            "_view_count": null,
            "_view_module_version": "1.5.0",
            "description_tooltip": null,
            "_model_module": "@jupyter-widgets/controls",
            "layout": "IPY_MODEL_26721bc1c0bf47498e2f971e34cf5411"
          }
        },
        "833610e7b2974159b6dcc9e7641a4648": {
          "model_module": "@jupyter-widgets/controls",
          "model_name": "ProgressStyleModel",
          "model_module_version": "1.5.0",
          "state": {
            "_view_name": "StyleView",
            "_model_name": "ProgressStyleModel",
            "description_width": "initial",
            "_view_module": "@jupyter-widgets/base",
            "_model_module_version": "1.5.0",
            "_view_count": null,
            "_view_module_version": "1.2.0",
            "bar_color": null,
            "_model_module": "@jupyter-widgets/controls"
          }
        },
        "fef701a9bf6d469ea1982a851aa1b8b8": {
          "model_module": "@jupyter-widgets/base",
          "model_name": "LayoutModel",
          "model_module_version": "1.2.0",
          "state": {
            "_view_name": "LayoutView",
            "grid_template_rows": null,
            "right": null,
            "justify_content": null,
            "_view_module": "@jupyter-widgets/base",
            "overflow": null,
            "_model_module_version": "1.2.0",
            "_view_count": null,
            "flex_flow": null,
            "width": null,
            "min_width": null,
            "border": null,
            "align_items": null,
            "bottom": null,
            "_model_module": "@jupyter-widgets/base",
            "top": null,
            "grid_column": null,
            "overflow_y": null,
            "overflow_x": null,
            "grid_auto_flow": null,
            "grid_area": null,
            "grid_template_columns": null,
            "flex": null,
            "_model_name": "LayoutModel",
            "justify_items": null,
            "grid_row": null,
            "max_height": null,
            "align_content": null,
            "visibility": null,
            "align_self": null,
            "height": null,
            "min_height": null,
            "padding": null,
            "grid_auto_rows": null,
            "grid_gap": null,
            "max_width": null,
            "order": null,
            "_view_module_version": "1.2.0",
            "grid_template_areas": null,
            "object_position": null,
            "object_fit": null,
            "grid_auto_columns": null,
            "margin": null,
            "display": null,
            "left": null
          }
        },
        "36aefedcaf8c4ef68508156fa4f9bbb1": {
          "model_module": "@jupyter-widgets/controls",
          "model_name": "DescriptionStyleModel",
          "model_module_version": "1.5.0",
          "state": {
            "_view_name": "StyleView",
            "_model_name": "DescriptionStyleModel",
            "description_width": "",
            "_view_module": "@jupyter-widgets/base",
            "_model_module_version": "1.5.0",
            "_view_count": null,
            "_view_module_version": "1.2.0",
            "_model_module": "@jupyter-widgets/controls"
          }
        },
        "26721bc1c0bf47498e2f971e34cf5411": {
          "model_module": "@jupyter-widgets/base",
          "model_name": "LayoutModel",
          "model_module_version": "1.2.0",
          "state": {
            "_view_name": "LayoutView",
            "grid_template_rows": null,
            "right": null,
            "justify_content": null,
            "_view_module": "@jupyter-widgets/base",
            "overflow": null,
            "_model_module_version": "1.2.0",
            "_view_count": null,
            "flex_flow": null,
            "width": null,
            "min_width": null,
            "border": null,
            "align_items": null,
            "bottom": null,
            "_model_module": "@jupyter-widgets/base",
            "top": null,
            "grid_column": null,
            "overflow_y": null,
            "overflow_x": null,
            "grid_auto_flow": null,
            "grid_area": null,
            "grid_template_columns": null,
            "flex": null,
            "_model_name": "LayoutModel",
            "justify_items": null,
            "grid_row": null,
            "max_height": null,
            "align_content": null,
            "visibility": null,
            "align_self": null,
            "height": null,
            "min_height": null,
            "padding": null,
            "grid_auto_rows": null,
            "grid_gap": null,
            "max_width": null,
            "order": null,
            "_view_module_version": "1.2.0",
            "grid_template_areas": null,
            "object_position": null,
            "object_fit": null,
            "grid_auto_columns": null,
            "margin": null,
            "display": null,
            "left": null
          }
        },
        "c6e4ae86f1bd42759dfe939fc38981f5": {
          "model_module": "@jupyter-widgets/controls",
          "model_name": "HBoxModel",
          "model_module_version": "1.5.0",
          "state": {
            "_view_name": "HBoxView",
            "_dom_classes": [],
            "_model_name": "HBoxModel",
            "_view_module": "@jupyter-widgets/controls",
            "_model_module_version": "1.5.0",
            "_view_count": null,
            "_view_module_version": "1.5.0",
            "box_style": "",
            "layout": "IPY_MODEL_3487a4cf221b4586a3e755099399f676",
            "_model_module": "@jupyter-widgets/controls",
            "children": [
              "IPY_MODEL_b1a22183a80d4ae98758c291afa57290",
              "IPY_MODEL_92ffa62b5f9049b084d8fe24cfe1ec8a"
            ]
          }
        },
        "3487a4cf221b4586a3e755099399f676": {
          "model_module": "@jupyter-widgets/base",
          "model_name": "LayoutModel",
          "model_module_version": "1.2.0",
          "state": {
            "_view_name": "LayoutView",
            "grid_template_rows": null,
            "right": null,
            "justify_content": null,
            "_view_module": "@jupyter-widgets/base",
            "overflow": null,
            "_model_module_version": "1.2.0",
            "_view_count": null,
            "flex_flow": null,
            "width": null,
            "min_width": null,
            "border": null,
            "align_items": null,
            "bottom": null,
            "_model_module": "@jupyter-widgets/base",
            "top": null,
            "grid_column": null,
            "overflow_y": null,
            "overflow_x": null,
            "grid_auto_flow": null,
            "grid_area": null,
            "grid_template_columns": null,
            "flex": null,
            "_model_name": "LayoutModel",
            "justify_items": null,
            "grid_row": null,
            "max_height": null,
            "align_content": null,
            "visibility": null,
            "align_self": null,
            "height": null,
            "min_height": null,
            "padding": null,
            "grid_auto_rows": null,
            "grid_gap": null,
            "max_width": null,
            "order": null,
            "_view_module_version": "1.2.0",
            "grid_template_areas": null,
            "object_position": null,
            "object_fit": null,
            "grid_auto_columns": null,
            "margin": null,
            "display": null,
            "left": null
          }
        },
        "b1a22183a80d4ae98758c291afa57290": {
          "model_module": "@jupyter-widgets/controls",
          "model_name": "FloatProgressModel",
          "model_module_version": "1.5.0",
          "state": {
            "_view_name": "ProgressView",
            "style": "IPY_MODEL_305733e37c5b4cea9aab46d6eca45e6e",
            "_dom_classes": [],
            "description": "",
            "_model_name": "FloatProgressModel",
            "bar_style": "success",
            "max": 1,
            "_view_module": "@jupyter-widgets/controls",
            "_model_module_version": "1.5.0",
            "value": 1,
            "_view_count": null,
            "_view_module_version": "1.5.0",
            "orientation": "horizontal",
            "min": 0,
            "description_tooltip": null,
            "_model_module": "@jupyter-widgets/controls",
            "layout": "IPY_MODEL_c057e88540fc497c8b22359dd87434ef"
          }
        },
        "92ffa62b5f9049b084d8fe24cfe1ec8a": {
          "model_module": "@jupyter-widgets/controls",
          "model_name": "HTMLModel",
          "model_module_version": "1.5.0",
          "state": {
            "_view_name": "HTMLView",
            "style": "IPY_MODEL_6badd78113af4e308b745e096a855d3b",
            "_dom_classes": [],
            "description": "",
            "_model_name": "HTMLModel",
            "placeholder": "​",
            "_view_module": "@jupyter-widgets/controls",
            "_model_module_version": "1.5.0",
            "value": " 1000/? [00:00&lt;00:00, 6281.16it/s]",
            "_view_count": null,
            "_view_module_version": "1.5.0",
            "description_tooltip": null,
            "_model_module": "@jupyter-widgets/controls",
            "layout": "IPY_MODEL_021ff8293d144d1b86fdc6ad182eca82"
          }
        },
        "305733e37c5b4cea9aab46d6eca45e6e": {
          "model_module": "@jupyter-widgets/controls",
          "model_name": "ProgressStyleModel",
          "model_module_version": "1.5.0",
          "state": {
            "_view_name": "StyleView",
            "_model_name": "ProgressStyleModel",
            "description_width": "initial",
            "_view_module": "@jupyter-widgets/base",
            "_model_module_version": "1.5.0",
            "_view_count": null,
            "_view_module_version": "1.2.0",
            "bar_color": null,
            "_model_module": "@jupyter-widgets/controls"
          }
        },
        "c057e88540fc497c8b22359dd87434ef": {
          "model_module": "@jupyter-widgets/base",
          "model_name": "LayoutModel",
          "model_module_version": "1.2.0",
          "state": {
            "_view_name": "LayoutView",
            "grid_template_rows": null,
            "right": null,
            "justify_content": null,
            "_view_module": "@jupyter-widgets/base",
            "overflow": null,
            "_model_module_version": "1.2.0",
            "_view_count": null,
            "flex_flow": null,
            "width": null,
            "min_width": null,
            "border": null,
            "align_items": null,
            "bottom": null,
            "_model_module": "@jupyter-widgets/base",
            "top": null,
            "grid_column": null,
            "overflow_y": null,
            "overflow_x": null,
            "grid_auto_flow": null,
            "grid_area": null,
            "grid_template_columns": null,
            "flex": null,
            "_model_name": "LayoutModel",
            "justify_items": null,
            "grid_row": null,
            "max_height": null,
            "align_content": null,
            "visibility": null,
            "align_self": null,
            "height": null,
            "min_height": null,
            "padding": null,
            "grid_auto_rows": null,
            "grid_gap": null,
            "max_width": null,
            "order": null,
            "_view_module_version": "1.2.0",
            "grid_template_areas": null,
            "object_position": null,
            "object_fit": null,
            "grid_auto_columns": null,
            "margin": null,
            "display": null,
            "left": null
          }
        },
        "6badd78113af4e308b745e096a855d3b": {
          "model_module": "@jupyter-widgets/controls",
          "model_name": "DescriptionStyleModel",
          "model_module_version": "1.5.0",
          "state": {
            "_view_name": "StyleView",
            "_model_name": "DescriptionStyleModel",
            "description_width": "",
            "_view_module": "@jupyter-widgets/base",
            "_model_module_version": "1.5.0",
            "_view_count": null,
            "_view_module_version": "1.2.0",
            "_model_module": "@jupyter-widgets/controls"
          }
        },
        "021ff8293d144d1b86fdc6ad182eca82": {
          "model_module": "@jupyter-widgets/base",
          "model_name": "LayoutModel",
          "model_module_version": "1.2.0",
          "state": {
            "_view_name": "LayoutView",
            "grid_template_rows": null,
            "right": null,
            "justify_content": null,
            "_view_module": "@jupyter-widgets/base",
            "overflow": null,
            "_model_module_version": "1.2.0",
            "_view_count": null,
            "flex_flow": null,
            "width": null,
            "min_width": null,
            "border": null,
            "align_items": null,
            "bottom": null,
            "_model_module": "@jupyter-widgets/base",
            "top": null,
            "grid_column": null,
            "overflow_y": null,
            "overflow_x": null,
            "grid_auto_flow": null,
            "grid_area": null,
            "grid_template_columns": null,
            "flex": null,
            "_model_name": "LayoutModel",
            "justify_items": null,
            "grid_row": null,
            "max_height": null,
            "align_content": null,
            "visibility": null,
            "align_self": null,
            "height": null,
            "min_height": null,
            "padding": null,
            "grid_auto_rows": null,
            "grid_gap": null,
            "max_width": null,
            "order": null,
            "_view_module_version": "1.2.0",
            "grid_template_areas": null,
            "object_position": null,
            "object_fit": null,
            "grid_auto_columns": null,
            "margin": null,
            "display": null,
            "left": null
          }
        }
      }
    }
  },
  "cells": [
    {
      "cell_type": "markdown",
      "metadata": {
        "id": "view-in-github",
        "colab_type": "text"
      },
      "source": [
        "<a href=\"https://colab.research.google.com/github/Growth-Hackers-SNU/sandbox-youtube-anlaysis/blob/main/code/deeplevel/DeepModelMaker.ipynb\" target=\"_parent\"><img src=\"https://colab.research.google.com/assets/colab-badge.svg\" alt=\"Open In Colab\"/></a>"
      ]
    },
    {
      "cell_type": "markdown",
      "metadata": {
        "id": "OH-5jiK52vHj"
      },
      "source": [
        "# Make Pre trained Deep Models"
      ]
    },
    {
      "cell_type": "code",
      "metadata": {
        "id": "s6F_oCw92pFS"
      },
      "source": [
        "import pandas as pd\n",
        "import numpy as np\n",
        "import re\n",
        "import os\n",
        "from tqdm import tqdm, tqdm_notebook\n",
        "import pickle \n",
        "\n",
        "import matplotlib.pyplot as plt"
      ],
      "execution_count": null,
      "outputs": []
    },
    {
      "cell_type": "code",
      "metadata": {
        "colab": {
          "base_uri": "https://localhost:8080/"
        },
        "id": "VUADxt4c23S1",
        "outputId": "37a8bf48-abae-4ff6-a1d1-9e86653a658a"
      },
      "source": [
        "! pip install soynlp\n",
        "! pip install kiwipiepy"
      ],
      "execution_count": null,
      "outputs": [
        {
          "output_type": "stream",
          "text": [
            "Collecting soynlp\n",
            "\u001b[?25l  Downloading https://files.pythonhosted.org/packages/7e/50/6913dc52a86a6b189419e59f9eef1b8d599cffb6f44f7bb91854165fc603/soynlp-0.0.493-py3-none-any.whl (416kB)\n",
            "\u001b[K     |████████████████████████████████| 419kB 4.1MB/s \n",
            "\u001b[?25hRequirement already satisfied: psutil>=5.0.1 in /usr/local/lib/python3.7/dist-packages (from soynlp) (5.4.8)\n",
            "Requirement already satisfied: scikit-learn>=0.20.0 in /usr/local/lib/python3.7/dist-packages (from soynlp) (0.22.2.post1)\n",
            "Requirement already satisfied: scipy>=1.1.0 in /usr/local/lib/python3.7/dist-packages (from soynlp) (1.4.1)\n",
            "Requirement already satisfied: numpy>=1.12.1 in /usr/local/lib/python3.7/dist-packages (from soynlp) (1.19.5)\n",
            "Requirement already satisfied: joblib>=0.11 in /usr/local/lib/python3.7/dist-packages (from scikit-learn>=0.20.0->soynlp) (1.0.1)\n",
            "Installing collected packages: soynlp\n",
            "Successfully installed soynlp-0.0.493\n",
            "Collecting kiwipiepy\n",
            "\u001b[?25l  Downloading https://files.pythonhosted.org/packages/d6/f5/f8c769e47a086451e11258acb6c4a42ee689838ed76345b216f24322055a/kiwipiepy-0.9.3-cp37-cp37m-manylinux_2_12_x86_64.manylinux2010_x86_64.whl (3.7MB)\n",
            "\u001b[K     |████████████████████████████████| 3.7MB 4.3MB/s \n",
            "\u001b[?25hCollecting kiwipiepy-model==0.9.0\n",
            "\u001b[?25l  Downloading https://files.pythonhosted.org/packages/8b/61/76ea8514de1f34fc193146c2165f38f15814dc2efc9a414ab8aa34edf432/kiwipiepy_model-0.9.0.tar.gz (57.3MB)\n",
            "\u001b[K     |████████████████████████████████| 57.3MB 96kB/s \n",
            "\u001b[?25hBuilding wheels for collected packages: kiwipiepy-model\n",
            "  Building wheel for kiwipiepy-model (setup.py) ... \u001b[?25l\u001b[?25hdone\n",
            "  Created wheel for kiwipiepy-model: filename=kiwipiepy_model-0.9.0-cp37-none-any.whl size=57496291 sha256=e46576c4c6edb87e1693c7c99fceca8b4b7cd11e856dbbb60dd94bf471e7b5a5\n",
            "  Stored in directory: /root/.cache/pip/wheels/61/19/a2/f85a7031e0ff829231b4562e6460a84fef599080bbb2573ef7\n",
            "Successfully built kiwipiepy-model\n",
            "Installing collected packages: kiwipiepy-model, kiwipiepy\n",
            "Successfully installed kiwipiepy-0.9.3 kiwipiepy-model-0.9.0\n"
          ],
          "name": "stdout"
        }
      ]
    },
    {
      "cell_type": "code",
      "metadata": {
        "colab": {
          "base_uri": "https://localhost:8080/"
        },
        "id": "fDK2kDfC23Pw",
        "outputId": "f3d13d07-0f6c-413a-8a28-97a321c793b9"
      },
      "source": [
        "from google.colab import drive\n",
        "drive.mount('/content/drive')"
      ],
      "execution_count": null,
      "outputs": [
        {
          "output_type": "stream",
          "text": [
            "Mounted at /content/drive\n"
          ],
          "name": "stdout"
        }
      ]
    },
    {
      "cell_type": "markdown",
      "metadata": {
        "id": "nHVs_9kC2_68"
      },
      "source": [
        "## Set Training Data"
      ]
    },
    {
      "cell_type": "code",
      "metadata": {
        "colab": {
          "base_uri": "https://localhost:8080/",
          "height": 225
        },
        "id": "zITcmUvY23I7",
        "outputId": "56f89ec8-d615-4266-8c02-feea1fe1dfb1"
      },
      "source": [
        "Youtube_comment_label = pd.read_csv(\"/content/drive/Shareddrives/[GH x Sandbox]/최종분류/sample_final.csv\", index_col = 1)\n",
        "Youtube_comment_label = Youtube_comment_label[['comment', 'class']]\n",
        "# 7번 클래스 -> 0으로 처리 : 나중에 편합니다.\n",
        "Youtube_comment_label.loc[Youtube_comment_label['class'] ==  7, 'class'] = 0\n",
        "Youtube_comment_label.head()"
      ],
      "execution_count": null,
      "outputs": [
        {
          "output_type": "execute_result",
          "data": {
            "text/html": [
              "<div>\n",
              "<style scoped>\n",
              "    .dataframe tbody tr th:only-of-type {\n",
              "        vertical-align: middle;\n",
              "    }\n",
              "\n",
              "    .dataframe tbody tr th {\n",
              "        vertical-align: top;\n",
              "    }\n",
              "\n",
              "    .dataframe thead th {\n",
              "        text-align: right;\n",
              "    }\n",
              "</style>\n",
              "<table border=\"1\" class=\"dataframe\">\n",
              "  <thead>\n",
              "    <tr style=\"text-align: right;\">\n",
              "      <th></th>\n",
              "      <th>comment</th>\n",
              "      <th>class</th>\n",
              "    </tr>\n",
              "    <tr>\n",
              "      <th>index</th>\n",
              "      <th></th>\n",
              "      <th></th>\n",
              "    </tr>\n",
              "  </thead>\n",
              "  <tbody>\n",
              "    <tr>\n",
              "      <th>1</th>\n",
              "      <td>흠.. 일단 전 안맞을래요</td>\n",
              "      <td>0</td>\n",
              "    </tr>\n",
              "    <tr>\n",
              "      <th>2</th>\n",
              "      <td>자식새끼 키워봤자 아무소용업다..</td>\n",
              "      <td>0</td>\n",
              "    </tr>\n",
              "    <tr>\n",
              "      <th>3</th>\n",
              "      <td>방테나ㅋㅋㅋ</td>\n",
              "      <td>2</td>\n",
              "    </tr>\n",
              "    <tr>\n",
              "      <th>4</th>\n",
              "      <td>하람님 저고민있어욧!!\\n노래잘부르고싶은데..어떻게하면 잘 부를수있을까요?오늘도 영...</td>\n",
              "      <td>1</td>\n",
              "    </tr>\n",
              "    <tr>\n",
              "      <th>5</th>\n",
              "      <td>희재도 준비하고있고 발표예정이예요\\n다시 확인해주세요 모두 준비하고있어요 계약때문에...</td>\n",
              "      <td>0</td>\n",
              "    </tr>\n",
              "  </tbody>\n",
              "</table>\n",
              "</div>"
            ],
            "text/plain": [
              "                                                 comment  class\n",
              "index                                                          \n",
              "1                                         흠.. 일단 전 안맞을래요      0\n",
              "2                                     자식새끼 키워봤자 아무소용업다..      0\n",
              "3                                                 방테나ㅋㅋㅋ      2\n",
              "4      하람님 저고민있어욧!!\\n노래잘부르고싶은데..어떻게하면 잘 부를수있을까요?오늘도 영...      1\n",
              "5      희재도 준비하고있고 발표예정이예요\\n다시 확인해주세요 모두 준비하고있어요 계약때문에...      0"
            ]
          },
          "metadata": {
            "tags": []
          },
          "execution_count": 4
        }
      ]
    },
    {
      "cell_type": "code",
      "metadata": {
        "id": "dQUo1m1n23GW"
      },
      "source": [
        "from sklearn.model_selection import train_test_split\n",
        "from sklearn.metrics import accuracy_score"
      ],
      "execution_count": null,
      "outputs": []
    },
    {
      "cell_type": "code",
      "metadata": {
        "colab": {
          "base_uri": "https://localhost:8080/"
        },
        "id": "f0sjPn5K3D15",
        "outputId": "a87cf46a-71af-4f61-e5e4-cf7d192e593f"
      },
      "source": [
        "# 각 라벨 갯수가 균형된 데이터 셋, 그냥 raw한 데이터 셋 두 개씩 클래스 3개, 7개 총 4가지 데이터 셋을 만들 겁니다.\n",
        "Youtube_comment_label3 = Youtube_comment_label.copy()\n",
        "Youtube_comment_label7 = Youtube_comment_label.copy()\n",
        "\n",
        "# Youtube_comment_label3\n",
        "Youtube_comment_label3.loc[Youtube_comment_label3['class'] ==  1, 'class'] = 1\n",
        "Youtube_comment_label3.loc[Youtube_comment_label3['class'] ==  2, 'class'] = 1\n",
        "Youtube_comment_label3.loc[Youtube_comment_label3['class'] ==  3, 'class'] = 1\n",
        "Youtube_comment_label3.loc[Youtube_comment_label3['class'] ==  4, 'class'] = 2\n",
        "Youtube_comment_label3.loc[Youtube_comment_label3['class'] ==  5, 'class'] = 2\n",
        "Youtube_comment_label3.loc[Youtube_comment_label3['class'] ==  6, 'class'] = 2\n",
        "print(Youtube_comment_label3.head())\n",
        "print(f\"총 데이터 갯수 : {len(Youtube_comment_label3['comment'])}\")\n",
        "print(\"-------------------------------------------------------------------------------------------\")\n",
        "\n",
        "# Youtube_comment_label7\n",
        "# 더 건드릴 것이 없다\n",
        "print(Youtube_comment_label7.head())\n",
        "print(f\"총 데이터 갯수 : {len(Youtube_comment_label7['comment'])}\")\n",
        "print(\"-------------------------------------------------------------------------------------------\")"
      ],
      "execution_count": null,
      "outputs": [
        {
          "output_type": "stream",
          "text": [
            "                                                 comment  class\n",
            "index                                                          \n",
            "1                                         흠.. 일단 전 안맞을래요      0\n",
            "2                                     자식새끼 키워봤자 아무소용업다..      0\n",
            "3                                                 방테나ㅋㅋㅋ      1\n",
            "4      하람님 저고민있어욧!!\\n노래잘부르고싶은데..어떻게하면 잘 부를수있을까요?오늘도 영...      1\n",
            "5      희재도 준비하고있고 발표예정이예요\\n다시 확인해주세요 모두 준비하고있어요 계약때문에...      0\n",
            "총 데이터 갯수 : 22000\n",
            "-------------------------------------------------------------------------------------------\n",
            "                                                 comment  class\n",
            "index                                                          \n",
            "1                                         흠.. 일단 전 안맞을래요      0\n",
            "2                                     자식새끼 키워봤자 아무소용업다..      0\n",
            "3                                                 방테나ㅋㅋㅋ      2\n",
            "4      하람님 저고민있어욧!!\\n노래잘부르고싶은데..어떻게하면 잘 부를수있을까요?오늘도 영...      1\n",
            "5      희재도 준비하고있고 발표예정이예요\\n다시 확인해주세요 모두 준비하고있어요 계약때문에...      0\n",
            "총 데이터 갯수 : 22000\n",
            "-------------------------------------------------------------------------------------------\n"
          ],
          "name": "stdout"
        }
      ]
    },
    {
      "cell_type": "code",
      "metadata": {
        "id": "S3KebicL3LWH"
      },
      "source": [
        "train_data, test_data = train_test_split(Youtube_comment_label7, test_size=1000, random_state=7607)"
      ],
      "execution_count": null,
      "outputs": []
    },
    {
      "cell_type": "code",
      "metadata": {
        "id": "PJVR0jtK3Rya"
      },
      "source": [
        "X_train = train_data[['comment']]\n",
        "X_test = test_data[['comment']]\n",
        "y_train = train_data['class']\n",
        "y_test = test_data['class']"
      ],
      "execution_count": null,
      "outputs": []
    },
    {
      "cell_type": "markdown",
      "metadata": {
        "id": "LcA6FbvL3UWd"
      },
      "source": [
        "## JAMO"
      ]
    },
    {
      "cell_type": "markdown",
      "metadata": {
        "id": "wc06N1B64Y76"
      },
      "source": [
        "### Tokenization"
      ]
    },
    {
      "cell_type": "code",
      "metadata": {
        "id": "s3p43Ri23YSA"
      },
      "source": [
        "# 타임 스탬프 삭제\n",
        "p = re.compile('\\d+:\\d+')\n",
        "\n",
        "def delete_time_stamp(df):\n",
        "    for ix, row in tqdm_notebook(df.iterrows()):\n",
        "        time_stamp_list = p.findall(str(row['comment']))\n",
        "        new_comment = str(row['comment'])\n",
        "        for time_stamp in time_stamp_list:\n",
        "            new_comment = new_comment.replace(time_stamp, '')\n",
        "        row['comment'] = new_comment.lstrip()\n",
        "    return df"
      ],
      "execution_count": null,
      "outputs": []
    },
    {
      "cell_type": "code",
      "metadata": {
        "colab": {
          "base_uri": "https://localhost:8080/",
          "height": 587,
          "referenced_widgets": [
            "2a8a0f0867b348d28d13328b92b7dc71",
            "8f8b69b0fc874a7ba25921ce49cbf9b8",
            "bac911779e5444b5865dd61efb96ec6c",
            "6d88060ded9d47e6a0ee6b301fbec75c",
            "833610e7b2974159b6dcc9e7641a4648",
            "fef701a9bf6d469ea1982a851aa1b8b8",
            "36aefedcaf8c4ef68508156fa4f9bbb1",
            "26721bc1c0bf47498e2f971e34cf5411",
            "c6e4ae86f1bd42759dfe939fc38981f5",
            "3487a4cf221b4586a3e755099399f676",
            "b1a22183a80d4ae98758c291afa57290",
            "92ffa62b5f9049b084d8fe24cfe1ec8a",
            "305733e37c5b4cea9aab46d6eca45e6e",
            "c057e88540fc497c8b22359dd87434ef",
            "6badd78113af4e308b745e096a855d3b",
            "021ff8293d144d1b86fdc6ad182eca82"
          ]
        },
        "id": "VJ-akGZ43d2X",
        "outputId": "bfc77431-aef7-44e6-de8a-a0faab7c1037"
      },
      "source": [
        "delete_time_stamp(X_train)\n",
        "delete_time_stamp(X_test)"
      ],
      "execution_count": null,
      "outputs": [
        {
          "output_type": "stream",
          "text": [
            "/usr/local/lib/python3.7/dist-packages/ipykernel_launcher.py:5: TqdmDeprecationWarning: This function will be removed in tqdm==5.0.0\n",
            "Please use `tqdm.notebook.tqdm` instead of `tqdm.tqdm_notebook`\n",
            "  \"\"\"\n"
          ],
          "name": "stderr"
        },
        {
          "output_type": "display_data",
          "data": {
            "application/vnd.jupyter.widget-view+json": {
              "model_id": "2a8a0f0867b348d28d13328b92b7dc71",
              "version_minor": 0,
              "version_major": 2
            },
            "text/plain": [
              "HBox(children=(FloatProgress(value=1.0, bar_style='info', max=1.0), HTML(value='')))"
            ]
          },
          "metadata": {
            "tags": []
          }
        },
        {
          "output_type": "stream",
          "text": [
            "\n"
          ],
          "name": "stdout"
        },
        {
          "output_type": "display_data",
          "data": {
            "application/vnd.jupyter.widget-view+json": {
              "model_id": "c6e4ae86f1bd42759dfe939fc38981f5",
              "version_minor": 0,
              "version_major": 2
            },
            "text/plain": [
              "HBox(children=(FloatProgress(value=1.0, bar_style='info', max=1.0), HTML(value='')))"
            ]
          },
          "metadata": {
            "tags": []
          }
        },
        {
          "output_type": "stream",
          "text": [
            "\n"
          ],
          "name": "stdout"
        },
        {
          "output_type": "execute_result",
          "data": {
            "text/html": [
              "<div>\n",
              "<style scoped>\n",
              "    .dataframe tbody tr th:only-of-type {\n",
              "        vertical-align: middle;\n",
              "    }\n",
              "\n",
              "    .dataframe tbody tr th {\n",
              "        vertical-align: top;\n",
              "    }\n",
              "\n",
              "    .dataframe thead th {\n",
              "        text-align: right;\n",
              "    }\n",
              "</style>\n",
              "<table border=\"1\" class=\"dataframe\">\n",
              "  <thead>\n",
              "    <tr style=\"text-align: right;\">\n",
              "      <th></th>\n",
              "      <th>comment</th>\n",
              "    </tr>\n",
              "    <tr>\n",
              "      <th>index</th>\n",
              "      <th></th>\n",
              "    </tr>\n",
              "  </thead>\n",
              "  <tbody>\n",
              "    <tr>\n",
              "      <th>6068</th>\n",
              "      <td>와 내집마련 축하드려요!!</td>\n",
              "    </tr>\n",
              "    <tr>\n",
              "      <th>18511</th>\n",
              "      <td>마리:왜 또 코피가!?이제 잘건데\\n거머리:배불리 먹었다\\n마리:으악!거머리가 내코...</td>\n",
              "    </tr>\n",
              "    <tr>\n",
              "      <th>20366</th>\n",
              "      <td>성악전공 학생임둥🙋🏻‍♀️ 함 부터보자요❣️</td>\n",
              "    </tr>\n",
              "    <tr>\n",
              "      <th>11462</th>\n",
              "      <td>나이서</td>\n",
              "    </tr>\n",
              "    <tr>\n",
              "      <th>12892</th>\n",
              "      <td>김나영, 신우, 이준, 지수씨의 노필터 TV 최고!\\n노필터티비 때문에 밤에 잠을 ...</td>\n",
              "    </tr>\n",
              "    <tr>\n",
              "      <th>...</th>\n",
              "      <td>...</td>\n",
              "    </tr>\n",
              "    <tr>\n",
              "      <th>2658</th>\n",
              "      <td>피티가 안나온 이유가 설마.. 조..폭...?</td>\n",
              "    </tr>\n",
              "    <tr>\n",
              "      <th>20008</th>\n",
              "      <td>실력파라는게\\n킬포인트죠????</td>\n",
              "    </tr>\n",
              "    <tr>\n",
              "      <th>9957</th>\n",
              "      <td>너무 귀여워용..어깨 피고 나가시는 모습</td>\n",
              "    </tr>\n",
              "    <tr>\n",
              "      <th>17311</th>\n",
              "      <td>연님이처럼 갑자기 사라져버릴까봐 좀 걱정되네요. 삼색이야 워낙 구박받으면서도 버티던...</td>\n",
              "    </tr>\n",
              "    <tr>\n",
              "      <th>17804</th>\n",
              "      <td>[여전히예쁜봄]\\n 제가 이 챌린지에 참여하게 된 이유는 ‘저에게 맞는 수면 시간과...</td>\n",
              "    </tr>\n",
              "  </tbody>\n",
              "</table>\n",
              "<p>1000 rows × 1 columns</p>\n",
              "</div>"
            ],
            "text/plain": [
              "                                                 comment\n",
              "index                                                   \n",
              "6068                                      와 내집마련 축하드려요!!\n",
              "18511  마리:왜 또 코피가!?이제 잘건데\\n거머리:배불리 먹었다\\n마리:으악!거머리가 내코...\n",
              "20366                           성악전공 학생임둥🙋🏻‍♀️ 함 부터보자요❣️\n",
              "11462                                                나이서\n",
              "12892  김나영, 신우, 이준, 지수씨의 노필터 TV 최고!\\n노필터티비 때문에 밤에 잠을 ...\n",
              "...                                                  ...\n",
              "2658                           피티가 안나온 이유가 설마.. 조..폭...?\n",
              "20008                                  실력파라는게\\n킬포인트죠????\n",
              "9957                              너무 귀여워용..어깨 피고 나가시는 모습\n",
              "17311  연님이처럼 갑자기 사라져버릴까봐 좀 걱정되네요. 삼색이야 워낙 구박받으면서도 버티던...\n",
              "17804  [여전히예쁜봄]\\n 제가 이 챌린지에 참여하게 된 이유는 ‘저에게 맞는 수면 시간과...\n",
              "\n",
              "[1000 rows x 1 columns]"
            ]
          },
          "metadata": {
            "tags": []
          },
          "execution_count": 10
        }
      ]
    },
    {
      "cell_type": "code",
      "metadata": {
        "id": "fnoeF_u33fg0"
      },
      "source": [
        "from soynlp.hangle import compose, decompose, character_is_korean \n",
        "doublespace_pattern = re.compile('\\s+') \n",
        "\n",
        "def jamo_sentence(sent): \n",
        "    def transform(char): \n",
        "        if char == ' ': \n",
        "            return char \n",
        "        cjj = decompose(char) \n",
        "        if len(cjj) == 1: \n",
        "            return cjj \n",
        "        cjj_ = ''.join(c if c != ' ' else '_' for c in cjj) \n",
        "        return cjj_ \n",
        "    \n",
        "    sent_ = [] \n",
        "    for char in sent: \n",
        "        if character_is_korean(char): \n",
        "            sent_.append(transform(char)) \n",
        "        else: \n",
        "            sent_.append(char) \n",
        "    sent_ = doublespace_pattern.sub(' ', ''.join(sent_)) \n",
        "    return sent_ \n",
        "        \n",
        "def jamo_to_word(jamo): \n",
        "    jamo_list, idx = [], 0 \n",
        "    while idx < len(jamo): \n",
        "        if not character_is_korean(jamo[idx]): \n",
        "            jamo_list.append(jamo[idx]) \n",
        "            idx += 1 \n",
        "        else: \n",
        "            jamo_list.append(jamo[idx:idx + 3]) \n",
        "            idx += 3 \n",
        "            \n",
        "    word = \"\" \n",
        "    for jamo_char in jamo_list: \n",
        "        if len(jamo_char) == 1: \n",
        "            word += jamo_char \n",
        "        elif jamo_char[2] == \"_\": \n",
        "            word += compose(jamo_char[0], jamo_char[1], \" \") \n",
        "        else: \n",
        "            word += compose(jamo_char[0], jamo_char[1], jamo_char[2]) \n",
        "            \n",
        "    return word\n",
        "\n",
        "# 출처: https://joyhong.tistory.com/137 [옳은 길로..]"
      ],
      "execution_count": null,
      "outputs": []
    },
    {
      "cell_type": "code",
      "metadata": {
        "id": "J0FAPfj53hg-"
      },
      "source": [
        "X_train = X_train.apply(lambda row : jamo_sentence(str(row['comment'])).strip().split(\" \"), axis=1)\n",
        "X_test = X_test.apply(lambda row : jamo_sentence(str(row['comment'])).strip().split(\" \"), axis=1)"
      ],
      "execution_count": null,
      "outputs": []
    },
    {
      "cell_type": "markdown",
      "metadata": {
        "id": "SjT84cEy3lZO"
      },
      "source": [
        "### Load FastText JAMO"
      ]
    },
    {
      "cell_type": "code",
      "metadata": {
        "id": "eg1ziMkE3qiX"
      },
      "source": [
        "from gensim.models import KeyedVectors, FastText"
      ],
      "execution_count": null,
      "outputs": []
    },
    {
      "cell_type": "code",
      "metadata": {
        "id": "QAj2md2p3tzS"
      },
      "source": [
        "model_fname = \"/content/drive/Shareddrives/[GH x Sandbox]/code/DeepLevel/fasttext/jamo_fasttext\"\n",
        "embedding_model = FastText.load(model_fname)"
      ],
      "execution_count": null,
      "outputs": []
    },
    {
      "cell_type": "markdown",
      "metadata": {
        "id": "t8m7dsKp4dVM"
      },
      "source": [
        "### Encoding"
      ]
    },
    {
      "cell_type": "code",
      "metadata": {
        "id": "FM5Vok_p7BbG"
      },
      "source": [
        "def sen_to_seq(s_list): # s = ['ㅇㅣ_ㅎㅛ_ㅂㅐ_', 'ㅂㅏ_ㅂㅗ_']\n",
        "    seq = list()\n",
        "    for s in s_list:\n",
        "        try:\n",
        "            seq_value = embedding_model.wv.index2word.index(s)+1\n",
        "        except:\n",
        "            seq_value = 0 # 없으면 0\n",
        "        seq.append(seq_value)\n",
        "    return seq\n",
        "\n",
        "def seq_padding(seq, max_len):\n",
        "    if len(seq) < max_len:\n",
        "        n = max_len - len(seq)\n",
        "        zero_list = [0] * n\n",
        "        seq += zero_list\n",
        "    elif len(seq) > max_len:\n",
        "        seq = seq[:max_len] \n",
        "    \n",
        "    return seq   "
      ],
      "execution_count": null,
      "outputs": []
    },
    {
      "cell_type": "code",
      "metadata": {
        "id": "Y2C-TUn232-E"
      },
      "source": [
        "max_len = max(len(l) for l in X_train)\n",
        "len_distribution = [len(l) for l in X_train]\n",
        "np.mean(len_distribution)\n",
        "sentence_len = 15"
      ],
      "execution_count": null,
      "outputs": []
    },
    {
      "cell_type": "code",
      "metadata": {
        "id": "uSsW4b224UKq"
      },
      "source": [
        "word_seq_train = X_train.apply(lambda row : sen_to_seq(row))\n",
        "word_seq_test = X_test.apply(lambda row : sen_to_seq(row))"
      ],
      "execution_count": null,
      "outputs": []
    },
    {
      "cell_type": "code",
      "metadata": {
        "id": "USLsKAO44TzM"
      },
      "source": [
        "word_seq_train = word_seq_train.apply(lambda row : seq_padding(row, sentence_len))\n",
        "word_seq_test = word_seq_test.apply(lambda row : seq_padding(row, sentence_len))\n",
        "word_seq_train = np.array(word_seq_train.to_list())\n",
        "word_seq_test = np.array(word_seq_test.to_list())"
      ],
      "execution_count": null,
      "outputs": []
    },
    {
      "cell_type": "code",
      "metadata": {
        "id": "uNbv7EAJ4tJz"
      },
      "source": [
        "from tensorflow.keras.utils import to_categorical\n",
        "\n",
        "y_train_catg = to_categorical(y_train, num_classes=3)\n",
        "y_test_catg = to_categorical(y_test, num_classes=3)"
      ],
      "execution_count": null,
      "outputs": []
    },
    {
      "cell_type": "markdown",
      "metadata": {
        "id": "5vmETbTX4JUI"
      },
      "source": [
        "### Build Embedding Matrix"
      ]
    },
    {
      "cell_type": "code",
      "metadata": {
        "colab": {
          "base_uri": "https://localhost:8080/"
        },
        "id": "KJLtKgrc3wbX",
        "outputId": "d5c9c86e-7025-4b2a-c2d5-97cbf00fac9c"
      },
      "source": [
        "embedding_matrix = np.zeros((embedding_model.wv.vectors.shape[0]+1, embedding_model.wv.vectors.shape[1]))\n",
        "np.shape(embedding_matrix)"
      ],
      "execution_count": null,
      "outputs": [
        {
          "output_type": "execute_result",
          "data": {
            "text/plain": [
              "(283368, 100)"
            ]
          },
          "metadata": {
            "tags": []
          },
          "execution_count": 20
        }
      ]
    },
    {
      "cell_type": "code",
      "metadata": {
        "colab": {
          "base_uri": "https://localhost:8080/"
        },
        "id": "NMX9FRVK3xuB",
        "outputId": "b5ab1951-cbf7-4eb0-e516-4a5220671d03"
      },
      "source": [
        "vocab_size = np.shape(embedding_matrix)[0]\n",
        "vocab_size"
      ],
      "execution_count": null,
      "outputs": [
        {
          "output_type": "execute_result",
          "data": {
            "text/plain": [
              "283368"
            ]
          },
          "metadata": {
            "tags": []
          },
          "execution_count": 21
        }
      ]
    },
    {
      "cell_type": "code",
      "metadata": {
        "colab": {
          "base_uri": "https://localhost:8080/"
        },
        "id": "f1OzuQKV76kd",
        "outputId": "03771d40-a17c-455a-9cc2-78ea0174774a"
      },
      "source": [
        "for i in tqdm(range(len(embedding_model.wv.vectors))):\n",
        "    embedding_matrix[i+1] = embedding_model.wv.vectors[i]"
      ],
      "execution_count": null,
      "outputs": [
        {
          "output_type": "stream",
          "text": [
            "100%|██████████| 283367/283367 [00:00<00:00, 829255.65it/s]\n"
          ],
          "name": "stderr"
        }
      ]
    },
    {
      "cell_type": "markdown",
      "metadata": {
        "id": "50AcLbzF4nx_"
      },
      "source": [
        "### Modeling: LSTM"
      ]
    },
    {
      "cell_type": "code",
      "metadata": {
        "id": "2-cIDs7Z3-dp"
      },
      "source": [
        "import tensorflow as tf\n",
        "from tensorflow.keras.layers import *\n",
        "from tensorflow.keras.models import Model\n",
        "from tensorflow.keras.models import Sequential\n",
        "from tensorflow.keras.models import load_model\n",
        "from tensorflow.keras.callbacks import EarlyStopping, ModelCheckpoint\n",
        "from tensorflow.keras.preprocessing.text import Tokenizer\n",
        "from tensorflow.keras.preprocessing.sequence import pad_sequences"
      ],
      "execution_count": null,
      "outputs": []
    },
    {
      "cell_type": "code",
      "metadata": {
        "colab": {
          "base_uri": "https://localhost:8080/"
        },
        "id": "jycOO2sz4rnp",
        "outputId": "a8a16d11-e27d-4d15-f21f-106f7d40fceb"
      },
      "source": [
        "lstm_model = Sequential()\n",
        "\n",
        "e = Embedding(input_dim=vocab_size, output_dim=100, weights=[embedding_matrix], input_length=sentence_len, trainable=False) # input_length = sentence_len\n",
        "lstm_model.add(e)\n",
        "lstm_model.add(LSTM(64, return_sequences=True))\n",
        "lstm_model.add(LSTM(32, return_sequences=False))\n",
        "# lstm_model.add(BatchNormalization())\n",
        "lstm_model.add(Dense(16, activation = 'tanh'))\n",
        "lstm_model.add(Dense(3, activation = 'softmax')) # 여기서 3은 최종 라벨 갯수\n",
        "\n",
        "lstm_model.compile(optimizer='adam', loss='categorical_crossentropy', metrics=['acc'])\n",
        "lstm_model.summary()"
      ],
      "execution_count": null,
      "outputs": [
        {
          "output_type": "stream",
          "text": [
            "Model: \"sequential\"\n",
            "_________________________________________________________________\n",
            "Layer (type)                 Output Shape              Param #   \n",
            "=================================================================\n",
            "embedding (Embedding)        (None, 15, 100)           28336800  \n",
            "_________________________________________________________________\n",
            "lstm (LSTM)                  (None, 15, 64)            42240     \n",
            "_________________________________________________________________\n",
            "lstm_1 (LSTM)                (None, 32)                12416     \n",
            "_________________________________________________________________\n",
            "dense (Dense)                (None, 16)                528       \n",
            "_________________________________________________________________\n",
            "dense_1 (Dense)              (None, 3)                 51        \n",
            "=================================================================\n",
            "Total params: 28,392,035\n",
            "Trainable params: 55,235\n",
            "Non-trainable params: 28,336,800\n",
            "_________________________________________________________________\n"
          ],
          "name": "stdout"
        }
      ]
    },
    {
      "cell_type": "code",
      "metadata": {
        "colab": {
          "base_uri": "https://localhost:8080/"
        },
        "id": "S29-sD7_5AGt",
        "outputId": "8bd8ce5f-ae87-4ca4-b2a8-b028f3911ef3"
      },
      "source": [
        "checkpoint_path = './checkpoints/my_checkpoint'\n",
        "checkpoint = ModelCheckpoint(filepath=checkpoint_path,\n",
        "                             save_weights_only=False,\n",
        "                             save_best_only=True,\n",
        "                             monitor='val_acc',\n",
        "                             verbose=1)\n",
        "\n",
        "lstm_model.fit(word_seq_train, y_train_catg, \n",
        "               epochs=30, verbose=2, \n",
        "               validation_data=(word_seq_test, y_test_catg),\n",
        "               callbacks=[checkpoint])"
      ],
      "execution_count": null,
      "outputs": [
        {
          "output_type": "stream",
          "text": [
            "Epoch 1/30\n",
            "657/657 - 8s - loss: 0.7787 - acc: 0.6643 - val_loss: 0.7864 - val_acc: 0.6540\n",
            "\n",
            "Epoch 00001: val_acc improved from -inf to 0.65400, saving model to ./checkpoints/my_checkpoint\n"
          ],
          "name": "stdout"
        },
        {
          "output_type": "stream",
          "text": [
            "WARNING:absl:Found untraced functions such as lstm_cell_layer_call_and_return_conditional_losses, lstm_cell_layer_call_fn, lstm_cell_1_layer_call_and_return_conditional_losses, lstm_cell_1_layer_call_fn, lstm_cell_layer_call_fn while saving (showing 5 of 10). These functions will not be directly callable after loading.\n"
          ],
          "name": "stderr"
        },
        {
          "output_type": "stream",
          "text": [
            "INFO:tensorflow:Assets written to: ./checkpoints/my_checkpoint/assets\n"
          ],
          "name": "stdout"
        },
        {
          "output_type": "stream",
          "text": [
            "INFO:tensorflow:Assets written to: ./checkpoints/my_checkpoint/assets\n"
          ],
          "name": "stderr"
        },
        {
          "output_type": "stream",
          "text": [
            "Epoch 2/30\n",
            "657/657 - 3s - loss: 0.7342 - acc: 0.6844 - val_loss: 0.7917 - val_acc: 0.6480\n",
            "\n",
            "Epoch 00002: val_acc did not improve from 0.65400\n",
            "Epoch 3/30\n",
            "657/657 - 3s - loss: 0.7192 - acc: 0.6909 - val_loss: 0.7798 - val_acc: 0.6590\n",
            "\n",
            "Epoch 00003: val_acc improved from 0.65400 to 0.65900, saving model to ./checkpoints/my_checkpoint\n"
          ],
          "name": "stdout"
        },
        {
          "output_type": "stream",
          "text": [
            "WARNING:absl:Found untraced functions such as lstm_cell_layer_call_and_return_conditional_losses, lstm_cell_layer_call_fn, lstm_cell_1_layer_call_and_return_conditional_losses, lstm_cell_1_layer_call_fn, lstm_cell_layer_call_fn while saving (showing 5 of 10). These functions will not be directly callable after loading.\n"
          ],
          "name": "stderr"
        },
        {
          "output_type": "stream",
          "text": [
            "INFO:tensorflow:Assets written to: ./checkpoints/my_checkpoint/assets\n"
          ],
          "name": "stdout"
        },
        {
          "output_type": "stream",
          "text": [
            "INFO:tensorflow:Assets written to: ./checkpoints/my_checkpoint/assets\n"
          ],
          "name": "stderr"
        },
        {
          "output_type": "stream",
          "text": [
            "Epoch 4/30\n",
            "657/657 - 3s - loss: 0.7059 - acc: 0.6978 - val_loss: 0.7894 - val_acc: 0.6540\n",
            "\n",
            "Epoch 00004: val_acc did not improve from 0.65900\n",
            "Epoch 5/30\n",
            "657/657 - 3s - loss: 0.6895 - acc: 0.7068 - val_loss: 0.7936 - val_acc: 0.6590\n",
            "\n",
            "Epoch 00005: val_acc did not improve from 0.65900\n",
            "Epoch 6/30\n",
            "657/657 - 3s - loss: 0.6722 - acc: 0.7139 - val_loss: 0.8129 - val_acc: 0.6490\n",
            "\n",
            "Epoch 00006: val_acc did not improve from 0.65900\n",
            "Epoch 7/30\n",
            "657/657 - 3s - loss: 0.6534 - acc: 0.7227 - val_loss: 0.7964 - val_acc: 0.6550\n",
            "\n",
            "Epoch 00007: val_acc did not improve from 0.65900\n",
            "Epoch 8/30\n",
            "657/657 - 3s - loss: 0.6331 - acc: 0.7310 - val_loss: 0.8321 - val_acc: 0.6430\n",
            "\n",
            "Epoch 00008: val_acc did not improve from 0.65900\n",
            "Epoch 9/30\n",
            "657/657 - 3s - loss: 0.6073 - acc: 0.7438 - val_loss: 0.8504 - val_acc: 0.6350\n",
            "\n",
            "Epoch 00009: val_acc did not improve from 0.65900\n",
            "Epoch 10/30\n",
            "657/657 - 3s - loss: 0.5775 - acc: 0.7563 - val_loss: 0.8947 - val_acc: 0.6310\n",
            "\n",
            "Epoch 00010: val_acc did not improve from 0.65900\n",
            "Epoch 11/30\n",
            "657/657 - 3s - loss: 0.5512 - acc: 0.7699 - val_loss: 0.9229 - val_acc: 0.6370\n",
            "\n",
            "Epoch 00011: val_acc did not improve from 0.65900\n",
            "Epoch 12/30\n",
            "657/657 - 3s - loss: 0.5244 - acc: 0.7812 - val_loss: 0.9403 - val_acc: 0.6220\n",
            "\n",
            "Epoch 00012: val_acc did not improve from 0.65900\n",
            "Epoch 13/30\n",
            "657/657 - 3s - loss: 0.4915 - acc: 0.7960 - val_loss: 1.0494 - val_acc: 0.6340\n",
            "\n",
            "Epoch 00013: val_acc did not improve from 0.65900\n",
            "Epoch 14/30\n",
            "657/657 - 3s - loss: 0.4695 - acc: 0.8043 - val_loss: 1.0303 - val_acc: 0.6380\n",
            "\n",
            "Epoch 00014: val_acc did not improve from 0.65900\n",
            "Epoch 15/30\n",
            "657/657 - 3s - loss: 0.4400 - acc: 0.8169 - val_loss: 1.1567 - val_acc: 0.6000\n",
            "\n",
            "Epoch 00015: val_acc did not improve from 0.65900\n",
            "Epoch 16/30\n",
            "657/657 - 3s - loss: 0.4211 - acc: 0.8282 - val_loss: 1.1828 - val_acc: 0.6050\n",
            "\n",
            "Epoch 00016: val_acc did not improve from 0.65900\n",
            "Epoch 17/30\n",
            "657/657 - 3s - loss: 0.3980 - acc: 0.8358 - val_loss: 1.2408 - val_acc: 0.6170\n",
            "\n",
            "Epoch 00017: val_acc did not improve from 0.65900\n",
            "Epoch 18/30\n",
            "657/657 - 3s - loss: 0.3790 - acc: 0.8449 - val_loss: 1.2237 - val_acc: 0.6230\n",
            "\n",
            "Epoch 00018: val_acc did not improve from 0.65900\n",
            "Epoch 19/30\n",
            "657/657 - 3s - loss: 0.3624 - acc: 0.8506 - val_loss: 1.3341 - val_acc: 0.5980\n",
            "\n",
            "Epoch 00019: val_acc did not improve from 0.65900\n",
            "Epoch 20/30\n",
            "657/657 - 3s - loss: 0.3469 - acc: 0.8578 - val_loss: 1.3581 - val_acc: 0.6210\n",
            "\n",
            "Epoch 00020: val_acc did not improve from 0.65900\n",
            "Epoch 21/30\n",
            "657/657 - 3s - loss: 0.3355 - acc: 0.8653 - val_loss: 1.4144 - val_acc: 0.6220\n",
            "\n",
            "Epoch 00021: val_acc did not improve from 0.65900\n",
            "Epoch 22/30\n",
            "657/657 - 3s - loss: 0.3234 - acc: 0.8674 - val_loss: 1.3818 - val_acc: 0.6180\n",
            "\n",
            "Epoch 00022: val_acc did not improve from 0.65900\n",
            "Epoch 23/30\n",
            "657/657 - 3s - loss: 0.3087 - acc: 0.8752 - val_loss: 1.4562 - val_acc: 0.6050\n",
            "\n",
            "Epoch 00023: val_acc did not improve from 0.65900\n",
            "Epoch 24/30\n",
            "657/657 - 3s - loss: 0.2957 - acc: 0.8783 - val_loss: 1.5540 - val_acc: 0.6060\n",
            "\n",
            "Epoch 00024: val_acc did not improve from 0.65900\n",
            "Epoch 25/30\n",
            "657/657 - 3s - loss: 0.2929 - acc: 0.8800 - val_loss: 1.6153 - val_acc: 0.6150\n",
            "\n",
            "Epoch 00025: val_acc did not improve from 0.65900\n",
            "Epoch 26/30\n",
            "657/657 - 3s - loss: 0.2863 - acc: 0.8849 - val_loss: 1.5883 - val_acc: 0.6130\n",
            "\n",
            "Epoch 00026: val_acc did not improve from 0.65900\n",
            "Epoch 27/30\n",
            "657/657 - 3s - loss: 0.2697 - acc: 0.8896 - val_loss: 1.5725 - val_acc: 0.6180\n",
            "\n",
            "Epoch 00027: val_acc did not improve from 0.65900\n",
            "Epoch 28/30\n",
            "657/657 - 3s - loss: 0.2697 - acc: 0.8914 - val_loss: 1.5592 - val_acc: 0.6230\n",
            "\n",
            "Epoch 00028: val_acc did not improve from 0.65900\n",
            "Epoch 29/30\n",
            "657/657 - 3s - loss: 0.2522 - acc: 0.8964 - val_loss: 1.6663 - val_acc: 0.6180\n",
            "\n",
            "Epoch 00029: val_acc did not improve from 0.65900\n",
            "Epoch 30/30\n",
            "657/657 - 3s - loss: 0.2581 - acc: 0.8952 - val_loss: 1.6249 - val_acc: 0.6130\n",
            "\n",
            "Epoch 00030: val_acc did not improve from 0.65900\n"
          ],
          "name": "stdout"
        },
        {
          "output_type": "execute_result",
          "data": {
            "text/plain": [
              "<tensorflow.python.keras.callbacks.History at 0x7f37a006c690>"
            ]
          },
          "metadata": {
            "tags": []
          },
          "execution_count": 25
        }
      ]
    },
    {
      "cell_type": "code",
      "metadata": {
        "id": "MIOZNfCD53DN"
      },
      "source": [
        "# save best model\n",
        "lstm_model.load_weights(checkpoint_path)\n",
        "saved_model_path = '/content/drive/Shareddrives/[GH x Sandbox]/code/DeepLevel/model/lstm_jamo3'\n",
        "lstm_model.save(saved_model_path, save_format='h5')"
      ],
      "execution_count": null,
      "outputs": []
    },
    {
      "cell_type": "markdown",
      "metadata": {
        "id": "qf6EvSEv8vhv"
      },
      "source": [
        "## EUMJUL"
      ]
    },
    {
      "cell_type": "markdown",
      "metadata": {
        "id": "GyU6gLW484sb"
      },
      "source": [
        "### Tokenization"
      ]
    },
    {
      "cell_type": "code",
      "metadata": {
        "id": "0GKBRrMRC0cE"
      },
      "source": [
        "X_train = train_data[['comment']]\n",
        "X_test = test_data[['comment']]\n",
        "y_train = train_data['class']\n",
        "y_test = test_data['class']"
      ],
      "execution_count": null,
      "outputs": []
    },
    {
      "cell_type": "code",
      "metadata": {
        "id": "mlAUBTRK9jNd"
      },
      "source": [
        "def eumjul_sentence(texts):\n",
        "    tokenized = []\n",
        "    for j in range(len(texts)):\n",
        "        tokenized.append(texts[j])\n",
        "    return tokenized"
      ],
      "execution_count": null,
      "outputs": []
    },
    {
      "cell_type": "code",
      "metadata": {
        "id": "FO6MPgAT9k2z"
      },
      "source": [
        "X_train = X_train.apply(lambda row : eumjul_sentence(str(row['comment'])), axis=1)\n",
        "X_test = X_test.apply(lambda row : eumjul_sentence(str(row['comment'])), axis=1)"
      ],
      "execution_count": null,
      "outputs": []
    },
    {
      "cell_type": "markdown",
      "metadata": {
        "id": "80473S9k86-A"
      },
      "source": [
        "### Load FastText EUMJUL"
      ]
    },
    {
      "cell_type": "code",
      "metadata": {
        "id": "rTtjRGUw9juj"
      },
      "source": [
        "model_fname = \"/content/drive/Shareddrives/[GH x Sandbox]/code/DeepLevel/fasttext/fasttext_eumjul\"\n",
        "embedding_model = FastText.load(model_fname)"
      ],
      "execution_count": null,
      "outputs": []
    },
    {
      "cell_type": "code",
      "metadata": {
        "id": "TTbxja849jqR"
      },
      "source": [
        "def sen_to_seq(s_list): # s = ['아', '니']\n",
        "    seq = list()\n",
        "    for s in s_list:\n",
        "        try:\n",
        "            seq_value = embedding_model.wv.index2word.index(s)+1\n",
        "        except:\n",
        "            seq_value = 0 # 없으면 0\n",
        "        seq.append(seq_value)\n",
        "    return seq"
      ],
      "execution_count": null,
      "outputs": []
    },
    {
      "cell_type": "markdown",
      "metadata": {
        "id": "x9GMsYAw9AJp"
      },
      "source": [
        "### Encoding"
      ]
    },
    {
      "cell_type": "code",
      "metadata": {
        "id": "fJh5nqjd9kS_"
      },
      "source": [
        "max_len = max(len(l) for l in X_train)\n",
        "len_distribution = [len(l) for l in X_train]\n",
        "np.mean(len_distribution)\n",
        "sentence_len = 100"
      ],
      "execution_count": null,
      "outputs": []
    },
    {
      "cell_type": "code",
      "metadata": {
        "id": "WEa1MfO2_BWF"
      },
      "source": [
        "word_seq_train = X_train.apply(lambda row : sen_to_seq(row))\n",
        "word_seq_test = X_test.apply(lambda row : sen_to_seq(row))"
      ],
      "execution_count": null,
      "outputs": []
    },
    {
      "cell_type": "code",
      "metadata": {
        "id": "tRWoFxdf_BPA"
      },
      "source": [
        "word_seq_train = word_seq_train.apply(lambda row : seq_padding(row, sentence_len))\n",
        "word_seq_test = word_seq_test.apply(lambda row : seq_padding(row, sentence_len))\n",
        "word_seq_train = np.array(word_seq_train.to_list())\n",
        "word_seq_test = np.array(word_seq_test.to_list())"
      ],
      "execution_count": null,
      "outputs": []
    },
    {
      "cell_type": "code",
      "metadata": {
        "id": "9XEr5aY89kQl",
        "colab": {
          "base_uri": "https://localhost:8080/",
          "height": 321
        },
        "outputId": "10802f71-f738-4a43-c4ce-70359511df21"
      },
      "source": [
        "y_train_catg = to_categorical(y_train, num_classes=3)\n",
        "y_test_catg = to_categorical(y_test, num_classes=3)"
      ],
      "execution_count": null,
      "outputs": [
        {
          "output_type": "error",
          "ename": "IndexError",
          "evalue": "ignored",
          "traceback": [
            "\u001b[0;31m---------------------------------------------------------------------------\u001b[0m",
            "\u001b[0;31mIndexError\u001b[0m                                Traceback (most recent call last)",
            "\u001b[0;32m<ipython-input-53-e5f4e00860da>\u001b[0m in \u001b[0;36m<module>\u001b[0;34m()\u001b[0m\n\u001b[0;32m----> 1\u001b[0;31m \u001b[0my_train_catg\u001b[0m \u001b[0;34m=\u001b[0m \u001b[0mto_categorical\u001b[0m\u001b[0;34m(\u001b[0m\u001b[0my_train\u001b[0m\u001b[0;34m,\u001b[0m \u001b[0mnum_classes\u001b[0m\u001b[0;34m=\u001b[0m\u001b[0;36m3\u001b[0m\u001b[0;34m)\u001b[0m\u001b[0;34m\u001b[0m\u001b[0;34m\u001b[0m\u001b[0m\n\u001b[0m\u001b[1;32m      2\u001b[0m \u001b[0my_test_catg\u001b[0m \u001b[0;34m=\u001b[0m \u001b[0mto_categorical\u001b[0m\u001b[0;34m(\u001b[0m\u001b[0my_test\u001b[0m\u001b[0;34m,\u001b[0m \u001b[0mnum_classes\u001b[0m\u001b[0;34m=\u001b[0m\u001b[0;36m3\u001b[0m\u001b[0;34m)\u001b[0m\u001b[0;34m\u001b[0m\u001b[0;34m\u001b[0m\u001b[0m\n",
            "\u001b[0;32m/usr/local/lib/python3.7/dist-packages/tensorflow/python/keras/utils/np_utils.py\u001b[0m in \u001b[0;36mto_categorical\u001b[0;34m(y, num_classes, dtype)\u001b[0m\n\u001b[1;32m     73\u001b[0m   \u001b[0mn\u001b[0m \u001b[0;34m=\u001b[0m \u001b[0my\u001b[0m\u001b[0;34m.\u001b[0m\u001b[0mshape\u001b[0m\u001b[0;34m[\u001b[0m\u001b[0;36m0\u001b[0m\u001b[0;34m]\u001b[0m\u001b[0;34m\u001b[0m\u001b[0;34m\u001b[0m\u001b[0m\n\u001b[1;32m     74\u001b[0m   \u001b[0mcategorical\u001b[0m \u001b[0;34m=\u001b[0m \u001b[0mnp\u001b[0m\u001b[0;34m.\u001b[0m\u001b[0mzeros\u001b[0m\u001b[0;34m(\u001b[0m\u001b[0;34m(\u001b[0m\u001b[0mn\u001b[0m\u001b[0;34m,\u001b[0m \u001b[0mnum_classes\u001b[0m\u001b[0;34m)\u001b[0m\u001b[0;34m,\u001b[0m \u001b[0mdtype\u001b[0m\u001b[0;34m=\u001b[0m\u001b[0mdtype\u001b[0m\u001b[0;34m)\u001b[0m\u001b[0;34m\u001b[0m\u001b[0;34m\u001b[0m\u001b[0m\n\u001b[0;32m---> 75\u001b[0;31m   \u001b[0mcategorical\u001b[0m\u001b[0;34m[\u001b[0m\u001b[0mnp\u001b[0m\u001b[0;34m.\u001b[0m\u001b[0marange\u001b[0m\u001b[0;34m(\u001b[0m\u001b[0mn\u001b[0m\u001b[0;34m)\u001b[0m\u001b[0;34m,\u001b[0m \u001b[0my\u001b[0m\u001b[0;34m]\u001b[0m \u001b[0;34m=\u001b[0m \u001b[0;36m1\u001b[0m\u001b[0;34m\u001b[0m\u001b[0;34m\u001b[0m\u001b[0m\n\u001b[0m\u001b[1;32m     76\u001b[0m   \u001b[0moutput_shape\u001b[0m \u001b[0;34m=\u001b[0m \u001b[0minput_shape\u001b[0m \u001b[0;34m+\u001b[0m \u001b[0;34m(\u001b[0m\u001b[0mnum_classes\u001b[0m\u001b[0;34m,\u001b[0m\u001b[0;34m)\u001b[0m\u001b[0;34m\u001b[0m\u001b[0;34m\u001b[0m\u001b[0m\n\u001b[1;32m     77\u001b[0m   \u001b[0mcategorical\u001b[0m \u001b[0;34m=\u001b[0m \u001b[0mnp\u001b[0m\u001b[0;34m.\u001b[0m\u001b[0mreshape\u001b[0m\u001b[0;34m(\u001b[0m\u001b[0mcategorical\u001b[0m\u001b[0;34m,\u001b[0m \u001b[0moutput_shape\u001b[0m\u001b[0;34m)\u001b[0m\u001b[0;34m\u001b[0m\u001b[0;34m\u001b[0m\u001b[0m\n",
            "\u001b[0;31mIndexError\u001b[0m: index 4 is out of bounds for axis 1 with size 3"
          ]
        }
      ]
    },
    {
      "cell_type": "markdown",
      "metadata": {
        "id": "KRygBiXf9Cr4"
      },
      "source": [
        "### Build Embedding Matrix"
      ]
    },
    {
      "cell_type": "code",
      "metadata": {
        "id": "TJ-_xiYx9lav"
      },
      "source": [
        "embedding_matrix = np.zeros((embedding_model.wv.vectors.shape[0]+1, embedding_model.wv.vectors.shape[1]))\n",
        "np.shape(embedding_matrix)   "
      ],
      "execution_count": null,
      "outputs": []
    },
    {
      "cell_type": "code",
      "metadata": {
        "colab": {
          "base_uri": "https://localhost:8080/"
        },
        "id": "moWz2EJg_1HS",
        "outputId": "ef75be8e-9356-4107-f142-3bee60530c18"
      },
      "source": [
        "vocab_size = np.shape(embedding_matrix)[0]\n",
        "vocab_size"
      ],
      "execution_count": null,
      "outputs": [
        {
          "output_type": "execute_result",
          "data": {
            "text/plain": [
              "5664"
            ]
          },
          "metadata": {
            "tags": []
          },
          "execution_count": 54
        }
      ]
    },
    {
      "cell_type": "code",
      "metadata": {
        "colab": {
          "base_uri": "https://localhost:8080/"
        },
        "id": "L6Up8jrl9lUt",
        "outputId": "40bade82-65a4-431d-b9fd-d452983ff790"
      },
      "source": [
        "for i in tqdm(range(len(embedding_model.wv.vectors))):\n",
        "    embedding_matrix[i+1] = embedding_model.wv.vectors[i]"
      ],
      "execution_count": null,
      "outputs": [
        {
          "output_type": "stream",
          "text": [
            "100%|██████████| 5663/5663 [00:00<00:00, 646727.03it/s]\n"
          ],
          "name": "stderr"
        }
      ]
    },
    {
      "cell_type": "markdown",
      "metadata": {
        "id": "kBpeRPEh9Flk"
      },
      "source": [
        "### Modeling: LSTM"
      ]
    },
    {
      "cell_type": "code",
      "metadata": {
        "colab": {
          "base_uri": "https://localhost:8080/"
        },
        "id": "46CJcfS08xXs",
        "outputId": "a1066544-f296-4a76-d7db-a31d3a66b4e3"
      },
      "source": [
        "lstm_model = Sequential()\n",
        "\n",
        "e = Embedding(input_dim=vocab_size, output_dim=100, weights=[embedding_matrix], input_length=sentence_len, trainable=False) # input_length = sentence_len\n",
        "lstm_model.add(e)\n",
        "lstm_model.add(LSTM(64, return_sequences=True))\n",
        "lstm_model.add(LSTM(32, return_sequences=False))\n",
        "# lstm_model.add(BatchNormalization())\n",
        "lstm_model.add(Dense(16, activation = 'tanh'))\n",
        "lstm_model.add(Dense(3, activation = 'softmax')) # 여기서 3은 최종 라벨 갯수\n",
        "\n",
        "lstm_model.compile(optimizer='adam', loss='categorical_crossentropy', metrics=['acc'])\n",
        "lstm_model.summary()"
      ],
      "execution_count": null,
      "outputs": [
        {
          "output_type": "stream",
          "text": [
            "Model: \"sequential_2\"\n",
            "_________________________________________________________________\n",
            "Layer (type)                 Output Shape              Param #   \n",
            "=================================================================\n",
            "embedding_2 (Embedding)      (None, 100, 100)          566400    \n",
            "_________________________________________________________________\n",
            "lstm_4 (LSTM)                (None, 100, 64)           42240     \n",
            "_________________________________________________________________\n",
            "lstm_5 (LSTM)                (None, 32)                12416     \n",
            "_________________________________________________________________\n",
            "dense_4 (Dense)              (None, 16)                528       \n",
            "_________________________________________________________________\n",
            "dense_5 (Dense)              (None, 3)                 51        \n",
            "=================================================================\n",
            "Total params: 621,635\n",
            "Trainable params: 55,235\n",
            "Non-trainable params: 566,400\n",
            "_________________________________________________________________\n"
          ],
          "name": "stdout"
        }
      ]
    },
    {
      "cell_type": "code",
      "metadata": {
        "colab": {
          "base_uri": "https://localhost:8080/"
        },
        "id": "A5WwPj_w_lTz",
        "outputId": "9efc4841-f8e2-40ae-ce70-f6e15564828f"
      },
      "source": [
        "checkpoint_path = './checkpoints/my_checkpoint2'\n",
        "checkpoint = ModelCheckpoint(filepath=checkpoint_path,\n",
        "                             save_weights_only=False,\n",
        "                             save_best_only=True,\n",
        "                             monitor='val_acc',\n",
        "                             verbose=1)\n",
        "\n",
        "lstm_model.fit(word_seq_train, y_train_catg, \n",
        "               epochs=30, verbose=2, \n",
        "               validation_data=(word_seq_test, y_test_catg),\n",
        "               callbacks=[checkpoint])"
      ],
      "execution_count": null,
      "outputs": [
        {
          "output_type": "stream",
          "text": [
            "Epoch 1/30\n",
            "657/657 - 9s - loss: 0.9701 - acc: 0.5310 - val_loss: 0.9804 - val_acc: 0.5260\n",
            "\n",
            "Epoch 00001: val_acc improved from -inf to 0.52600, saving model to ./checkpoints/my_checkpoint2\n"
          ],
          "name": "stdout"
        },
        {
          "output_type": "stream",
          "text": [
            "WARNING:absl:Found untraced functions such as lstm_cell_4_layer_call_and_return_conditional_losses, lstm_cell_4_layer_call_fn, lstm_cell_5_layer_call_and_return_conditional_losses, lstm_cell_5_layer_call_fn, lstm_cell_4_layer_call_fn while saving (showing 5 of 10). These functions will not be directly callable after loading.\n"
          ],
          "name": "stderr"
        },
        {
          "output_type": "stream",
          "text": [
            "INFO:tensorflow:Assets written to: ./checkpoints/my_checkpoint2/assets\n"
          ],
          "name": "stdout"
        },
        {
          "output_type": "stream",
          "text": [
            "INFO:tensorflow:Assets written to: ./checkpoints/my_checkpoint2/assets\n"
          ],
          "name": "stderr"
        },
        {
          "output_type": "stream",
          "text": [
            "Epoch 2/30\n",
            "657/657 - 5s - loss: 0.9608 - acc: 0.5396 - val_loss: 0.9793 - val_acc: 0.5310\n",
            "\n",
            "Epoch 00002: val_acc improved from 0.52600 to 0.53100, saving model to ./checkpoints/my_checkpoint2\n"
          ],
          "name": "stdout"
        },
        {
          "output_type": "stream",
          "text": [
            "WARNING:absl:Found untraced functions such as lstm_cell_4_layer_call_and_return_conditional_losses, lstm_cell_4_layer_call_fn, lstm_cell_5_layer_call_and_return_conditional_losses, lstm_cell_5_layer_call_fn, lstm_cell_4_layer_call_fn while saving (showing 5 of 10). These functions will not be directly callable after loading.\n"
          ],
          "name": "stderr"
        },
        {
          "output_type": "stream",
          "text": [
            "INFO:tensorflow:Assets written to: ./checkpoints/my_checkpoint2/assets\n"
          ],
          "name": "stdout"
        },
        {
          "output_type": "stream",
          "text": [
            "INFO:tensorflow:Assets written to: ./checkpoints/my_checkpoint2/assets\n"
          ],
          "name": "stderr"
        },
        {
          "output_type": "stream",
          "text": [
            "Epoch 3/30\n",
            "657/657 - 5s - loss: 0.9582 - acc: 0.5414 - val_loss: 0.9718 - val_acc: 0.5420\n",
            "\n",
            "Epoch 00003: val_acc improved from 0.53100 to 0.54200, saving model to ./checkpoints/my_checkpoint2\n"
          ],
          "name": "stdout"
        },
        {
          "output_type": "stream",
          "text": [
            "WARNING:absl:Found untraced functions such as lstm_cell_4_layer_call_and_return_conditional_losses, lstm_cell_4_layer_call_fn, lstm_cell_5_layer_call_and_return_conditional_losses, lstm_cell_5_layer_call_fn, lstm_cell_4_layer_call_fn while saving (showing 5 of 10). These functions will not be directly callable after loading.\n"
          ],
          "name": "stderr"
        },
        {
          "output_type": "stream",
          "text": [
            "INFO:tensorflow:Assets written to: ./checkpoints/my_checkpoint2/assets\n"
          ],
          "name": "stdout"
        },
        {
          "output_type": "stream",
          "text": [
            "INFO:tensorflow:Assets written to: ./checkpoints/my_checkpoint2/assets\n"
          ],
          "name": "stderr"
        },
        {
          "output_type": "stream",
          "text": [
            "Epoch 4/30\n",
            "657/657 - 5s - loss: 0.9570 - acc: 0.5370 - val_loss: 0.9788 - val_acc: 0.5270\n",
            "\n",
            "Epoch 00004: val_acc did not improve from 0.54200\n",
            "Epoch 5/30\n",
            "657/657 - 5s - loss: 0.9482 - acc: 0.5477 - val_loss: 0.9749 - val_acc: 0.5420\n",
            "\n",
            "Epoch 00005: val_acc did not improve from 0.54200\n",
            "Epoch 6/30\n",
            "657/657 - 5s - loss: 0.9584 - acc: 0.5476 - val_loss: 0.9729 - val_acc: 0.5310\n",
            "\n",
            "Epoch 00006: val_acc did not improve from 0.54200\n",
            "Epoch 7/30\n",
            "657/657 - 5s - loss: 0.9625 - acc: 0.5421 - val_loss: 0.9725 - val_acc: 0.5310\n",
            "\n",
            "Epoch 00007: val_acc did not improve from 0.54200\n",
            "Epoch 8/30\n",
            "657/657 - 5s - loss: 0.9644 - acc: 0.5415 - val_loss: 0.9734 - val_acc: 0.5310\n",
            "\n",
            "Epoch 00008: val_acc did not improve from 0.54200\n",
            "Epoch 9/30\n",
            "657/657 - 5s - loss: 0.9511 - acc: 0.5392 - val_loss: 0.9550 - val_acc: 0.5600\n",
            "\n",
            "Epoch 00009: val_acc improved from 0.54200 to 0.56000, saving model to ./checkpoints/my_checkpoint2\n"
          ],
          "name": "stdout"
        },
        {
          "output_type": "stream",
          "text": [
            "WARNING:absl:Found untraced functions such as lstm_cell_4_layer_call_and_return_conditional_losses, lstm_cell_4_layer_call_fn, lstm_cell_5_layer_call_and_return_conditional_losses, lstm_cell_5_layer_call_fn, lstm_cell_4_layer_call_fn while saving (showing 5 of 10). These functions will not be directly callable after loading.\n"
          ],
          "name": "stderr"
        },
        {
          "output_type": "stream",
          "text": [
            "INFO:tensorflow:Assets written to: ./checkpoints/my_checkpoint2/assets\n"
          ],
          "name": "stdout"
        },
        {
          "output_type": "stream",
          "text": [
            "INFO:tensorflow:Assets written to: ./checkpoints/my_checkpoint2/assets\n"
          ],
          "name": "stderr"
        },
        {
          "output_type": "stream",
          "text": [
            "Epoch 10/30\n",
            "657/657 - 6s - loss: 0.8864 - acc: 0.6138 - val_loss: 0.8673 - val_acc: 0.6270\n",
            "\n",
            "Epoch 00010: val_acc improved from 0.56000 to 0.62700, saving model to ./checkpoints/my_checkpoint2\n"
          ],
          "name": "stdout"
        },
        {
          "output_type": "stream",
          "text": [
            "WARNING:absl:Found untraced functions such as lstm_cell_4_layer_call_and_return_conditional_losses, lstm_cell_4_layer_call_fn, lstm_cell_5_layer_call_and_return_conditional_losses, lstm_cell_5_layer_call_fn, lstm_cell_4_layer_call_fn while saving (showing 5 of 10). These functions will not be directly callable after loading.\n"
          ],
          "name": "stderr"
        },
        {
          "output_type": "stream",
          "text": [
            "INFO:tensorflow:Assets written to: ./checkpoints/my_checkpoint2/assets\n"
          ],
          "name": "stdout"
        },
        {
          "output_type": "stream",
          "text": [
            "INFO:tensorflow:Assets written to: ./checkpoints/my_checkpoint2/assets\n"
          ],
          "name": "stderr"
        },
        {
          "output_type": "stream",
          "text": [
            "Epoch 11/30\n",
            "657/657 - 5s - loss: 0.8285 - acc: 0.6569 - val_loss: 0.8362 - val_acc: 0.6520\n",
            "\n",
            "Epoch 00011: val_acc improved from 0.62700 to 0.65200, saving model to ./checkpoints/my_checkpoint2\n"
          ],
          "name": "stdout"
        },
        {
          "output_type": "stream",
          "text": [
            "WARNING:absl:Found untraced functions such as lstm_cell_4_layer_call_and_return_conditional_losses, lstm_cell_4_layer_call_fn, lstm_cell_5_layer_call_and_return_conditional_losses, lstm_cell_5_layer_call_fn, lstm_cell_4_layer_call_fn while saving (showing 5 of 10). These functions will not be directly callable after loading.\n"
          ],
          "name": "stderr"
        },
        {
          "output_type": "stream",
          "text": [
            "INFO:tensorflow:Assets written to: ./checkpoints/my_checkpoint2/assets\n"
          ],
          "name": "stdout"
        },
        {
          "output_type": "stream",
          "text": [
            "INFO:tensorflow:Assets written to: ./checkpoints/my_checkpoint2/assets\n"
          ],
          "name": "stderr"
        },
        {
          "output_type": "stream",
          "text": [
            "Epoch 12/30\n",
            "657/657 - 5s - loss: 0.7975 - acc: 0.6701 - val_loss: 0.8078 - val_acc: 0.6610\n",
            "\n",
            "Epoch 00012: val_acc improved from 0.65200 to 0.66100, saving model to ./checkpoints/my_checkpoint2\n"
          ],
          "name": "stdout"
        },
        {
          "output_type": "stream",
          "text": [
            "WARNING:absl:Found untraced functions such as lstm_cell_4_layer_call_and_return_conditional_losses, lstm_cell_4_layer_call_fn, lstm_cell_5_layer_call_and_return_conditional_losses, lstm_cell_5_layer_call_fn, lstm_cell_4_layer_call_fn while saving (showing 5 of 10). These functions will not be directly callable after loading.\n"
          ],
          "name": "stderr"
        },
        {
          "output_type": "stream",
          "text": [
            "INFO:tensorflow:Assets written to: ./checkpoints/my_checkpoint2/assets\n"
          ],
          "name": "stdout"
        },
        {
          "output_type": "stream",
          "text": [
            "INFO:tensorflow:Assets written to: ./checkpoints/my_checkpoint2/assets\n"
          ],
          "name": "stderr"
        },
        {
          "output_type": "stream",
          "text": [
            "Epoch 13/30\n",
            "657/657 - 5s - loss: 0.7808 - acc: 0.6782 - val_loss: 0.7925 - val_acc: 0.6650\n",
            "\n",
            "Epoch 00013: val_acc improved from 0.66100 to 0.66500, saving model to ./checkpoints/my_checkpoint2\n"
          ],
          "name": "stdout"
        },
        {
          "output_type": "stream",
          "text": [
            "WARNING:absl:Found untraced functions such as lstm_cell_4_layer_call_and_return_conditional_losses, lstm_cell_4_layer_call_fn, lstm_cell_5_layer_call_and_return_conditional_losses, lstm_cell_5_layer_call_fn, lstm_cell_4_layer_call_fn while saving (showing 5 of 10). These functions will not be directly callable after loading.\n"
          ],
          "name": "stderr"
        },
        {
          "output_type": "stream",
          "text": [
            "INFO:tensorflow:Assets written to: ./checkpoints/my_checkpoint2/assets\n"
          ],
          "name": "stdout"
        },
        {
          "output_type": "stream",
          "text": [
            "INFO:tensorflow:Assets written to: ./checkpoints/my_checkpoint2/assets\n"
          ],
          "name": "stderr"
        },
        {
          "output_type": "stream",
          "text": [
            "Epoch 14/30\n",
            "657/657 - 6s - loss: 0.7638 - acc: 0.6824 - val_loss: 0.8028 - val_acc: 0.6750\n",
            "\n",
            "Epoch 00014: val_acc improved from 0.66500 to 0.67500, saving model to ./checkpoints/my_checkpoint2\n"
          ],
          "name": "stdout"
        },
        {
          "output_type": "stream",
          "text": [
            "WARNING:absl:Found untraced functions such as lstm_cell_4_layer_call_and_return_conditional_losses, lstm_cell_4_layer_call_fn, lstm_cell_5_layer_call_and_return_conditional_losses, lstm_cell_5_layer_call_fn, lstm_cell_4_layer_call_fn while saving (showing 5 of 10). These functions will not be directly callable after loading.\n"
          ],
          "name": "stderr"
        },
        {
          "output_type": "stream",
          "text": [
            "INFO:tensorflow:Assets written to: ./checkpoints/my_checkpoint2/assets\n"
          ],
          "name": "stdout"
        },
        {
          "output_type": "stream",
          "text": [
            "INFO:tensorflow:Assets written to: ./checkpoints/my_checkpoint2/assets\n"
          ],
          "name": "stderr"
        },
        {
          "output_type": "stream",
          "text": [
            "Epoch 15/30\n",
            "657/657 - 5s - loss: 0.7520 - acc: 0.6838 - val_loss: 0.7676 - val_acc: 0.6750\n",
            "\n",
            "Epoch 00015: val_acc did not improve from 0.67500\n",
            "Epoch 16/30\n",
            "657/657 - 5s - loss: 0.7366 - acc: 0.6860 - val_loss: 0.7504 - val_acc: 0.6800\n",
            "\n",
            "Epoch 00016: val_acc improved from 0.67500 to 0.68000, saving model to ./checkpoints/my_checkpoint2\n"
          ],
          "name": "stdout"
        },
        {
          "output_type": "stream",
          "text": [
            "WARNING:absl:Found untraced functions such as lstm_cell_4_layer_call_and_return_conditional_losses, lstm_cell_4_layer_call_fn, lstm_cell_5_layer_call_and_return_conditional_losses, lstm_cell_5_layer_call_fn, lstm_cell_4_layer_call_fn while saving (showing 5 of 10). These functions will not be directly callable after loading.\n"
          ],
          "name": "stderr"
        },
        {
          "output_type": "stream",
          "text": [
            "INFO:tensorflow:Assets written to: ./checkpoints/my_checkpoint2/assets\n"
          ],
          "name": "stdout"
        },
        {
          "output_type": "stream",
          "text": [
            "INFO:tensorflow:Assets written to: ./checkpoints/my_checkpoint2/assets\n"
          ],
          "name": "stderr"
        },
        {
          "output_type": "stream",
          "text": [
            "Epoch 17/30\n",
            "657/657 - 5s - loss: 0.7237 - acc: 0.6933 - val_loss: 0.7597 - val_acc: 0.6960\n",
            "\n",
            "Epoch 00017: val_acc improved from 0.68000 to 0.69600, saving model to ./checkpoints/my_checkpoint2\n"
          ],
          "name": "stdout"
        },
        {
          "output_type": "stream",
          "text": [
            "WARNING:absl:Found untraced functions such as lstm_cell_4_layer_call_and_return_conditional_losses, lstm_cell_4_layer_call_fn, lstm_cell_5_layer_call_and_return_conditional_losses, lstm_cell_5_layer_call_fn, lstm_cell_4_layer_call_fn while saving (showing 5 of 10). These functions will not be directly callable after loading.\n"
          ],
          "name": "stderr"
        },
        {
          "output_type": "stream",
          "text": [
            "INFO:tensorflow:Assets written to: ./checkpoints/my_checkpoint2/assets\n"
          ],
          "name": "stdout"
        },
        {
          "output_type": "stream",
          "text": [
            "INFO:tensorflow:Assets written to: ./checkpoints/my_checkpoint2/assets\n"
          ],
          "name": "stderr"
        },
        {
          "output_type": "stream",
          "text": [
            "Epoch 18/30\n",
            "657/657 - 5s - loss: 0.7110 - acc: 0.6967 - val_loss: 0.7257 - val_acc: 0.6910\n",
            "\n",
            "Epoch 00018: val_acc did not improve from 0.69600\n",
            "Epoch 19/30\n",
            "657/657 - 5s - loss: 0.7069 - acc: 0.7021 - val_loss: 0.7316 - val_acc: 0.7030\n",
            "\n",
            "Epoch 00019: val_acc improved from 0.69600 to 0.70300, saving model to ./checkpoints/my_checkpoint2\n"
          ],
          "name": "stdout"
        },
        {
          "output_type": "stream",
          "text": [
            "WARNING:absl:Found untraced functions such as lstm_cell_4_layer_call_and_return_conditional_losses, lstm_cell_4_layer_call_fn, lstm_cell_5_layer_call_and_return_conditional_losses, lstm_cell_5_layer_call_fn, lstm_cell_4_layer_call_fn while saving (showing 5 of 10). These functions will not be directly callable after loading.\n"
          ],
          "name": "stderr"
        },
        {
          "output_type": "stream",
          "text": [
            "INFO:tensorflow:Assets written to: ./checkpoints/my_checkpoint2/assets\n"
          ],
          "name": "stdout"
        },
        {
          "output_type": "stream",
          "text": [
            "INFO:tensorflow:Assets written to: ./checkpoints/my_checkpoint2/assets\n"
          ],
          "name": "stderr"
        },
        {
          "output_type": "stream",
          "text": [
            "Epoch 20/30\n",
            "657/657 - 5s - loss: 0.6952 - acc: 0.7033 - val_loss: 0.7131 - val_acc: 0.7080\n",
            "\n",
            "Epoch 00020: val_acc improved from 0.70300 to 0.70800, saving model to ./checkpoints/my_checkpoint2\n"
          ],
          "name": "stdout"
        },
        {
          "output_type": "stream",
          "text": [
            "WARNING:absl:Found untraced functions such as lstm_cell_4_layer_call_and_return_conditional_losses, lstm_cell_4_layer_call_fn, lstm_cell_5_layer_call_and_return_conditional_losses, lstm_cell_5_layer_call_fn, lstm_cell_4_layer_call_fn while saving (showing 5 of 10). These functions will not be directly callable after loading.\n"
          ],
          "name": "stderr"
        },
        {
          "output_type": "stream",
          "text": [
            "INFO:tensorflow:Assets written to: ./checkpoints/my_checkpoint2/assets\n"
          ],
          "name": "stdout"
        },
        {
          "output_type": "stream",
          "text": [
            "INFO:tensorflow:Assets written to: ./checkpoints/my_checkpoint2/assets\n"
          ],
          "name": "stderr"
        },
        {
          "output_type": "stream",
          "text": [
            "Epoch 21/30\n",
            "657/657 - 5s - loss: 0.6879 - acc: 0.7095 - val_loss: 0.7306 - val_acc: 0.7000\n",
            "\n",
            "Epoch 00021: val_acc did not improve from 0.70800\n",
            "Epoch 22/30\n",
            "657/657 - 5s - loss: 0.6831 - acc: 0.7102 - val_loss: 0.7058 - val_acc: 0.7170\n",
            "\n",
            "Epoch 00022: val_acc improved from 0.70800 to 0.71700, saving model to ./checkpoints/my_checkpoint2\n"
          ],
          "name": "stdout"
        },
        {
          "output_type": "stream",
          "text": [
            "WARNING:absl:Found untraced functions such as lstm_cell_4_layer_call_and_return_conditional_losses, lstm_cell_4_layer_call_fn, lstm_cell_5_layer_call_and_return_conditional_losses, lstm_cell_5_layer_call_fn, lstm_cell_4_layer_call_fn while saving (showing 5 of 10). These functions will not be directly callable after loading.\n"
          ],
          "name": "stderr"
        },
        {
          "output_type": "stream",
          "text": [
            "INFO:tensorflow:Assets written to: ./checkpoints/my_checkpoint2/assets\n"
          ],
          "name": "stdout"
        },
        {
          "output_type": "stream",
          "text": [
            "INFO:tensorflow:Assets written to: ./checkpoints/my_checkpoint2/assets\n"
          ],
          "name": "stderr"
        },
        {
          "output_type": "stream",
          "text": [
            "Epoch 23/30\n",
            "657/657 - 6s - loss: 0.6768 - acc: 0.7138 - val_loss: 0.7004 - val_acc: 0.7100\n",
            "\n",
            "Epoch 00023: val_acc did not improve from 0.71700\n",
            "Epoch 24/30\n",
            "657/657 - 5s - loss: 0.6723 - acc: 0.7160 - val_loss: 0.6930 - val_acc: 0.7100\n",
            "\n",
            "Epoch 00024: val_acc did not improve from 0.71700\n",
            "Epoch 25/30\n",
            "657/657 - 5s - loss: 0.6651 - acc: 0.7203 - val_loss: 0.7068 - val_acc: 0.7030\n",
            "\n",
            "Epoch 00025: val_acc did not improve from 0.71700\n",
            "Epoch 26/30\n",
            "657/657 - 5s - loss: 0.6606 - acc: 0.7225 - val_loss: 0.6955 - val_acc: 0.7170\n",
            "\n",
            "Epoch 00026: val_acc did not improve from 0.71700\n",
            "Epoch 27/30\n",
            "657/657 - 5s - loss: 0.6536 - acc: 0.7228 - val_loss: 0.7021 - val_acc: 0.7220\n",
            "\n",
            "Epoch 00027: val_acc improved from 0.71700 to 0.72200, saving model to ./checkpoints/my_checkpoint2\n"
          ],
          "name": "stdout"
        },
        {
          "output_type": "stream",
          "text": [
            "WARNING:absl:Found untraced functions such as lstm_cell_4_layer_call_and_return_conditional_losses, lstm_cell_4_layer_call_fn, lstm_cell_5_layer_call_and_return_conditional_losses, lstm_cell_5_layer_call_fn, lstm_cell_4_layer_call_fn while saving (showing 5 of 10). These functions will not be directly callable after loading.\n"
          ],
          "name": "stderr"
        },
        {
          "output_type": "stream",
          "text": [
            "INFO:tensorflow:Assets written to: ./checkpoints/my_checkpoint2/assets\n"
          ],
          "name": "stdout"
        },
        {
          "output_type": "stream",
          "text": [
            "INFO:tensorflow:Assets written to: ./checkpoints/my_checkpoint2/assets\n"
          ],
          "name": "stderr"
        },
        {
          "output_type": "stream",
          "text": [
            "Epoch 28/30\n",
            "657/657 - 5s - loss: 0.6449 - acc: 0.7272 - val_loss: 0.7263 - val_acc: 0.7140\n",
            "\n",
            "Epoch 00028: val_acc did not improve from 0.72200\n",
            "Epoch 29/30\n",
            "657/657 - 5s - loss: 0.6410 - acc: 0.7306 - val_loss: 0.7107 - val_acc: 0.7180\n",
            "\n",
            "Epoch 00029: val_acc did not improve from 0.72200\n",
            "Epoch 30/30\n",
            "657/657 - 5s - loss: 0.6356 - acc: 0.7322 - val_loss: 0.6973 - val_acc: 0.7200\n",
            "\n",
            "Epoch 00030: val_acc did not improve from 0.72200\n"
          ],
          "name": "stdout"
        },
        {
          "output_type": "execute_result",
          "data": {
            "text/plain": [
              "<tensorflow.python.keras.callbacks.History at 0x7f3745212bd0>"
            ]
          },
          "metadata": {
            "tags": []
          },
          "execution_count": 57
        }
      ]
    },
    {
      "cell_type": "code",
      "metadata": {
        "id": "6Ezimtwn_lRY"
      },
      "source": [
        "# save best model\n",
        "lstm_model.load_weights(checkpoint_path)\n",
        "saved_model_path = '/content/drive/Shareddrives/[GH x Sandbox]/code/DeepLevel/model/lstm_eumjul7'\n",
        "lstm_model.save(saved_model_path, save_format='h5')"
      ],
      "execution_count": null,
      "outputs": []
    },
    {
      "cell_type": "code",
      "metadata": {
        "id": "Q2qG4pirZ0Af"
      },
      "source": [
        ""
      ],
      "execution_count": null,
      "outputs": []
    }
  ]
}